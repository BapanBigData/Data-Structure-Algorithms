{
 "cells": [
  {
   "cell_type": "code",
   "execution_count": 1,
   "metadata": {},
   "outputs": [],
   "source": [
    "import math\n",
    "import numpy as np"
   ]
  },
  {
   "cell_type": "code",
   "execution_count": 2,
   "metadata": {},
   "outputs": [
    {
     "data": {
      "text/plain": [
       "0.145"
      ]
     },
     "execution_count": 2,
     "metadata": {},
     "output_type": "execute_result"
    }
   ],
   "source": [
    "# pearson's correlation coefficient\n",
    "\n",
    "def pearsons_correlation(x: list, y: list) -> float:\n",
    "    n = len(x)\n",
    "    \n",
    "    x_mean = sum(x) / n\n",
    "    y_mean = sum(y) / n\n",
    "    \n",
    "    numerator = sum((x[i] - x_mean) * (y[i] - y_mean) for i in range(n))\n",
    "    \n",
    "    sum_x_squared = sum((x[i] - x_mean) * (x[i] - x_mean) for i in range(n))\n",
    "    sum_y_squared = sum((y[i] - y_mean) * (y[i] - y_mean) for i in range(n))\n",
    "    \n",
    "    denom = math.sqrt(sum_x_squared * sum_y_squared)\n",
    "    \n",
    "    r = numerator / denom\n",
    "    \n",
    "    return round(r, 3)\n",
    "\n",
    "physics_scores = [15, 12, 8, 8, 7, 7, 7, 6, 5, 3]\n",
    "history_scores = [10, 25, 17, 11, 13, 17, 20, 13, 9, 15]\n",
    "\n",
    "pearsons_correlation(physics_scores, history_scores)"
   ]
  },
  {
   "cell_type": "code",
   "execution_count": 9,
   "metadata": {},
   "outputs": [
    {
     "data": {
      "text/plain": [
       "28.24889378365107"
      ]
     },
     "execution_count": 9,
     "metadata": {},
     "output_type": "execute_result"
    }
   ],
   "source": [
    "# Euclidean distance between two vectors\n",
    "\n",
    "def euclidean_distance(x: list, y: list) -> float:\n",
    "    n = len(x)\n",
    "    \n",
    "    d = [(x[i] - y[i]) for i in range(n)]\n",
    "    \n",
    "    dist = math.sqrt(sum((d[i] * d[i]) for i in range(n)))\n",
    "    \n",
    "    return dist\n",
    "\n",
    "v1 = [15, 12, 8, 8, 7, 7, 7, 6, 5, 3]\n",
    "v2 = [10, 25, 17, 11, 13, 17, 20, 13, 9, 15]\n",
    "\n",
    "euclidean_distance(v1, v2)"
   ]
  },
  {
   "cell_type": "code",
   "execution_count": 4,
   "metadata": {},
   "outputs": [
    {
     "data": {
      "text/plain": [
       "28.24889378365107"
      ]
     },
     "execution_count": 4,
     "metadata": {},
     "output_type": "execute_result"
    }
   ],
   "source": [
    "v1 = np.array([15, 12, 8, 8, 7, 7, 7, 6, 5, 3])\n",
    "v2 = np.array([10, 25, 17, 11, 13, 17, 20, 13, 9, 15])\n",
    "\n",
    "D = v1 - v2\n",
    "\n",
    "dist = np.sqrt(np.dot(D.T, D))\n",
    "dist"
   ]
  },
  {
   "cell_type": "code",
   "execution_count": null,
   "metadata": {},
   "outputs": [],
   "source": [
    "# slop of the regression line\n",
    "\n",
    "def slop(x: list, y: list) -> float:\n",
    "    pass"
   ]
  },
  {
   "cell_type": "code",
   "execution_count": null,
   "metadata": {},
   "outputs": [],
   "source": []
  }
 ],
 "metadata": {
  "kernelspec": {
   "display_name": "myenv",
   "language": "python",
   "name": "python3"
  },
  "language_info": {
   "codemirror_mode": {
    "name": "ipython",
    "version": 3
   },
   "file_extension": ".py",
   "mimetype": "text/x-python",
   "name": "python",
   "nbconvert_exporter": "python",
   "pygments_lexer": "ipython3",
   "version": "3.9.0"
  }
 },
 "nbformat": 4,
 "nbformat_minor": 2
}
