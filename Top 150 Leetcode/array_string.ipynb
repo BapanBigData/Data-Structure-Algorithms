{
 "cells": [
  {
   "cell_type": "code",
   "execution_count": 2,
   "metadata": {},
   "outputs": [
    {
     "name": "stdout",
     "output_type": "stream",
     "text": [
      "[1, 2, 2, 3, 5, 6]\n"
     ]
    }
   ],
   "source": [
    "# 88. Merge Sorted Array\n",
    "# Easy\n",
    "\n",
    "def merge(nums1: list[int], m: int, nums2: list[int], n: int) -> None:\n",
    "    nums3 = nums1[:m]\n",
    "    i, j, k = 0, 0, 0\n",
    "\n",
    "    while (i < m) and (j < n):\n",
    "        if nums3[i] <= nums2[j]:\n",
    "            nums1[k] = nums3[i]\n",
    "            i += 1\n",
    "        else:\n",
    "            nums1[k] = nums2[j]\n",
    "            j += 1\n",
    "        \n",
    "        k += 1\n",
    "    \n",
    "    while (i < m):\n",
    "        nums1[k] = nums3[i]\n",
    "        i += 1\n",
    "        k += 1\n",
    "    \n",
    "    while ( j < n):\n",
    "        nums1[k] = nums2[j]\n",
    "        j += 1\n",
    "        k += 1\n",
    "    \n",
    "    return \n",
    "\n",
    "\n",
    "nums1 = [1,2,3,0,0,0]\n",
    "m = 3\n",
    "nums2 = [2,5,6]\n",
    "n = 3\n",
    "\n",
    "merge(nums1, m, nums2, n)\n",
    "print(nums1)"
   ]
  },
  {
   "cell_type": "code",
   "execution_count": 3,
   "metadata": {},
   "outputs": [
    {
     "name": "stdout",
     "output_type": "stream",
     "text": [
      "5\n"
     ]
    },
    {
     "data": {
      "text/plain": [
       "[0, 1, 3, 0, 4, 0, 4, 2]"
      ]
     },
     "execution_count": 3,
     "metadata": {},
     "output_type": "execute_result"
    }
   ],
   "source": [
    "# 27. Remove Element\n",
    "# Easy\n",
    "\n",
    "def remove_element(nums: list[int], val: int) -> int:\n",
    "    n = len(nums)\n",
    "    \n",
    "    k = 0\n",
    "    for i in range(n):\n",
    "        if nums[i] != val:\n",
    "            nums[k] = nums[i]\n",
    "            k += 1\n",
    "    return k\n",
    "\n",
    "nums = [0, 1, 2, 2, 3, 0, 4, 2]\n",
    "val = 2\n",
    "\n",
    "res = remove_element(nums, val)\n",
    "print(res)\n",
    "\n",
    "nums"
   ]
  },
  {
   "cell_type": "code",
   "execution_count": 4,
   "metadata": {},
   "outputs": [
    {
     "name": "stdout",
     "output_type": "stream",
     "text": [
      "5\n"
     ]
    },
    {
     "data": {
      "text/plain": [
       "[0, 1, 2, 3, 4, 2, 2, 3, 3, 4]"
      ]
     },
     "execution_count": 4,
     "metadata": {},
     "output_type": "execute_result"
    }
   ],
   "source": [
    "# 26. Remove Duplicates from Sorted Array\n",
    "# Easy\n",
    "\n",
    "def remove_duplicates(nums: list[int]) -> int:\n",
    "    n = len(nums)\n",
    "    \n",
    "    k = 0\n",
    "    for i in range(1, n):\n",
    "        if nums[i] != nums[k]:\n",
    "            nums[k+1] = nums[i]\n",
    "            k += 1\n",
    "            \n",
    "    return k+1\n",
    "\n",
    "nums = [0, 0, 1, 1, 1, 2, 2, 3, 3, 4]\n",
    "res = remove_duplicates(nums)\n",
    "print(res)\n",
    "\n",
    "nums"
   ]
  },
  {
   "cell_type": "code",
   "execution_count": 8,
   "metadata": {},
   "outputs": [
    {
     "name": "stdout",
     "output_type": "stream",
     "text": [
      "7\n"
     ]
    },
    {
     "data": {
      "text/plain": [
       "[0, 0, 1, 1, 2, 3, 3, 3]"
      ]
     },
     "execution_count": 8,
     "metadata": {},
     "output_type": "execute_result"
    }
   ],
   "source": [
    "# 80. Remove Duplicates from Sorted Array II\n",
    "# Medium\n",
    "\n",
    "def remove_duplicates_II(nums: list[int]) -> int:\n",
    "    \n",
    "    k = 0\n",
    "    for num in nums:\n",
    "        if (k < 2) or (num != nums[k-2]):\n",
    "            nums[k] = num\n",
    "            k += 1\n",
    "    \n",
    "    return k\n",
    "\n",
    "nums = [0, 0, 1, 1, 1, 2, 3, 3]\n",
    "\n",
    "res = remove_duplicates_II(nums)\n",
    "print(res)\n",
    "\n",
    "nums"
   ]
  },
  {
   "cell_type": "code",
   "execution_count": 13,
   "metadata": {},
   "outputs": [
    {
     "data": {
      "text/plain": [
       "7"
      ]
     },
     "execution_count": 13,
     "metadata": {},
     "output_type": "execute_result"
    }
   ],
   "source": [
    "# 169. Majority Element\n",
    "# Easy\n",
    "\n",
    "def majority_element(nums: list[int]) -> int:\n",
    "    # **Moore's voting algo**\n",
    "    ele = None\n",
    "    cnt = 0\n",
    "    \n",
    "    for num in nums:\n",
    "        if cnt == 0:\n",
    "            ele = num \n",
    "            cnt += 1\n",
    "        elif num == ele:\n",
    "            cnt += 1\n",
    "        else:\n",
    "            cnt -= 1\n",
    "            \n",
    "    return ele\n",
    "\n",
    "nums = [7, 7, 5, 7, 5, 7]\n",
    "majority_element(nums)"
   ]
  },
  {
   "cell_type": "code",
   "execution_count": 12,
   "metadata": {},
   "outputs": [
    {
     "data": {
      "text/plain": [
       "[5, 6, 7, 1, 2, 3, 4]"
      ]
     },
     "execution_count": 12,
     "metadata": {},
     "output_type": "execute_result"
    }
   ],
   "source": [
    "# 189. Rotate Array\n",
    "# Given an integer array nums, rotate the array to the right by k steps, where k is non-negative.\n",
    "# Medium\n",
    "\n",
    "def rotate(nums: list[int], k: int) -> None:\n",
    "    n = len(nums)\n",
    "    k = k % n\n",
    "    \n",
    "    def reverse(s, e):\n",
    "        while (e >= s):\n",
    "            nums[s], nums[e] = nums[e], nums[s]\n",
    "            \n",
    "            s += 1\n",
    "            e -= 1\n",
    "        return\n",
    "    \n",
    "    reverse(0, n-k-1)\n",
    "    reverse(n-k, n-1)\n",
    "    reverse(0, n-1)\n",
    "    \n",
    "    return\n",
    "\n",
    "nums = [1,2,3,4,5,6,7]\n",
    "k = 3\n",
    "rotate(nums, k)\n",
    "\n",
    "nums"
   ]
  },
  {
   "cell_type": "code",
   "execution_count": null,
   "metadata": {},
   "outputs": [],
   "source": []
  }
 ],
 "metadata": {
  "kernelspec": {
   "display_name": "Python 3",
   "language": "python",
   "name": "python3"
  },
  "language_info": {
   "codemirror_mode": {
    "name": "ipython",
    "version": 3
   },
   "file_extension": ".py",
   "mimetype": "text/x-python",
   "name": "python",
   "nbconvert_exporter": "python",
   "pygments_lexer": "ipython3",
   "version": "3.11.5"
  }
 },
 "nbformat": 4,
 "nbformat_minor": 2
}
