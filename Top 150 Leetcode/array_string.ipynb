{
 "cells": [
  {
   "cell_type": "code",
   "execution_count": 1,
   "metadata": {},
   "outputs": [
    {
     "name": "stdout",
     "output_type": "stream",
     "text": [
      "[1, 2, 2, 3, 5, 6]\n"
     ]
    }
   ],
   "source": [
    "# 88. Merge Sorted Array\n",
    "# Easy\n",
    "\n",
    "def merge(nums1: list[int], m: int, nums2: list[int], n: int) -> None:\n",
    "    nums3 = nums1[:m]\n",
    "    i, j, k = 0, 0, 0\n",
    "\n",
    "    while (i < m) and (j < n):\n",
    "        if nums3[i] <= nums2[j]:\n",
    "            nums1[k] = nums3[i]\n",
    "            i += 1\n",
    "        else:\n",
    "            nums1[k] = nums2[j]\n",
    "            j += 1\n",
    "        \n",
    "        k += 1\n",
    "    \n",
    "    while (i < m):\n",
    "        nums1[k] = nums3[i]\n",
    "        i += 1\n",
    "        k += 1\n",
    "    \n",
    "    while ( j < n):\n",
    "        nums1[k] = nums2[j]\n",
    "        j += 1\n",
    "        k += 1\n",
    "    \n",
    "    return \n",
    "\n",
    "\n",
    "nums1 = [1,2,3,0,0,0]\n",
    "m = 3\n",
    "nums2 = [2,5,6]\n",
    "n = 3\n",
    "\n",
    "merge(nums1, m, nums2, n)\n",
    "print(nums1)"
   ]
  },
  {
   "cell_type": "code",
   "execution_count": 2,
   "metadata": {},
   "outputs": [
    {
     "name": "stdout",
     "output_type": "stream",
     "text": [
      "5\n"
     ]
    },
    {
     "data": {
      "text/plain": [
       "[0, 1, 3, 0, 4, 0, 4, 2]"
      ]
     },
     "execution_count": 2,
     "metadata": {},
     "output_type": "execute_result"
    }
   ],
   "source": [
    "# 27. Remove Element\n",
    "# Easy\n",
    "\n",
    "def remove_element(nums: list[int], val: int) -> int:\n",
    "    n = len(nums)\n",
    "    \n",
    "    k = 0\n",
    "    for i in range(n):\n",
    "        if nums[i] != val:\n",
    "            nums[k] = nums[i]\n",
    "            k += 1\n",
    "    return k\n",
    "\n",
    "nums = [0, 1, 2, 2, 3, 0, 4, 2]\n",
    "val = 2\n",
    "\n",
    "res = remove_element(nums, val)\n",
    "print(res)\n",
    "\n",
    "nums"
   ]
  },
  {
   "cell_type": "code",
   "execution_count": 3,
   "metadata": {},
   "outputs": [
    {
     "name": "stdout",
     "output_type": "stream",
     "text": [
      "5\n"
     ]
    },
    {
     "data": {
      "text/plain": [
       "[0, 1, 2, 3, 4, 2, 2, 3, 3, 4]"
      ]
     },
     "execution_count": 3,
     "metadata": {},
     "output_type": "execute_result"
    }
   ],
   "source": [
    "# 26. Remove Duplicates from Sorted Array\n",
    "# Easy\n",
    "\n",
    "def remove_duplicates(nums: list[int]) -> int:\n",
    "    n = len(nums)\n",
    "    \n",
    "    k = 0\n",
    "    for i in range(1, n):\n",
    "        if nums[i] != nums[k]:\n",
    "            nums[k+1] = nums[i]\n",
    "            k += 1\n",
    "            \n",
    "    return k+1\n",
    "\n",
    "nums = [0, 0, 1, 1, 1, 2, 2, 3, 3, 4]\n",
    "res = remove_duplicates(nums)\n",
    "print(res)\n",
    "\n",
    "nums"
   ]
  },
  {
   "cell_type": "code",
   "execution_count": 4,
   "metadata": {},
   "outputs": [
    {
     "name": "stdout",
     "output_type": "stream",
     "text": [
      "7\n"
     ]
    },
    {
     "data": {
      "text/plain": [
       "[0, 0, 1, 1, 2, 3, 3, 3]"
      ]
     },
     "execution_count": 4,
     "metadata": {},
     "output_type": "execute_result"
    }
   ],
   "source": [
    "# 80. Remove Duplicates from Sorted Array II\n",
    "# Medium\n",
    "\n",
    "def remove_duplicates_II(nums: list[int]) -> int:\n",
    "    \n",
    "    k = 0\n",
    "    for num in nums:\n",
    "        if (k < 2) or (num != nums[k-2]):\n",
    "            nums[k] = num\n",
    "            k += 1\n",
    "    \n",
    "    return k\n",
    "\n",
    "nums = [0, 0, 1, 1, 1, 2, 3, 3]\n",
    "\n",
    "res = remove_duplicates_II(nums)\n",
    "print(res)\n",
    "\n",
    "nums"
   ]
  },
  {
   "cell_type": "code",
   "execution_count": 5,
   "metadata": {},
   "outputs": [
    {
     "data": {
      "text/plain": [
       "7"
      ]
     },
     "execution_count": 5,
     "metadata": {},
     "output_type": "execute_result"
    }
   ],
   "source": [
    "# 169. Majority Element\n",
    "# Easy\n",
    "\n",
    "def majority_element(nums: list[int]) -> int:\n",
    "    # **Moore's voting algo**\n",
    "    ele = None\n",
    "    cnt = 0\n",
    "    \n",
    "    for num in nums:\n",
    "        if cnt == 0:\n",
    "            ele = num \n",
    "            cnt += 1\n",
    "        elif num == ele:\n",
    "            cnt += 1\n",
    "        else:\n",
    "            cnt -= 1\n",
    "            \n",
    "    return ele\n",
    "\n",
    "nums = [7, 7, 5, 7, 5, 7]\n",
    "majority_element(nums)"
   ]
  },
  {
   "cell_type": "code",
   "execution_count": 6,
   "metadata": {},
   "outputs": [
    {
     "data": {
      "text/plain": [
       "[5, 6, 7, 1, 2, 3, 4]"
      ]
     },
     "execution_count": 6,
     "metadata": {},
     "output_type": "execute_result"
    }
   ],
   "source": [
    "# 189. Rotate Array\n",
    "# Given an integer array nums, rotate the array to the right by k steps, where k is non-negative.\n",
    "# Medium\n",
    "\n",
    "def rotate(nums: list[int], k: int) -> None:\n",
    "    n = len(nums)\n",
    "    k = k % n\n",
    "    \n",
    "    def reverse(s, e):\n",
    "        while (e >= s):\n",
    "            nums[s], nums[e] = nums[e], nums[s]\n",
    "            \n",
    "            s += 1\n",
    "            e -= 1\n",
    "        return\n",
    "    \n",
    "    reverse(0, n-k-1)\n",
    "    reverse(n-k, n-1)\n",
    "    reverse(0, n-1)\n",
    "    \n",
    "    return\n",
    "\n",
    "nums = [1,2,3,4,5,6,7]\n",
    "k = 3\n",
    "rotate(nums, k)\n",
    "\n",
    "nums"
   ]
  },
  {
   "cell_type": "code",
   "execution_count": 7,
   "metadata": {},
   "outputs": [
    {
     "data": {
      "text/plain": [
       "5"
      ]
     },
     "execution_count": 7,
     "metadata": {},
     "output_type": "execute_result"
    }
   ],
   "source": [
    "# 121. Best Time to Buy and Sell Stock\n",
    "# Easy\n",
    "\n",
    "def buy_sell_stock(prices: list[int]) -> int:\n",
    "    n = len(prices)\n",
    "    profit = 0\n",
    "    \n",
    "    # let's buy at day1\n",
    "    buy = prices[0]\n",
    "    for i in range(1, n):\n",
    "        sell = prices[i]\n",
    "        \n",
    "        # profit if the sell it at i-th day\n",
    "        profit = max(profit, (sell - buy))\n",
    "        \n",
    "        # making sure buying the min priced stock\n",
    "        buy = min(buy, prices[i])\n",
    "    \n",
    "    return profit\n",
    "\n",
    "prices = [7,1,5,3,6,4]\n",
    "buy_sell_stock(prices)"
   ]
  },
  {
   "cell_type": "code",
   "execution_count": 8,
   "metadata": {},
   "outputs": [
    {
     "data": {
      "text/plain": [
       "(7, 7, 7)"
      ]
     },
     "execution_count": 8,
     "metadata": {},
     "output_type": "execute_result"
    }
   ],
   "source": [
    "# 122. Best Time to Buy and Sell Stock II\n",
    "# Medium\n",
    "\n",
    "def buy_sell_stock_II(prices: list[int]) -> int:\n",
    "    # DP soln \n",
    "    n = len(prices)\n",
    "    \n",
    "    def solve_memo(memo, i, buy):\n",
    "        # base case\n",
    "        if (i == n):\n",
    "            return 0\n",
    "        \n",
    "        # check if the state is already computed\n",
    "        if memo[i][buy]:\n",
    "            return memo[i][buy]\n",
    "        \n",
    "        profit = 0\n",
    "        \n",
    "        if buy:\n",
    "            incl = -prices[i] + solve_memo(memo, i+1, 0)  # did buy the stock\n",
    "            excl = 0 + solve_memo(memo, i+1, 1)  # didn't buy the stock\n",
    "            profit = max(profit, max(incl, excl))\n",
    "        else:\n",
    "            incl = prices[i] + solve_memo(memo, i+1, 1)  # did sell the stock \n",
    "            excl = 0 + solve_memo(memo, i+1, 0)  # didn't sell the stock here\n",
    "            profit = max(profit, max(incl, excl))\n",
    "        \n",
    "        # store the computed state\n",
    "        memo[i][buy] = profit\n",
    "        \n",
    "        return profit\n",
    "    \n",
    "    \n",
    "    def solve_tab(n):\n",
    "        # initializing the dp array\n",
    "        dp = [[0]*2 for _ in range(n+1)]\n",
    "        \n",
    "        for i in range(n-1, -1, -1):\n",
    "            for buy in range(1, -1, -1):\n",
    "                profit = 0\n",
    "                \n",
    "                if buy:\n",
    "                    incl = -prices[i] + dp[i+1][0]\n",
    "                    excl = 0 + dp[i+1][1]\n",
    "                    profit = max(profit, max(incl, excl))\n",
    "                else:\n",
    "                    incl = prices[i] + dp[i+1][1]\n",
    "                    excl = 0 + dp[i+1][0]\n",
    "                    profit = max(profit, max(incl, excl))\n",
    "                \n",
    "                dp[i][buy] = profit\n",
    "        \n",
    "        return dp[0][1]\n",
    "    \n",
    "    \n",
    "    def space_opt(n):\n",
    "        prev = [0]*2\n",
    "        curr = [0]*2\n",
    "        \n",
    "        for i in range(n-1, -1, -1):\n",
    "            for buy in range(1, -1, -1):\n",
    "                \n",
    "                profit = 0\n",
    "                \n",
    "                if buy:\n",
    "                    incl = -prices[i] + prev[0]\n",
    "                    excl = 0 + prev[1]\n",
    "                    profit = max(profit, max(incl, excl))\n",
    "                else:\n",
    "                    incl = prices[i] + prev[1]\n",
    "                    excl = 0 + prev[0]\n",
    "                    profit = max(profit, max(incl, excl))\n",
    "                \n",
    "                curr[buy] = profit\n",
    "                \n",
    "            prev = curr[:]\n",
    "        \n",
    "        return prev[1]\n",
    "    \n",
    "    \n",
    "    # let's initializing the memo array\n",
    "    memo = [[None]*2 for _ in range(n)]\n",
    "    \n",
    "    return solve_memo(memo, 0, 1), solve_tab(n), space_opt(n)\n",
    "\n",
    "\n",
    "prices = [7,1,5,3,6,4]\n",
    "buy_sell_stock_II(prices)"
   ]
  },
  {
   "cell_type": "code",
   "execution_count": 9,
   "metadata": {},
   "outputs": [
    {
     "data": {
      "text/plain": [
       "(False, False)"
      ]
     },
     "execution_count": 9,
     "metadata": {},
     "output_type": "execute_result"
    }
   ],
   "source": [
    "# 55. Jump Game\n",
    "# Medium\n",
    "\n",
    "def can_jump(nums: list[int]) -> bool:\n",
    "    # DP soln\n",
    "    n = len(nums)\n",
    "    \n",
    "    def solve_memo(memo, i):\n",
    "        # base case\n",
    "        if (i >= n-1):\n",
    "            return True\n",
    "        \n",
    "        # check if the state is already computed\n",
    "        if memo[i] != -1:\n",
    "            return memo[i]\n",
    "        \n",
    "        flag = False\n",
    "        for jump in range(1, nums[i]+1):\n",
    "            if solve_memo(memo, i+jump):\n",
    "                flag = True\n",
    "        \n",
    "        # store the computed state\n",
    "        memo[i] = flag\n",
    "        \n",
    "        return flag\n",
    "    \n",
    "    \n",
    "    def solve_tab(n):\n",
    "        # initialize the dp array\n",
    "        dp = [-1] * n\n",
    "        \n",
    "        # base case\n",
    "        dp[n-1] = True\n",
    "        \n",
    "        for i in range(n-2, -1, -1):\n",
    "            if nums[i] == 0:\n",
    "                dp[i] = False\n",
    "            \n",
    "            flag = False\n",
    "            for jump in range(1, nums[i]+1):\n",
    "                if (i + jump) <= n-1:\n",
    "                    if dp[i+jump] == True:\n",
    "                        flag = True\n",
    "            \n",
    "            dp[i] = flag\n",
    "        \n",
    "        return dp[0]\n",
    "    \n",
    "    # initializing the memo array\n",
    "    memo = [-1] * n\n",
    "    \n",
    "    return solve_memo(memo, 0), solve_tab(n)\n",
    "\n",
    "nums = [3,2,1,0,4]\n",
    "can_jump(nums)"
   ]
  },
  {
   "cell_type": "code",
   "execution_count": 10,
   "metadata": {},
   "outputs": [
    {
     "data": {
      "text/plain": [
       "False"
      ]
     },
     "execution_count": 10,
     "metadata": {},
     "output_type": "execute_result"
    }
   ],
   "source": [
    "# most efficient soln of (55. Jump Game)\n",
    "\n",
    "def can_jump(nums: list[int]) -> bool:\n",
    "    n = len(nums)\n",
    "\n",
    "    reachable = 0\n",
    "    for i in range(n):\n",
    "        if i > reachable:\n",
    "            return False\n",
    "        \n",
    "        reachable = max(reachable, i+nums[i])\n",
    "    \n",
    "    return True\n",
    "\n",
    "nums = [3,2,1,0,4]\n",
    "can_jump(nums)"
   ]
  },
  {
   "cell_type": "code",
   "execution_count": 11,
   "metadata": {},
   "outputs": [
    {
     "data": {
      "text/plain": [
       "(2, 2)"
      ]
     },
     "execution_count": 11,
     "metadata": {},
     "output_type": "execute_result"
    }
   ],
   "source": [
    "# 45. Jump Game II\n",
    "# Medium\n",
    "import math\n",
    "\n",
    "\n",
    "def can_jump_II(nums: list[int]) -> int:\n",
    "    # dp soln\n",
    "    n = len(nums)\n",
    "    \n",
    "    def solve_memo(memo, i):\n",
    "        # base case\n",
    "        if (i >= n-1):\n",
    "            return 0\n",
    "        \n",
    "        # check if the state is already computed\n",
    "        if memo[i] != -1:\n",
    "            return memo[i]\n",
    "        \n",
    "        cnt = math.inf\n",
    "        for jump in range(1, nums[i]+1):\n",
    "            cnt = min(cnt, 1 + solve_memo(memo, i+jump))\n",
    "        \n",
    "        # store the computed state\n",
    "        memo[i] = cnt\n",
    "        \n",
    "        return cnt\n",
    "    \n",
    "    def solve_tab(n):\n",
    "        # initialize the dp array\n",
    "        dp = [0] * n\n",
    "        \n",
    "        for i in range(n-2, -1, -1):\n",
    "            \n",
    "            cnt = math.inf\n",
    "            for jump in range(1, nums[i]+1):\n",
    "                if (i + jump) < n:\n",
    "                    cnt = min(cnt, 1 + dp[i+jump])\n",
    "            \n",
    "            dp[i] = cnt\n",
    "        \n",
    "        return dp[0]\n",
    "    \n",
    "    # initialize the memo array\n",
    "    memo = [-1] * n\n",
    "    \n",
    "    return solve_memo(memo, 0), solve_tab(n)\n",
    "\n",
    "nums = [2,3,1,1,4]\n",
    "can_jump_II(nums)"
   ]
  },
  {
   "cell_type": "code",
   "execution_count": 12,
   "metadata": {},
   "outputs": [
    {
     "data": {
      "text/plain": [
       "3"
      ]
     },
     "execution_count": 12,
     "metadata": {},
     "output_type": "execute_result"
    }
   ],
   "source": [
    "# 274. H-Index\n",
    "# https://www.youtube.com/watch?v=mgG5KFTvfPw\n",
    "# Medium\n",
    "\n",
    "def h_index(citations: list[int]) -> int:\n",
    "    n = len(citations)\n",
    "    paper_cnts = [0] * (n+1)\n",
    "    \n",
    "    for citation in citations:\n",
    "        paper_cnts[min(citation, n)] += 1\n",
    "    \n",
    "    h = n\n",
    "    papers = paper_cnts[n]\n",
    "    \n",
    "    while (papers < h):\n",
    "        h -= 1\n",
    "        papers += paper_cnts[h]\n",
    "    \n",
    "    return h\n",
    "\n",
    "citations = [3,0,6,1,5]\n",
    "h_index(citations)"
   ]
  },
  {
   "cell_type": "code",
   "execution_count": 13,
   "metadata": {},
   "outputs": [
    {
     "data": {
      "text/plain": [
       "9"
      ]
     },
     "execution_count": 13,
     "metadata": {},
     "output_type": "execute_result"
    }
   ],
   "source": [
    "# 380. Insert Delete GetRandom O(1)\n",
    "# https://www.youtube.com/watch?v=87zvYSoA5V4&t=43s\n",
    "# Medium\n",
    "\n",
    "import random\n",
    "\n",
    "class RandomizedSet:\n",
    "\n",
    "    def __init__(self):\n",
    "        self._nums = []\n",
    "        self._indx_map = {}\n",
    "        self._n = 0\n",
    "        \n",
    "    def insert(self, val: int) -> bool:\n",
    "        if val in self._indx_map:\n",
    "            return False\n",
    "        \n",
    "        # append the val into the nums\n",
    "        self._nums.append(val)\n",
    "        self._n += 1\n",
    "        \n",
    "        self._indx_map[val] = self._n - 1\n",
    "        \n",
    "        return True\n",
    "        \n",
    "    def remove(self, val: int) -> bool:\n",
    "        if val not in self._indx_map:\n",
    "            return False\n",
    "        \n",
    "        last = self._nums[-1]\n",
    "        \n",
    "        # move the last element to the position of the element to remove\n",
    "        self._indx_map[last] = self._indx_map[val]\n",
    "        self._nums[self._indx_map[last]] = last\n",
    "\n",
    "        # remove the last element\n",
    "        self._nums.pop()\n",
    "        self._n -= 1\n",
    "        \n",
    "        del self._indx_map[val]\n",
    "        \n",
    "        return True\n",
    "        \n",
    "    def getRandom(self) -> int:\n",
    "        return self._nums[random.randint(0, self._n-1)]\n",
    "\n",
    "    \n",
    "randomized_set = RandomizedSet()\n",
    "randomized_set.insert(2)\n",
    "randomized_set.insert(9)\n",
    "randomized_set.insert(4)\n",
    "randomized_set.insert(3)\n",
    "randomized_set.insert(0)\n",
    "randomized_set.insert(12)\n",
    "\n",
    "randomized_set.getRandom()"
   ]
  },
  {
   "cell_type": "code",
   "execution_count": 14,
   "metadata": {},
   "outputs": [
    {
     "name": "stdout",
     "output_type": "stream",
     "text": [
      "Help on method randint in module random:\n",
      "\n",
      "randint(a, b) method of random.Random instance\n",
      "    Return random integer in range [a, b], including both end points.\n",
      "\n"
     ]
    }
   ],
   "source": [
    "help(random.randint)"
   ]
  },
  {
   "cell_type": "code",
   "execution_count": 15,
   "metadata": {},
   "outputs": [
    {
     "name": "stdout",
     "output_type": "stream",
     "text": [
      "Help on class RandomizedSet in module __main__:\n",
      "\n",
      "class RandomizedSet(builtins.object)\n",
      " |  Methods defined here:\n",
      " |  \n",
      " |  __init__(self)\n",
      " |      Initialize self.  See help(type(self)) for accurate signature.\n",
      " |  \n",
      " |  getRandom(self) -> int\n",
      " |  \n",
      " |  insert(self, val: int) -> bool\n",
      " |  \n",
      " |  remove(self, val: int) -> bool\n",
      " |  \n",
      " |  ----------------------------------------------------------------------\n",
      " |  Data descriptors defined here:\n",
      " |  \n",
      " |  __dict__\n",
      " |      dictionary for instance variables (if defined)\n",
      " |  \n",
      " |  __weakref__\n",
      " |      list of weak references to the object (if defined)\n",
      "\n"
     ]
    }
   ],
   "source": [
    "help(RandomizedSet)"
   ]
  },
  {
   "cell_type": "code",
   "execution_count": 16,
   "metadata": {},
   "outputs": [
    {
     "data": {
      "text/plain": [
       "[544320, 181440, -181440, 136080, 108864, -544320, 90720, 77760, 68040, 60480]"
      ]
     },
     "execution_count": 16,
     "metadata": {},
     "output_type": "execute_result"
    }
   ],
   "source": [
    "# 238. Product of Array Except Self\n",
    "# Medium\n",
    "\n",
    "def product_except_self(nums: list[int]) -> list[int]:\n",
    "    n = len(nums)\n",
    "    l_mul = 1\n",
    "    r_mul = 1\n",
    "    l_arr = [0] * n\n",
    "    r_arr = [0] * n\n",
    "    \n",
    "    for i in range(n):\n",
    "        j = -i - 1\n",
    "        \n",
    "        l_arr[i] = l_mul\n",
    "        r_arr[j] = r_mul\n",
    "        \n",
    "        l_mul *= nums[i]\n",
    "        r_mul *= nums[j]\n",
    "    \n",
    "    return [l*r for l, r in zip(l_arr, r_arr)]\n",
    "\n",
    "nums = [1, 3, -3, 4, 5, -1, 6, 7, 8, 9]\n",
    "product_except_self(nums)"
   ]
  },
  {
   "cell_type": "code",
   "execution_count": 17,
   "metadata": {},
   "outputs": [
    {
     "data": {
      "text/plain": [
       "3"
      ]
     },
     "execution_count": 17,
     "metadata": {},
     "output_type": "execute_result"
    }
   ],
   "source": [
    "# 134. Gas Station\n",
    "# greedy algo\n",
    "# Medium\n",
    "\n",
    "def can_complete_circuit(gas: list[int], cost: list[int]) -> int:\n",
    "    # sum(gas) => what we have; sum(cost) => what we need.\n",
    "    # if what we have is less than what we need, then it's not possible\n",
    "    # to complete the circuit.\n",
    "    \n",
    "    if sum(gas) < sum(cost):\n",
    "        return -1\n",
    "    \n",
    "    n = len(gas)\n",
    "    \n",
    "    curr_fuel = 0\n",
    "    start = 0\n",
    "    for i in range(n):\n",
    "        curr_fuel += (gas[i] - cost[i])\n",
    "        \n",
    "        if (curr_fuel < 0):\n",
    "            curr_fuel = 0\n",
    "            start = i+1\n",
    "            \n",
    "    return start\n",
    "\n",
    "\n",
    "gas = [1,2,3,4,5]\n",
    "cost = [3,4,5,1,2]\n",
    "can_complete_circuit(gas, cost)"
   ]
  },
  {
   "cell_type": "code",
   "execution_count": 18,
   "metadata": {},
   "outputs": [],
   "source": [
    "# 135. Candy\n",
    "# Hard\n",
    "\n",
    "def candy(ratings: list[int]) -> int:\n",
    "    pass"
   ]
  },
  {
   "cell_type": "code",
   "execution_count": 19,
   "metadata": {},
   "outputs": [
    {
     "data": {
      "text/plain": [
       "6"
      ]
     },
     "execution_count": 19,
     "metadata": {},
     "output_type": "execute_result"
    }
   ],
   "source": [
    "# 42. Trapping Rain Water\n",
    "# Hard\n",
    "\n",
    "def trap(height: list[int]) -> int:\n",
    "    n = len(height)\n",
    "\n",
    "    # let's define prefix_max and suffix_max array\n",
    "    prefix_max = [0] * n\n",
    "    suffix_max = [0] * n\n",
    "    \n",
    "    prefix_max[0] = height[0]\n",
    "    suffix_max[n-1] = height[n-1]\n",
    "\n",
    "    for i in range(1, n):\n",
    "        j = -i-1\n",
    "        prefix_max[i] = max(prefix_max[i-1], height[i])\n",
    "        suffix_max[j] = max(suffix_max[j+1], height[j])\n",
    "    \n",
    "    total = 0\n",
    "    for i in range(n):\n",
    "        if (height[i] < prefix_max[i] and height[i] < suffix_max[i]):\n",
    "            total += min(prefix_max[i], suffix_max[i]) - height[i]\n",
    "    \n",
    "    return total\n",
    "\n",
    "\n",
    "height = [0,1,0,2,1,0,1,3,2,1,2,1]\n",
    "trap(height)"
   ]
  },
  {
   "cell_type": "code",
   "execution_count": 20,
   "metadata": {},
   "outputs": [
    {
     "data": {
      "text/plain": [
       "6"
      ]
     },
     "execution_count": 20,
     "metadata": {},
     "output_type": "execute_result"
    }
   ],
   "source": [
    "# 42. Trapping Rain Water\n",
    "# Hard\n",
    "\n",
    "def trap(height: list[int]) -> int:\n",
    "    n = len(height)\n",
    "\n",
    "    # let's define suffix_max array\n",
    "    suffix_max = [0] * n\n",
    "    suffix_max[n-1] = height[n-1]\n",
    "\n",
    "    for i in range(n-2,-1, -1):\n",
    "        suffix_max[i] = max(suffix_max[i+1], height[i])\n",
    "    \n",
    "    prefix_max = height[0]\n",
    "    total = 0\n",
    "    for i in range(n):\n",
    "        prefix_max = max(prefix_max, height[i])\n",
    "        \n",
    "        if (height[i] < prefix_max and height[i] < suffix_max[i]):\n",
    "            total += min(prefix_max, suffix_max[i]) - height[i]\n",
    "    \n",
    "    return total\n",
    "\n",
    "\n",
    "height = [0,1,0,2,1,0,1,3,2,1,2,1]\n",
    "trap(height)"
   ]
  },
  {
   "cell_type": "code",
   "execution_count": 21,
   "metadata": {},
   "outputs": [
    {
     "data": {
      "text/plain": [
       "4"
      ]
     },
     "execution_count": 21,
     "metadata": {},
     "output_type": "execute_result"
    }
   ],
   "source": [
    "# 13. Roman to Integer\n",
    "# Easy\n",
    "\n",
    "# Symbol       Value\n",
    "# I             1\n",
    "# V             5\n",
    "# X             10\n",
    "# L             50\n",
    "# C             100\n",
    "# D             500\n",
    "# M             1000\n",
    "\n",
    "def roman_to_int(s: str) -> int:\n",
    "    n = len(s)\n",
    "    \n",
    "    # let's deifine a dict\n",
    "    mp = {\n",
    "        'I': 1,\n",
    "        'V': 5,\n",
    "        'X': 10,\n",
    "        'L': 50,\n",
    "        'C': 100,\n",
    "        'D': 500,\n",
    "        'M': 1000\n",
    "    }\n",
    "    \n",
    "    res = 0\n",
    "    for i in range(n):\n",
    "        # check if the curr value smaller than the next value in roman\n",
    "        if (i+1) < n and mp[s[i]] < mp[s[i+1]]:\n",
    "            res -= mp[s[i]]\n",
    "        else:\n",
    "            res += mp[s[i]]\n",
    "            \n",
    "    return res\n",
    "\n",
    "s = \"IV\"\n",
    "roman_to_int(s)"
   ]
  },
  {
   "cell_type": "code",
   "execution_count": 22,
   "metadata": {},
   "outputs": [
    {
     "data": {
      "text/plain": [
       "'MCMXCVI'"
      ]
     },
     "execution_count": 22,
     "metadata": {},
     "output_type": "execute_result"
    }
   ],
   "source": [
    "# 12. Integer to Roman\n",
    "# Medium\n",
    "\n",
    "def int_to_roman(num: int) -> str:\n",
    "    # let's define an array to store symbols and their corresponding value\n",
    "    sym_list = [\n",
    "        ['I', 1],\n",
    "        ['IV', 4],\n",
    "        ['V', 5],\n",
    "        ['IX', 9],\n",
    "        ['X', 10],\n",
    "        ['XL', 40],\n",
    "        ['L', 50],\n",
    "        ['XC', 90],\n",
    "        ['C', 100],\n",
    "        ['CD', 400],\n",
    "        ['D', 500],\n",
    "        ['CM', 900],\n",
    "        ['M', 1000]\n",
    "    ]\n",
    "    \n",
    "    res = ''\n",
    "    for sym, val in reversed(sym_list):\n",
    "        if (num // val):\n",
    "            cnt = num // val\n",
    "            res += (sym * cnt)\n",
    "            num = num % val\n",
    "            \n",
    "    return res\n",
    "\n",
    "\n",
    "num = 1996\n",
    "int_to_roman(num)"
   ]
  },
  {
   "cell_type": "code",
   "execution_count": 23,
   "metadata": {},
   "outputs": [
    {
     "data": {
      "text/plain": [
       "4"
      ]
     },
     "execution_count": 23,
     "metadata": {},
     "output_type": "execute_result"
    }
   ],
   "source": [
    "# 58. Length of Last Word\n",
    "# Easy\n",
    "\n",
    "def length_of_last_word(s: str) -> int:\n",
    "    n = len(s)\n",
    "    \n",
    "    i = n-1\n",
    "    while s[i] == \" \":\n",
    "        i -= 1\n",
    "    \n",
    "    cnt = 0\n",
    "    while (i >= 0) and (s[i] != \" \"):\n",
    "        i -= 1\n",
    "        cnt += 1\n",
    "    \n",
    "    return cnt\n",
    "\n",
    "s = \"   fly me   to   the moon     \"\n",
    "length_of_last_word(s)"
   ]
  },
  {
   "cell_type": "code",
   "execution_count": null,
   "metadata": {},
   "outputs": [
    {
     "data": {
      "text/plain": [
       "'fl'"
      ]
     },
     "execution_count": 25,
     "metadata": {},
     "output_type": "execute_result"
    }
   ],
   "source": [
    "# 14. Longest Common Prefix\n",
    "# Easy\n",
    "\n",
    "def longest_common_prefix(strs: list[str]) -> str:\n",
    "    n = len(strs[0])\n",
    "    res = ''\n",
    "    \n",
    "    for i in range(n):\n",
    "        for s in strs:\n",
    "            if (i == len(s)) or (s[i] != strs[0][i]):\n",
    "                return res\n",
    "            \n",
    "        res += strs[0][i]\n",
    "        \n",
    "    return res\n",
    "\n",
    "strs = [\"flower\",\"flow\",\"flight\"]\n",
    "longest_common_prefix(strs)"
   ]
  },
  {
   "cell_type": "code",
   "execution_count": null,
   "metadata": {},
   "outputs": [],
   "source": [
    "# 151. Reverse Words in a String\n",
    "# Medium\n",
    "\n",
    "def reverse_words(s: str) -> str:\n",
    "    pass"
   ]
  },
  {
   "cell_type": "code",
   "execution_count": 30,
   "metadata": {},
   "outputs": [
    {
     "data": {
      "text/plain": [
       "'hello world'"
      ]
     },
     "execution_count": 30,
     "metadata": {},
     "output_type": "execute_result"
    }
   ],
   "source": [
    "s = \"  hello world  \"\n",
    "s = s.strip()\n",
    "s"
   ]
  },
  {
   "cell_type": "code",
   "execution_count": 32,
   "metadata": {},
   "outputs": [],
   "source": [
    "s = \"a good   example\"\n",
    "# s.strip()"
   ]
  },
  {
   "cell_type": "code",
   "execution_count": 39,
   "metadata": {},
   "outputs": [
    {
     "name": "stdout",
     "output_type": "stream",
     "text": [
      "0 a\n",
      "1  \n",
      "2 g\n",
      "3 o\n",
      "4 o\n",
      "5 d\n",
      "6  \n",
      "7  \n",
      "8  \n",
      "9 e\n",
      "10 x\n",
      "11 a\n",
      "12 m\n",
      "13 p\n",
      "14 l\n",
      "15 e\n"
     ]
    }
   ],
   "source": [
    "s = ' '.join(s.split(' ')[::-1]).strip(' ')\n",
    "\n",
    "for i, c in enumerate(s):\n",
    "    print(i, c)"
   ]
  }
 ],
 "metadata": {
  "kernelspec": {
   "display_name": "Python 3",
   "language": "python",
   "name": "python3"
  },
  "language_info": {
   "codemirror_mode": {
    "name": "ipython",
    "version": 3
   },
   "file_extension": ".py",
   "mimetype": "text/x-python",
   "name": "python",
   "nbconvert_exporter": "python",
   "pygments_lexer": "ipython3",
   "version": "3.11.5"
  }
 },
 "nbformat": 4,
 "nbformat_minor": 2
}
