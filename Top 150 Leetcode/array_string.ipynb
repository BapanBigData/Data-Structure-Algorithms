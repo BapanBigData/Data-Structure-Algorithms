{
 "cells": [
  {
   "cell_type": "code",
   "execution_count": 1,
   "metadata": {},
   "outputs": [
    {
     "name": "stdout",
     "output_type": "stream",
     "text": [
      "[1, 2, 2, 3, 5, 6]\n"
     ]
    }
   ],
   "source": [
    "# 88. Merge Sorted Array\n",
    "# Easy\n",
    "\n",
    "def merge(nums1: list[int], m: int, nums2: list[int], n: int) -> None:\n",
    "    nums3 = nums1[:m]\n",
    "    i, j, k = 0, 0, 0\n",
    "\n",
    "    while (i < m) and (j < n):\n",
    "        if nums3[i] <= nums2[j]:\n",
    "            nums1[k] = nums3[i]\n",
    "            i += 1\n",
    "        else:\n",
    "            nums1[k] = nums2[j]\n",
    "            j += 1\n",
    "        \n",
    "        k += 1\n",
    "    \n",
    "    while (i < m):\n",
    "        nums1[k] = nums3[i]\n",
    "        i += 1\n",
    "        k += 1\n",
    "    \n",
    "    while ( j < n):\n",
    "        nums1[k] = nums2[j]\n",
    "        j += 1\n",
    "        k += 1\n",
    "    \n",
    "    return \n",
    "\n",
    "\n",
    "nums1 = [1,2,3,0,0,0]\n",
    "m = 3\n",
    "nums2 = [2,5,6]\n",
    "n = 3\n",
    "\n",
    "merge(nums1, m, nums2, n)\n",
    "print(nums1)"
   ]
  },
  {
   "cell_type": "code",
   "execution_count": 2,
   "metadata": {},
   "outputs": [
    {
     "name": "stdout",
     "output_type": "stream",
     "text": [
      "5\n"
     ]
    },
    {
     "data": {
      "text/plain": [
       "[0, 1, 3, 0, 4, 0, 4, 2]"
      ]
     },
     "execution_count": 2,
     "metadata": {},
     "output_type": "execute_result"
    }
   ],
   "source": [
    "# 27. Remove Element\n",
    "# Easy\n",
    "\n",
    "def remove_element(nums: list[int], val: int) -> int:\n",
    "    n = len(nums)\n",
    "    \n",
    "    k = 0\n",
    "    for i in range(n):\n",
    "        if nums[i] != val:\n",
    "            nums[k] = nums[i]\n",
    "            k += 1\n",
    "    return k\n",
    "\n",
    "nums = [0, 1, 2, 2, 3, 0, 4, 2]\n",
    "val = 2\n",
    "\n",
    "res = remove_element(nums, val)\n",
    "print(res)\n",
    "\n",
    "nums"
   ]
  },
  {
   "cell_type": "code",
   "execution_count": 3,
   "metadata": {},
   "outputs": [
    {
     "name": "stdout",
     "output_type": "stream",
     "text": [
      "5\n"
     ]
    },
    {
     "data": {
      "text/plain": [
       "[0, 1, 2, 3, 4, 2, 2, 3, 3, 4]"
      ]
     },
     "execution_count": 3,
     "metadata": {},
     "output_type": "execute_result"
    }
   ],
   "source": [
    "# 26. Remove Duplicates from Sorted Array\n",
    "# Easy\n",
    "\n",
    "def remove_duplicates(nums: list[int]) -> int:\n",
    "    n = len(nums)\n",
    "    \n",
    "    k = 0\n",
    "    for i in range(1, n):\n",
    "        if nums[i] != nums[k]:\n",
    "            nums[k+1] = nums[i]\n",
    "            k += 1\n",
    "            \n",
    "    return k+1\n",
    "\n",
    "nums = [0, 0, 1, 1, 1, 2, 2, 3, 3, 4]\n",
    "res = remove_duplicates(nums)\n",
    "print(res)\n",
    "\n",
    "nums"
   ]
  },
  {
   "cell_type": "code",
   "execution_count": 4,
   "metadata": {},
   "outputs": [
    {
     "name": "stdout",
     "output_type": "stream",
     "text": [
      "7\n"
     ]
    },
    {
     "data": {
      "text/plain": [
       "[0, 0, 1, 1, 2, 3, 3, 3]"
      ]
     },
     "execution_count": 4,
     "metadata": {},
     "output_type": "execute_result"
    }
   ],
   "source": [
    "# 80. Remove Duplicates from Sorted Array II\n",
    "# Medium\n",
    "\n",
    "def remove_duplicates_II(nums: list[int]) -> int:\n",
    "    \n",
    "    k = 0\n",
    "    for num in nums:\n",
    "        if (k < 2) or (num != nums[k-2]):\n",
    "            nums[k] = num\n",
    "            k += 1\n",
    "    \n",
    "    return k\n",
    "\n",
    "nums = [0, 0, 1, 1, 1, 2, 3, 3]\n",
    "\n",
    "res = remove_duplicates_II(nums)\n",
    "print(res)\n",
    "\n",
    "nums"
   ]
  },
  {
   "cell_type": "code",
   "execution_count": 5,
   "metadata": {},
   "outputs": [
    {
     "data": {
      "text/plain": [
       "7"
      ]
     },
     "execution_count": 5,
     "metadata": {},
     "output_type": "execute_result"
    }
   ],
   "source": [
    "# 169. Majority Element\n",
    "# Easy\n",
    "\n",
    "def majority_element(nums: list[int]) -> int:\n",
    "    # **Moore's voting algo**\n",
    "    ele = None\n",
    "    cnt = 0\n",
    "    \n",
    "    for num in nums:\n",
    "        if cnt == 0:\n",
    "            ele = num \n",
    "            cnt += 1\n",
    "        elif num == ele:\n",
    "            cnt += 1\n",
    "        else:\n",
    "            cnt -= 1\n",
    "            \n",
    "    return ele\n",
    "\n",
    "nums = [7, 7, 5, 7, 5, 7]\n",
    "majority_element(nums)"
   ]
  },
  {
   "cell_type": "code",
   "execution_count": 6,
   "metadata": {},
   "outputs": [
    {
     "data": {
      "text/plain": [
       "[5, 6, 7, 1, 2, 3, 4]"
      ]
     },
     "execution_count": 6,
     "metadata": {},
     "output_type": "execute_result"
    }
   ],
   "source": [
    "# 189. Rotate Array\n",
    "# Given an integer array nums, rotate the array to the right by k steps, where k is non-negative.\n",
    "# Medium\n",
    "\n",
    "def rotate(nums: list[int], k: int) -> None:\n",
    "    n = len(nums)\n",
    "    k = k % n\n",
    "    \n",
    "    def reverse(s, e):\n",
    "        while (e >= s):\n",
    "            nums[s], nums[e] = nums[e], nums[s]\n",
    "            \n",
    "            s += 1\n",
    "            e -= 1\n",
    "        return\n",
    "    \n",
    "    reverse(0, n-k-1)\n",
    "    reverse(n-k, n-1)\n",
    "    reverse(0, n-1)\n",
    "    \n",
    "    return\n",
    "\n",
    "nums = [1,2,3,4,5,6,7]\n",
    "k = 3\n",
    "rotate(nums, k)\n",
    "\n",
    "nums"
   ]
  },
  {
   "cell_type": "code",
   "execution_count": 7,
   "metadata": {},
   "outputs": [
    {
     "data": {
      "text/plain": [
       "5"
      ]
     },
     "execution_count": 7,
     "metadata": {},
     "output_type": "execute_result"
    }
   ],
   "source": [
    "# 121. Best Time to Buy and Sell Stock\n",
    "# Easy\n",
    "\n",
    "def buy_sell_stock(prices: list[int]) -> int:\n",
    "    n = len(prices)\n",
    "    profit = 0\n",
    "    \n",
    "    # let's buy at day1\n",
    "    buy = prices[0]\n",
    "    for i in range(1, n):\n",
    "        sell = prices[i]\n",
    "        \n",
    "        # profit if the sell it at i-th day\n",
    "        profit = max(profit, (sell - buy))\n",
    "        \n",
    "        # making sure buying the min priced stock\n",
    "        buy = min(buy, prices[i])\n",
    "    \n",
    "    return profit\n",
    "\n",
    "prices = [7,1,5,3,6,4]\n",
    "buy_sell_stock(prices)"
   ]
  },
  {
   "cell_type": "code",
   "execution_count": null,
   "metadata": {},
   "outputs": [
    {
     "data": {
      "text/plain": [
       "(7, 7, 7)"
      ]
     },
     "execution_count": 13,
     "metadata": {},
     "output_type": "execute_result"
    }
   ],
   "source": [
    "# 122. Best Time to Buy and Sell Stock II\n",
    "# Medium\n",
    "\n",
    "def buy_sell_stock_II(prices: list[int]) -> int:\n",
    "    # DP soln \n",
    "    n = len(prices)\n",
    "    \n",
    "    def solve_memo(memo, i, buy):\n",
    "        # base case\n",
    "        if (i == n):\n",
    "            return 0\n",
    "        \n",
    "        # check if the state is already computed\n",
    "        if memo[i][buy]:\n",
    "            return memo[i][buy]\n",
    "        \n",
    "        profit = 0\n",
    "        \n",
    "        if buy:\n",
    "            incl = -prices[i] + solve_memo(memo, i+1, 0)  # did buy the stock\n",
    "            excl = 0 + solve_memo(memo, i+1, 1)  # didn't buy the stock\n",
    "            profit = max(profit, max(incl, excl))\n",
    "        else:\n",
    "            incl = prices[i] + solve_memo(memo, i+1, 1)  # did sell the stock \n",
    "            excl = 0 + solve_memo(memo, i+1, 0)  # didn't sell the stock here\n",
    "            profit = max(profit, max(incl, excl))\n",
    "        \n",
    "        # store the computed state\n",
    "        memo[i][buy] = profit\n",
    "        \n",
    "        return profit\n",
    "    \n",
    "    \n",
    "    def solve_tab(n):\n",
    "        # initializing the dp array\n",
    "        dp = [[0]*2 for _ in range(n+1)]\n",
    "        \n",
    "        for i in range(n-1, -1, -1):\n",
    "            for buy in range(1, -1, -1):\n",
    "                profit = 0\n",
    "                \n",
    "                if buy:\n",
    "                    incl = -prices[i] + dp[i+1][0]\n",
    "                    excl = 0 + dp[i+1][1]\n",
    "                    profit = max(profit, max(incl, excl))\n",
    "                else:\n",
    "                    incl = prices[i] + dp[i+1][1]\n",
    "                    excl = 0 + dp[i+1][0]\n",
    "                    profit = max(profit, max(incl, excl))\n",
    "                \n",
    "                dp[i][buy] = profit\n",
    "        \n",
    "        return dp[0][1]\n",
    "    \n",
    "    \n",
    "    def space_opt(n):\n",
    "        prev = [0]*2\n",
    "        curr = [0]*2\n",
    "        \n",
    "        for i in range(n-1, -1, -1):\n",
    "            for buy in range(1, -1, -1):\n",
    "                \n",
    "                profit = 0\n",
    "                \n",
    "                if buy:\n",
    "                    incl = -prices[i] + prev[0]\n",
    "                    excl = 0 + prev[1]\n",
    "                    profit = max(profit, max(incl, excl))\n",
    "                else:\n",
    "                    incl = prices[i] + prev[1]\n",
    "                    excl = 0 + prev[0]\n",
    "                    profit = max(profit, max(incl, excl))\n",
    "                \n",
    "                curr[buy] = profit\n",
    "                \n",
    "            prev = curr[:]\n",
    "        \n",
    "        return prev[1]\n",
    "    \n",
    "    \n",
    "    # let's initializing the memo array\n",
    "    memo = [[None]*2 for _ in range(n)]\n",
    "    \n",
    "    return solve_memo(memo, 0, 1), solve_tab(n), space_opt(n)\n",
    "\n",
    "\n",
    "prices = [7,1,5,3,6,4]\n",
    "buy_sell_stock_II(prices)"
   ]
  },
  {
   "cell_type": "code",
   "execution_count": 17,
   "metadata": {},
   "outputs": [
    {
     "data": {
      "text/plain": [
       "(False, False)"
      ]
     },
     "execution_count": 17,
     "metadata": {},
     "output_type": "execute_result"
    }
   ],
   "source": [
    "# 55. Jump Game\n",
    "# Medium\n",
    "\n",
    "def can_jump(nums: list[int]) -> bool:\n",
    "    # DP soln\n",
    "    n = len(nums)\n",
    "    \n",
    "    def solve_memo(memo, i):\n",
    "        # base case\n",
    "        if (i >= n-1):\n",
    "            return True\n",
    "        \n",
    "        # check if the state is already computed\n",
    "        if memo[i] != -1:\n",
    "            return memo[i]\n",
    "        \n",
    "        flag = False\n",
    "        for jump in range(1, nums[i]+1):\n",
    "            if solve_memo(memo, i+jump):\n",
    "                flag = True\n",
    "        \n",
    "        # store the computed state\n",
    "        memo[i] = flag\n",
    "        \n",
    "        return flag\n",
    "    \n",
    "    \n",
    "    def solve_tab(n):\n",
    "        # initialize the dp array\n",
    "        dp = [-1] * n\n",
    "        \n",
    "        # base case\n",
    "        dp[n-1] = True\n",
    "        \n",
    "        for i in range(n-2, -1, -1):\n",
    "            if nums[i] == 0:\n",
    "                dp[i] = False\n",
    "            \n",
    "            flag = False\n",
    "            for jump in range(1, nums[i]+1):\n",
    "                if (i + jump) <= n-1:\n",
    "                    if dp[i+jump] == True:\n",
    "                        flag = True\n",
    "            \n",
    "            dp[i] = flag\n",
    "        \n",
    "        return dp[0]\n",
    "    \n",
    "    # initializing the memo array\n",
    "    memo = [-1] * n\n",
    "    \n",
    "    return solve_memo(memo, 0), solve_tab(n)\n",
    "\n",
    "nums = [3,2,1,0,4]\n",
    "can_jump(nums)"
   ]
  },
  {
   "cell_type": "code",
   "execution_count": 18,
   "metadata": {},
   "outputs": [
    {
     "data": {
      "text/plain": [
       "False"
      ]
     },
     "execution_count": 18,
     "metadata": {},
     "output_type": "execute_result"
    }
   ],
   "source": [
    "# most efficient soln of (55. Jump Game)\n",
    "\n",
    "def can_jump(nums: list[int]) -> bool:\n",
    "    n = len(nums)\n",
    "\n",
    "    reachable = 0\n",
    "    for i in range(n):\n",
    "        if i > reachable:\n",
    "            return False\n",
    "        \n",
    "        reachable = max(reachable, i+nums[i])\n",
    "    \n",
    "    return True\n",
    "\n",
    "nums = [3,2,1,0,4]\n",
    "can_jump(nums)"
   ]
  },
  {
   "cell_type": "code",
   "execution_count": 21,
   "metadata": {},
   "outputs": [
    {
     "data": {
      "text/plain": [
       "(2, 2)"
      ]
     },
     "execution_count": 21,
     "metadata": {},
     "output_type": "execute_result"
    }
   ],
   "source": [
    "# 45. Jump Game II\n",
    "# Medium\n",
    "import math\n",
    "\n",
    "\n",
    "def can_jump_II(nums: list[int]) -> int:\n",
    "    # dp soln\n",
    "    n = len(nums)\n",
    "    \n",
    "    def solve_memo(memo, i):\n",
    "        # base case\n",
    "        if (i >= n-1):\n",
    "            return 0\n",
    "        \n",
    "        # check if the state is already computed\n",
    "        if memo[i] != -1:\n",
    "            return memo[i]\n",
    "        \n",
    "        cnt = math.inf\n",
    "        for jump in range(1, nums[i]+1):\n",
    "            cnt = min(cnt, 1 + solve_memo(memo, i+jump))\n",
    "        \n",
    "        # store the computed state\n",
    "        memo[i] = cnt\n",
    "        \n",
    "        return cnt\n",
    "    \n",
    "    def solve_tab(n):\n",
    "        # initialize the dp array\n",
    "        dp = [0] * n\n",
    "        \n",
    "        for i in range(n-2, -1, -1):\n",
    "            \n",
    "            cnt = math.inf\n",
    "            for jump in range(1, nums[i]+1):\n",
    "                if (i + jump) < n:\n",
    "                    cnt = min(cnt, 1 + dp[i+jump])\n",
    "            \n",
    "            dp[i] = cnt\n",
    "        \n",
    "        return dp[0]\n",
    "    \n",
    "    # initialize the memo array\n",
    "    memo = [-1] * n\n",
    "    \n",
    "    return solve_memo(memo, 0), solve_tab(n)\n",
    "\n",
    "nums = [2,3,1,1,4]\n",
    "can_jump_II(nums)"
   ]
  },
  {
   "cell_type": "code",
   "execution_count": null,
   "metadata": {},
   "outputs": [],
   "source": []
  },
  {
   "cell_type": "code",
   "execution_count": null,
   "metadata": {},
   "outputs": [],
   "source": []
  }
 ],
 "metadata": {
  "kernelspec": {
   "display_name": "Python 3",
   "language": "python",
   "name": "python3"
  },
  "language_info": {
   "codemirror_mode": {
    "name": "ipython",
    "version": 3
   },
   "file_extension": ".py",
   "mimetype": "text/x-python",
   "name": "python",
   "nbconvert_exporter": "python",
   "pygments_lexer": "ipython3",
   "version": "3.11.5"
  }
 },
 "nbformat": 4,
 "nbformat_minor": 2
}
