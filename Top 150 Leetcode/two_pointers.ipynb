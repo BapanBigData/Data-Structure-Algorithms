{
 "cells": [
  {
   "cell_type": "code",
   "execution_count": 5,
   "metadata": {},
   "outputs": [
    {
     "data": {
      "text/plain": [
       "False"
      ]
     },
     "execution_count": 5,
     "metadata": {},
     "output_type": "execute_result"
    }
   ],
   "source": [
    "# 125. Valid Palindrome\n",
    "# Easy\n",
    "\n",
    "def is_palindrome(s: str) -> bool:\n",
    "    s = s.lower()\n",
    "    n = len(s)\n",
    "    res = \"\"\n",
    "    for i in range(n):\n",
    "        if s[i].isdigit() or s[i].isalpha():\n",
    "            res += s[i]\n",
    "            \n",
    "    return res == res[::-1]\n",
    "\n",
    "s = \"race a car\"\n",
    "is_palindrome(s)"
   ]
  },
  {
   "cell_type": "code",
   "execution_count": null,
   "metadata": {},
   "outputs": [
    {
     "data": {
      "text/plain": [
       "False"
      ]
     },
     "execution_count": 9,
     "metadata": {},
     "output_type": "execute_result"
    }
   ],
   "source": [
    "# 392. Is Subsequence\n",
    "# Easy\n",
    "# Not Efficient\n",
    "\n",
    "def is_subsequence(s: str, t: str) -> bool:\n",
    "    n = len(t)\n",
    "    \n",
    "    def generate_subsequence(i, sub, res):\n",
    "        # base case\n",
    "        if i == n:\n",
    "            res.append(sub)\n",
    "            return\n",
    "        \n",
    "        # include\n",
    "        generate_subsequence(i+1, sub+t[i], res)\n",
    "        \n",
    "        # exclude\n",
    "        generate_subsequence(i+1, sub, res)\n",
    "        \n",
    "        return\n",
    "    \n",
    "    res = []\n",
    "    sub = ''\n",
    "    \n",
    "    generate_subsequence(0, sub, res)\n",
    "    \n",
    "    return True if s in res else False\n",
    "\n",
    "s = \"axc\"\n",
    "t = \"ahbgdc\"\n",
    "\n",
    "is_subsequence(s, t)"
   ]
  },
  {
   "cell_type": "code",
   "execution_count": 13,
   "metadata": {},
   "outputs": [
    {
     "data": {
      "text/plain": [
       "False"
      ]
     },
     "execution_count": 13,
     "metadata": {},
     "output_type": "execute_result"
    }
   ],
   "source": [
    "# 392. Is Subsequence\n",
    "# Easy\n",
    "\n",
    "def is_subsequence(s: str, t: str) -> bool:\n",
    "    len_s = len(s)\n",
    "    len_t = len(t)\n",
    "    \n",
    "    i, j = 0, 0\n",
    "    while (i < len_s) and (j < len_t):\n",
    "        \n",
    "        if (s[i] == t[j]):\n",
    "            i += 1\n",
    "            \n",
    "        j += 1\n",
    "    \n",
    "    if i >= len_s:\n",
    "        return True\n",
    "    \n",
    "    return False\n",
    "\n",
    "\n",
    "s = \"axc\"\n",
    "t = \"ahbgdc\"\n",
    "\n",
    "is_subsequence(s, t)"
   ]
  },
  {
   "cell_type": "code",
   "execution_count": null,
   "metadata": {},
   "outputs": [
    {
     "data": {
      "text/plain": [
       "[1, 0]"
      ]
     },
     "execution_count": 14,
     "metadata": {},
     "output_type": "execute_result"
    }
   ],
   "source": [
    "# 1. Two Sum\n",
    "# Easy \n",
    "# Not in the list of \"Top 150 Leetcode\"\n",
    "\n",
    "def two_sum(nums: list[int], target: int) -> list[int]:\n",
    "    n = len(nums)\n",
    "    mp = dict()\n",
    "    \n",
    "    for i in range(n):\n",
    "        if (target - nums[i]) in mp:\n",
    "            return [i, mp[target-nums[i]]]\n",
    "        else:\n",
    "            mp[nums[i]] = i\n",
    "    \n",
    "    return [-1, -1]\n",
    "\n",
    "\n",
    "nums = [2,7,11,15]\n",
    "target = 9\n",
    "\n",
    "two_sum(nums, target)"
   ]
  },
  {
   "cell_type": "code",
   "execution_count": null,
   "metadata": {},
   "outputs": [
    {
     "data": {
      "text/plain": [
       "[1, 2]"
      ]
     },
     "execution_count": 15,
     "metadata": {},
     "output_type": "execute_result"
    }
   ],
   "source": [
    "# 167. Two Sum II - Input Array Is Sorted\n",
    "# Medium\n",
    "\n",
    "def two_sum_II(nums: list[int], target: int) -> list[int]:\n",
    "    n = len(nums)\n",
    "    \n",
    "    i, j = 0, n-1\n",
    "    while (j > i):\n",
    "        if (nums[i] + nums[j]) == target:\n",
    "            # since, 1-based index (asked in the problem)\n",
    "            return [i+1, j+1]\n",
    "        elif (nums[i] + nums[j]) > target:\n",
    "            j -= 1\n",
    "        else:\n",
    "            i += 1\n",
    "            \n",
    "    return [-1, -1]\n",
    "\n",
    "\n",
    "numbers = [2,7,11,15]\n",
    "target = 9\n",
    "\n",
    "two_sum_II(numbers, target)"
   ]
  },
  {
   "cell_type": "code",
   "execution_count": 19,
   "metadata": {},
   "outputs": [
    {
     "data": {
      "text/plain": [
       "49"
      ]
     },
     "execution_count": 19,
     "metadata": {},
     "output_type": "execute_result"
    }
   ],
   "source": [
    "# 11. Container With Most Water\n",
    "# Medium\n",
    "\n",
    "def max_area(height: list[int]) -> int:\n",
    "    n = len(height)\n",
    "    area = 0\n",
    "    \n",
    "    l, r = 0, n-1\n",
    "    while (r > l):\n",
    "        \n",
    "        curr_area = (r-l) * min(height[l], height[r])\n",
    "        area = max(area, curr_area)\n",
    "        \n",
    "        if (height[r] >= height[l]):\n",
    "            l += 1\n",
    "        else:\n",
    "            r -= 1\n",
    "    \n",
    "    return area\n",
    "\n",
    "height = [1,8,6,2,5,4,8,3,7]\n",
    "max_area(height)"
   ]
  },
  {
   "cell_type": "code",
   "execution_count": 31,
   "metadata": {},
   "outputs": [
    {
     "data": {
      "text/plain": [
       "[[-1, -1, 2], [-1, 0, 1]]"
      ]
     },
     "execution_count": 31,
     "metadata": {},
     "output_type": "execute_result"
    }
   ],
   "source": [
    "# 15. 3Sum\n",
    "# Medium\n",
    "# Got TLE\n",
    "\n",
    "def three_sum(nums: list[int]) -> list[list[int]]:\n",
    "    nums.sort()\n",
    "    n = len(nums)\n",
    "    \n",
    "    result = []\n",
    "    for i in range(n-2):\n",
    "        j = i+1\n",
    "        k = n-1\n",
    "        while (k > j):\n",
    "            \n",
    "            if (nums[i] + nums[j] + nums[k]) == 0:\n",
    "                triplet = [nums[i], nums[j], nums[k]]\n",
    "                \n",
    "                # because of this check TLE came\n",
    "                if triplet not in result:\n",
    "                    result.append(triplet)\n",
    "                    \n",
    "                j += 1\n",
    "                k -= 1\n",
    "                \n",
    "            elif (nums[i] + nums[j] + nums[k]) > 0:\n",
    "                k -= 1\n",
    "                \n",
    "            else:\n",
    "                j += 1\n",
    "                \n",
    "    return result\n",
    "\n",
    "\n",
    "nums = [-1,0,1,2,-1,-4]\n",
    "three_sum(nums)"
   ]
  },
  {
   "cell_type": "code",
   "execution_count": 35,
   "metadata": {},
   "outputs": [
    {
     "data": {
      "text/plain": [
       "[[-1, -1, 2], [-1, 0, 1]]"
      ]
     },
     "execution_count": 35,
     "metadata": {},
     "output_type": "execute_result"
    }
   ],
   "source": [
    "# 15. 3Sum\n",
    "# Medium\n",
    "\n",
    "def three_sum(nums: list[int]) -> list[list[int]]:\n",
    "    nums.sort()\n",
    "    n = len(nums)\n",
    "    \n",
    "    result = []\n",
    "    for i in range(n-2):\n",
    "        # Skip duplicates for 'i'\n",
    "        if (i > 0) and (nums[i] == nums[i-1]):\n",
    "            continue\n",
    "        \n",
    "        j = i+1\n",
    "        k = n-1\n",
    "        while (k > j):\n",
    "            \n",
    "            if (nums[i] + nums[j] + nums[k]) == 0:\n",
    "                triplet = [nums[i], nums[j], nums[k]]\n",
    "                result.append(triplet)\n",
    "                \n",
    "                # Skip duplicates for 'j' and 'k'\n",
    "                while (k > j) and (nums[j] == nums[j+1]):\n",
    "                    j += 1\n",
    "                    \n",
    "                while (k > j) and (nums[k] == nums[k-1]):\n",
    "                    k -= 1\n",
    "                    \n",
    "                j += 1\n",
    "                k -= 1\n",
    "                \n",
    "            elif (nums[i] + nums[j] + nums[k]) > 0:\n",
    "                k -= 1\n",
    "                \n",
    "            else:\n",
    "                j += 1\n",
    "                \n",
    "    return result\n",
    "\n",
    "\n",
    "nums = [-1,0,1,2,-1,-4]\n",
    "three_sum(nums)"
   ]
  },
  {
   "cell_type": "code",
   "execution_count": null,
   "metadata": {},
   "outputs": [],
   "source": []
  }
 ],
 "metadata": {
  "kernelspec": {
   "display_name": "Python 3",
   "language": "python",
   "name": "python3"
  },
  "language_info": {
   "codemirror_mode": {
    "name": "ipython",
    "version": 3
   },
   "file_extension": ".py",
   "mimetype": "text/x-python",
   "name": "python",
   "nbconvert_exporter": "python",
   "pygments_lexer": "ipython3",
   "version": "3.11.5"
  }
 },
 "nbformat": 4,
 "nbformat_minor": 2
}
