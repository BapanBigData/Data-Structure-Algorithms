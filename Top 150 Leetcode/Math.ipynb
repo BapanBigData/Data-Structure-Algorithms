{
 "cells": [
  {
   "cell_type": "code",
   "execution_count": 17,
   "metadata": {},
   "outputs": [
    {
     "name": "stdout",
     "output_type": "stream",
     "text": [
      "7.388317279512017\n"
     ]
    },
    {
     "data": {
      "text/plain": [
       "7.388317279514934"
      ]
     },
     "execution_count": 17,
     "metadata": {},
     "output_type": "execute_result"
    }
   ],
   "source": [
    "# 50. Pow(x, n)\n",
    "# Medium\n",
    "\n",
    "def myPow(x: float, n: int) -> float:\n",
    "    \n",
    "    def solver(x, n):\n",
    "        # base cases\n",
    "        if (x == 0):\n",
    "            return 0\n",
    "        \n",
    "        if (n == 0):\n",
    "            return 1\n",
    "        \n",
    "        if (n < 0):\n",
    "            return 1. / solver(x, abs(n))\n",
    "        \n",
    "        if (n % 2 == 0):  # n is even \n",
    "            res = solver(x, n//2)\n",
    "            return res * res\n",
    "        else:   # n is odd\n",
    "            return x * solver(x, n-1)\n",
    "    \n",
    "    return solver(x, n)\n",
    "\n",
    "x = 1.0001\n",
    "n = 20000\n",
    "print(myPow(x, n))\n",
    "\n",
    "1.0001 ** 20000"
   ]
  },
  {
   "cell_type": "code",
   "execution_count": null,
   "metadata": {},
   "outputs": [],
   "source": [
    "# 172. Factorial Trailing Zeroes\n",
    "# Medium\n",
    "\n",
    "def trailingZeroes(n: int) -> int:\n",
    "    pass"
   ]
  },
  {
   "cell_type": "code",
   "execution_count": null,
   "metadata": {},
   "outputs": [],
   "source": []
  }
 ],
 "metadata": {
  "kernelspec": {
   "display_name": "Python 3",
   "language": "python",
   "name": "python3"
  },
  "language_info": {
   "codemirror_mode": {
    "name": "ipython",
    "version": 3
   },
   "file_extension": ".py",
   "mimetype": "text/x-python",
   "name": "python",
   "nbconvert_exporter": "python",
   "pygments_lexer": "ipython3",
   "version": "3.11.5"
  }
 },
 "nbformat": 4,
 "nbformat_minor": 2
}
