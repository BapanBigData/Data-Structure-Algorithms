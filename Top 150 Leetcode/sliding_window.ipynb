{
 "cells": [
  {
   "cell_type": "code",
   "execution_count": 1,
   "metadata": {},
   "outputs": [],
   "source": [
    "import math"
   ]
  },
  {
   "cell_type": "code",
   "execution_count": 4,
   "metadata": {},
   "outputs": [
    {
     "data": {
      "text/plain": [
       "2"
      ]
     },
     "execution_count": 4,
     "metadata": {},
     "output_type": "execute_result"
    }
   ],
   "source": [
    "# 209. Minimum Size Subarray Sum\n",
    "# Medium\n",
    "\n",
    "def min_subarray_len(target: int, nums: list[int]) -> int:\n",
    "    n = len(nums)\n",
    "    l, r = 0, 0\n",
    "    res = math.inf\n",
    "    curr_sum = 0\n",
    "    \n",
    "    while (r < n):\n",
    "        \n",
    "        curr_sum = curr_sum + nums[r]\n",
    "        \n",
    "        while (curr_sum >= target):\n",
    "            res = min(res, (r-l+1))\n",
    "            curr_sum = curr_sum - nums[l]\n",
    "            l += 1\n",
    "        \n",
    "        r += 1\n",
    "        \n",
    "    return 0 if res == math.inf else res\n",
    "\n",
    "target = 7\n",
    "nums = [2,3,1,2,4,3]\n",
    "\n",
    "min_subarray_len(target, nums)"
   ]
  },
  {
   "cell_type": "code",
   "execution_count": 6,
   "metadata": {},
   "outputs": [
    {
     "data": {
      "text/plain": [
       "3"
      ]
     },
     "execution_count": 6,
     "metadata": {},
     "output_type": "execute_result"
    }
   ],
   "source": [
    "# 3. Longest Substring Without Repeating Characters\n",
    "# Medium\n",
    "# T.C: O(n^2)\n",
    "# constraints: 0 <= s.length <= 5 * 104\n",
    "# Will definately get TLE\n",
    "\n",
    "def length_of_longest_substring(s: str) -> int:\n",
    "    n = len(s)\n",
    "    res = 0\n",
    "    \n",
    "    for i in range(n):\n",
    "        mp = {}\n",
    "        for j in range(i, n):\n",
    "            \n",
    "            if s[j] in mp:\n",
    "                break\n",
    "            \n",
    "            res = max(res, (j-i+1))\n",
    "            \n",
    "            mp[s[j]] = 1\n",
    "    \n",
    "    return res\n",
    "\n",
    "s = \"abcabcbb\"\n",
    "length_of_longest_substring(s)"
   ]
  },
  {
   "cell_type": "code",
   "execution_count": 8,
   "metadata": {},
   "outputs": [
    {
     "data": {
      "text/plain": [
       "3"
      ]
     },
     "execution_count": 8,
     "metadata": {},
     "output_type": "execute_result"
    }
   ],
   "source": [
    "# 3. Longest Substring Without Repeating Characters\n",
    "# Medium\n",
    "# Efficient soln\n",
    "\n",
    "def length_of_longest_substring(s: str) -> int:\n",
    "    n = len(s)\n",
    "    res = 0\n",
    "    mp = {}\n",
    "    \n",
    "    r, l = 0, 0\n",
    "    while (r < n):\n",
    "        \n",
    "        if s[r] in mp and (mp[s[r]] >= l):\n",
    "            l = mp[s[r]] + 1\n",
    "        \n",
    "        curr_len = r - l + 1\n",
    "        res = max(res, curr_len)\n",
    "        \n",
    "        mp[s[r]] = r\n",
    "        r += 1\n",
    "    \n",
    "    return res\n",
    "\n",
    "s = \"abcabcbb\"\n",
    "length_of_longest_substring(s)"
   ]
  },
  {
   "cell_type": "code",
   "execution_count": null,
   "metadata": {},
   "outputs": [],
   "source": []
  },
  {
   "cell_type": "code",
   "execution_count": null,
   "metadata": {},
   "outputs": [],
   "source": []
  }
 ],
 "metadata": {
  "kernelspec": {
   "display_name": "Python 3",
   "language": "python",
   "name": "python3"
  },
  "language_info": {
   "codemirror_mode": {
    "name": "ipython",
    "version": 3
   },
   "file_extension": ".py",
   "mimetype": "text/x-python",
   "name": "python",
   "nbconvert_exporter": "python",
   "pygments_lexer": "ipython3",
   "version": "3.11.5"
  }
 },
 "nbformat": 4,
 "nbformat_minor": 2
}
