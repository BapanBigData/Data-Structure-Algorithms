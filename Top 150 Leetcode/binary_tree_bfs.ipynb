{
 "cells": [
  {
   "cell_type": "code",
   "execution_count": 17,
   "metadata": {},
   "outputs": [],
   "source": [
    "from typing import Optional\n",
    "from collections import deque"
   ]
  },
  {
   "cell_type": "code",
   "execution_count": 18,
   "metadata": {},
   "outputs": [],
   "source": [
    "class TreeNode:\n",
    "    def __init__(self, val=0, left=None, right=None):\n",
    "        self.val = val\n",
    "        self.left = left\n",
    "        self.right = right"
   ]
  },
  {
   "cell_type": "code",
   "execution_count": 19,
   "metadata": {},
   "outputs": [
    {
     "data": {
      "text/plain": [
       "[1, 3, 4]"
      ]
     },
     "execution_count": 19,
     "metadata": {},
     "output_type": "execute_result"
    }
   ],
   "source": [
    "# 199. Binary Tree Right Side View\n",
    "# Medium\n",
    "\n",
    "def right_side_view(root: Optional[TreeNode]) -> list[int]:\n",
    "    if not root:\n",
    "        return []\n",
    "    \n",
    "    # initialize a queue\n",
    "    queue = deque()\n",
    "    queue.append(root)\n",
    "    \n",
    "    res = []\n",
    "    \n",
    "    while queue:\n",
    "        right_side = None\n",
    "        cnt = len(queue)\n",
    "        \n",
    "        for _ in range(cnt):\n",
    "            curr = queue.popleft()\n",
    "            right_side = curr\n",
    "            \n",
    "            if curr.left:\n",
    "                queue.append(curr.left)\n",
    "            \n",
    "            if curr.right:\n",
    "                queue.append(curr.right)\n",
    "        \n",
    "        if right_side:\n",
    "            res.append(right_side.val)\n",
    "            \n",
    "    return res\n",
    "\n",
    "# let's define a tree\n",
    "root = TreeNode(1)\n",
    "root.left = TreeNode(2)\n",
    "root.right = TreeNode(3)\n",
    "root.left.right = TreeNode(5)\n",
    "root.right.left = TreeNode(4)\n",
    "\n",
    "right_side_view(root)"
   ]
  },
  {
   "cell_type": "code",
   "execution_count": 20,
   "metadata": {},
   "outputs": [
    {
     "data": {
      "text/plain": [
       "[1, 2, 5]"
      ]
     },
     "execution_count": 20,
     "metadata": {},
     "output_type": "execute_result"
    }
   ],
   "source": [
    "# Left View of Binary Tree\n",
    "# Medium\n",
    "\n",
    "def left_side_view(root: Optional[TreeNode]) -> list[int]:\n",
    "    if not root:\n",
    "        return []\n",
    "    \n",
    "    # initialize a stack\n",
    "    queue = deque()\n",
    "    queue.append(root)\n",
    "    \n",
    "    res = []\n",
    "    \n",
    "    while queue:\n",
    "        cnt = len(queue)\n",
    "        \n",
    "        for i in range(cnt):\n",
    "            curr = queue.popleft()\n",
    "            \n",
    "            if (i == 0):\n",
    "                res.append(curr.val)\n",
    "            \n",
    "            if curr.left:\n",
    "                queue.append(curr.left)\n",
    "            \n",
    "            if curr.right:\n",
    "                queue.append(curr.right)\n",
    "                \n",
    "    return res\n",
    "\n",
    "# let's define a tree\n",
    "root = TreeNode(1)\n",
    "root.left = TreeNode(2)\n",
    "root.right = TreeNode(3)\n",
    "root.left.right = TreeNode(5)\n",
    "root.right.right = TreeNode(4)\n",
    "\n",
    "left_side_view(root)"
   ]
  },
  {
   "cell_type": "code",
   "execution_count": null,
   "metadata": {},
   "outputs": [],
   "source": []
  }
 ],
 "metadata": {
  "kernelspec": {
   "display_name": "Python 3",
   "language": "python",
   "name": "python3"
  },
  "language_info": {
   "codemirror_mode": {
    "name": "ipython",
    "version": 3
   },
   "file_extension": ".py",
   "mimetype": "text/x-python",
   "name": "python",
   "nbconvert_exporter": "python",
   "pygments_lexer": "ipython3",
   "version": "3.11.5"
  }
 },
 "nbformat": 4,
 "nbformat_minor": 2
}
