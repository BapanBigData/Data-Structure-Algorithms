{
 "cells": [
  {
   "cell_type": "code",
   "execution_count": 1,
   "metadata": {},
   "outputs": [],
   "source": [
    "class TreeNode:\n",
    "    def __init__(self, val, left=None, right=None):\n",
    "        self.val = val\n",
    "        self.left = left\n",
    "        self.right = right"
   ]
  },
  {
   "cell_type": "code",
   "execution_count": 6,
   "metadata": {},
   "outputs": [],
   "source": [
    "# tree traversal\n",
    "\n",
    "def inorder_traversal(root: TreeNode):\n",
    "    if not root:\n",
    "        return \n",
    "    \n",
    "    inorder_traversal(root.left)\n",
    "    print(root.val, end=' ')\n",
    "    inorder_traversal(root.right)\n",
    "    \n",
    "    return\n",
    "\n",
    "def preorder_traversal(root: TreeNode):\n",
    "    ## base case\n",
    "    if root is None:\n",
    "        return\n",
    "    \n",
    "    print(root.val, end=' ')\n",
    "    preorder_traversal(root.left)\n",
    "    preorder_traversal(root.right)\n",
    "    \n",
    "    return"
   ]
  },
  {
   "cell_type": "code",
   "execution_count": 2,
   "metadata": {},
   "outputs": [],
   "source": [
    "# 104. Maximum Depth of Binary Tree\n",
    "# Easy\n",
    "\n",
    "def max_depth(root: TreeNode) -> int:\n",
    "    # base case\n",
    "    if not root:\n",
    "        return 0\n",
    "    \n",
    "    left_depth = max_depth(root.left)\n",
    "    right_depth = max_depth(root.right)\n",
    "    \n",
    "    return 1 + max(left_depth, right_depth)\n"
   ]
  },
  {
   "cell_type": "code",
   "execution_count": 3,
   "metadata": {},
   "outputs": [],
   "source": [
    "# 100. Same Tree\n",
    "# Easy\n",
    "\n",
    "def is_same_tree(p: TreeNode, q: TreeNode) -> bool:\n",
    "    # base cases\n",
    "    if p in None and q is None:\n",
    "        return True\n",
    "    \n",
    "    if p is None or q is None:\n",
    "        return False\n",
    "    \n",
    "    if (p.val != q.val):\n",
    "        return False\n",
    "    \n",
    "    lt = is_same_tree(p.left, q.left)\n",
    "    rt = is_same_tree(p.right, q.right)\n",
    "    \n",
    "    return lt and rt\n"
   ]
  },
  {
   "cell_type": "code",
   "execution_count": 4,
   "metadata": {},
   "outputs": [],
   "source": [
    "# 226. Invert Binary Tree\n",
    "# Easy\n",
    "\n",
    "def invert_tree(root: TreeNode) -> TreeNode:\n",
    "    # base case\n",
    "    if not root:\n",
    "        return None\n",
    "    \n",
    "    # swap\n",
    "    root.left, root.right = root.right, root.left\n",
    "    \n",
    "    invert_tree(root.left)\n",
    "    invert_tree(root.right)\n",
    "    \n",
    "    return root\n"
   ]
  },
  {
   "cell_type": "code",
   "execution_count": 5,
   "metadata": {},
   "outputs": [],
   "source": [
    "# 101. Symmetric Tree\n",
    "# easy\n",
    "\n",
    "def is_symmetric(root: TreeNode) -> bool:\n",
    "    \n",
    "    def same(p, q):\n",
    "        # base cases\n",
    "        if not p and not q:\n",
    "            return True\n",
    "        \n",
    "        if not p or not q:\n",
    "            return False\n",
    "        \n",
    "        if (p.val != q.val):\n",
    "            return False\n",
    "        \n",
    "        return same(p.left, q.right) and same(p.right, q.left)\n",
    "    \n",
    "    return same(root, root)\n"
   ]
  },
  {
   "cell_type": "code",
   "execution_count": 9,
   "metadata": {},
   "outputs": [
    {
     "name": "stdout",
     "output_type": "stream",
     "text": [
      "6 3 1 7 2 0 "
     ]
    }
   ],
   "source": [
    "# 105. Construct Binary Tree from Preorder and Inorder Traversal\n",
    "# Medium\n",
    "\n",
    "def build_tree(preorder: list[int], inorder: list[int]) -> TreeNode:\n",
    "    n = len(inorder)\n",
    "    \n",
    "    pre_indx = [0]\n",
    "    \n",
    "    mpp = {}\n",
    "    for i in range(n):\n",
    "        mpp[inorder[i]] = i\n",
    "    \n",
    "    def solver(insi, inei):\n",
    "        # base case\n",
    "        if (insi > inei):\n",
    "            return None\n",
    "        \n",
    "        root = TreeNode(preorder[pre_indx[0]])\n",
    "        pre_indx[0] += 1\n",
    "        \n",
    "        if (insi == inei):\n",
    "            return root\n",
    "        \n",
    "        # get the index from inorder traversal\n",
    "        i = mpp[root.val]\n",
    "        \n",
    "        root.left = solver(insi, i-1)\n",
    "        root.right = solver(i+1, inei)\n",
    "        \n",
    "        return root\n",
    "    \n",
    "    return solver(0, n-1)\n",
    "\n",
    "preorder = [1, 3, 6, 2, 7, 0]\n",
    "inorder = [6, 3, 1, 7, 2, 0]\n",
    "\n",
    "node = build_tree(preorder=preorder, inorder=inorder)\n",
    "inorder_traversal(node)\n"
   ]
  },
  {
   "cell_type": "code",
   "execution_count": 11,
   "metadata": {},
   "outputs": [
    {
     "name": "stdout",
     "output_type": "stream",
     "text": [
      "6 3 1 7 2 0 "
     ]
    }
   ],
   "source": [
    "# 106. Construct Binary Tree from Inorder and Postorder Traversal\n",
    "# Medium\n",
    "\n",
    "def build_tree1(inorder: list[int], postorder: list[int]) -> TreeNode:\n",
    "    n = len(inorder)\n",
    "    \n",
    "    # initialize a map\n",
    "    mpp = {num:indx for indx, num in enumerate(inorder)}\n",
    "    \n",
    "    # initialize the postorder indx\n",
    "    post_indx = [n-1]\n",
    "    \n",
    "    def solver(insi, inei):\n",
    "        # base case\n",
    "        if (insi > inei):\n",
    "            return None\n",
    "        \n",
    "        root = TreeNode(postorder[post_indx[0]])\n",
    "        post_indx[0] -= 1\n",
    "        \n",
    "        if (insi == inei):\n",
    "            return root\n",
    "        \n",
    "        # get the inorder index\n",
    "        i = mpp[root.val]\n",
    "        \n",
    "        root.right = solver(i+1, inei)\n",
    "        root.left = solver(insi, i-1)\n",
    "        \n",
    "        return root\n",
    "    \n",
    "    return solver(0, n-1)\n",
    "\n",
    "postorder = [6, 3, 7, 0, 2, 1]\n",
    "inorder = [6, 3, 1, 7, 2, 0]\n",
    "\n",
    "node = build_tree1(inorder=inorder, postorder=postorder)\n",
    "inorder_traversal(node)"
   ]
  },
  {
   "cell_type": "code",
   "execution_count": 12,
   "metadata": {},
   "outputs": [],
   "source": [
    "# 116. Populating Next Right Pointers in Each Node\n",
    "# Medium\n",
    "\n",
    "# You are given a `perfect binary` tree where all leaves are on the same level, and every parent has two children. The binary tree has the following definition:\n",
    "\n",
    "# struct Node {\n",
    "#   int val;\n",
    "#   Node *left;\n",
    "#   Node *right;\n",
    "#   Node *next;\n",
    "# }\n",
    "\n",
    "class Node:\n",
    "    def __init__(self, val: int = 0, left: 'Node' = None, right: 'Node' = None, next: 'Node' = None):\n",
    "        self.val = val\n",
    "        self.left = left\n",
    "        self.right = right\n",
    "        self.next = next\n",
    "\n",
    "def connect(root: Node) -> Node:\n",
    "    pass            \n"
   ]
  },
  {
   "cell_type": "code",
   "execution_count": null,
   "metadata": {},
   "outputs": [],
   "source": [
    "# 117. Populating Next Right Pointers in Each Node II\n",
    "# Medium\n",
    "\n",
    "class Node:\n",
    "    def __init__(self, val: int = 0, left: 'Node' = None, right: 'Node' = None, next: 'Node' = None):\n",
    "        self.val = val\n",
    "        self.left = left\n",
    "        self.right = right\n",
    "        self.next = next\n",
    "\n",
    "def connect(root: Node) -> Node:\n",
    "    pass"
   ]
  },
  {
   "cell_type": "code",
   "execution_count": null,
   "metadata": {},
   "outputs": [],
   "source": []
  }
 ],
 "metadata": {
  "kernelspec": {
   "display_name": "Python 3",
   "language": "python",
   "name": "python3"
  },
  "language_info": {
   "codemirror_mode": {
    "name": "ipython",
    "version": 3
   },
   "file_extension": ".py",
   "mimetype": "text/x-python",
   "name": "python",
   "nbconvert_exporter": "python",
   "pygments_lexer": "ipython3",
   "version": "3.11.5"
  }
 },
 "nbformat": 4,
 "nbformat_minor": 2
}
