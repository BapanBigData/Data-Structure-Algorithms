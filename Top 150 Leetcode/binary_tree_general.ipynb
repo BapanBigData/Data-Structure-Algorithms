{
 "cells": [
  {
   "cell_type": "code",
   "execution_count": 1,
   "metadata": {},
   "outputs": [],
   "source": [
    "class TreeNode:\n",
    "    def __init__(self, val, left=None, right=None):\n",
    "        self.val = val\n",
    "        self.left = left\n",
    "        self.right = right"
   ]
  },
  {
   "cell_type": "code",
   "execution_count": 2,
   "metadata": {},
   "outputs": [],
   "source": [
    "# 104. Maximum Depth of Binary Tree\n",
    "# Easy\n",
    "\n",
    "def max_depth(root: TreeNode) -> int:\n",
    "    # base case\n",
    "    if not root:\n",
    "        return 0\n",
    "    \n",
    "    left_depth = max_depth(root.left)\n",
    "    right_depth = max_depth(root.right)\n",
    "    \n",
    "    return 1 + max(left_depth, right_depth)\n"
   ]
  },
  {
   "cell_type": "code",
   "execution_count": 5,
   "metadata": {},
   "outputs": [],
   "source": [
    "# 100. Same Tree\n",
    "# Easy\n",
    "\n",
    "def is_same_tree(p: TreeNode, q: TreeNode) -> bool:\n",
    "    # base cases\n",
    "    if p in None and q is None:\n",
    "        return True\n",
    "    \n",
    "    if p is None or q is None:\n",
    "        return False\n",
    "    \n",
    "    if (p.val != q.val):\n",
    "        return False\n",
    "    \n",
    "    lt = is_same_tree(p.left, q.left)\n",
    "    rt = is_same_tree(p.right, q.right)\n",
    "    \n",
    "    return lt and rt\n"
   ]
  },
  {
   "cell_type": "code",
   "execution_count": 3,
   "metadata": {},
   "outputs": [],
   "source": [
    "# 226. Invert Binary Tree\n",
    "# Easy\n",
    "\n",
    "def invert_tree(root: TreeNode) -> TreeNode:\n",
    "    # base case\n",
    "    if not root:\n",
    "        return None\n",
    "    \n",
    "    # swap\n",
    "    root.left, root.right = root.right, root.left\n",
    "    \n",
    "    invert_tree(root.left)\n",
    "    invert_tree(root.right)\n",
    "    \n",
    "    return root\n"
   ]
  },
  {
   "cell_type": "code",
   "execution_count": 4,
   "metadata": {},
   "outputs": [],
   "source": [
    "# 101. Symmetric Tree\n",
    "# easy\n",
    "\n",
    "def is_symmetric(root: TreeNode) -> bool:\n",
    "    \n",
    "    def same(p, q):\n",
    "        # base cases\n",
    "        if not p and not q:\n",
    "            return True\n",
    "        \n",
    "        if not p or not q:\n",
    "            return False\n",
    "        \n",
    "        if (p.val != q.val):\n",
    "            return False\n",
    "        \n",
    "        return same(p.left, q.right) and same(p.right, q.left)\n",
    "    \n",
    "    return same(root, root)\n"
   ]
  },
  {
   "cell_type": "code",
   "execution_count": null,
   "metadata": {},
   "outputs": [],
   "source": []
  }
 ],
 "metadata": {
  "kernelspec": {
   "display_name": "Python 3",
   "language": "python",
   "name": "python3"
  },
  "language_info": {
   "codemirror_mode": {
    "name": "ipython",
    "version": 3
   },
   "file_extension": ".py",
   "mimetype": "text/x-python",
   "name": "python",
   "nbconvert_exporter": "python",
   "pygments_lexer": "ipython3",
   "version": "3.11.5"
  }
 },
 "nbformat": 4,
 "nbformat_minor": 2
}
