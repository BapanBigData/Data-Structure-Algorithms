{
 "cells": [
  {
   "cell_type": "code",
   "execution_count": 1,
   "metadata": {},
   "outputs": [
    {
     "data": {
      "text/plain": [
       "True"
      ]
     },
     "execution_count": 1,
     "metadata": {},
     "output_type": "execute_result"
    }
   ],
   "source": [
    "# 20. Valid Parentheses\n",
    "# Easy\n",
    "\n",
    "def balanced(close, open):\n",
    "    return (close == ')' and open == '(') or (close == ']' and open == '[') or (close == '}' and open == '{')\n",
    "\n",
    "def is_valid(s: str) -> bool:\n",
    "    stack = []\n",
    "    \n",
    "    for e in s:\n",
    "        if e in ('(', '[', '{'):\n",
    "            stack.append(e)\n",
    "        else:\n",
    "            if not stack:\n",
    "                return False\n",
    "            else:\n",
    "                if not balanced(e, stack[-1]):\n",
    "                    return False\n",
    "                else:\n",
    "                    stack.pop()\n",
    "    \n",
    "    if stack:\n",
    "        return False\n",
    "    \n",
    "    return True\n",
    "\n",
    "s = '({[([({(((({[]}))))})])]})'\n",
    "\n",
    "is_valid(s)"
   ]
  },
  {
   "cell_type": "code",
   "execution_count": 2,
   "metadata": {},
   "outputs": [
    {
     "data": {
      "text/plain": [
       "'/home/user/Pictures'"
      ]
     },
     "execution_count": 2,
     "metadata": {},
     "output_type": "execute_result"
    }
   ],
   "source": [
    "# 71. Simplify Path\n",
    "# Medium\n",
    "\n",
    "def simplify_path(path: str) -> str:\n",
    "    n = len(path)\n",
    "    stack = []\n",
    "    \n",
    "    i = 0\n",
    "    while (i < n):\n",
    "        \n",
    "        if (path[i] == '/'):\n",
    "            pass\n",
    "        else:\n",
    "            temp = \"\"\n",
    "            while (i < n ) and (path[i] != '/'):\n",
    "                temp += path[i]\n",
    "                i += 1\n",
    "                \n",
    "            i -= 1\n",
    "            \n",
    "            if temp == '..':\n",
    "                if stack:\n",
    "                    stack.pop()\n",
    "            elif temp == '.':\n",
    "                pass\n",
    "            else:\n",
    "                stack.append(temp)\n",
    "                \n",
    "        i += 1\n",
    "    \n",
    "    if not stack:\n",
    "        return \"/\"\n",
    "    \n",
    "    res = \"\"\n",
    "    while stack:\n",
    "        res = \"/\" + stack.pop() + res\n",
    "        \n",
    "    return res\n",
    "\n",
    "path = \"/home/user/Documents/../Pictures\"\n",
    "simplify_path(path)"
   ]
  },
  {
   "cell_type": "code",
   "execution_count": null,
   "metadata": {},
   "outputs": [],
   "source": [
    "# 155. Min Stack\n",
    "# Medium\n",
    "\n",
    "class MinStack:\n",
    "\n",
    "    def __init__(self):\n",
    "        pass\n",
    "\n",
    "    def push(self, val: int) -> None:\n",
    "        pass\n",
    "\n",
    "    def pop(self) -> None:\n",
    "        pass\n",
    "\n",
    "    def top(self) -> int:\n",
    "        pass\n",
    "\n",
    "    def getMin(self) -> int:\n",
    "        pass"
   ]
  },
  {
   "cell_type": "code",
   "execution_count": null,
   "metadata": {},
   "outputs": [],
   "source": []
  }
 ],
 "metadata": {
  "kernelspec": {
   "display_name": "Python 3",
   "language": "python",
   "name": "python3"
  },
  "language_info": {
   "codemirror_mode": {
    "name": "ipython",
    "version": 3
   },
   "file_extension": ".py",
   "mimetype": "text/x-python",
   "name": "python",
   "nbconvert_exporter": "python",
   "pygments_lexer": "ipython3",
   "version": "3.11.5"
  }
 },
 "nbformat": 4,
 "nbformat_minor": 2
}
