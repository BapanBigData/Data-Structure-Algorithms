{
 "cells": [
  {
   "cell_type": "code",
   "execution_count": 1,
   "metadata": {},
   "outputs": [
    {
     "data": {
      "text/plain": [
       "True"
      ]
     },
     "execution_count": 1,
     "metadata": {},
     "output_type": "execute_result"
    }
   ],
   "source": [
    "# 20. Valid Parentheses\n",
    "# Easy\n",
    "\n",
    "def balanced(close, open):\n",
    "    return (close == ')' and open == '(') or (close == ']' and open == '[') or (close == '}' and open == '{')\n",
    "\n",
    "def is_valid(s: str) -> bool:\n",
    "    stack = []\n",
    "    \n",
    "    for e in s:\n",
    "        if e in ('(', '[', '{'):\n",
    "            stack.append(e)\n",
    "        else:\n",
    "            if not stack:\n",
    "                return False\n",
    "            else:\n",
    "                if not balanced(e, stack[-1]):\n",
    "                    return False\n",
    "                else:\n",
    "                    stack.pop()\n",
    "    \n",
    "    if stack:\n",
    "        return False\n",
    "    \n",
    "    return True\n",
    "\n",
    "s = '({[([({(((({[]}))))})])]})'\n",
    "\n",
    "is_valid(s)"
   ]
  },
  {
   "cell_type": "code",
   "execution_count": 2,
   "metadata": {},
   "outputs": [
    {
     "data": {
      "text/plain": [
       "'/home/user/Pictures'"
      ]
     },
     "execution_count": 2,
     "metadata": {},
     "output_type": "execute_result"
    }
   ],
   "source": [
    "# 71. Simplify Path\n",
    "# Medium\n",
    "\n",
    "def simplify_path(path: str) -> str:\n",
    "    n = len(path)\n",
    "    stack = []\n",
    "    \n",
    "    i = 0\n",
    "    while (i < n):\n",
    "        \n",
    "        if (path[i] == '/'):\n",
    "            pass\n",
    "        else:\n",
    "            temp = \"\"\n",
    "            while (i < n ) and (path[i] != '/'):\n",
    "                temp += path[i]\n",
    "                i += 1\n",
    "                \n",
    "            i -= 1\n",
    "            \n",
    "            if temp == '..':\n",
    "                if stack:\n",
    "                    stack.pop()\n",
    "            elif temp == '.':\n",
    "                pass\n",
    "            else:\n",
    "                stack.append(temp)\n",
    "                \n",
    "        i += 1\n",
    "    \n",
    "    if not stack:\n",
    "        return \"/\"\n",
    "    \n",
    "    res = \"\"\n",
    "    while stack:\n",
    "        res = \"/\" + stack.pop() + res\n",
    "        \n",
    "    return res\n",
    "\n",
    "path = \"/home/user/Documents/../Pictures\"\n",
    "simplify_path(path)"
   ]
  },
  {
   "cell_type": "code",
   "execution_count": 3,
   "metadata": {},
   "outputs": [],
   "source": [
    "# 155. Min Stack\n",
    "# Medium\n",
    "\n",
    "class MinStack:\n",
    "\n",
    "    def __init__(self):\n",
    "        # stack will store pair <int, int> i.e pair <val, min>\n",
    "        self.stack = []\n",
    "\n",
    "    def push(self, val: int) -> None:\n",
    "        if not self.stack:\n",
    "            self.stack.append((val, val))\n",
    "        else:\n",
    "            self.stack.append((val, min(val, self.stack[-1][-1])))\n",
    "\n",
    "    def pop(self) -> None:\n",
    "        self.stack.pop()\n",
    "\n",
    "    def top(self) -> int:\n",
    "        return self.stack[-1][0]\n",
    "\n",
    "    def getMin(self) -> int:\n",
    "        return self.stack[-1][-1]"
   ]
  },
  {
   "cell_type": "code",
   "execution_count": 11,
   "metadata": {},
   "outputs": [
    {
     "data": {
      "text/plain": [
       "9"
      ]
     },
     "execution_count": 11,
     "metadata": {},
     "output_type": "execute_result"
    }
   ],
   "source": [
    "# 150. Evaluate Reverse Polish Notation\n",
    "# Medium\n",
    "\n",
    "def evalRPN(tokens: list[str]) -> int:\n",
    "    stack = []\n",
    "    for token in tokens:\n",
    "        if token not in ('+', '-', '*', '/'):\n",
    "            stack.append(int(token))\n",
    "        else:\n",
    "            b = stack.pop()\n",
    "            a = stack.pop()\n",
    "            \n",
    "            if (token == '+'):\n",
    "                stack.append((a+b))\n",
    "            elif (token == '-'):\n",
    "                stack.append((a-b))\n",
    "            elif (token == '*'):\n",
    "                stack.append((a*b))\n",
    "            else: # token == '/'\n",
    "                stack.append(int(a/b))  # truncate towards zero\n",
    "                \n",
    "    return stack[-1]\n",
    "\n",
    "tokens = [\"10\",\"6\",\"9\",\"3\",\"+\",\"-11\",\"*\",\"/\",\"*\",\"17\",\"+\",\"5\",\"+\"]\n",
    "tokens = [\"4\",\"13\",\"5\",\"/\",\"+\"]\n",
    "tokens = [\"2\",\"1\",\"+\",\"3\",\"*\"]\n",
    "evalRPN(tokens)"
   ]
  },
  {
   "cell_type": "code",
   "execution_count": 13,
   "metadata": {},
   "outputs": [
    {
     "data": {
      "text/plain": [
       "-3"
      ]
     },
     "execution_count": 13,
     "metadata": {},
     "output_type": "execute_result"
    }
   ],
   "source": [
    "-22//9"
   ]
  },
  {
   "cell_type": "code",
   "execution_count": 14,
   "metadata": {},
   "outputs": [
    {
     "data": {
      "text/plain": [
       "-2"
      ]
     },
     "execution_count": 14,
     "metadata": {},
     "output_type": "execute_result"
    }
   ],
   "source": [
    "int(-22/9) # truncate towards zero"
   ]
  },
  {
   "cell_type": "code",
   "execution_count": null,
   "metadata": {},
   "outputs": [],
   "source": [
    "# 224. Basic Calculator\n",
    "# Hard\n",
    "\n",
    "def calculate(s: str) -> int:\n",
    "    pass"
   ]
  },
  {
   "cell_type": "code",
   "execution_count": null,
   "metadata": {},
   "outputs": [],
   "source": [
    "# 227. Basic Calculator II\n",
    "# Medium\n",
    "\n",
    "def calculate(expression: str) -> int:\n",
    "    pass"
   ]
  }
 ],
 "metadata": {
  "kernelspec": {
   "display_name": "Python 3",
   "language": "python",
   "name": "python3"
  },
  "language_info": {
   "codemirror_mode": {
    "name": "ipython",
    "version": 3
   },
   "file_extension": ".py",
   "mimetype": "text/x-python",
   "name": "python",
   "nbconvert_exporter": "python",
   "pygments_lexer": "ipython3",
   "version": "3.11.5"
  }
 },
 "nbformat": 4,
 "nbformat_minor": 2
}
