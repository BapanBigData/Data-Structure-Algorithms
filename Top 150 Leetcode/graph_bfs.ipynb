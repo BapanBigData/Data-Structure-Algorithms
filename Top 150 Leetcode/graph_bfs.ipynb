{
 "cells": [
  {
   "cell_type": "code",
   "execution_count": 1,
   "metadata": {},
   "outputs": [],
   "source": [
    "from typing import Optional\n",
    "from collections import deque"
   ]
  },
  {
   "cell_type": "code",
   "execution_count": 3,
   "metadata": {},
   "outputs": [
    {
     "data": {
      "text/plain": [
       "False"
      ]
     },
     "execution_count": 3,
     "metadata": {},
     "output_type": "execute_result"
    }
   ],
   "source": [
    "# 1971. Find if Path Exists in Graph\n",
    "# Easy\n",
    "\n",
    "def valid_path(n: int, edges: list[list[int]], source: int, destination: int) -> bool:\n",
    "    # let's build adj_lst rep. from the edges\n",
    "    adj_lst = [[] for _ in range(n)]\n",
    "    \n",
    "    for edge in edges:\n",
    "        u, v = edge\n",
    "        adj_lst[u].append(v)\n",
    "        adj_lst[v].append(u)\n",
    "    \n",
    "    visited = [False] * n\n",
    "    \n",
    "    # initialize a queue (BFS traversal)\n",
    "    queue = deque()\n",
    "    queue.append(source)\n",
    "    \n",
    "    visited[source] = True\n",
    "    \n",
    "    while queue:\n",
    "        curr = queue.popleft()\n",
    "        \n",
    "        if (curr == destination):\n",
    "            return True\n",
    "        \n",
    "        for neighbor in adj_lst[curr]:\n",
    "            if not visited[neighbor]:\n",
    "                queue.append(neighbor)\n",
    "                visited[neighbor] = True\n",
    "                \n",
    "    return False\n",
    "\n",
    "n = 6\n",
    "edges = [[0,1],[0,2],[3,5],[5,4],[4,3]]\n",
    "source = 0\n",
    "destination = 5\n",
    "\n",
    "valid_path(n, edges, source, destination)"
   ]
  },
  {
   "cell_type": "code",
   "execution_count": 2,
   "metadata": {},
   "outputs": [],
   "source": [
    "# 909. Snakes and Ladders\n",
    "# Medium\n",
    "\n",
    "def snakes_and_ladders(board: list[list[int]]) -> int:\n",
    "    pass"
   ]
  },
  {
   "cell_type": "code",
   "execution_count": null,
   "metadata": {},
   "outputs": [],
   "source": []
  },
  {
   "cell_type": "code",
   "execution_count": null,
   "metadata": {},
   "outputs": [],
   "source": []
  }
 ],
 "metadata": {
  "kernelspec": {
   "display_name": "Python 3",
   "language": "python",
   "name": "python3"
  },
  "language_info": {
   "codemirror_mode": {
    "name": "ipython",
    "version": 3
   },
   "file_extension": ".py",
   "mimetype": "text/x-python",
   "name": "python",
   "nbconvert_exporter": "python",
   "pygments_lexer": "ipython3",
   "version": "3.11.5"
  }
 },
 "nbformat": 4,
 "nbformat_minor": 2
}
