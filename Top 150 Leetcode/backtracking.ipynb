{
 "cells": [
  {
   "cell_type": "code",
   "execution_count": 5,
   "metadata": {},
   "outputs": [
    {
     "data": {
      "text/plain": [
       "['dp', 'dq', 'dr', 'ds', 'ep', 'eq', 'er', 'es', 'fp', 'fq', 'fr', 'fs']"
      ]
     },
     "execution_count": 5,
     "metadata": {},
     "output_type": "execute_result"
    }
   ],
   "source": [
    "# 17. Letter Combinations of a Phone Number\n",
    "# Medium\n",
    "\n",
    "def letter_combinations(digits: str) -> list[str]:\n",
    "    if not digits:\n",
    "        return []\n",
    "    \n",
    "    n = len(digits)\n",
    "    \n",
    "    ## let's define a dict which will map digits to the corresponding letters\n",
    "    mp = {\n",
    "    '2': 'abc',\n",
    "    '3': 'def',\n",
    "    '4': 'ghi',\n",
    "    '5': 'jkl',\n",
    "    '6': 'mno',\n",
    "    '7': 'pqrs',\n",
    "    '8': 'tuv',\n",
    "    '9': 'wxyz' \n",
    "    }\n",
    "    \n",
    "    def solver(i, curr, res):\n",
    "        # base case\n",
    "        if (i == n):\n",
    "            res.append(curr)\n",
    "            return res\n",
    "        \n",
    "        for c in mp[digits[i]]:\n",
    "            solver(i+1, curr+c, res)\n",
    "        \n",
    "        return res\n",
    "    \n",
    "    return solver(0, '', [])\n",
    "\n",
    "digits = \"37\"\n",
    "letter_combinations(digits)"
   ]
  },
  {
   "cell_type": "code",
   "execution_count": 13,
   "metadata": {},
   "outputs": [
    {
     "data": {
      "text/plain": [
       "[[1, 2], [1, 3], [1, 4], [2, 3], [2, 4], [3, 4]]"
      ]
     },
     "execution_count": 13,
     "metadata": {},
     "output_type": "execute_result"
    }
   ],
   "source": [
    "# 77. Combinations\n",
    "# Medium\n",
    "\n",
    "def combine(n: int, k: int) -> list[list[int]]:\n",
    "    \n",
    "    def solver(start, k, curr, res):\n",
    "        # base case\n",
    "        if (k == 0):\n",
    "            res.append(curr)\n",
    "            return res\n",
    "        \n",
    "        for i in range(start, n+1):\n",
    "            solver(i+1, k-1, curr+[i], res)\n",
    "            \n",
    "        return res\n",
    "    \n",
    "    return solver(1, k, [], [])\n",
    "\n",
    "n = 4\n",
    "k = 2\n",
    "combine(n, k)"
   ]
  },
  {
   "cell_type": "code",
   "execution_count": null,
   "metadata": {},
   "outputs": [],
   "source": []
  }
 ],
 "metadata": {
  "kernelspec": {
   "display_name": "Python 3",
   "language": "python",
   "name": "python3"
  },
  "language_info": {
   "codemirror_mode": {
    "name": "ipython",
    "version": 3
   },
   "file_extension": ".py",
   "mimetype": "text/x-python",
   "name": "python",
   "nbconvert_exporter": "python",
   "pygments_lexer": "ipython3",
   "version": "3.11.5"
  }
 },
 "nbformat": 4,
 "nbformat_minor": 2
}
