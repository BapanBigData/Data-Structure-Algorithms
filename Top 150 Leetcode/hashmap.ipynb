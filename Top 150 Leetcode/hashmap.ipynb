{
 "cells": [
  {
   "cell_type": "code",
   "execution_count": 1,
   "metadata": {},
   "outputs": [
    {
     "data": {
      "text/plain": [
       "True"
      ]
     },
     "execution_count": 1,
     "metadata": {},
     "output_type": "execute_result"
    }
   ],
   "source": [
    "# 383. Ransom Note\n",
    "# Easy\n",
    "\n",
    "def can_construct(ransom_note: str, magazine: str) -> bool:\n",
    "    mp = {}\n",
    "    for e in magazine:\n",
    "        if e in mp:\n",
    "            mp[e] += 1\n",
    "        else:\n",
    "            mp[e] = 1\n",
    "    \n",
    "    for e in ransom_note:\n",
    "        if e in mp:\n",
    "            mp[e] -= 1\n",
    "            \n",
    "            if (mp[e] == 0):\n",
    "                mp.pop(e)\n",
    "                \n",
    "        else:\n",
    "            return False\n",
    "    \n",
    "    return True\n",
    "\n",
    "ransomNote = \"aax\"\n",
    "magazine = \"aabhxx\"\n",
    "\n",
    "can_construct(ransomNote, magazine)"
   ]
  },
  {
   "cell_type": "code",
   "execution_count": 9,
   "metadata": {},
   "outputs": [
    {
     "data": {
      "text/plain": [
       "False"
      ]
     },
     "execution_count": 9,
     "metadata": {},
     "output_type": "execute_result"
    }
   ],
   "source": [
    "# 205. Isomorphic Strings\n",
    "# Easy\n",
    "\n",
    "def is_isomorphic(s: str, t: str) -> bool:\n",
    "    mp = dict()\n",
    "    rev_mp = dict()\n",
    "    \n",
    "    for e, f in zip(s, t):\n",
    "        \n",
    "        if e in mp:\n",
    "            if (mp[e] != f):\n",
    "                return False\n",
    "            \n",
    "        else:\n",
    "            if f in rev_mp:\n",
    "                return False\n",
    "            else:\n",
    "                mp[e] = f\n",
    "                rev_mp[f] = e\n",
    "            \n",
    "    return True\n",
    "\n",
    "s = \"badc\"\n",
    "t = \"baba\"\n",
    "is_isomorphic(s, t)"
   ]
  },
  {
   "cell_type": "code",
   "execution_count": null,
   "metadata": {},
   "outputs": [],
   "source": []
  }
 ],
 "metadata": {
  "kernelspec": {
   "display_name": "Python 3",
   "language": "python",
   "name": "python3"
  },
  "language_info": {
   "codemirror_mode": {
    "name": "ipython",
    "version": 3
   },
   "file_extension": ".py",
   "mimetype": "text/x-python",
   "name": "python",
   "nbconvert_exporter": "python",
   "pygments_lexer": "ipython3",
   "version": "3.11.5"
  }
 },
 "nbformat": 4,
 "nbformat_minor": 2
}
