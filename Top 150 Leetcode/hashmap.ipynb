{
 "cells": [
  {
   "cell_type": "code",
   "execution_count": 1,
   "metadata": {},
   "outputs": [
    {
     "data": {
      "text/plain": [
       "True"
      ]
     },
     "execution_count": 1,
     "metadata": {},
     "output_type": "execute_result"
    }
   ],
   "source": [
    "# 383. Ransom Note\n",
    "# Easy\n",
    "\n",
    "def can_construct(ransom_note: str, magazine: str) -> bool:\n",
    "    mp = {}\n",
    "    for e in magazine:\n",
    "        if e in mp:\n",
    "            mp[e] += 1\n",
    "        else:\n",
    "            mp[e] = 1\n",
    "    \n",
    "    for e in ransom_note:\n",
    "        if e in mp:\n",
    "            mp[e] -= 1\n",
    "            \n",
    "            if (mp[e] == 0):\n",
    "                mp.pop(e)\n",
    "                \n",
    "        else:\n",
    "            return False\n",
    "    \n",
    "    return True\n",
    "\n",
    "ransomNote = \"aax\"\n",
    "magazine = \"aabhxx\"\n",
    "\n",
    "can_construct(ransomNote, magazine)"
   ]
  },
  {
   "cell_type": "code",
   "execution_count": 2,
   "metadata": {},
   "outputs": [
    {
     "data": {
      "text/plain": [
       "False"
      ]
     },
     "execution_count": 2,
     "metadata": {},
     "output_type": "execute_result"
    }
   ],
   "source": [
    "# 205. Isomorphic Strings\n",
    "# Easy\n",
    "\n",
    "def is_isomorphic(s: str, t: str) -> bool:\n",
    "    mp = dict()\n",
    "    rev_mp = dict()\n",
    "    \n",
    "    for e, f in zip(s, t):\n",
    "        \n",
    "        if e in mp:\n",
    "            if (mp[e] != f):\n",
    "                return False\n",
    "            \n",
    "        else:\n",
    "            if f in rev_mp:\n",
    "                return False\n",
    "            else:\n",
    "                mp[e] = f\n",
    "                rev_mp[f] = e\n",
    "            \n",
    "    return True\n",
    "\n",
    "s = \"badc\"\n",
    "t = \"baba\"\n",
    "is_isomorphic(s, t)"
   ]
  },
  {
   "cell_type": "code",
   "execution_count": 4,
   "metadata": {},
   "outputs": [
    {
     "data": {
      "text/plain": [
       "False"
      ]
     },
     "execution_count": 4,
     "metadata": {},
     "output_type": "execute_result"
    }
   ],
   "source": [
    "# 290. Word Pattern\n",
    "# Easy\n",
    "\n",
    "def word_pattern(pattern: str, s: str) -> bool:\n",
    "    lst_s = s.split(' ')\n",
    "    n = len(lst_s)\n",
    "    \n",
    "    if (n != len(pattern)):\n",
    "        return False\n",
    "    \n",
    "    mp = dict()\n",
    "    rev_mp = dict()\n",
    "    for e, f in zip(pattern, lst_s):\n",
    "        if e in mp:\n",
    "            if (mp[e] != f):\n",
    "                return False\n",
    "        else:\n",
    "            if f in rev_mp:\n",
    "                return False\n",
    "            else:\n",
    "                mp[e] = f\n",
    "                rev_mp[f] = e\n",
    "            \n",
    "    return True\n",
    "\n",
    "\n",
    "pattern = \"abba\"\n",
    "s = \"dog dog dog dog\"\n",
    "\n",
    "word_pattern(pattern, s)"
   ]
  },
  {
   "cell_type": "code",
   "execution_count": 8,
   "metadata": {},
   "outputs": [
    {
     "data": {
      "text/plain": [
       "True"
      ]
     },
     "execution_count": 8,
     "metadata": {},
     "output_type": "execute_result"
    }
   ],
   "source": [
    "# 242. Valid Anagram\n",
    "# Easy\n",
    "\n",
    "def is_anagram(s: str, t: str) -> bool:\n",
    "    if (len(s) != len(t)):\n",
    "        return False\n",
    "    \n",
    "    mp = {}\n",
    "    for e in s:\n",
    "        if e in mp:\n",
    "            mp[e] += 1\n",
    "        else:\n",
    "            mp[e] = 1\n",
    "    \n",
    "    for e in t:\n",
    "        if e in mp:\n",
    "            mp[e] -= 1\n",
    "            if (mp[e] == 0):\n",
    "                mp.pop(e)\n",
    "        else:\n",
    "            return False\n",
    "        \n",
    "    return True\n",
    "\n",
    "s = \"anagram\"\n",
    "t = \"nagaram\"\n",
    "\n",
    "is_anagram(s, t)"
   ]
  },
  {
   "cell_type": "code",
   "execution_count": null,
   "metadata": {},
   "outputs": [
    {
     "data": {
      "text/plain": [
       "[['eat', 'tea', 'ate'], ['tan', 'nat'], ['bat']]"
      ]
     },
     "execution_count": 16,
     "metadata": {},
     "output_type": "execute_result"
    }
   ],
   "source": [
    "# 49. Group Anagrams\n",
    "# Medium\n",
    "# T.C: O(n * (klogk))\n",
    "\n",
    "def group_anagrams(strs: list[str]) -> list[list[str]]:\n",
    "    # initializing a dict\n",
    "    anagrams_map = dict()\n",
    "    \n",
    "    for s in strs:\n",
    "        sorted_str = \"\".join(sorted(s))\n",
    "        \n",
    "        if sorted_str not in anagrams_map:\n",
    "            anagrams_map[sorted_str] = []\n",
    "        \n",
    "        anagrams_map[sorted_str].append(s)\n",
    "    \n",
    "    return list(anagrams_map.values())\n",
    "\n",
    "\n",
    "strs = [\"eat\",\"tea\",\"tan\",\"ate\",\"nat\",\"bat\"]\n",
    "group_anagrams(strs)"
   ]
  },
  {
   "cell_type": "code",
   "execution_count": 19,
   "metadata": {},
   "outputs": [
    {
     "data": {
      "text/plain": [
       "[['eat', 'tea', 'ate'], ['tan', 'nat'], ['bat']]"
      ]
     },
     "execution_count": 19,
     "metadata": {},
     "output_type": "execute_result"
    }
   ],
   "source": [
    "# 49. Group Anagrams\n",
    "# Medium\n",
    "\n",
    "def group_anagrams(strs: list[str]) -> list[list[str]]:\n",
    "    # initializing a dict\n",
    "    anagrams_map = dict()\n",
    "    \n",
    "    for s in strs:\n",
    "        # initialize frequency array for 26 letters (a-z)\n",
    "        freq = [0] * 26\n",
    "        \n",
    "        for ch in s:\n",
    "            freq[ord(ch) - ord('a')] += 1\n",
    "        \n",
    "        # create a unique hash string based on freq array\n",
    "        hash_str = \"#\".join(map(str, freq))\n",
    "        \n",
    "        if hash_str not in anagrams_map:\n",
    "            anagrams_map[hash_str] = []\n",
    "        \n",
    "        anagrams_map[hash_str].append(s)\n",
    "    \n",
    "    return list(anagrams_map.values())\n",
    "\n",
    "\n",
    "strs = [\"eat\",\"tea\",\"tan\",\"ate\",\"nat\",\"bat\"]\n",
    "group_anagrams(strs)"
   ]
  },
  {
   "cell_type": "code",
   "execution_count": null,
   "metadata": {},
   "outputs": [],
   "source": []
  }
 ],
 "metadata": {
  "kernelspec": {
   "display_name": "Python 3",
   "language": "python",
   "name": "python3"
  },
  "language_info": {
   "codemirror_mode": {
    "name": "ipython",
    "version": 3
   },
   "file_extension": ".py",
   "mimetype": "text/x-python",
   "name": "python",
   "nbconvert_exporter": "python",
   "pygments_lexer": "ipython3",
   "version": "3.11.5"
  }
 },
 "nbformat": 4,
 "nbformat_minor": 2
}
