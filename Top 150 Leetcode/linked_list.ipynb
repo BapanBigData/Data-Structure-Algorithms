{
 "cells": [
  {
   "cell_type": "code",
   "execution_count": 1,
   "metadata": {},
   "outputs": [],
   "source": [
    "\n",
    "class ListNode:\n",
    "    def __init__(self, val):\n",
    "        self.val = val\n",
    "        self.next = None"
   ]
  },
  {
   "cell_type": "code",
   "execution_count": 2,
   "metadata": {},
   "outputs": [],
   "source": [
    "# print the list\n",
    "\n",
    "def print_list(head: ListNode):\n",
    "    curr = head\n",
    "    while curr.next:\n",
    "        print(curr.val, end='->')\n",
    "        curr = curr.next\n",
    "        \n",
    "    print(curr.val)  \n",
    "    print()\n",
    "    \n",
    "    return"
   ]
  },
  {
   "cell_type": "code",
   "execution_count": 3,
   "metadata": {},
   "outputs": [],
   "source": [
    "# 141. Linked List Cycle\n",
    "# Easy\n",
    "\n",
    "def has_cycle(head: ListNode) -> bool:\n",
    "    slow, fast = head, head\n",
    "    while slow and fast and fast.next:\n",
    "        slow = slow.next\n",
    "        fast = fast.next.next\n",
    "        \n",
    "        if (slow == fast):\n",
    "            return True\n",
    "    \n",
    "    return False"
   ]
  },
  {
   "cell_type": "code",
   "execution_count": 4,
   "metadata": {},
   "outputs": [
    {
     "name": "stdout",
     "output_type": "stream",
     "text": [
      "7->0->8\n",
      "\n"
     ]
    }
   ],
   "source": [
    "# 2. Add Two Numbers\n",
    "# Medium\n",
    "\n",
    "def add_two_numbers(l1: ListNode, l2: ListNode) -> ListNode:\n",
    "    h1, h2 = l1, l2\n",
    "    res = ListNode(-1)\n",
    "    curr = res\n",
    "    carry = 0\n",
    "    \n",
    "    while h1 or h2:\n",
    "        s = carry\n",
    "        \n",
    "        if h1:\n",
    "            s += h1.val\n",
    "        \n",
    "        if h2:\n",
    "            s += h2.val\n",
    "        \n",
    "        temp = ListNode(s % 10)\n",
    "        carry = s // 10\n",
    "        \n",
    "        curr.next = temp\n",
    "        curr = curr.next\n",
    "        \n",
    "        if h1:\n",
    "            h1 = h1.next\n",
    "        \n",
    "        if h2:\n",
    "            h2 = h2.next\n",
    "    \n",
    "    if carry:\n",
    "        curr.next = ListNode(carry)\n",
    "    \n",
    "    head = res.next\n",
    "    res.next = None\n",
    "    \n",
    "    return head\n",
    "\n",
    "\n",
    "# build two list\n",
    "l1 = ListNode(2)\n",
    "l1.next = ListNode(4)\n",
    "l1.next.next = ListNode(3)\n",
    "\n",
    "l2 = ListNode(5)\n",
    "l2.next = ListNode(6)\n",
    "l2.next.next = ListNode(4)\n",
    "\n",
    "h = add_two_numbers(l1, l2)\n",
    "print_list(h)"
   ]
  },
  {
   "cell_type": "code",
   "execution_count": 5,
   "metadata": {},
   "outputs": [
    {
     "name": "stdout",
     "output_type": "stream",
     "text": [
      "1->1->2->3->4->4\n",
      "\n"
     ]
    }
   ],
   "source": [
    "# 21. Merge Two Sorted Lists\n",
    "# Easy\n",
    "\n",
    "def merge_two_lists(list1: ListNode, list2: ListNode) -> ListNode:\n",
    "    h1, h2 = list1, list2\n",
    "    res = ListNode(-1)\n",
    "    curr = res\n",
    "    \n",
    "    while h1 and h2:\n",
    "        if h1.val <= h2.val:\n",
    "            temp = ListNode(h1.val)\n",
    "            curr.next = temp\n",
    "            curr = curr.next\n",
    "            h1 = h1.next\n",
    "        else:\n",
    "            temp = ListNode(h2.val)\n",
    "            curr.next = temp\n",
    "            curr = curr.next\n",
    "            h2 = h2.next\n",
    "    \n",
    "    while h1:\n",
    "        temp = ListNode(h1.val)\n",
    "        curr.next = temp\n",
    "        curr = curr.next\n",
    "        h1 = h1.next\n",
    "    \n",
    "    while h2:\n",
    "        temp = ListNode(h2.val)\n",
    "        curr.next = temp\n",
    "        curr = curr.next\n",
    "        h2 = h2.next\n",
    "    \n",
    "    head = res.next\n",
    "    res.next = None\n",
    "    \n",
    "    return head\n",
    "\n",
    "\n",
    "# build two lists\n",
    "l1 = ListNode(1)\n",
    "l1.next = ListNode(2)\n",
    "l1.next.next = ListNode(4)\n",
    "\n",
    "l2 = ListNode(1)\n",
    "l2.next = ListNode(3)\n",
    "l2.next.next = ListNode(4)\n",
    "\n",
    "h = merge_two_lists(l1, l2)\n",
    "print_list(h)"
   ]
  },
  {
   "cell_type": "code",
   "execution_count": 6,
   "metadata": {},
   "outputs": [],
   "source": [
    "# 138. Copy List with Random Pointer\n",
    "# Medium\n",
    "\n",
    "class Node:\n",
    "    def __init__(self, x: int, next: 'Node' = None, random: 'Node' = None):\n",
    "        self.val = int(x)\n",
    "        self.next = next\n",
    "        self.random = random\n",
    "\n",
    "\n",
    "def copy_random_list(head: Node) -> Node:\n",
    "    mpp = {}\n",
    "    \n",
    "    curr = head\n",
    "    while curr:\n",
    "        temp = Node(curr.val)\n",
    "        mpp[curr] = temp\n",
    "        curr = curr.next\n",
    "    \n",
    "    curr = head\n",
    "    while curr:\n",
    "        copy_node = mpp[curr]\n",
    "        copy_node.next = None if not curr.next else mpp[curr.next]\n",
    "        copy_node.random = None if not curr.random else mpp[curr.random]\n",
    "        curr = curr.next\n",
    "    \n",
    "    return None if not head else mpp[head]\n",
    "\n"
   ]
  },
  {
   "cell_type": "code",
   "execution_count": 7,
   "metadata": {},
   "outputs": [
    {
     "name": "stdout",
     "output_type": "stream",
     "text": [
      "1->5->0->2->9\n",
      "\n",
      "9->2->0->5->1\n",
      "\n"
     ]
    }
   ],
   "source": [
    "# reverse a linked list\n",
    "\n",
    "def reverse_list(head: ListNode) -> ListNode:\n",
    "    prev = None\n",
    "    curr = head\n",
    "    while curr:\n",
    "        nxt = curr.next\n",
    "        curr.next = prev\n",
    "        prev = curr\n",
    "        curr = nxt\n",
    "    return prev\n",
    "\n",
    "\n",
    "# build the list\n",
    "head = ListNode(1)\n",
    "head.next = ListNode(5)\n",
    "head.next.next = ListNode(0)\n",
    "head.next.next.next = ListNode(2)\n",
    "head.next.next.next.next = ListNode(9)\n",
    "\n",
    "print_list(head)\n",
    "\n",
    "head = reverse_list(head)\n",
    "print_list(head)"
   ]
  },
  {
   "cell_type": "code",
   "execution_count": 8,
   "metadata": {},
   "outputs": [
    {
     "name": "stdout",
     "output_type": "stream",
     "text": [
      "1->5->0->2->9\n",
      "\n",
      "1->2->0->5->9\n",
      "\n"
     ]
    }
   ],
   "source": [
    "# 92. Reverse Linked List II\n",
    "# Medium\n",
    "\n",
    "def reverse_between(head: ListNode, left: int, right: int) -> ListNode:\n",
    "    # edge case\n",
    "    if (left == right):\n",
    "        return head\n",
    "    \n",
    "    prev = None\n",
    "    curr = head\n",
    "    cnt = 1\n",
    "    \n",
    "    while (cnt != left):\n",
    "        prev = curr\n",
    "        curr = curr.next\n",
    "        cnt += 1\n",
    "    \n",
    "    start, end = curr, curr\n",
    "    while (cnt != right):\n",
    "        end = end.next\n",
    "        cnt += 1\n",
    "    \n",
    "    rest = end.next\n",
    "    end.next = None\n",
    "    \n",
    "    rev_head = reverse_list(start)\n",
    "    \n",
    "    start.next = rest\n",
    "    \n",
    "    if (left != 1):\n",
    "        prev.next = rev_head\n",
    "        return head\n",
    "    else:\n",
    "        return rev_head\n",
    "    \n",
    "\n",
    "# build the list\n",
    "head = ListNode(1)\n",
    "head.next = ListNode(5)\n",
    "head.next.next = ListNode(0)\n",
    "head.next.next.next = ListNode(2)\n",
    "head.next.next.next.next = ListNode(9)\n",
    "\n",
    "print_list(head)\n",
    "\n",
    "head = reverse_between(head, left=2, right=4)\n",
    "print_list(head)"
   ]
  },
  {
   "cell_type": "code",
   "execution_count": 16,
   "metadata": {},
   "outputs": [
    {
     "name": "stdout",
     "output_type": "stream",
     "text": [
      "1->5->0->2->9\n",
      "\n",
      "0->5->1->2->9\n",
      "\n"
     ]
    }
   ],
   "source": [
    "# 25. Reverse Nodes in k-Group\n",
    "# Hard\n",
    "\n",
    "def has_k_nodes(curr: ListNode, k: int) -> bool:\n",
    "    cnt = 0\n",
    "    while curr and (cnt < k):\n",
    "        curr = curr.next\n",
    "        cnt += 1\n",
    "        \n",
    "    return cnt == k\n",
    "\n",
    "def reverse_k_group(head: ListNode, k: int) -> ListNode:\n",
    "    # base cases\n",
    "    if not head or not head.next:\n",
    "        return head\n",
    "    \n",
    "    if not has_k_nodes(head, k):\n",
    "        return head\n",
    "    \n",
    "    prev = None\n",
    "    curr = head\n",
    "    cnt = 0\n",
    "    \n",
    "    while curr and (cnt < k):\n",
    "        nxt = curr.next\n",
    "        curr.next = prev\n",
    "        prev = curr\n",
    "        curr = nxt\n",
    "        cnt += 1\n",
    "    \n",
    "    if curr:\n",
    "        rest_head = reverse_k_group(curr, k)\n",
    "        head.next = rest_head\n",
    "        \n",
    "    return prev\n",
    "\n",
    "\n",
    "# build the list\n",
    "head = ListNode(1)\n",
    "head.next = ListNode(5)\n",
    "head.next.next = ListNode(0)\n",
    "head.next.next.next = ListNode(2)\n",
    "head.next.next.next.next = ListNode(9)\n",
    "\n",
    "print_list(head)\n",
    "\n",
    "head = reverse_k_group(head, k=3)\n",
    "print_list(head)"
   ]
  },
  {
   "cell_type": "code",
   "execution_count": 11,
   "metadata": {},
   "outputs": [
    {
     "data": {
      "text/plain": [
       "False"
      ]
     },
     "execution_count": 11,
     "metadata": {},
     "output_type": "execute_result"
    }
   ],
   "source": [
    "3 < 3"
   ]
  }
 ],
 "metadata": {
  "kernelspec": {
   "display_name": "Python 3",
   "language": "python",
   "name": "python3"
  },
  "language_info": {
   "codemirror_mode": {
    "name": "ipython",
    "version": 3
   },
   "file_extension": ".py",
   "mimetype": "text/x-python",
   "name": "python",
   "nbconvert_exporter": "python",
   "pygments_lexer": "ipython3",
   "version": "3.11.5"
  }
 },
 "nbformat": 4,
 "nbformat_minor": 2
}
