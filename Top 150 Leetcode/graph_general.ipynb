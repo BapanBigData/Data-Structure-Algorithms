{
 "cells": [
  {
   "cell_type": "code",
   "execution_count": 64,
   "metadata": {},
   "outputs": [],
   "source": [
    "from collections import deque"
   ]
  },
  {
   "cell_type": "code",
   "execution_count": 65,
   "metadata": {},
   "outputs": [
    {
     "data": {
      "text/plain": [
       "1"
      ]
     },
     "execution_count": 65,
     "metadata": {},
     "output_type": "execute_result"
    }
   ],
   "source": [
    "# 200. Number of Islands\n",
    "# Medium\n",
    "# bfs traversal\n",
    "\n",
    "def num_islands(grid: list[list]) -> int:\n",
    "    m, n = len(grid), len(grid[0])\n",
    "    visited = [[False]*n for _ in range(m)]\n",
    "    \n",
    "    def valid(i, j):\n",
    "        return (0 <= i < m) and (0 <= j < n) and (grid[i][j] == '1')\n",
    "    \n",
    "    def bfs_traversal(u, v):\n",
    "        # initialize a queue\n",
    "        queue = deque()\n",
    "        queue.append((u, v))\n",
    "        \n",
    "        visited[u][v] = True\n",
    "        \n",
    "        while queue:\n",
    "            i, j = queue.popleft()\n",
    "            \n",
    "            # define the neighbors\n",
    "            neighbors = [(i, j+1), (i, j-1), (i+1, j), (i-1, j)]\n",
    "            \n",
    "            for neighbor in neighbors:\n",
    "                u, v = neighbor\n",
    "                \n",
    "                if valid(u, v) and not visited[u][v]:\n",
    "                    queue.append((u, v))\n",
    "                    visited[u][v] = True\n",
    "        return\n",
    "    \n",
    "    cnt = 0\n",
    "    for i in range(m):\n",
    "        for j in range(n):\n",
    "            if not visited[i][j] and (grid[i][j] == '1'):\n",
    "                bfs_traversal(i, j)\n",
    "                cnt += 1\n",
    "    return cnt\n",
    "\n",
    "\n",
    "grid = [\n",
    "    [\"1\",\"1\",\"1\",\"1\",\"0\"],\n",
    "    [\"1\",\"1\",\"0\",\"1\",\"0\"],\n",
    "    [\"1\",\"1\",\"0\",\"0\",\"0\"],\n",
    "    [\"0\",\"0\",\"0\",\"0\",\"0\"]\n",
    "]\n",
    "\n",
    "num_islands(grid)"
   ]
  },
  {
   "cell_type": "code",
   "execution_count": 66,
   "metadata": {},
   "outputs": [
    {
     "data": {
      "text/plain": [
       "1"
      ]
     },
     "execution_count": 66,
     "metadata": {},
     "output_type": "execute_result"
    }
   ],
   "source": [
    "# 200. Number of Islands\n",
    "# Medium\n",
    "# dfs traversal\n",
    "\n",
    "def num_islands(grid: list[list]) -> int:\n",
    "    m, n = len(grid), len(grid[0])\n",
    "    visited = [[False]*n for _ in range(m)]\n",
    "    \n",
    "    # define the neighbors (direction to move)\n",
    "    directions = [(0, 1), (0, -1), (1, 0), (-1, 0)]\n",
    "    \n",
    "    def valid(i, j):\n",
    "        return (0 <= i < m) and (0 <= j < n) and (grid[i][j] == '1')\n",
    "    \n",
    "    def dfs_traversal(u, v):\n",
    "        # mark the (u, v) true\n",
    "        visited[u][v] = True\n",
    "        #print(u, v)\n",
    "        \n",
    "        for d in directions:\n",
    "            delta_u = u + d[0]\n",
    "            delta_v = v + d[1]\n",
    "            \n",
    "            if valid(delta_u, delta_v) and not visited[delta_u][delta_v]:\n",
    "                dfs_traversal(delta_u, delta_v)\n",
    "                \n",
    "        return\n",
    "    \n",
    "    cnt = 0\n",
    "    for i in range(m):\n",
    "        for j in range(n):\n",
    "            if not visited[i][j] and (grid[i][j] == '1'):\n",
    "                dfs_traversal(i, j)\n",
    "                cnt += 1\n",
    "    return cnt\n",
    "\n",
    "grid = [\n",
    "    [\"1\",\"1\",\"1\"],\n",
    "    [\"0\",\"1\",\"0\"],\n",
    "    [\"1\",\"1\",\"1\"]\n",
    "]\n",
    "\n",
    "num_islands(grid)"
   ]
  },
  {
   "cell_type": "code",
   "execution_count": 67,
   "metadata": {},
   "outputs": [
    {
     "data": {
      "text/plain": [
       "[['O', 'O', 'O'], ['O', 'O', 'O'], ['O', 'O', 'O']]"
      ]
     },
     "execution_count": 67,
     "metadata": {},
     "output_type": "execute_result"
    }
   ],
   "source": [
    "# 130. Surrounded Regions\n",
    "# Medium\n",
    "\n",
    "def surrounded_regions(board: list[list[str]]) -> None:\n",
    "    m, n = len(board), len(board[0])\n",
    "    visited = [[False]*n for _ in range(m)]\n",
    "    \n",
    "    # directions to move\n",
    "    directions = [(0, 1), (0, -1), (1, 0), (-1, 0)]\n",
    "    \n",
    "    def valid(i, j):\n",
    "        return (0 <= i < m) and (0 <= j < n) and (board[i][j] == 'O')\n",
    "    \n",
    "    def dfs(u, v):\n",
    "        visited[u][v] = True\n",
    "        \n",
    "        for d in directions:\n",
    "            delta_u = u + d[0]\n",
    "            delta_v = v + d[1]\n",
    "            \n",
    "            if valid(delta_u, delta_v) and not visited[delta_u][delta_v]:\n",
    "                dfs(delta_u, delta_v)\n",
    "        return\n",
    "    \n",
    "    \n",
    "    def bfs(u, v):\n",
    "        # let's take a queue\n",
    "        queue = deque()\n",
    "        queue.append((u, v))\n",
    "        \n",
    "        visited[u][v] = True\n",
    "        \n",
    "        while queue:\n",
    "            u, v = queue.popleft()\n",
    "            \n",
    "            for d in directions:\n",
    "                delta_u = u + d[0]\n",
    "                delta_v = v + d[1]\n",
    "                \n",
    "                if valid(delta_u, delta_v) and not visited[delta_u][delta_v]:\n",
    "                    queue.append((delta_u, delta_v))\n",
    "                    visited[delta_u][delta_v] = True\n",
    "        return\n",
    "    \n",
    "    # let's do the boundary traversal\n",
    "    for i in range(m):\n",
    "        if not visited[i][0] and (board[i][0] == 'O'):\n",
    "            bfs(i, 0)\n",
    "        \n",
    "        if not visited[i][n-1] and (board[i][n-1] == 'O'):\n",
    "            bfs(i, n-1)\n",
    "    \n",
    "    for j in range(n):\n",
    "        if not visited[0][j] and (board[0][j] == 'O'):\n",
    "            bfs(0, j)\n",
    "        \n",
    "        if not visited[m-1][j] and (board[m-1][j] == 'O'):\n",
    "            bfs(m-1, j)\n",
    "    \n",
    "    # now, just replace 'O' to 'X'\n",
    "    for i in range(m):\n",
    "        for j in range(n):\n",
    "            if not visited[i][j] and (board[i][j] == 'O'):\n",
    "                board[i][j] = 'X'\n",
    "    return\n",
    "\n",
    "board = [[\"O\",\"O\",\"O\"],[\"O\",\"O\",\"O\"],[\"O\",\"O\",\"O\"]]\n",
    "surrounded_regions(board)\n",
    "\n",
    "board"
   ]
  },
  {
   "cell_type": "code",
   "execution_count": 68,
   "metadata": {},
   "outputs": [],
   "source": [
    "# 133. Clone Graph\n",
    "# Medium\n",
    "# Given a reference of a node in a connected undirected graph.\n",
    "# Return a deep copy (clone) of the graph.\n",
    "\n",
    "\n",
    "class Node:\n",
    "    def __init__(self, val = 0, neighbors = None):\n",
    "        self.val = val\n",
    "        self.neighbors = neighbors if neighbors is not None else []\n",
    "\n",
    "def clone_graph(node: Node) -> Node:\n",
    "    if not node:\n",
    "        return None\n",
    "    \n",
    "    node_to_node = {}\n",
    "    visited = set()\n",
    "    \n",
    "    def dfs(node):\n",
    "        node_to_node[node] = Node(node.val)\n",
    "        visited.add(node)\n",
    "        \n",
    "        for neighbor in node.neighbors:\n",
    "            if neighbor not in visited:\n",
    "                dfs(neighbor)\n",
    "        return\n",
    "    \n",
    "    dfs(node)\n",
    "    \n",
    "    for old_node, new_node in node_to_node.items():\n",
    "        for neighbor in old_node.neighbors:\n",
    "            new_neighbor = node_to_node[neighbor]\n",
    "            new_node.neighbors.append(new_neighbor)\n",
    "            \n",
    "    return node_to_node[node]"
   ]
  },
  {
   "cell_type": "code",
   "execution_count": 69,
   "metadata": {},
   "outputs": [],
   "source": [
    "from collections import defaultdict, deque"
   ]
  },
  {
   "cell_type": "code",
   "execution_count": 70,
   "metadata": {},
   "outputs": [
    {
     "data": {
      "text/plain": [
       "[360.0, 0.008333333333333333, 20.0, 1.0, -1.0, -1.0, 30.0]"
      ]
     },
     "execution_count": 70,
     "metadata": {},
     "output_type": "execute_result"
    }
   ],
   "source": [
    "# **399. Evaluate Division**\n",
    "# Medium\n",
    "\n",
    "def build_graph(equations: list[list[str]], values: list[float]) -> defaultdict:\n",
    "    graph = defaultdict(dict)\n",
    "    \n",
    "    for (numerator, denom), val in zip(equations, values):\n",
    "        graph[numerator][denom] = val\n",
    "        graph[denom][numerator] = 1. / val\n",
    "        \n",
    "    return graph\n",
    "\n",
    "\n",
    "def calc_equation(equations: list[list[str]], values: list[float], queries: list[list[str]]) -> list[float]:\n",
    "    graph = build_graph(equations, values)\n",
    "    \n",
    "    def dfs(src, dest, visited):\n",
    "        if src not in graph or dest not in graph:\n",
    "            return -1.0\n",
    "        \n",
    "        if (src == dest):\n",
    "            return 1.0\n",
    "        \n",
    "        if dest in graph[src]:\n",
    "            return graph[src][dest]\n",
    "        \n",
    "        visited.add(src)\n",
    "        \n",
    "        for neighbor in graph[src]:\n",
    "            if neighbor not in visited:\n",
    "                val = dfs(neighbor, dest, visited)\n",
    "                \n",
    "                if (val != -1.0):\n",
    "                    return val * graph[src][neighbor]\n",
    "                \n",
    "        return -1.0\n",
    "    \n",
    "    def bfs(src, dest, visited):\n",
    "        if src not in graph or dest not in graph:\n",
    "            return -1.0\n",
    "        \n",
    "        if (src == dest):\n",
    "            return 1.0\n",
    "        \n",
    "        if dest in graph[src]:\n",
    "            return graph[src][dest]\n",
    "        \n",
    "        # initialize a queue with the source node and its accumulated product value\n",
    "        queue = deque()\n",
    "        queue.append((src, 1.0))\n",
    "        \n",
    "        visited.add(src)\n",
    "        \n",
    "        while queue:\n",
    "            curr, product = queue.popleft()\n",
    "            \n",
    "            if (curr == dest):\n",
    "                return product\n",
    "            \n",
    "            # traverse the neighbors\n",
    "            for neighbor, val in graph[curr].items():\n",
    "                if neighbor not in visited:\n",
    "                    queue.append((neighbor, val * product))\n",
    "                    visited.add(neighbor)\n",
    "                    \n",
    "        return -1.0\n",
    "    \n",
    "    res = []\n",
    "    for query in queries:\n",
    "        numerator, denom = query\n",
    "        visited = set()\n",
    "        res.append(bfs(numerator, denom, visited))\n",
    "        \n",
    "    return res\n",
    "\n",
    "\n",
    "equations = [[\"x1\",\"x2\"],[\"x2\",\"x3\"],[\"x3\",\"x4\"],[\"x4\",\"x5\"]]\n",
    "values = [3.0,4.0,5.0,6.0]\n",
    "queries = [[\"x1\",\"x5\"],[\"x5\",\"x2\"],[\"x2\",\"x4\"],[\"x2\",\"x2\"],[\"x2\",\"x9\"],[\"x9\",\"x9\"],[\"x3\", \"x5\"]]\n",
    "\n",
    "calc_equation(equations, values, queries)"
   ]
  },
  {
   "cell_type": "code",
   "execution_count": 71,
   "metadata": {},
   "outputs": [],
   "source": [
    "graph = build_graph(equations, values)"
   ]
  },
  {
   "cell_type": "code",
   "execution_count": 72,
   "metadata": {},
   "outputs": [
    {
     "data": {
      "text/plain": [
       "defaultdict(dict,\n",
       "            {'x1': {'x2': 3.0},\n",
       "             'x2': {'x1': 0.3333333333333333, 'x3': 4.0},\n",
       "             'x3': {'x2': 0.25, 'x4': 5.0},\n",
       "             'x4': {'x3': 0.2, 'x5': 6.0},\n",
       "             'x5': {'x4': 0.16666666666666666}})"
      ]
     },
     "execution_count": 72,
     "metadata": {},
     "output_type": "execute_result"
    }
   ],
   "source": [
    "graph"
   ]
  },
  {
   "cell_type": "code",
   "execution_count": 73,
   "metadata": {},
   "outputs": [
    {
     "data": {
      "text/plain": [
       "{'x2': 3.0}"
      ]
     },
     "execution_count": 73,
     "metadata": {},
     "output_type": "execute_result"
    }
   ],
   "source": [
    "graph['x1']"
   ]
  },
  {
   "cell_type": "code",
   "execution_count": 74,
   "metadata": {},
   "outputs": [
    {
     "data": {
      "text/plain": [
       "dict_items([('x2', 0.25), ('x4', 5.0)])"
      ]
     },
     "execution_count": 74,
     "metadata": {},
     "output_type": "execute_result"
    }
   ],
   "source": [
    "graph['x3'].items()"
   ]
  },
  {
   "cell_type": "code",
   "execution_count": 75,
   "metadata": {},
   "outputs": [],
   "source": [
    "\n",
    "class Graph:\n",
    "    \n",
    "    def __init__(self, V):\n",
    "        self.adj = [[] for _ in range(V)]\n",
    "    \n",
    "    def add_edge(self, u, v, undirected=True):\n",
    "        self.adj[u].append(v)\n",
    "        \n",
    "        if undirected:\n",
    "            self.adj[v].append(u)\n",
    "        \n",
    "        return\n",
    "    \n",
    "    def display(self):\n",
    "        for e in self.adj:\n",
    "            print(e)\n",
    "            \n",
    "        return"
   ]
  },
  {
   "cell_type": "code",
   "execution_count": 76,
   "metadata": {},
   "outputs": [
    {
     "name": "stdout",
     "output_type": "stream",
     "text": [
      "0 1 2 4 3 "
     ]
    }
   ],
   "source": [
    "# Topological Sort\n",
    "# Given a DAG\n",
    "\n",
    "def topological_sort_bfs(adj_lst: list[list[int]]) -> None:\n",
    "    V = len(adj_lst)\n",
    "    \n",
    "    # define a indegree array\n",
    "    in_degree = [0] * V\n",
    "    \n",
    "    for v in adj_lst:\n",
    "        for i in v:\n",
    "            in_degree[i] += 1\n",
    "    \n",
    "    # initialize a queue\n",
    "    queue = deque()\n",
    "    \n",
    "    for i, val in enumerate(in_degree):\n",
    "        if (val == 0):\n",
    "            queue.append(i)\n",
    "    \n",
    "    while queue:\n",
    "        u = queue.popleft()\n",
    "        print(u, end=' ')\n",
    "        \n",
    "        for neighbor in adj_lst[u]:\n",
    "            in_degree[neighbor] -= 1\n",
    "            \n",
    "            if (in_degree[neighbor] == 0):\n",
    "                queue.append(neighbor)\n",
    "    \n",
    "    return \n",
    "\n",
    "# let's define a graph\n",
    "V = 5\n",
    "graph = Graph(V)\n",
    "\n",
    "graph.add_edge(0, 2, undirected=False)\n",
    "graph.add_edge(1, 3, undirected=False)\n",
    "graph.add_edge(0, 3, undirected=False)\n",
    "graph.add_edge(1, 4, undirected=False)\n",
    "graph.add_edge(2, 3, undirected=False)\n",
    "\n",
    "topological_sort_bfs(graph.adj)"
   ]
  },
  {
   "cell_type": "code",
   "execution_count": 77,
   "metadata": {},
   "outputs": [
    {
     "data": {
      "text/plain": [
       "False"
      ]
     },
     "execution_count": 77,
     "metadata": {},
     "output_type": "execute_result"
    }
   ],
   "source": [
    "# cycle detection in directed graph\n",
    "\n",
    "def is_cycle(adj_lst: list[list[int]]) -> bool:\n",
    "    V = len(adj_lst)\n",
    "    \n",
    "    # define a indegree array\n",
    "    in_degree = [0] * V\n",
    "    \n",
    "    for v in adj_lst:\n",
    "        for i in v:\n",
    "            in_degree[i] += 1\n",
    "    \n",
    "    # initialize a queue\n",
    "    queue = deque()\n",
    "    \n",
    "    for i, val in enumerate(in_degree):\n",
    "        if (val == 0):\n",
    "            queue.append(i)\n",
    "    \n",
    "    cnt = 0\n",
    "    \n",
    "    while queue:\n",
    "        u = queue.popleft()\n",
    "        \n",
    "        for neighbor in adj_lst[u]:\n",
    "            in_degree[neighbor] -= 1\n",
    "            \n",
    "            if (in_degree[neighbor] == 0):\n",
    "                queue.append(neighbor)\n",
    "        \n",
    "        cnt += 1\n",
    "    \n",
    "    return True if (cnt != V) else False\n",
    "\n",
    "\n",
    "# let's define a graph\n",
    "V = 5\n",
    "graph = Graph(V)\n",
    "\n",
    "graph.add_edge(0, 2, undirected=False)\n",
    "graph.add_edge(1, 3, undirected=False)\n",
    "graph.add_edge(0, 3, undirected=False)\n",
    "graph.add_edge(1, 4, undirected=False)\n",
    "graph.add_edge(2, 3, undirected=False)\n",
    "\n",
    "is_cycle(graph.adj)"
   ]
  },
  {
   "cell_type": "code",
   "execution_count": 83,
   "metadata": {},
   "outputs": [
    {
     "data": {
      "text/plain": [
       "True"
      ]
     },
     "execution_count": 83,
     "metadata": {},
     "output_type": "execute_result"
    }
   ],
   "source": [
    "# let's define a graph\n",
    "V = 9\n",
    "graph = Graph(V)\n",
    "\n",
    "graph.add_edge(0, 1, undirected=False)\n",
    "graph.add_edge(1, 2, undirected=False)\n",
    "graph.add_edge(2, 3, undirected=False)\n",
    "graph.add_edge(3, 4, undirected=False)\n",
    "graph.add_edge(4, 5, undirected=False)\n",
    "graph.add_edge(5, 6, undirected=False)\n",
    "graph.add_edge(6, 7, undirected=False)\n",
    "graph.add_edge(7, 8, undirected=False)\n",
    "graph.add_edge(8, 0, undirected=False)\n",
    "graph.add_edge(5, 2, undirected=False)\n",
    "\n",
    "is_cycle(graph.adj)"
   ]
  },
  {
   "cell_type": "code",
   "execution_count": 78,
   "metadata": {},
   "outputs": [],
   "source": [
    "# 207. Course Schedule\n",
    "# Medium\n",
    "\n",
    "def can_finish(numCourses: int, prerequisites: list[list[int]]) -> bool:\n",
    "    pass\n",
    "\n",
    "numCourses = 2\n",
    "prerequisites = [[1,0]]\n",
    "can_finish(numCourses, prerequisites)"
   ]
  },
  {
   "cell_type": "code",
   "execution_count": 8,
   "metadata": {},
   "outputs": [],
   "source": []
  },
  {
   "cell_type": "code",
   "execution_count": null,
   "metadata": {},
   "outputs": [],
   "source": []
  },
  {
   "cell_type": "code",
   "execution_count": null,
   "metadata": {},
   "outputs": [],
   "source": []
  },
  {
   "cell_type": "code",
   "execution_count": null,
   "metadata": {},
   "outputs": [],
   "source": []
  },
  {
   "cell_type": "code",
   "execution_count": null,
   "metadata": {},
   "outputs": [],
   "source": []
  },
  {
   "cell_type": "code",
   "execution_count": null,
   "metadata": {},
   "outputs": [],
   "source": []
  },
  {
   "cell_type": "code",
   "execution_count": null,
   "metadata": {},
   "outputs": [],
   "source": []
  },
  {
   "cell_type": "code",
   "execution_count": null,
   "metadata": {},
   "outputs": [],
   "source": []
  }
 ],
 "metadata": {
  "kernelspec": {
   "display_name": "Python 3",
   "language": "python",
   "name": "python3"
  },
  "language_info": {
   "codemirror_mode": {
    "name": "ipython",
    "version": 3
   },
   "file_extension": ".py",
   "mimetype": "text/x-python",
   "name": "python",
   "nbconvert_exporter": "python",
   "pygments_lexer": "ipython3",
   "version": "3.11.5"
  }
 },
 "nbformat": 4,
 "nbformat_minor": 2
}
