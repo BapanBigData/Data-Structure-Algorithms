{
 "cells": [
  {
   "cell_type": "code",
   "execution_count": 1,
   "metadata": {},
   "outputs": [
    {
     "name": "stdout",
     "output_type": "stream",
     "text": [
      "0.Hello, World!\n",
      "1.Hello, World!\n",
      "2.Hello, World!\n",
      "3.Hello, World!\n"
     ]
    }
   ],
   "source": [
    "## tail recursion\n",
    "def message():\n",
    "    print(\"0.Hello, World!\")\n",
    "    message_1()\n",
    "\n",
    "def message_1():\n",
    "    print(\"1.Hello, World!\")\n",
    "    message_2()\n",
    "\n",
    "def message_2():\n",
    "    print(\"2.Hello, World!\")\n",
    "    message_3()\n",
    "\n",
    "def message_3():\n",
    "    print(\"3.Hello, World!\")\n",
    "\n",
    "message()\n"
   ]
  },
  {
   "cell_type": "code",
   "execution_count": 2,
   "metadata": {},
   "outputs": [
    {
     "name": "stdout",
     "output_type": "stream",
     "text": [
      "4.Hello, World!\n",
      "3.Hello, World!\n",
      "2.Hello, World!\n",
      "1.Hello, World!\n",
      "0.Hello, World!\n"
     ]
    }
   ],
   "source": [
    "## head recursion   \n",
    "def message():\n",
    "    message1()\n",
    "    print('0.Hello, World!')  \n",
    "\n",
    "def message1():\n",
    "    message2()\n",
    "    print('1.Hello, World!')   \n",
    "\n",
    "def message2():\n",
    "    message3()\n",
    "    print('2.Hello, World!')\n",
    "\n",
    "def message3():\n",
    "    message4()\n",
    "    print('3.Hello, World!')\n",
    "    \n",
    "def message4():\n",
    "    print('4.Hello, World!')\n",
    "\n",
    "message()"
   ]
  },
  {
   "cell_type": "code",
   "execution_count": 6,
   "metadata": {},
   "outputs": [
    {
     "name": "stdout",
     "output_type": "stream",
     "text": [
      "1 2 3 4 5 \n",
      "5 4 3 2 1 "
     ]
    }
   ],
   "source": [
    "## 1, 2, 3, ... n-3, n-2, n-1, n\n",
    "## n, n-1, n-2, ... 3, 2, 1\n",
    "\n",
    "def print_n(n):\n",
    "    if n < 1:\n",
    "        return\n",
    "    \n",
    "    print_n(n-1)\n",
    "    \n",
    "    print(n, end=' ')\n",
    "    \n",
    "def print_n_1(n):\n",
    "    if n < 1:\n",
    "        return\n",
    "    print(n, end=' ')\n",
    "    print_n_1(n-1)\n",
    "\n",
    "print_n(5)\n",
    "print()\n",
    "print_n_1(5)"
   ]
  },
  {
   "cell_type": "code",
   "execution_count": 14,
   "metadata": {},
   "outputs": [
    {
     "data": {
      "text/plain": [
       "144"
      ]
     },
     "execution_count": 14,
     "metadata": {},
     "output_type": "execute_result"
    }
   ],
   "source": [
    "def fib(n):\n",
    "    if n <= 1:\n",
    "        return n\n",
    "    return fib(n-1) + fib(n-2)\n",
    "\n",
    "fib(12)"
   ]
  },
  {
   "cell_type": "code",
   "execution_count": 15,
   "metadata": {},
   "outputs": [
    {
     "name": "stdout",
     "output_type": "stream",
     "text": [
      "10 9 8 7 6 5 4 3 2 1 1 2 3 4 5 6 7 8 9 10 "
     ]
    }
   ],
   "source": [
    "def func_both(n: int):\n",
    "    \n",
    "    if n < 1:\n",
    "        return\n",
    "    \n",
    "    print(n, end=' ')\n",
    "    \n",
    "    func_both(n-1)\n",
    "    \n",
    "    print(n, end=' ')\n",
    "\n",
    "func_both(10)"
   ]
  },
  {
   "cell_type": "code",
   "execution_count": 19,
   "metadata": {},
   "outputs": [
    {
     "data": {
      "text/plain": [
       "[1, 1, 2, 6, 24, 120, 720]"
      ]
     },
     "execution_count": 19,
     "metadata": {},
     "output_type": "execute_result"
    }
   ],
   "source": [
    "## store factorial\n",
    "## 4 -> [1, 1, 2, 6, 24]\n",
    "\n",
    "def factorial(n: int) -> list:\n",
    "    \n",
    "    def solver(n, lst):\n",
    "        if n == 0:\n",
    "            lst.append(1)\n",
    "            return 1\n",
    "        ## n! = n * (n-1)!\n",
    "        small_output = solver(n-1, lst)\n",
    "        lst.append(n * small_output)\n",
    "        return n * small_output\n",
    "    \n",
    "    lst = []\n",
    "    \n",
    "    solver(n, lst)\n",
    "    \n",
    "    return lst\n",
    "\n",
    "factorial(6)"
   ]
  },
  {
   "cell_type": "code",
   "execution_count": 1,
   "metadata": {},
   "outputs": [
    {
     "data": {
      "text/plain": [
       "[0, 1, 1, 2, 3, 5, 8, 13, 21, 34, 55, 89, 144, 233, 377, 610, 987, 1597, 2584]"
      ]
     },
     "execution_count": 1,
     "metadata": {},
     "output_type": "execute_result"
    }
   ],
   "source": [
    "## fibonacci series\n",
    "## 6 -> [0, 1, 1, 2, 3, 5, 8]\n",
    "\n",
    "def fibonacci_series(n: int) -> list:\n",
    "    \n",
    "    def solver(n, memo):\n",
    "        if n <= 1:\n",
    "            memo[n] = n\n",
    "            return n\n",
    "        \n",
    "        small_output = solver(n-1, memo) + solver(n-2, memo)\n",
    "        memo[n] = small_output\n",
    "        \n",
    "        return small_output\n",
    "    \n",
    "    memo = [0] * (n+1)\n",
    "    solver(n, memo)\n",
    "    return memo\n",
    "\n",
    "fibonacci_series(18)"
   ]
  },
  {
   "cell_type": "code",
   "execution_count": 27,
   "metadata": {},
   "outputs": [
    {
     "data": {
      "text/plain": [
       "34"
      ]
     },
     "execution_count": 27,
     "metadata": {},
     "output_type": "execute_result"
    }
   ],
   "source": [
    "## sum of digits\n",
    "## n = 123456\n",
    "## (1+2+3+4+5+6)\n",
    "\n",
    "def sum_of_digits(n: int):\n",
    "    if n < 10:\n",
    "        return n\n",
    "    \n",
    "    return (n % 10) + sum_of_digits(n//10)\n",
    "\n",
    "sum_of_digits(7892031022)"
   ]
  },
  {
   "cell_type": "code",
   "execution_count": 30,
   "metadata": {},
   "outputs": [
    {
     "data": {
      "text/plain": [
       "0"
      ]
     },
     "execution_count": 30,
     "metadata": {},
     "output_type": "execute_result"
    }
   ],
   "source": [
    "def product_of_digits(n: int):\n",
    "    if n < 10:\n",
    "        return n\n",
    "    return (n % 10) * product_of_digits(n//10)\n",
    "\n",
    "product_of_digits(7892031022)"
   ]
  },
  {
   "cell_type": "code",
   "execution_count": 1,
   "metadata": {},
   "outputs": [
    {
     "data": {
      "text/plain": [
       "-2314321"
      ]
     },
     "execution_count": 1,
     "metadata": {},
     "output_type": "execute_result"
    }
   ],
   "source": [
    "## reverse a given digit\n",
    "## n = 1234 -> 4321\n",
    "\n",
    "def reverse_digit(n: int):\n",
    "    sign = 1 if n >= 0 else -1\n",
    "    n = abs(n)\n",
    "    \n",
    "    def solver(n, ans):\n",
    "        if n == 0:\n",
    "            return\n",
    "        \n",
    "        rem = n % 10\n",
    "        ans[0] = ans[0] * 10 + rem\n",
    "        \n",
    "        return solver(n//10, ans)\n",
    "    \n",
    "    ans = [0]\n",
    "    solver(n, ans)\n",
    "    \n",
    "    # Checking for overflow (32-bit integer range)\n",
    "    INT_MAX = 2**31 - 1\n",
    "    INT_MIN = -2**31\n",
    "    \n",
    "    if ans[0] > INT_MAX or ans[0] < INT_MIN:\n",
    "        return 0\n",
    "    \n",
    "    return sign * ans[0] \n",
    "\n",
    "\n",
    "def reverse(x: int) -> int:\n",
    "    ## initialize the reverse integer\n",
    "    rev_num = 0\n",
    "\n",
    "    # Handle negative numbers by keeping track of the sign\n",
    "    sign = 1 if x >= 0 else -1\n",
    "    x = abs(x)\n",
    "\n",
    "    while x != 0:\n",
    "        rem = x % 10\n",
    "        rev_num = rev_num * 10 + rem\n",
    "        x //= 10\n",
    "    \n",
    "    # Checking for overflow (32-bit integer range)\n",
    "    INT_MAX = 2**31 - 1\n",
    "    INT_MIN = -2**31\n",
    "\n",
    "    if rev_num > INT_MAX or rev_num < INT_MIN:\n",
    "        return 0\n",
    "    \n",
    "    return rev_num * sign\n",
    "\n",
    "reverse(-1234132)\n",
    "            "
   ]
  },
  {
   "cell_type": "code",
   "execution_count": 2,
   "metadata": {},
   "outputs": [
    {
     "data": {
      "text/plain": [
       "False"
      ]
     },
     "execution_count": 2,
     "metadata": {},
     "output_type": "execute_result"
    }
   ],
   "source": [
    "## is palindrom\n",
    "## given number is palindrome or not\n",
    "\n",
    "def is_palindrom(n):\n",
    "    if n < 0:\n",
    "        return False\n",
    "    \n",
    "    return n == reverse(n)\n",
    "\n",
    "is_palindrom(-121)"
   ]
  },
  {
   "cell_type": "code",
   "execution_count": 29,
   "metadata": {},
   "outputs": [
    {
     "data": {
      "text/plain": [
       "3"
      ]
     },
     "execution_count": 29,
     "metadata": {},
     "output_type": "execute_result"
    }
   ],
   "source": [
    "## count zeros\n",
    "## n = 10100 -> 3\n",
    "\n",
    "# def count_zeros(n: int):\n",
    "#     def solver(n, cnt):\n",
    "#         if n == 0:\n",
    "#             cnt[0] += 1\n",
    "#             return \n",
    "        \n",
    "#         if n % 10 == 0:\n",
    "#             cnt[0] += 1\n",
    "        \n",
    "#         solver(n//10, cnt)\n",
    "    \n",
    "#     cnt = [0]\n",
    "#     solver(n, cnt)\n",
    "#     return cnt[0]\n",
    "\n",
    "\n",
    "def count_zeros(n: int):\n",
    "    \n",
    "    cnt = 0\n",
    "    \n",
    "    def solver(n: int, cnt):\n",
    "        \n",
    "        if n == 0 :\n",
    "            return cnt\n",
    "        \n",
    "        if n % 10 == 0:\n",
    "            return solver(n//10, cnt+1)\n",
    "        \n",
    "        else:\n",
    "            return solver(n//10, cnt)\n",
    "            \n",
    "    return solver(n, cnt)\n",
    "\n",
    "n = 10100\n",
    "count_zeros(n)"
   ]
  },
  {
   "cell_type": "code",
   "execution_count": 8,
   "metadata": {},
   "outputs": [
    {
     "data": {
      "text/plain": [
       "True"
      ]
     },
     "execution_count": 8,
     "metadata": {},
     "output_type": "execute_result"
    }
   ],
   "source": [
    "## is sorted\n",
    "\n",
    "def is_sorted(arr):\n",
    "    def solver(arr, i):\n",
    "        ## base case\n",
    "        if i == len(arr) - 1:\n",
    "            return True\n",
    "        \n",
    "        if arr[i+1] < arr[i]:\n",
    "            return False\n",
    "        \n",
    "        return solver(arr, i+1)\n",
    "    \n",
    "    return solver(arr, 0)\n",
    "\n",
    "arr = [-1, 5, 9, 14, 17, 20, 25, 31]\n",
    "is_sorted(arr)"
   ]
  },
  {
   "cell_type": "code",
   "execution_count": 17,
   "metadata": {},
   "outputs": [
    {
     "data": {
      "text/plain": [
       "4"
      ]
     },
     "execution_count": 17,
     "metadata": {},
     "output_type": "execute_result"
    }
   ],
   "source": [
    "## linear search\n",
    "\n",
    "def linear_search(arr, x):\n",
    "    def solver(i):\n",
    "        if i == len(arr):\n",
    "            return -1\n",
    "        \n",
    "        if arr[i] == x:\n",
    "            return i\n",
    "        \n",
    "        return solver(i+1)\n",
    "    \n",
    "    return solver(0)\n",
    "\n",
    "arr = [1, 4, 3, 2, 5, 9, 10]\n",
    "x = 5\n",
    "linear_search(arr, x)"
   ]
  },
  {
   "cell_type": "code",
   "execution_count": 15,
   "metadata": {},
   "outputs": [
    {
     "data": {
      "text/plain": [
       "0"
      ]
     },
     "execution_count": 15,
     "metadata": {},
     "output_type": "execute_result"
    }
   ],
   "source": [
    "## binary search\n",
    "\n",
    "def binary_search(arr, x):\n",
    "    def solver(si, ei):\n",
    "        if si > ei:\n",
    "            return -1\n",
    "        \n",
    "        mid = (si + ei) // 2\n",
    "        \n",
    "        if arr[mid] == x:\n",
    "            return mid\n",
    "        \n",
    "        if arr[mid] > x:\n",
    "            return solver(si, mid-1)\n",
    "        else:\n",
    "            return solver(mid+1, ei)\n",
    "    \n",
    "    return solver(0, len(arr)-1)\n",
    "\n",
    "arr = [1, 4, 3, 2, 5, 9, 10]\n",
    "x = 1\n",
    "binary_search(arr, x)"
   ]
  },
  {
   "cell_type": "code",
   "execution_count": 20,
   "metadata": {},
   "outputs": [
    {
     "name": "stdout",
     "output_type": "stream",
     "text": [
      "* * * * \n",
      "* * * \n",
      "* * \n",
      "* \n"
     ]
    }
   ],
   "source": [
    "## patterns\n",
    "## n = 4 \n",
    "## * * * *\n",
    "## * * *\n",
    "## * *\n",
    "## *\n",
    "\n",
    "def pattern_loop(n):\n",
    "    for i in range(n):\n",
    "        for _ in range(i, n):\n",
    "            print(\"*\", end=' ')\n",
    "        print()\n",
    "    return\n",
    "\n",
    "# def pattern(n):\n",
    "#     def sollver(r):\n",
    "#         if r == n:\n",
    "#             return\n",
    "        \n",
    "        \n",
    "\n",
    "pattern_loop(4)"
   ]
  },
  {
   "cell_type": "code",
   "execution_count": 5,
   "metadata": {},
   "outputs": [
    {
     "data": {
      "text/plain": [
       "'xxbxcxvx'"
      ]
     },
     "execution_count": 5,
     "metadata": {},
     "output_type": "execute_result"
    }
   ],
   "source": [
    "## replace 'a' with 'x'\n",
    "## given string\n",
    "\n",
    "def replace_a(s: str) -> str:\n",
    "    \n",
    "    def solver(i, res):\n",
    "        if i == len(s):\n",
    "            return res\n",
    "        \n",
    "        if s[i] == 'a':\n",
    "            res += 'x'\n",
    "            return solver(i+1, res)\n",
    "        else:\n",
    "            res += s[i]\n",
    "            return solver(i+1, res)\n",
    "        \n",
    "    return solver(0, '')\n",
    "\n",
    "s = 'axbacxva'\n",
    "replace_a(s)"
   ]
  },
  {
   "cell_type": "code",
   "execution_count": 3,
   "metadata": {},
   "outputs": [
    {
     "name": "stdout",
     "output_type": "stream",
     "text": [
      "1905245306192\n",
      "1905245402960\n",
      "hello%20world,%20%20how%20are%20you?\n"
     ]
    }
   ],
   "source": [
    "def space_20(ip_string: str):\n",
    "    \n",
    "    def solver(i, res):\n",
    "        if i == len(ip_string):\n",
    "            return res\n",
    "        \n",
    "        if ip_string[i] == ' ':\n",
    "            res += '%20'\n",
    "            return solver(i+1, res)\n",
    "        else:\n",
    "            res += ip_string[i]\n",
    "            return solver(i+1, res)\n",
    "    \n",
    "    return solver(0, '')\n",
    "\n",
    "ip_string = \"hello world,  how are you?\"\n",
    "print(id(ip_string))\n",
    "op = space_20(ip_string) \n",
    "print(id(op))\n",
    "print(op)\n",
    "       "
   ]
  },
  {
   "cell_type": "code",
   "execution_count": 19,
   "metadata": {},
   "outputs": [
    {
     "data": {
      "text/plain": [
       "'3.14i3.14i3.14i3.14i3.14i3.14i'"
      ]
     },
     "execution_count": 19,
     "metadata": {},
     "output_type": "execute_result"
    }
   ],
   "source": [
    "## replace pi with 3.14\n",
    "## ppi -> p3.14\n",
    "\n",
    "def replace_pi(s: str) -> str:\n",
    "    \n",
    "    def solver(i, res):\n",
    "        if i >= len(s):\n",
    "            return res\n",
    "        \n",
    "        if i == len(s)-1:\n",
    "            res += s[i]\n",
    "            return res\n",
    "        \n",
    "        if s[i] == 'p' and s[i+1] == 'i':\n",
    "            res += '3.14'\n",
    "            return solver(i+2, res)\n",
    "        else:\n",
    "            res += s[i]\n",
    "            return solver(i+1, res)\n",
    "    \n",
    "    return solver(0, '')\n",
    "\n",
    "\n",
    "def replace_pi_(s):\n",
    "    if len(s) == 0 or len(s) == 1:\n",
    "        return s\n",
    "    \n",
    "    if s[0] == 'p' and s[1] == 'i':\n",
    "        return '3.14' + replace_pi_(s[2:])\n",
    "    else:\n",
    "        return s[0] + replace_pi_(s[1:])\n",
    "\n",
    "\n",
    "ip = 'piipiipiipiipiipii'\n",
    "replace_pi_(ip)"
   ]
  },
  {
   "cell_type": "code",
   "execution_count": 1,
   "metadata": {},
   "outputs": [
    {
     "data": {
      "text/plain": [
       "'I love apple, apple  and apple love me too'"
      ]
     },
     "execution_count": 1,
     "metadata": {},
     "output_type": "execute_result"
    }
   ],
   "source": [
    "def skip_apple(s: str) -> str:\n",
    "    if len(s) < 5:\n",
    "        return s\n",
    "    \n",
    "    if s.startswith('apple'):\n",
    "        return '' + skip_apple(s[5:])\n",
    "    else:\n",
    "        return s[0] + skip_apple(s[1:])\n",
    "    \n",
    "    \n",
    "def skip_app_not_apple(s: str) -> str:\n",
    "    if len(s) < 3:\n",
    "        return s\n",
    "    \n",
    "    if s.startswith('app') and not s.startswith('apple'):\n",
    "        return '' + skip_app_not_apple(s[3:])\n",
    "    else:\n",
    "        return s[0] + skip_app_not_apple(s[1:])\n",
    "\n",
    "ip = 'I love apple, apple app and apple love me too'\n",
    "skip_app_not_apple(ip)"
   ]
  },
  {
   "cell_type": "code",
   "execution_count": 5,
   "metadata": {},
   "outputs": [
    {
     "name": "stdout",
     "output_type": "stream",
     "text": [
      "11\n",
      "12\n",
      "21\n",
      "22\n"
     ]
    }
   ],
   "source": [
    "## given n, print all n digits numbers form by only 1 and 2\n",
    "## and print them in increasing order\n",
    "\n",
    "def print_all(n):\n",
    "    \n",
    "    def solver(arr, i, n):\n",
    "        \n",
    "        if i == n:\n",
    "            for e in arr:\n",
    "                print(e, end='')\n",
    "            print()\n",
    "            return\n",
    "        ## any index have 2 choice either 1 or 2\n",
    "        arr[i] = 1 ## at i-th index the choice 1 is done\n",
    "        solver(arr, i+1, n)  ## calling it for i+1\n",
    "        \n",
    "        arr[i] = 2 ## at i-th index choice 2 is done\n",
    "        solver(arr, i+1, n) ## calling it for i+1\n",
    "        \n",
    "        ## backtrack\n",
    "        return\n",
    "    \n",
    "    ## to store n digits number\n",
    "    arr = [None] * n\n",
    "    \n",
    "    solver(arr, 0, n)\n",
    "\n",
    "print_all(2)"
   ]
  },
  {
   "cell_type": "code",
   "execution_count": 9,
   "metadata": {},
   "outputs": [
    {
     "name": "stdout",
     "output_type": "stream",
     "text": [
      "5\n"
     ]
    }
   ],
   "source": [
    "## subset string\n",
    "## s = 'ab' -> '', 'a', 'b', 'ab'\n",
    "\n",
    "def subset_string(s: str):\n",
    "    n = len(s)\n",
    "    \n",
    "    def solver(subset, i, n, subsets):\n",
    "        if i == n:\n",
    "            subsets.append(subset)\n",
    "            return\n",
    "    \n",
    "        ## I have two options, either consider the i-th element of the  string\n",
    "        ## or not consider it\n",
    "        \n",
    "        ## considering the i-th element into the subset string\n",
    "        solver(subset + s[i], i+1, n, subsets) ## calling the function with i+1\n",
    "        \n",
    "        ## here I'm not considering the i-th element of the string into the subset string\n",
    "        solver(subset, i+1, n, subsets)  ## calling the function with i+1\n",
    "        \n",
    "        return ## backtrack\n",
    "    \n",
    "    ## initializing the subset string\n",
    "    subset = ''\n",
    "    subsets = []\n",
    "    solver(subset, 0, n, subsets)\n",
    "    \n",
    "    # ## sort the subsets\n",
    "    # print(\"sorting the subsets:\")\n",
    "    # subsets.sort()\n",
    "    \n",
    "    return subsets\n",
    "\n",
    "subseq = subset_string('ABCCCCDCE')\n",
    "cnt = 0\n",
    "for e in subseq:\n",
    "    if e == 'ABC':\n",
    "        cnt += 1    \n",
    "\n",
    "print(cnt)"
   ]
  },
  {
   "cell_type": "code",
   "execution_count": 4,
   "metadata": {},
   "outputs": [
    {
     "data": {
      "text/plain": [
       "False"
      ]
     },
     "execution_count": 4,
     "metadata": {},
     "output_type": "execute_result"
    }
   ],
   "source": [
    "\"abcd\" > \"b\""
   ]
  },
  {
   "cell_type": "code",
   "execution_count": 24,
   "metadata": {},
   "outputs": [
    {
     "data": {
      "text/plain": [
       "[[1, 2, 3], [1, 2], [1, 3], [1], [2, 3], [2], [3], []]"
      ]
     },
     "execution_count": 24,
     "metadata": {},
     "output_type": "execute_result"
    }
   ],
   "source": [
    "## subset array\n",
    "## arr = [1, 2, 3] -> [[], [1], [2], [3], [1, 2], [1, 3], [2, 3], [1, 2, 3]]\n",
    "## same approach as above\n",
    "\n",
    "def subsets_nums(nums):\n",
    "    n = len(nums)\n",
    "    \n",
    "    def solver(subset, i, n, subsets):\n",
    "        if i == n:\n",
    "            subsets.append(subset)\n",
    "            return\n",
    "        \n",
    "        solver(subset + [nums[i]], i+1, n, subsets)\n",
    "        solver(subset, i+1, n, subsets)\n",
    "        \n",
    "        return\n",
    "    \n",
    "    subsets = []\n",
    "    subset = []\n",
    "    solver(subset, 0, n, subsets)\n",
    "    \n",
    "    return subsets\n",
    "\n",
    "nums = [1, 2, 3]\n",
    "subsets_nums(nums)"
   ]
  },
  {
   "cell_type": "code",
   "execution_count": 32,
   "metadata": {},
   "outputs": [
    {
     "data": {
      "text/plain": [
       "[[1, 3, 0],\n",
       " [1, 3],\n",
       " [1, 4, 0, -1],\n",
       " [1, 4, -1],\n",
       " [1, 0, 5, -2],\n",
       " [1, 0, -1, 6, -2],\n",
       " [1, 5, -2],\n",
       " [1, -1, 6, -2],\n",
       " [3, 4, 0, -1, -2],\n",
       " [3, 4, -1, -2],\n",
       " [4, 0],\n",
       " [4],\n",
       " [0, 5, -1],\n",
       " [0, 6, -2],\n",
       " [5, -1],\n",
       " [6, -2]]"
      ]
     },
     "execution_count": 32,
     "metadata": {},
     "output_type": "execute_result"
    }
   ],
   "source": [
    "## subset sum to k\n",
    "## nums = [1, 3, 4, 0, 5] , k=4\n",
    "## subsets sum to k -> [[1, 3], [1, 3, 0], [4], [4, 0]]\n",
    "\n",
    "def subsets_sum_to_k(nums, k):\n",
    "    n = len(nums)\n",
    "    \n",
    "    def solver(subset, k, i, n, subsets):\n",
    "        if i == n:\n",
    "            ## here I got one subset\n",
    "            if k == 0:\n",
    "                subsets.append(subset)\n",
    "                \n",
    "            return\n",
    "        \n",
    "        ## considering the i-th element into the subset\n",
    "        solver(subset+[nums[i]], k-nums[i], i+1, n, subsets)\n",
    "        \n",
    "        ## not considering the i-th element into the subset\n",
    "        solver(subset, k, i+1, n, subsets)\n",
    "        \n",
    "        ## backtrack\n",
    "        return \n",
    "    \n",
    "    subsets = []\n",
    "    solver([], k, 0, n, subsets)\n",
    "    \n",
    "    return subsets\n",
    "\n",
    "nums = [1, 3, 4, 0, 5, -1, 6, -2]; k = 4\n",
    "subsets_sum_to_k(nums, k)    "
   ]
  },
  {
   "cell_type": "code",
   "execution_count": 2,
   "metadata": {},
   "outputs": [
    {
     "name": "stdout",
     "output_type": "stream",
     "text": [
      "140722824255344\n",
      "140722824255344\n"
     ]
    }
   ],
   "source": [
    "flag = False\n",
    "\n",
    "def fn():\n",
    "    return flag\n",
    "\n",
    "op = fn()\n",
    "print(id(flag))\n",
    "print(id(op))"
   ]
  },
  {
   "cell_type": "code",
   "execution_count": 4,
   "metadata": {},
   "outputs": [
    {
     "name": "stdout",
     "output_type": "stream",
     "text": [
      "1570680676912\n",
      "\n",
      "1570672157424\n"
     ]
    }
   ],
   "source": [
    "res = ''\n",
    "res += '('\n",
    "print(id(res))\n",
    "\n",
    "## \n",
    "res = res[:-1]\n",
    "print(res)\n",
    "print(id(res))\n"
   ]
  },
  {
   "cell_type": "code",
   "execution_count": 1,
   "metadata": {},
   "outputs": [
    {
     "name": "stdout",
     "output_type": "stream",
     "text": [
      "\n"
     ]
    }
   ],
   "source": [
    "res = ''\n",
    "res += ''\n",
    "print(res)"
   ]
  },
  {
   "cell_type": "code",
   "execution_count": 3,
   "metadata": {},
   "outputs": [
    {
     "name": "stdout",
     "output_type": "stream",
     "text": [
      "[' ', ' ', ' ', ' ', 'T', 'a', 'a', 'a', 'd', 'd', 'i', 'n', 'n', 'o', 's', 's', 'u', 'y', 'y', 'y']\n"
     ]
    }
   ],
   "source": [
    "s = \"Today is a sunny day\"\n",
    "lst = list(s)\n",
    "lst.sort()\n",
    "print(lst)"
   ]
  },
  {
   "cell_type": "code",
   "execution_count": 1,
   "metadata": {},
   "outputs": [
    {
     "data": {
      "text/plain": [
       "10.884918642936835"
      ]
     },
     "execution_count": 1,
     "metadata": {},
     "output_type": "execute_result"
    }
   ],
   "source": [
    "1.612 ** 5"
   ]
  },
  {
   "cell_type": "code",
   "execution_count": 2,
   "metadata": {},
   "outputs": [
    {
     "data": {
      "text/plain": [
       "[[None, None, None, None, None, None],\n",
       " [None, None, None, None, None, None],\n",
       " [None, None, None, None, None, None],\n",
       " [None, None, None, None, None, None]]"
      ]
     },
     "execution_count": 2,
     "metadata": {},
     "output_type": "execute_result"
    }
   ],
   "source": [
    "n = 4\n",
    "m = 6\n",
    "\n",
    "memo = [[None]*m for _ in range(n)]\n",
    "memo"
   ]
  },
  {
   "cell_type": "code",
   "execution_count": 5,
   "metadata": {},
   "outputs": [
    {
     "data": {
      "text/plain": [
       "23"
      ]
     },
     "execution_count": 5,
     "metadata": {},
     "output_type": "execute_result"
    }
   ],
   "source": [
    "memo = [\n",
    "[6, 19, 23],\n",
    "[0, 15, 21],\n",
    "[0, 0, 9],\n",
    "[0, 0, 0],\n",
    "]\n",
    "\n",
    "memo[0][-1]"
   ]
  },
  {
   "cell_type": "code",
   "execution_count": 1,
   "metadata": {},
   "outputs": [
    {
     "name": "stdout",
     "output_type": "stream",
     "text": [
      "10\n"
     ]
    }
   ],
   "source": [
    "x = 10\n",
    "\n",
    "def f():\n",
    "    x = 5\n",
    "\n",
    "f()\n",
    "print(x)"
   ]
  },
  {
   "cell_type": "code",
   "execution_count": 7,
   "metadata": {},
   "outputs": [
    {
     "data": {
      "text/plain": [
       "{'a': 0, 'c': 2}"
      ]
     },
     "execution_count": 7,
     "metadata": {},
     "output_type": "execute_result"
    }
   ],
   "source": [
    "mp = {}\n",
    "mp.update({'a': 0})\n",
    "v = mp.get('b', -1)\n",
    "\n",
    "mp['c'] = 2\n",
    "mp"
   ]
  },
  {
   "cell_type": "code",
   "execution_count": 4,
   "metadata": {},
   "outputs": [
    {
     "name": "stdout",
     "output_type": "stream",
     "text": [
      "Counter({2: 3, 5: 1})\n"
     ]
    },
    {
     "data": {
      "text/plain": [
       "[(2, 3), (5, 1)]"
      ]
     },
     "execution_count": 4,
     "metadata": {},
     "output_type": "execute_result"
    }
   ],
   "source": [
    "import collections\n",
    "\n",
    "candidates = [2, 5, 2, 2]\n",
    "counter = collections.Counter(candidates)\n",
    "print(counter)\n",
    "counter = [(c, counter[c]) for c in counter]\n",
    "counter\n"
   ]
  },
  {
   "cell_type": "code",
   "execution_count": 1,
   "metadata": {},
   "outputs": [
    {
     "data": {
      "text/plain": [
       "[[3, 5, 9], [3, 5]]"
      ]
     },
     "execution_count": 1,
     "metadata": {},
     "output_type": "execute_result"
    }
   ],
   "source": [
    "lst = [[3, 5, 9]] + [[3, 5]]\n",
    "lst"
   ]
  },
  {
   "cell_type": "code",
   "execution_count": 5,
   "metadata": {},
   "outputs": [
    {
     "data": {
      "text/plain": [
       "{(1, 2, 3)}"
      ]
     },
     "execution_count": 5,
     "metadata": {},
     "output_type": "execute_result"
    }
   ],
   "source": [
    "x = set()\n",
    "y = (1, 2, 3)\n",
    "\n",
    "x.add(y)\n",
    "\n",
    "x"
   ]
  },
  {
   "cell_type": "code",
   "execution_count": 6,
   "metadata": {},
   "outputs": [
    {
     "data": {
      "text/plain": [
       "1"
      ]
     },
     "execution_count": 6,
     "metadata": {},
     "output_type": "execute_result"
    }
   ],
   "source": [
    "perm = [[]]\n",
    "len(perm)"
   ]
  },
  {
   "cell_type": "code",
   "execution_count": 2,
   "metadata": {},
   "outputs": [],
   "source": [
    "from collections import deque"
   ]
  },
  {
   "cell_type": "code",
   "execution_count": 5,
   "metadata": {},
   "outputs": [
    {
     "name": "stdout",
     "output_type": "stream",
     "text": [
      "0\n",
      "1\n",
      "2\n",
      "3\n",
      "4\n",
      "5\n",
      "6\n",
      "7\n",
      "8\n",
      "9\n"
     ]
    }
   ],
   "source": [
    "q = deque()\n",
    "\n",
    "for i in range(10):\n",
    "    q.append(i)\n",
    "\n",
    "while q:\n",
    "    print(q.popleft())"
   ]
  },
  {
   "cell_type": "code",
   "execution_count": 2,
   "metadata": {},
   "outputs": [
    {
     "data": {
      "text/plain": [
       "[[None, None, None, None, None, None, None, None],\n",
       " [None, None, None, None, None, None, None, None],\n",
       " [None, None, None, None, None, None, None, None],\n",
       " [None, None, None, None, None, None, None, None],\n",
       " [None, None, None, None, None, None, None, None]]"
      ]
     },
     "execution_count": 2,
     "metadata": {},
     "output_type": "execute_result"
    }
   ],
   "source": [
    "n = 4; W = 7\n",
    "\n",
    "memo = [[None] * (W+1) for _ in range(n+1)]\n",
    "memo"
   ]
  },
  {
   "cell_type": "code",
   "execution_count": 6,
   "metadata": {},
   "outputs": [
    {
     "data": {
      "text/plain": [
       "[[None, None, None, None, None, None, None, None],\n",
       " [None, None, None, None, None, None, None, None],\n",
       " [None, None, None, None, None, None, None, None],\n",
       " [None, None, None, None, None, None, None, None],\n",
       " [None, None, None, None, None, None, None, None]]"
      ]
     },
     "execution_count": 6,
     "metadata": {},
     "output_type": "execute_result"
    }
   ],
   "source": [
    "dp = [[None]*(W+1) for _ in range(n+1)]\n",
    "dp"
   ]
  },
  {
   "cell_type": "code",
   "execution_count": 2,
   "metadata": {},
   "outputs": [
    {
     "data": {
      "text/plain": [
       "OrderedDict([(0, 20)])"
      ]
     },
     "execution_count": 2,
     "metadata": {},
     "output_type": "execute_result"
    }
   ],
   "source": [
    "from collections import OrderedDict\n",
    "\n",
    "hd_mp = OrderedDict()\n",
    "\n",
    "hd = 0\n",
    "\n",
    "if hd not in hd_mp:\n",
    "    hd_mp[hd] = 20\n",
    "\n",
    "hd_mp"
   ]
  },
  {
   "cell_type": "code",
   "execution_count": 5,
   "metadata": {},
   "outputs": [
    {
     "name": "stdout",
     "output_type": "stream",
     "text": [
      "5 10\n",
      "10 5\n"
     ]
    }
   ],
   "source": [
    "x, y = 5, 10\n",
    "\n",
    "def f(a):\n",
    "    global x, y\n",
    "    \n",
    "    if a == 0:\n",
    "        return\n",
    "    \n",
    "    x += 1\n",
    "    y -= 1\n",
    "    # print(x, y)\n",
    "    \n",
    "    f(a-1)\n",
    "    \n",
    "    return\n",
    "\n",
    "print(x, y)\n",
    "f(5)\n",
    "print(x, y)"
   ]
  },
  {
   "cell_type": "code",
   "execution_count": 6,
   "metadata": {},
   "outputs": [
    {
     "name": "stdout",
     "output_type": "stream",
     "text": [
      "10\n"
     ]
    }
   ],
   "source": [
    "x = 10  # Global variable\n",
    "\n",
    "def use_global():\n",
    "    print(x)  # Accessing global variable\n",
    "\n",
    "use_global()  # Output: 10"
   ]
  },
  {
   "cell_type": "code",
   "execution_count": 7,
   "metadata": {},
   "outputs": [
    {
     "name": "stdout",
     "output_type": "stream",
     "text": [
      "20\n"
     ]
    }
   ],
   "source": [
    "x = 10  # Global variable\n",
    "\n",
    "def modify_global():\n",
    "    global x\n",
    "    x = 20  # Modify global variable\n",
    "\n",
    "modify_global()\n",
    "print(x)  # Output: 20"
   ]
  },
  {
   "cell_type": "code",
   "execution_count": 8,
   "metadata": {},
   "outputs": [
    {
     "name": "stdout",
     "output_type": "stream",
     "text": [
      "20\n",
      "10\n"
     ]
    }
   ],
   "source": [
    "x = 10  # Global variable\n",
    "\n",
    "def try_modify_global():\n",
    "    x = 20  # Local variable, not modifying the global x\n",
    "    print(x)  # Output: 20 (local)\n",
    "\n",
    "try_modify_global()\n",
    "print(x)  # Output: 10 (global unchanged)"
   ]
  },
  {
   "cell_type": "code",
   "execution_count": 1,
   "metadata": {},
   "outputs": [
    {
     "data": {
      "text/plain": [
       "{20: 0, 10: 1, 40: 2, 30: 3, 50: 4}"
      ]
     },
     "execution_count": 1,
     "metadata": {},
     "output_type": "execute_result"
    }
   ],
   "source": [
    "inOrder = [20, 10, 40, 30, 50]\n",
    "\n",
    "mp = {}\n",
    "for i in range(len(inOrder)):\n",
    "    mp[inOrder[i]] = i\n",
    "\n",
    "mp"
   ]
  },
  {
   "cell_type": "code",
   "execution_count": 7,
   "metadata": {},
   "outputs": [
    {
     "data": {
      "text/plain": [
       "1"
      ]
     },
     "execution_count": 7,
     "metadata": {},
     "output_type": "execute_result"
    }
   ],
   "source": [
    "from collections import deque\n",
    "\n",
    "Q = deque()\n",
    "\n",
    "lst = [(1, 1), (2, 5), (3, 9), (5, 0), (6, 1)]\n",
    "\n",
    "for e in lst:\n",
    "    Q.append(e)\n",
    "\n",
    "Q[-1][1]"
   ]
  },
  {
   "cell_type": "code",
   "execution_count": 2,
   "metadata": {},
   "outputs": [
    {
     "name": "stdout",
     "output_type": "stream",
     "text": [
      "no\n"
     ]
    }
   ],
   "source": [
    "lt = None\n",
    "rt = False\n",
    "\n",
    "if lt or rt:\n",
    "    print('yes')\n",
    "else:\n",
    "    print('no')"
   ]
  },
  {
   "cell_type": "code",
   "execution_count": 2,
   "metadata": {},
   "outputs": [
    {
     "data": {
      "text/plain": [
       "[[12, 23, 45], [20, 45, 50], [37, 53, 95]]"
      ]
     },
     "execution_count": 2,
     "metadata": {},
     "output_type": "execute_result"
    }
   ],
   "source": [
    "cuboids = [\n",
    "    [50, 45, 20],\n",
    "    [95, 37, 53],\n",
    "    [45, 23, 12]\n",
    "]\n",
    "\n",
    "for cuboid in cuboids:\n",
    "    cuboid.sort()\n",
    "\n",
    "cuboids.sort(key=lambda x: x[0])\n",
    "\n",
    "cuboids"
   ]
  },
  {
   "cell_type": "code",
   "execution_count": 3,
   "metadata": {},
   "outputs": [
    {
     "name": "stdout",
     "output_type": "stream",
     "text": [
      "[1, 2, 3, 4, 5]\n",
      "[2, 3, 4, 5, 6]\n"
     ]
    }
   ],
   "source": [
    "slices = [1,2,3,4,5,6]\n",
    "\n",
    "k = len(slices)\n",
    "\n",
    "print(slices[:k-1])\n",
    "print(slices[1:])"
   ]
  },
  {
   "cell_type": "code",
   "execution_count": 2,
   "metadata": {},
   "outputs": [
    {
     "data": {
      "text/plain": [
       "27"
      ]
     },
     "execution_count": 2,
     "metadata": {},
     "output_type": "execute_result"
    }
   ],
   "source": [
    "sum([1, 2, 5, 1, 3, 2, 4, 1, 6, 2])"
   ]
  },
  {
   "cell_type": "code",
   "execution_count": 5,
   "metadata": {},
   "outputs": [
    {
     "name": "stdout",
     "output_type": "stream",
     "text": [
      "hoo\n"
     ]
    }
   ],
   "source": [
    "swap = 0\n",
    "\n",
    "if swap:\n",
    "    print('hey')\n",
    "else:\n",
    "    print('hoo')"
   ]
  },
  {
   "cell_type": "code",
   "execution_count": null,
   "metadata": {},
   "outputs": [],
   "source": [
    "## [10, 12, 25, 45, 20, 40, 100, 50]\n",
    "## [10, 12, 25, 45, 20, 40, 100, 50"
   ]
  },
  {
   "cell_type": "code",
   "execution_count": 12,
   "metadata": {},
   "outputs": [
    {
     "name": "stdout",
     "output_type": "stream",
     "text": [
      "[0, 2, 3, 4, 12, 5, 7]\n",
      "[0, 2, 3, 4, 12, 5, 7, 10]\n",
      "0\n",
      "[2, 4, 3, 10, 12, 5, 7]\n",
      "[12, 10]\n",
      "[2, 3]\n",
      "[3, 4, 5, 10, 12, 6, 7]\n",
      "[4, 10, 5, 15, 12, 6, 7]\n"
     ]
    }
   ],
   "source": [
    "## **heapq in python**\n",
    "import heapq\n",
    "\n",
    "pq = [7, 4, 0, 2, 12, 5, 3]\n",
    "\n",
    "heapq.heapify(pq)\n",
    "print(pq)\n",
    "\n",
    "heapq.heappush(pq, 10)\n",
    "print(pq)\n",
    "\n",
    "print(heapq.heappop(pq))\n",
    "print(pq)\n",
    "\n",
    "nlargest = heapq.nlargest(2, pq)\n",
    "print(nlargest)\n",
    "\n",
    "nsmallest = heapq.nsmallest(2, pq)\n",
    "print(nsmallest)\n",
    "\n",
    "heapq.heappushpop(pq, 6)\n",
    "print(pq)\n",
    "\n",
    "heapq.heapreplace(pq, 15)\n",
    "print(pq)"
   ]
  }
 ],
 "metadata": {
  "kernelspec": {
   "display_name": "rai_ai",
   "language": "python",
   "name": "python3"
  },
  "language_info": {
   "codemirror_mode": {
    "name": "ipython",
    "version": 3
   },
   "file_extension": ".py",
   "mimetype": "text/x-python",
   "name": "python",
   "nbconvert_exporter": "python",
   "pygments_lexer": "ipython3",
   "version": "3.11.5"
  },
  "orig_nbformat": 4
 },
 "nbformat": 4,
 "nbformat_minor": 2
}
