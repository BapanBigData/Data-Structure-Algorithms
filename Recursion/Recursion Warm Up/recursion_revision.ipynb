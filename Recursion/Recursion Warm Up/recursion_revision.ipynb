{
 "cells": [
  {
   "cell_type": "code",
   "execution_count": 1,
   "metadata": {},
   "outputs": [
    {
     "name": "stdout",
     "output_type": "stream",
     "text": [
      "1 2 3 4 5 "
     ]
    }
   ],
   "source": [
    "# print num 1 to n, given int n\n",
    "\n",
    "def print_num(n: int):\n",
    "    # base case\n",
    "    if n <= 0 : \n",
    "        return\n",
    "    \n",
    "    print_num(n-1)\n",
    "    print(n, end=' ')\n",
    "    return\n",
    "\n",
    "print_num(5)"
   ]
  },
  {
   "cell_type": "code",
   "execution_count": 12,
   "metadata": {},
   "outputs": [
    {
     "data": {
      "text/plain": [
       "-21"
      ]
     },
     "execution_count": 12,
     "metadata": {},
     "output_type": "execute_result"
    }
   ],
   "source": [
    "# reverse a number using recursion\n",
    "\n",
    "def reverse_num(x: int) -> int:\n",
    "    \n",
    "    sign = 1 if x >= 0 else -1\n",
    "\n",
    "    num = abs(x) \n",
    "\n",
    "    def func(n, rev_n):\n",
    "        # base case\n",
    "        if (n % 10) == n:\n",
    "            return (rev_n * 10) + n\n",
    "        \n",
    "        ld = n % 10\n",
    "        rev_n = (rev_n * 10) + ld\n",
    "        \n",
    "        return func(n // 10, rev_n)\n",
    "\n",
    "    rev_num = func(num, 0)\n",
    "\n",
    "    # Checking for overflow (32-bit integer range)\n",
    "    INT_MAX = 2**31 - 1\n",
    "    INT_MIN = -2**31\n",
    "\n",
    "    if (rev_num > INT_MAX):\n",
    "        return 0\n",
    "\n",
    "    return sign * rev_num\n",
    "\n",
    "x = -120\n",
    "reverse_num(x)"
   ]
  },
  {
   "cell_type": "code",
   "execution_count": 18,
   "metadata": {},
   "outputs": [
    {
     "data": {
      "text/plain": [
       "31"
      ]
     },
     "execution_count": 18,
     "metadata": {},
     "output_type": "execute_result"
    }
   ],
   "source": [
    "# 2169. Count Operations to Obtain Zero\n",
    "\n",
    "def count_operations(num1: int, num2: int) -> int:\n",
    "    \n",
    "    def func(num1, num2):\n",
    "        # base case\n",
    "        if (num1 == 0) or (num2) == 0:\n",
    "            return 0\n",
    "        \n",
    "        if num1 >= num2:\n",
    "            return 1 + func(num1-num2, num2)\n",
    "        else:\n",
    "            return 1 + func(num1, num2 - num1)\n",
    "    \n",
    "    return func(num1, num2)\n",
    "\n",
    "num1 = 113\n",
    "num2 = 1001\n",
    "count_operations(num1, num2)"
   ]
  },
  {
   "cell_type": "code",
   "execution_count": 19,
   "metadata": {},
   "outputs": [
    {
     "data": {
      "text/plain": [
       "21"
      ]
     },
     "execution_count": 19,
     "metadata": {},
     "output_type": "execute_result"
    }
   ],
   "source": [
    "# 1342. Number of Steps to Reduce a Number to Zero\n",
    "\n",
    "def number_of_steps(num: int):\n",
    "    \n",
    "    def func(num, steps):\n",
    "        # base case\n",
    "        if (num == 0):\n",
    "            return steps\n",
    "        \n",
    "        if (num % 2) == 0:\n",
    "            return func(num//2, steps+1)\n",
    "        else:\n",
    "            return func(num-1, steps+1)\n",
    "    \n",
    "    return func(num, 0)\n",
    "\n",
    "number_of_steps(10023)"
   ]
  },
  {
   "cell_type": "code",
   "execution_count": null,
   "metadata": {},
   "outputs": [],
   "source": [
    "# 1752. Check if Array Is Sorted and Rotated\n",
    "\n",
    "def check(nums: list[int]) -> bool:\n",
    "    pass"
   ]
  },
  {
   "cell_type": "code",
   "execution_count": null,
   "metadata": {},
   "outputs": [],
   "source": []
  },
  {
   "cell_type": "code",
   "execution_count": null,
   "metadata": {},
   "outputs": [],
   "source": []
  }
 ],
 "metadata": {
  "kernelspec": {
   "display_name": "Python 3",
   "language": "python",
   "name": "python3"
  },
  "language_info": {
   "codemirror_mode": {
    "name": "ipython",
    "version": 3
   },
   "file_extension": ".py",
   "mimetype": "text/x-python",
   "name": "python",
   "nbconvert_exporter": "python",
   "pygments_lexer": "ipython3",
   "version": "3.11.5"
  }
 },
 "nbformat": 4,
 "nbformat_minor": 2
}
