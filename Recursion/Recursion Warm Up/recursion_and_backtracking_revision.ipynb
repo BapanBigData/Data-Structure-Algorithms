{
 "cells": [
  {
   "cell_type": "code",
   "execution_count": 1,
   "metadata": {},
   "outputs": [
    {
     "name": "stdout",
     "output_type": "stream",
     "text": [
      "1 2 3 4 5 "
     ]
    }
   ],
   "source": [
    "# print 1 to n given n\n",
    "\n",
    "def printf(n):\n",
    "    ## base case\n",
    "    if n == 0:\n",
    "        return \n",
    "    \n",
    "    printf(n-1)\n",
    "    print(n, end=' ')\n",
    "    return\n",
    "\n",
    "printf(5)"
   ]
  },
  {
   "cell_type": "code",
   "execution_count": 2,
   "metadata": {},
   "outputs": [
    {
     "data": {
      "text/plain": [
       "5"
      ]
     },
     "execution_count": 2,
     "metadata": {},
     "output_type": "execute_result"
    }
   ],
   "source": [
    "# fib series\n",
    "\n",
    "def fib_series(n):\n",
    "    # base case\n",
    "    if (n == 1) or (n == 0):\n",
    "        return n\n",
    "    \n",
    "    return fib_series(n-1) + fib_series(n-2)\n",
    "\n",
    "fib_series(5)"
   ]
  },
  {
   "cell_type": "code",
   "execution_count": 3,
   "metadata": {},
   "outputs": [
    {
     "data": {
      "text/plain": [
       "3"
      ]
     },
     "execution_count": 3,
     "metadata": {},
     "output_type": "execute_result"
    }
   ],
   "source": [
    "# binary search\n",
    "\n",
    "def binary_search(nums: list[int], target: int):\n",
    "    \n",
    "    def recursive_func(s, e):\n",
    "        mid = (s + e) // 2\n",
    "        \n",
    "        if nums[mid] == target:\n",
    "            return mid\n",
    "        \n",
    "        if (nums[mid] < target):\n",
    "            return recursive_func(mid+1, e)\n",
    "        else:\n",
    "            return recursive_func(s, mid-1)\n",
    "    \n",
    "    n = len(nums)\n",
    "    s, e = 0, n-1\n",
    "    \n",
    "    return recursive_func(s, e)\n",
    "\n",
    "nums = [1, 2, 5, 6, 8, 12]\n",
    "target = 6\n",
    "binary_search(nums, target)"
   ]
  },
  {
   "cell_type": "code",
   "execution_count": 4,
   "metadata": {},
   "outputs": [
    {
     "data": {
      "text/plain": [
       "13"
      ]
     },
     "execution_count": 4,
     "metadata": {},
     "output_type": "execute_result"
    }
   ],
   "source": [
    "# sum of all digits\n",
    "\n",
    "def sum_of_all_digits(n):\n",
    "    \n",
    "    def recursive_func(num):\n",
    "        # base case\n",
    "        if (num % 10) == num:\n",
    "            return num\n",
    "        \n",
    "        return (num % 10) + recursive_func(num // 10)\n",
    "    \n",
    "    return recursive_func(n)\n",
    "\n",
    "sum_of_all_digits(10345)"
   ]
  },
  {
   "cell_type": "code",
   "execution_count": 5,
   "metadata": {},
   "outputs": [
    {
     "data": {
      "text/plain": [
       "0"
      ]
     },
     "execution_count": 5,
     "metadata": {},
     "output_type": "execute_result"
    }
   ],
   "source": [
    "# product of all digits\n",
    "\n",
    "def product_digits(n):\n",
    "    \n",
    "    def recursive_func(num):\n",
    "        # base case\n",
    "        if (num % 10) == num:\n",
    "            return num\n",
    "        \n",
    "        return (num % 10) * recursive_func(num // 10)\n",
    "    \n",
    "    return recursive_func(n)\n",
    "\n",
    "product_digits(10345)"
   ]
  },
  {
   "cell_type": "code",
   "execution_count": 6,
   "metadata": {},
   "outputs": [
    {
     "data": {
      "text/plain": [
       "54321"
      ]
     },
     "execution_count": 6,
     "metadata": {},
     "output_type": "execute_result"
    }
   ],
   "source": [
    "# reverse the given number\n",
    "\n",
    "def reverse_number(n):\n",
    "    rev_num = [0]\n",
    "    \n",
    "    def recursive_func(num):\n",
    "        # base case\n",
    "        if (num % 10) == num:\n",
    "            rev_num[0] = (rev_num[0] * 10) + num\n",
    "            return \n",
    "        \n",
    "        last_digit = num % 10\n",
    "        rev_num[0] = (rev_num[0] * 10) + last_digit\n",
    "        \n",
    "        recursive_func(num // 10)\n",
    "        \n",
    "        return\n",
    "    \n",
    "    recursive_func(n)\n",
    "    \n",
    "    return rev_num[0]\n",
    "\n",
    "reverse_number(12345)"
   ]
  },
  {
   "cell_type": "code",
   "execution_count": 7,
   "metadata": {},
   "outputs": [
    {
     "data": {
      "text/plain": [
       "12000000105431"
      ]
     },
     "execution_count": 7,
     "metadata": {},
     "output_type": "execute_result"
    }
   ],
   "source": [
    "# reverse the given number (method 2)\n",
    "import math\n",
    "\n",
    "def reverse_number(n):\n",
    "    \n",
    "    def recursive_func(digits, num):\n",
    "        # base case\n",
    "        if (num % 10) == num:\n",
    "            return num\n",
    "        \n",
    "        last_digit = num % 10\n",
    "        \n",
    "        return (last_digit * int(math.pow(10, digits))) + recursive_func(digits-1, num // 10)\n",
    "    \n",
    "    digits = int(math.log10(n)) + 1\n",
    "    \n",
    "    return recursive_func(digits-1, n)\n",
    "\n",
    "reverse_number(13450100000021)"
   ]
  },
  {
   "cell_type": "code",
   "execution_count": 8,
   "metadata": {},
   "outputs": [
    {
     "data": {
      "text/plain": [
       "5"
      ]
     },
     "execution_count": 8,
     "metadata": {},
     "output_type": "execute_result"
    }
   ],
   "source": [
    "# count Zeros in the given number\n",
    "\n",
    "def count_zeros(n):\n",
    "    \n",
    "    def recursive_func(num):\n",
    "        # base case\n",
    "        if (num % 10) == num:\n",
    "            return 0\n",
    "        \n",
    "        last_digit = num % 10\n",
    "        \n",
    "        if (last_digit == 0):\n",
    "            return 1 + recursive_func(num // 10)\n",
    "        else:\n",
    "            return 0 + recursive_func(num // 10)\n",
    "    \n",
    "    return recursive_func(n)\n",
    "\n",
    "count_zeros(123000010)"
   ]
  },
  {
   "cell_type": "code",
   "execution_count": 9,
   "metadata": {},
   "outputs": [
    {
     "data": {
      "text/plain": [
       "4"
      ]
     },
     "execution_count": 9,
     "metadata": {},
     "output_type": "execute_result"
    }
   ],
   "source": [
    "# linear search\n",
    "\n",
    "def linear_search(nums: list[int], target: int):\n",
    "    n = len(nums)\n",
    "    \n",
    "    def recursive_func(i):\n",
    "        # base case\n",
    "        if (i == n):\n",
    "            return -1\n",
    "        \n",
    "        if (nums[i] == target):\n",
    "            return i\n",
    "        else:\n",
    "            return recursive_func(i+1)\n",
    "    \n",
    "    return recursive_func(0)\n",
    "\n",
    "nums = [2, 0, 1, 3, 5, 4]\n",
    "x = 5\n",
    "\n",
    "linear_search(nums, x)"
   ]
  },
  {
   "cell_type": "code",
   "execution_count": 10,
   "metadata": {},
   "outputs": [
    {
     "data": {
      "text/plain": [
       "False"
      ]
     },
     "execution_count": 10,
     "metadata": {},
     "output_type": "execute_result"
    }
   ],
   "source": [
    "# check the given array is sorted or not\n",
    "\n",
    "def is_sorted(nums: list[int]):\n",
    "    n = len(nums)\n",
    "    \n",
    "    def recursive_func(i):\n",
    "        # base case\n",
    "        if (i == n-1) or (i == n):\n",
    "            return True\n",
    "        \n",
    "        if nums[i+1] >= nums[i]:\n",
    "            return recursive_func(i+1)\n",
    "        else:\n",
    "            return False\n",
    "    \n",
    "    return recursive_func(0)\n",
    "\n",
    "nums = [1, 2, 3, 0, 4, 5, 6, 7]\n",
    "is_sorted(nums)"
   ]
  },
  {
   "cell_type": "code",
   "execution_count": 11,
   "metadata": {},
   "outputs": [
    {
     "name": "stdout",
     "output_type": "stream",
     "text": [
      "[1, 0, 3, 2]\n",
      "[1, 0, 3]\n",
      "[1, 0, 2]\n",
      "[1, 0]\n",
      "[1, 3, 2]\n",
      "[1, 3]\n",
      "[1, 2]\n",
      "[1]\n",
      "[0, 3, 2]\n",
      "[0, 3]\n",
      "[0, 2]\n",
      "[0]\n",
      "[3, 2]\n",
      "[3]\n",
      "[2]\n",
      "[]\n"
     ]
    }
   ],
   "source": [
    "# given an array of unique integers print all of its subsets\n",
    "\n",
    "def print_subsets(nums: list[int]):\n",
    "    n = len(nums)\n",
    "    \n",
    "    def recursive_func(i, subset):\n",
    "        # base case\n",
    "        if (i == n):\n",
    "            #print(id(subset))\n",
    "            #print('\\n')\n",
    "            print(subset)\n",
    "            #print('\\n')\n",
    "            return\n",
    "        \n",
    "        # include the curr element\n",
    "        recursive_func(i+1, subset + [nums[i]])\n",
    "        \n",
    "        # exclude the curr element\n",
    "        recursive_func(i+1, subset)\n",
    "        \n",
    "        return\n",
    "    \n",
    "    subset = []\n",
    "    #print(id(subset))\n",
    "    #print('------------------------------')\n",
    "    recursive_func(0, subset)\n",
    "    \n",
    "    return\n",
    "\n",
    "\n",
    "nums = [1, 0, 3, 2]\n",
    "print_subsets(nums)"
   ]
  },
  {
   "cell_type": "code",
   "execution_count": 12,
   "metadata": {},
   "outputs": [
    {
     "name": "stdout",
     "output_type": "stream",
     "text": [
      "[1, 1, 1, 1]\n",
      "[1, 1, 1, 2]\n",
      "[1, 1, 2, 1]\n",
      "[1, 1, 2, 2]\n",
      "[1, 2, 1, 1]\n",
      "[1, 2, 1, 2]\n",
      "[1, 2, 2, 1]\n",
      "[1, 2, 2, 2]\n",
      "[2, 1, 1, 1]\n",
      "[2, 1, 1, 2]\n",
      "[2, 1, 2, 1]\n",
      "[2, 1, 2, 2]\n",
      "[2, 2, 1, 1]\n",
      "[2, 2, 1, 2]\n",
      "[2, 2, 2, 1]\n",
      "[2, 2, 2, 2]\n"
     ]
    }
   ],
   "source": [
    "# given an integer n, print all n digits number formed by 1, 2 in ascending order\n",
    "\n",
    "def print_nums(n: int):\n",
    "    \n",
    "    def recursive_func(i, num):\n",
    "        # base case\n",
    "        if (i == n):\n",
    "            print(num)\n",
    "            return\n",
    "        \n",
    "        recursive_func(i+1, num + [1])\n",
    "        \n",
    "        recursive_func(i+1, num + [2])\n",
    "        \n",
    "        return\n",
    "    \n",
    "    recursive_func(0, [])\n",
    "    return\n",
    "\n",
    "print_nums(4)"
   ]
  },
  {
   "cell_type": "code",
   "execution_count": null,
   "metadata": {},
   "outputs": [],
   "source": []
  }
 ],
 "metadata": {
  "kernelspec": {
   "display_name": "base",
   "language": "python",
   "name": "python3"
  },
  "language_info": {
   "codemirror_mode": {
    "name": "ipython",
    "version": 3
   },
   "file_extension": ".py",
   "mimetype": "text/x-python",
   "name": "python",
   "nbconvert_exporter": "python",
   "pygments_lexer": "ipython3",
   "version": "3.11.4"
  }
 },
 "nbformat": 4,
 "nbformat_minor": 2
}
