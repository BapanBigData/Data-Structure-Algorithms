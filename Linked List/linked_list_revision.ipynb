{
 "cells": [
  {
   "cell_type": "code",
   "execution_count": 1,
   "metadata": {},
   "outputs": [],
   "source": [
    "\n",
    "class Node:\n",
    "    \n",
    "    def __init__(self, val, next=None) -> None:\n",
    "        self.val = val\n",
    "        self.next = next"
   ]
  },
  {
   "cell_type": "code",
   "execution_count": 6,
   "metadata": {},
   "outputs": [
    {
     "name": "stdout",
     "output_type": "stream",
     "text": [
      "1->0->5->3->2\n",
      "\n"
     ]
    }
   ],
   "source": [
    "# print the list\n",
    "\n",
    "def print_list(head: Node):\n",
    "    curr = head\n",
    "    while curr.next:\n",
    "        print(curr.val, end='->')\n",
    "        curr = curr.next\n",
    "        \n",
    "    print(curr.val)  \n",
    "    print()\n",
    "    \n",
    "    return\n",
    "\n",
    "head = Node(1)\n",
    "head.next = Node(0)\n",
    "head.next.next = Node(5)\n",
    "head.next.next.next = Node(3)\n",
    "head.next.next.next.next = Node(2)\n",
    "\n",
    "print_list(head)"
   ]
  },
  {
   "cell_type": "code",
   "execution_count": 7,
   "metadata": {},
   "outputs": [
    {
     "name": "stdout",
     "output_type": "stream",
     "text": [
      "6->1->0->5->3->2\n",
      "\n"
     ]
    }
   ],
   "source": [
    "# insert at the beginning of the list\n",
    "\n",
    "def insert_at_begin(head: None, x):\n",
    "    new_node: Node = Node(x)\n",
    "    \n",
    "    if head is None:\n",
    "        return new_node\n",
    "    \n",
    "    new_node.next = head\n",
    "    head = new_node\n",
    "    \n",
    "    return head\n",
    "\n",
    "h = insert_at_begin(head, 6)\n",
    "print_list(h)"
   ]
  },
  {
   "cell_type": "code",
   "execution_count": 10,
   "metadata": {},
   "outputs": [],
   "source": [
    "# insert at the end\n",
    "\n",
    "def insert_at_end(head: Node, x):\n",
    "    new_node: Node = Node(x)\n",
    "    \n",
    "    if head is None:\n",
    "        return new_node\n",
    "    \n",
    "    curr = head\n",
    "    while curr.next:\n",
    "        curr = curr.next\n",
    "    \n",
    "    curr.next = new_node\n",
    "    return head"
   ]
  },
  {
   "cell_type": "code",
   "execution_count": 8,
   "metadata": {},
   "outputs": [
    {
     "name": "stdout",
     "output_type": "stream",
     "text": [
      "2->3->5->0->1\n",
      "\n"
     ]
    }
   ],
   "source": [
    "# build the list\n",
    "\n",
    "lst = [1, 0, 5, 3, 2]\n",
    "head = None\n",
    "\n",
    "for e in lst:\n",
    "    head = insert_at_begin(head, e)\n",
    "\n",
    "print_list(head)"
   ]
  },
  {
   "cell_type": "code",
   "execution_count": 24,
   "metadata": {},
   "outputs": [
    {
     "name": "stdout",
     "output_type": "stream",
     "text": [
      "1->0->5->3->2->6->7\n",
      "\n"
     ]
    }
   ],
   "source": [
    "# build the list\n",
    "\n",
    "lst = [1, 0, 5, 3, 2, 6, 7]\n",
    "head = None\n",
    "\n",
    "for e in lst:\n",
    "    head = insert_at_end(head, e)\n",
    "\n",
    "print_list(head)"
   ]
  },
  {
   "cell_type": "code",
   "execution_count": 21,
   "metadata": {},
   "outputs": [
    {
     "name": "stdout",
     "output_type": "stream",
     "text": [
      "1->0->5->3->2->6->7\n",
      "\n",
      "7->6->2->3->5->0->1\n",
      "\n"
     ]
    }
   ],
   "source": [
    "# reverse the given list\n",
    "\n",
    "def reverse_list(head: Node):\n",
    "    if (head is None) or (head.next is None):\n",
    "        return head\n",
    "    \n",
    "    prev = None\n",
    "    curr = head\n",
    "    while curr:\n",
    "        nxt = curr.next\n",
    "        curr.next = prev\n",
    "        prev = curr\n",
    "        curr = nxt\n",
    "        \n",
    "    return prev\n",
    "\n",
    "print_list(head)\n",
    "\n",
    "h = reverse_list(head)\n",
    "print_list(h)"
   ]
  },
  {
   "cell_type": "code",
   "execution_count": 31,
   "metadata": {},
   "outputs": [
    {
     "name": "stdout",
     "output_type": "stream",
     "text": [
      "1->0->5->3->2->6->7\n",
      "\n",
      "7->6->2->3->5->0->1\n",
      "\n"
     ]
    }
   ],
   "source": [
    "# reverse list recursive\n",
    "\n",
    "def reverse_list(head: Node):\n",
    "    # base case\n",
    "    if (head is None) or (head.next is None):\n",
    "        return head\n",
    "    \n",
    "    rev_head = reverse_list(head.next)\n",
    "    \n",
    "    ## backtracking (upon backtracking we are fixing the node)\n",
    "    current_fix  = head.next\n",
    "    current_fix.next = head\n",
    "    head.next = None\n",
    "    \n",
    "    return rev_head\n",
    "\n",
    "\n",
    "# build the list\n",
    "\n",
    "lst = [1, 0, 5, 3, 2, 6, 7]\n",
    "head = None\n",
    "\n",
    "for e in lst:\n",
    "    head = insert_at_end(head, e)\n",
    "\n",
    "print_list(head)\n",
    "\n",
    "h = reverse_list(head)\n",
    "print_list(h)"
   ]
  },
  {
   "cell_type": "code",
   "execution_count": null,
   "metadata": {},
   "outputs": [],
   "source": []
  }
 ],
 "metadata": {
  "kernelspec": {
   "display_name": "base",
   "language": "python",
   "name": "python3"
  },
  "language_info": {
   "codemirror_mode": {
    "name": "ipython",
    "version": 3
   },
   "file_extension": ".py",
   "mimetype": "text/x-python",
   "name": "python",
   "nbconvert_exporter": "python",
   "pygments_lexer": "ipython3",
   "version": "3.11.4"
  }
 },
 "nbformat": 4,
 "nbformat_minor": 2
}
