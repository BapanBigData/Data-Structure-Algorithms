{
 "cells": [
  {
   "cell_type": "code",
   "execution_count": 2,
   "metadata": {},
   "outputs": [],
   "source": [
    "import numpy as np\n",
    "import networkx as nx"
   ]
  },
  {
   "cell_type": "code",
   "execution_count": 11,
   "metadata": {},
   "outputs": [
    {
     "data": {
      "text/plain": [
       "'1.26.4'"
      ]
     },
     "execution_count": 11,
     "metadata": {},
     "output_type": "execute_result"
    }
   ],
   "source": [
    "np.__version__"
   ]
  },
  {
   "cell_type": "markdown",
   "metadata": {},
   "source": [
    "You are given an airline network represented as a directed graph, where:\n",
    "\n",
    "* Airports are nodes.\n",
    "* Connections between airports are edges, each with a capacity that represents the maximum number of flights allowed per day.\n",
    "\n",
    "Write a Python program to:\n",
    "\n",
    "1. Represent this airline network as a graph.\n",
    "2. Find the maximum number of flights that can flow between two given airports S (source) and T (target) using the Maximum Flow algorithm."
   ]
  },
  {
   "cell_type": "code",
   "execution_count": null,
   "metadata": {},
   "outputs": [],
   "source": []
  },
  {
   "cell_type": "markdown",
   "metadata": {},
   "source": [
    "**Problem Statement:** You are given a dataset with multiple features. Each feature has a different range, and you are tasked with analyzing how feature scaling (normalization or standardization) affects the calculation of Euclidean distance between two points.\n",
    "\n",
    "Write a Python program to:\n",
    "\n",
    "1. Compute the Euclidean distance between two points in the dataset before scaling.\n",
    "2. Apply Min-Max Scaling to normalize the features and compute the Euclidean distance again after scaling.\n",
    "3. Compare the distances to determine how scaling impacts the contribution of each feature to the overall distance."
   ]
  },
  {
   "cell_type": "code",
   "execution_count": 8,
   "metadata": {},
   "outputs": [
    {
     "data": {
      "text/plain": [
       "(10000, 2)"
      ]
     },
     "execution_count": 8,
     "metadata": {},
     "output_type": "execute_result"
    }
   ],
   "source": [
    "n_samples = 10000\n",
    "\n",
    "np.random.seed(47)\n",
    "\n",
    "x1 = np.random.uniform(1, 15, n_samples)\n",
    "x2 = np.random.uniform(1000, 1000000, n_samples)\n",
    "\n",
    "X = np.stack((x1, x2)).T\n",
    "X.shape"
   ]
  },
  {
   "cell_type": "code",
   "execution_count": 9,
   "metadata": {},
   "outputs": [
    {
     "data": {
      "text/plain": [
       "array([[2.58883861e+00, 5.20563881e+05],\n",
       "       [1.46427633e+01, 8.93599385e+04],\n",
       "       [1.12022849e+01, 3.45293936e+05],\n",
       "       ...,\n",
       "       [2.37016198e+00, 6.32427607e+05],\n",
       "       [4.69456195e+00, 4.12989799e+05],\n",
       "       [2.77847607e+00, 8.13662293e+05]])"
      ]
     },
     "execution_count": 9,
     "metadata": {},
     "output_type": "execute_result"
    }
   ],
   "source": [
    "X"
   ]
  },
  {
   "cell_type": "code",
   "execution_count": 41,
   "metadata": {},
   "outputs": [
    {
     "data": {
      "text/plain": [
       "326414.15088285005"
      ]
     },
     "execution_count": 41,
     "metadata": {},
     "output_type": "execute_result"
    }
   ],
   "source": [
    "# Compute the Euclidean distance between two points in the dataset before scaling.\n",
    "\n",
    "def eucliden_distance(p1, p2):\n",
    "    return np.sqrt(np.sum((p1 - p2) ** 2))\n",
    "\n",
    "p1, p2 = X[0], X[3]\n",
    "eucliden_distance(p1, p2)"
   ]
  },
  {
   "cell_type": "code",
   "execution_count": 18,
   "metadata": {},
   "outputs": [],
   "source": [
    "# min-max scaling (normalization)\n",
    "\n",
    "def min_max_scaling(X):\n",
    "    mn = np.min(X, axis=0)\n",
    "    mx = np.max(X, axis=0)\n",
    "    \n",
    "    return (X - mn) / (mx - mn)"
   ]
  },
  {
   "cell_type": "code",
   "execution_count": 42,
   "metadata": {},
   "outputs": [
    {
     "data": {
      "text/plain": [
       "array([[0.11340026, 0.52004607],\n",
       "       [0.97450455, 0.08836479],\n",
       "       [0.72872479, 0.34458211],\n",
       "       ...,\n",
       "       [0.09777851, 0.63203363],\n",
       "       [0.26382823, 0.41235291],\n",
       "       [0.12694752, 0.81346894]])"
      ]
     },
     "execution_count": 42,
     "metadata": {},
     "output_type": "execute_result"
    }
   ],
   "source": [
    "X_normalized = min_max_scaling(X)\n",
    "X_normalized"
   ]
  },
  {
   "cell_type": "code",
   "execution_count": 43,
   "metadata": {},
   "outputs": [
    {
     "data": {
      "text/plain": [
       "0.404265767830538"
      ]
     },
     "execution_count": 43,
     "metadata": {},
     "output_type": "execute_result"
    }
   ],
   "source": [
    "# euclidean distance after normalization\n",
    "p1, p2 = X_normalized[0], X_normalized[3]\n",
    "eucliden_distance(p1, p2) "
   ]
  },
  {
   "cell_type": "code",
   "execution_count": 23,
   "metadata": {},
   "outputs": [],
   "source": [
    "from sklearn.preprocessing import MinMaxScaler, StandardScaler"
   ]
  },
  {
   "cell_type": "code",
   "execution_count": 44,
   "metadata": {},
   "outputs": [
    {
     "data": {
      "text/plain": [
       "array([[0.11340026, 0.52004607],\n",
       "       [0.97450455, 0.08836479],\n",
       "       [0.72872479, 0.34458211],\n",
       "       ...,\n",
       "       [0.09777851, 0.63203363],\n",
       "       [0.26382823, 0.41235291],\n",
       "       [0.12694752, 0.81346894]])"
      ]
     },
     "execution_count": 44,
     "metadata": {},
     "output_type": "execute_result"
    }
   ],
   "source": [
    "# Apply MinMax Scaling\n",
    "normalizer = MinMaxScaler()\n",
    "X_normalized_ = normalizer.fit_transform(X)\n",
    "X_normalized_"
   ]
  },
  {
   "cell_type": "code",
   "execution_count": 45,
   "metadata": {},
   "outputs": [
    {
     "data": {
      "text/plain": [
       "0.4042657678305381"
      ]
     },
     "execution_count": 45,
     "metadata": {},
     "output_type": "execute_result"
    }
   ],
   "source": [
    "# euclidean distance after normalization\n",
    "p1, p2 = X_normalized_[0], X_normalized_[3]\n",
    "eucliden_distance(p1, p2) "
   ]
  },
  {
   "cell_type": "code",
   "execution_count": 29,
   "metadata": {},
   "outputs": [],
   "source": [
    "# standarized\n",
    "\n",
    "def standarization(X):\n",
    "    mu = np.mean(X, axis=0)\n",
    "    sigma = np.std(X, axis=0)\n",
    "    return (X - mu) / sigma"
   ]
  },
  {
   "cell_type": "code",
   "execution_count": 46,
   "metadata": {},
   "outputs": [
    {
     "data": {
      "text/plain": [
       "array([[-1.33162747,  0.08242733],\n",
       "       [ 1.63407262, -1.41101964],\n",
       "       [ 0.78759087, -0.52460879],\n",
       "       ...,\n",
       "       [-1.38542981,  0.46986012],\n",
       "       [-0.81354361, -0.29014854],\n",
       "       [-1.28496982,  1.09755473]])"
      ]
     },
     "execution_count": 46,
     "metadata": {},
     "output_type": "execute_result"
    }
   ],
   "source": [
    "X_scaled = standarization(X)\n",
    "X_scaled"
   ]
  },
  {
   "cell_type": "code",
   "execution_count": 47,
   "metadata": {},
   "outputs": [
    {
     "data": {
      "text/plain": [
       "1.3964258071096145"
      ]
     },
     "execution_count": 47,
     "metadata": {},
     "output_type": "execute_result"
    }
   ],
   "source": [
    "# get the euclidean distance after scaling the features\n",
    "p1, p2 = X_scaled[0], X_scaled[3]\n",
    "eucliden_distance(p1, p2)"
   ]
  },
  {
   "cell_type": "code",
   "execution_count": 48,
   "metadata": {},
   "outputs": [
    {
     "data": {
      "text/plain": [
       "array([[-1.33162747,  0.08242733],\n",
       "       [ 1.63407262, -1.41101964],\n",
       "       [ 0.78759087, -0.52460879],\n",
       "       ...,\n",
       "       [-1.38542981,  0.46986012],\n",
       "       [-0.81354361, -0.29014854],\n",
       "       [-1.28496982,  1.09755473]])"
      ]
     },
     "execution_count": 48,
     "metadata": {},
     "output_type": "execute_result"
    }
   ],
   "source": [
    "scaler = StandardScaler()\n",
    "X_scaled_ = scaler.fit_transform(X)\n",
    "X_scaled_"
   ]
  },
  {
   "cell_type": "code",
   "execution_count": 49,
   "metadata": {},
   "outputs": [
    {
     "data": {
      "text/plain": [
       "1.3964258071096145"
      ]
     },
     "execution_count": 49,
     "metadata": {},
     "output_type": "execute_result"
    }
   ],
   "source": [
    "# get the euclidean distance after scaling the features\n",
    "p1, p2 = X_scaled_[0], X_scaled_[3]\n",
    "eucliden_distance(p1, p2)"
   ]
  },
  {
   "cell_type": "code",
   "execution_count": 50,
   "metadata": {},
   "outputs": [],
   "source": [
    "\n",
    "def cosine_simillarity(A, B):\n",
    "    A_norm = np.linalg.norm(A)\n",
    "    B_norm = np.linalg.norm(B)\n",
    "    return np.dot(A.T, B) / (A_norm * B_norm)"
   ]
  },
  {
   "cell_type": "code",
   "execution_count": 51,
   "metadata": {},
   "outputs": [
    {
     "data": {
      "text/plain": [
       "0.9999999996743235"
      ]
     },
     "execution_count": 51,
     "metadata": {},
     "output_type": "execute_result"
    }
   ],
   "source": [
    "vec1 = X[0]\n",
    "vec2 = X[3]\n",
    "\n",
    "cosine_simillarity(vec1, vec2)"
   ]
  },
  {
   "cell_type": "code",
   "execution_count": 52,
   "metadata": {},
   "outputs": [
    {
     "data": {
      "text/plain": [
       "0.6575256172122318"
      ]
     },
     "execution_count": 52,
     "metadata": {},
     "output_type": "execute_result"
    }
   ],
   "source": [
    "vec1 = X_normalized[0]\n",
    "vec2 = X_normalized[3]\n",
    "\n",
    "cosine_simillarity(vec1, vec2)"
   ]
  },
  {
   "cell_type": "code",
   "execution_count": 53,
   "metadata": {},
   "outputs": [
    {
     "data": {
      "text/plain": [
       "0.3825178458916634"
      ]
     },
     "execution_count": 53,
     "metadata": {},
     "output_type": "execute_result"
    }
   ],
   "source": [
    "vec1 = X_scaled[0]\n",
    "vec2 = X_scaled[3]\n",
    "\n",
    "cosine_simillarity(vec1, vec2)"
   ]
  },
  {
   "cell_type": "markdown",
   "metadata": {},
   "source": [
    "* can you estimate the slope and equation of the best-fit line using linear regression and how the slope relates to the direction and strength of the linear relationship between variables:"
   ]
  },
  {
   "cell_type": "code",
   "execution_count": 8,
   "metadata": {},
   "outputs": [
    {
     "data": {
      "text/plain": [
       "(0.48797327130595064, 0.23986635652975316)"
      ]
     },
     "execution_count": 8,
     "metadata": {},
     "output_type": "execute_result"
    }
   ],
   "source": [
    "X = np.random.uniform(0, 1, 100) * 1.0\n",
    "Y = 5 * X - 2.2 #+ np.random.normal(2.0, 3.0, 100)\n",
    "\n",
    "X_bar = np.mean(X)\n",
    "y_bar = np.mean(Y)\n",
    "\n",
    "X_bar, y_bar"
   ]
  },
  {
   "cell_type": "code",
   "execution_count": 9,
   "metadata": {},
   "outputs": [
    {
     "data": {
      "text/plain": [
       "5.0"
      ]
     },
     "execution_count": 9,
     "metadata": {},
     "output_type": "execute_result"
    }
   ],
   "source": [
    "m = np.sum((X - X_bar) * (Y - y_bar)) / np.sum((X - X_bar) ** 2)\n",
    "m"
   ]
  },
  {
   "cell_type": "code",
   "execution_count": 10,
   "metadata": {},
   "outputs": [
    {
     "data": {
      "text/plain": [
       "-2.2"
      ]
     },
     "execution_count": 10,
     "metadata": {},
     "output_type": "execute_result"
    }
   ],
   "source": [
    "c = y_bar - (m*X_bar)\n",
    "c"
   ]
  },
  {
   "cell_type": "code",
   "execution_count": null,
   "metadata": {},
   "outputs": [],
   "source": []
  }
 ],
 "metadata": {
  "kernelspec": {
   "display_name": "myenv",
   "language": "python",
   "name": "python3"
  },
  "language_info": {
   "codemirror_mode": {
    "name": "ipython",
    "version": 3
   },
   "file_extension": ".py",
   "mimetype": "text/x-python",
   "name": "python",
   "nbconvert_exporter": "python",
   "pygments_lexer": "ipython3",
   "version": "3.9.0"
  }
 },
 "nbformat": 4,
 "nbformat_minor": 2
}
