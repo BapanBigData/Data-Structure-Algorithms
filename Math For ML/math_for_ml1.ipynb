{
 "cells": [
  {
   "cell_type": "code",
   "execution_count": 129,
   "metadata": {},
   "outputs": [],
   "source": [
    "import math\n",
    "import random\n",
    "import numpy as np\n",
    "from scipy import stats\n",
    "import matplotlib.pyplot as plt\n",
    "import seaborn as sns\n",
    "\n",
    "%matplotlib inline"
   ]
  },
  {
   "cell_type": "markdown",
   "metadata": {},
   "source": [
    "##### **Binomial Distribution**"
   ]
  },
  {
   "cell_type": "code",
   "execution_count": 3,
   "metadata": {},
   "outputs": [],
   "source": [
    "\n",
    "def pmf_binom(n, k, p):\n",
    "    return math.comb(n, k) * (p ** k) * ((1-p) ** (n-k))"
   ]
  },
  {
   "cell_type": "code",
   "execution_count": 4,
   "metadata": {},
   "outputs": [
    {
     "data": {
      "text/plain": [
       "0.205078125"
      ]
     },
     "execution_count": 4,
     "metadata": {},
     "output_type": "execute_result"
    }
   ],
   "source": [
    "n = 10\n",
    "k = 4\n",
    "p = 0.5\n",
    "\n",
    "# exactly 4 heads out of 10 tossed\n",
    "pmf_binom(n, k, p)"
   ]
  },
  {
   "cell_type": "code",
   "execution_count": 5,
   "metadata": {},
   "outputs": [
    {
     "data": {
      "text/plain": [
       "0.2050781249999999"
      ]
     },
     "execution_count": 5,
     "metadata": {},
     "output_type": "execute_result"
    }
   ],
   "source": [
    "stats.binom.pmf(k=k, n=n, p=p)"
   ]
  },
  {
   "cell_type": "code",
   "execution_count": 6,
   "metadata": {},
   "outputs": [
    {
     "data": {
      "text/plain": [
       "0.9892578125"
      ]
     },
     "execution_count": 6,
     "metadata": {},
     "output_type": "execute_result"
    }
   ],
   "source": [
    "# at least 2 heads\n",
    "1 - (pmf_binom(n=n, k=0, p=p) + pmf_binom(n=n, k=1, p=p))"
   ]
  },
  {
   "cell_type": "code",
   "execution_count": 10,
   "metadata": {},
   "outputs": [
    {
     "data": {
      "text/plain": [
       "0.9892578125"
      ]
     },
     "execution_count": 10,
     "metadata": {},
     "output_type": "execute_result"
    }
   ],
   "source": [
    "1 - stats.binom.cdf(n=n, k=1, p=p)"
   ]
  },
  {
   "cell_type": "code",
   "execution_count": 11,
   "metadata": {},
   "outputs": [
    {
     "data": {
      "text/plain": [
       "0.623046875"
      ]
     },
     "execution_count": 11,
     "metadata": {},
     "output_type": "execute_result"
    }
   ],
   "source": [
    "# almost 5 heads\n",
    "stats.binom.cdf(n=n, k=5, p=p)"
   ]
  },
  {
   "cell_type": "markdown",
   "metadata": {},
   "source": [
    "##### **Simulate Binomial Random Variables**"
   ]
  },
  {
   "cell_type": "code",
   "execution_count": 29,
   "metadata": {},
   "outputs": [
    {
     "data": {
      "text/plain": [
       "450.1333333333333"
      ]
     },
     "execution_count": 29,
     "metadata": {},
     "output_type": "execute_result"
    }
   ],
   "source": [
    "\n",
    "# Write a function that simulates the outcome of a binomial random variable for given n (number of trials) and p (probability of success)\n",
    "# Expected Solution: Use a random number generator to simulate n Bernoulli trials and count the number of successes.\n",
    "\n",
    "def simulate_binomial_distn(n, p):\n",
    "    success = 0\n",
    "    for _ in range(n):\n",
    "        if random.random() <= p:\n",
    "            success += 1\n",
    "    return success\n",
    "\n",
    "\n",
    "binom_rvs = []\n",
    "\n",
    "for _ in range(30):\n",
    "    \n",
    "    binom_rvs.append(simulate_binomial_distn(\n",
    "            n=1000,\n",
    "            p=0.45\n",
    "        ))\n",
    "\n",
    "binom_rvs = np.array(binom_rvs)\n",
    "np.mean(binom_rvs)"
   ]
  },
  {
   "cell_type": "code",
   "execution_count": 31,
   "metadata": {},
   "outputs": [
    {
     "data": {
      "text/plain": [
       "452.43333333333334"
      ]
     },
     "execution_count": 31,
     "metadata": {},
     "output_type": "execute_result"
    }
   ],
   "source": [
    "# binomial random variables\n",
    "binom_rvs = stats.binom.rvs(n=1000, p=0.45, size=30)\n",
    "np.mean(binom_rvs)"
   ]
  },
  {
   "cell_type": "code",
   "execution_count": null,
   "metadata": {},
   "outputs": [],
   "source": []
  },
  {
   "cell_type": "markdown",
   "metadata": {},
   "source": [
    "##### **Poisson Distribution**"
   ]
  },
  {
   "cell_type": "code",
   "execution_count": 32,
   "metadata": {},
   "outputs": [
    {
     "data": {
      "text/plain": [
       "0.22404180765538775"
      ]
     },
     "execution_count": 32,
     "metadata": {},
     "output_type": "execute_result"
    }
   ],
   "source": [
    "# probability of observing exactly 2 events\n",
    "\n",
    "lmbda = 3\n",
    "k = 2\n",
    "\n",
    "stats.poisson.pmf(k, lmbda)"
   ]
  },
  {
   "cell_type": "code",
   "execution_count": 42,
   "metadata": {},
   "outputs": [
    {
     "data": {
      "text/plain": [
       "3.05"
      ]
     },
     "execution_count": 42,
     "metadata": {},
     "output_type": "execute_result"
    }
   ],
   "source": [
    "poisson_rvs = stats.poisson.rvs(lmbda, size=100)\n",
    "np.mean(poisson_rvs)"
   ]
  },
  {
   "cell_type": "markdown",
   "metadata": {},
   "source": [
    "##### **Geometric Distribution**"
   ]
  },
  {
   "cell_type": "code",
   "execution_count": 43,
   "metadata": {},
   "outputs": [],
   "source": [
    "\n",
    "def pmf_geometric_distn(p, k):\n",
    "    return ((1-p) ** (k-1)) * p"
   ]
  },
  {
   "cell_type": "code",
   "execution_count": 44,
   "metadata": {},
   "outputs": [
    {
     "data": {
      "text/plain": [
       "0.06697959533607684"
      ]
     },
     "execution_count": 44,
     "metadata": {},
     "output_type": "execute_result"
    }
   ],
   "source": [
    "# probability of getting 6 in the 6-th trial when a fair dice is tossed\n",
    "\n",
    "p = 1 / 6\n",
    "k = 6\n",
    "\n",
    "pmf_geometric_distn(p, k)"
   ]
  },
  {
   "cell_type": "code",
   "execution_count": 45,
   "metadata": {},
   "outputs": [
    {
     "data": {
      "text/plain": [
       "0.06697959533607684"
      ]
     },
     "execution_count": 45,
     "metadata": {},
     "output_type": "execute_result"
    }
   ],
   "source": [
    "stats.geom.pmf(k, p)"
   ]
  },
  {
   "cell_type": "code",
   "execution_count": 55,
   "metadata": {},
   "outputs": [
    {
     "data": {
      "text/plain": [
       "5.77"
      ]
     },
     "execution_count": 55,
     "metadata": {},
     "output_type": "execute_result"
    }
   ],
   "source": [
    "geom_rvs = stats.geom.rvs(p, size=100)\n",
    "np.mean(geom_rvs)"
   ]
  },
  {
   "cell_type": "markdown",
   "metadata": {},
   "source": [
    "##### **Simulate Geometric Distribution**"
   ]
  },
  {
   "cell_type": "code",
   "execution_count": 80,
   "metadata": {},
   "outputs": [
    {
     "data": {
      "text/plain": [
       "5"
      ]
     },
     "execution_count": 80,
     "metadata": {},
     "output_type": "execute_result"
    }
   ],
   "source": [
    "\n",
    "def simulate_geometric_distn(p):\n",
    "    trials = 0\n",
    "    while True:\n",
    "        trials += 1\n",
    "        \n",
    "        if random.random() <= p:\n",
    "            break\n",
    "    return trials\n",
    "\n",
    "# simulate to get the first 6 from rolling a fair die\n",
    "simulate_geometric_distn(\n",
    "    p=1/6\n",
    ")"
   ]
  },
  {
   "cell_type": "code",
   "execution_count": 81,
   "metadata": {},
   "outputs": [
    {
     "data": {
      "text/plain": [
       "5.476666666666667"
      ]
     },
     "execution_count": 81,
     "metadata": {},
     "output_type": "execute_result"
    }
   ],
   "source": [
    "geom_rvs = []\n",
    "for _ in range(300):\n",
    "    geom_rvs.append(simulate_geometric_distn(p=1/6))\n",
    "\n",
    "geom_rvs = np.array(geom_rvs)\n",
    "np.mean(geom_rvs)"
   ]
  },
  {
   "cell_type": "code",
   "execution_count": 124,
   "metadata": {},
   "outputs": [
    {
     "data": {
      "text/plain": [
       "2.01"
      ]
     },
     "execution_count": 124,
     "metadata": {},
     "output_type": "execute_result"
    }
   ],
   "source": [
    "# what is the expected number of coin flip to get a head? show it using simulation.\n",
    "\n",
    "def simulate_geometric_distn(p):\n",
    "    trials = 0\n",
    "    while True:\n",
    "        trials += 1\n",
    "        \n",
    "        if random.random() <= p:\n",
    "            break\n",
    "    return trials\n",
    "\n",
    "def simulate_expected_number_of_coin_flip(n_trials, p=1/2):\n",
    "    total_flips = 0\n",
    "    for _ in range(n_trials):\n",
    "        total_flips += simulate_geometric_distn(p)\n",
    "        \n",
    "    return total_flips / n_trials  \n",
    "\n",
    "simulate_expected_number_of_coin_flip(\n",
    "    n_trials=10000,\n",
    "    p=0.5\n",
    ")"
   ]
  },
  {
   "cell_type": "code",
   "execution_count": null,
   "metadata": {},
   "outputs": [],
   "source": []
  },
  {
   "cell_type": "markdown",
   "metadata": {},
   "source": [
    "##### **Normal Distribution**"
   ]
  },
  {
   "cell_type": "code",
   "execution_count": 133,
   "metadata": {},
   "outputs": [
    {
     "data": {
      "text/plain": [
       "array([51.70184056, 40.21097581, 61.54981298, 52.38871992, 43.21515784,\n",
       "       48.67511253, 48.95091763, 44.00594843, 62.48637568, 47.39425178])"
      ]
     },
     "execution_count": 133,
     "metadata": {},
     "output_type": "execute_result"
    }
   ],
   "source": [
    "# Write a Python function to generate a random sample from a normal distribution.\n",
    "# mu = 50; std = 4\n",
    "\n",
    "normal_rvs = np.random.normal(loc=50, scale=6, size=1000)\n",
    "normal_rvs[:10]"
   ]
  },
  {
   "cell_type": "code",
   "execution_count": 134,
   "metadata": {},
   "outputs": [
    {
     "data": {
      "image/png": "[encoded data removed]",
      "text/plain": [
       "<Figure size 640x480 with 1 Axes>"
      ]
     },
     "metadata": {},
     "output_type": "display_data"
    }
   ],
   "source": [
    "# Plot histogram\n",
    "plt.hist(normal_rvs, bins=20, density=True, alpha=0.7, color='blue', label=\"Histogram\")\n",
    "\n",
    "# Add KDE curve\n",
    "sns.kdeplot(normal_rvs, color='red', label=\"KDE Curve\", linewidth=2)\n",
    "\n",
    "# Add grid\n",
    "plt.grid(True, linestyle='--', alpha=0.6)\n",
    "\n",
    "# Add labels and title\n",
    "plt.title(\"Histogram with KDE Curve\")\n",
    "plt.xlabel(\"Value\")\n",
    "plt.ylabel(\"Density\")\n",
    "plt.legend()  # Add legend to distinguish histogram and KDE\n",
    "plt.show()"
   ]
  },
  {
   "cell_type": "code",
   "execution_count": 136,
   "metadata": {},
   "outputs": [
    {
     "name": "stdout",
     "output_type": "stream",
     "text": [
      "P(70 <= X <= 80): 0.6827\n"
     ]
    }
   ],
   "source": [
    "# How would you calculate the probability that a value falls within a certain range in a normal distribution?\n",
    "# P(70 <= X <= 80); mu=75, std=5\n",
    "\n",
    "mu = 75\n",
    "std = 5\n",
    "\n",
    "p_70 = stats.norm.cdf(70, loc=mu, scale=std)\n",
    "p_80 = stats.norm.cdf(80, loc=mu, scale=std)\n",
    "\n",
    "# Probability that 70 <= X <= 80\n",
    "p_range = p_80 - p_70\n",
    "\n",
    "print(f\"P(70 <= X <= 80): {p_range:.4f}\")"
   ]
  },
  {
   "cell_type": "code",
   "execution_count": 140,
   "metadata": {},
   "outputs": [
    {
     "data": {
      "text/plain": [
       "0.15865525393145707"
      ]
     },
     "execution_count": 140,
     "metadata": {},
     "output_type": "execute_result"
    }
   ],
   "source": [
    "# Suppose the heights of people are normally distributed with a mean of 170 cm and a standard deviation of 10 cm. \n",
    "# What percentage of people are taller than 180 cm?  P (X > 180)\n",
    "\n",
    "mu = 170\n",
    "std = 10\n",
    "\n",
    "# Calculate P(X > 180)\n",
    "prob_taller_180 = 1 - stats.norm.cdf(180, loc=mu, scale=std)\n",
    "prob_taller_180"
   ]
  },
  {
   "cell_type": "code",
   "execution_count": 141,
   "metadata": {},
   "outputs": [
    {
     "data": {
      "text/plain": [
       "0.15865525393145707"
      ]
     },
     "execution_count": 141,
     "metadata": {},
     "output_type": "execute_result"
    }
   ],
   "source": [
    "# A factory produces light bulbs, and their lifespans are normally distributed with 𝜇 = 1200 and σ=200 hours. \n",
    "# What proportion of the bulbs last less than 1000 hours? P(X < 1000)\n",
    "\n",
    "mu = 1200\n",
    "std = 200\n",
    "\n",
    "prob_less_than_1000 = stats.norm.cdf(1000, loc=mu, scale=std)\n",
    "prob_less_than_1000"
   ]
  },
  {
   "cell_type": "code",
   "execution_count": null,
   "metadata": {},
   "outputs": [],
   "source": [
    "# How can you interpret confidence intervals in the context of a normal distribution?\n",
    "# Example: 95% confidence interval for a population mean.\n",
    "\n"
   ]
  }
 ],
 "metadata": {
  "kernelspec": {
   "display_name": "myenv",
   "language": "python",
   "name": "python3"
  },
  "language_info": {
   "codemirror_mode": {
    "name": "ipython",
    "version": 3
   },
   "file_extension": ".py",
   "mimetype": "text/x-python",
   "name": "python",
   "nbconvert_exporter": "python",
   "pygments_lexer": "ipython3",
   "version": "3.9.0"
  }
 },
 "nbformat": 4,
 "nbformat_minor": 2
}
