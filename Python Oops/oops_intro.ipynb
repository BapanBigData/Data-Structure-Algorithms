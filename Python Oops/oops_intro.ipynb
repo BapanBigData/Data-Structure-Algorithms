{
 "cells": [
  {
   "cell_type": "code",
   "execution_count": 4,
   "metadata": {},
   "outputs": [
    {
     "name": "stdout",
     "output_type": "stream",
     "text": [
      "<__main__.Student object at 0x0000018A38867890>\n",
      "<__main__.Student object at 0x0000018A38864C10>\n",
      "1693165451408\n",
      "1693165440016\n"
     ]
    }
   ],
   "source": [
    "class Student:\n",
    "    pass\n",
    "\n",
    "bapan = Student()\n",
    "akash = Student()\n",
    "print(bapan)\n",
    "print(akash)\n",
    "\n",
    "print(id(bapan))\n",
    "print(id(akash))"
   ]
  },
  {
   "cell_type": "code",
   "execution_count": 7,
   "metadata": {},
   "outputs": [
    {
     "name": "stdout",
     "output_type": "stream",
     "text": [
      "140709163823336\n",
      "140709163820232\n"
     ]
    }
   ],
   "source": [
    "## initializing two objects of the `int` class\n",
    "x = 111\n",
    "y = 14\n",
    "\n",
    "print(id(x))\n",
    "print(id(y))"
   ]
  },
  {
   "cell_type": "code",
   "execution_count": 8,
   "metadata": {},
   "outputs": [
    {
     "name": "stdout",
     "output_type": "stream",
     "text": [
      "1693165537392\n",
      "1693165325232\n"
     ]
    }
   ],
   "source": [
    "## initializing two objects of the `str` class\n",
    "a = 'Bapan'\n",
    "b = 'bapan'\n",
    "\n",
    "print(id(a))\n",
    "print(id(b))"
   ]
  },
  {
   "cell_type": "code",
   "execution_count": 14,
   "metadata": {},
   "outputs": [
    {
     "name": "stdout",
     "output_type": "stream",
     "text": [
      "Bapan\n",
      "101\n",
      "10\n"
     ]
    },
    {
     "data": {
      "text/plain": [
       "{}"
      ]
     },
     "execution_count": 14,
     "metadata": {},
     "output_type": "execute_result"
    }
   ],
   "source": [
    "class Student:\n",
    "    name = 'Bapan'\n",
    "    roll_no = 101\n",
    "    standard = 10\n",
    "\n",
    "\n",
    "s1 = Student()\n",
    "print(s1.name)\n",
    "print(s1.roll_no)\n",
    "print(s1.standard)\n",
    "\n",
    "attributes = vars(s1)\n",
    "attributes"
   ]
  },
  {
   "cell_type": "code",
   "execution_count": 12,
   "metadata": {},
   "outputs": [
    {
     "data": {
      "text/plain": [
       "'Purnima'"
      ]
     },
     "execution_count": 12,
     "metadata": {},
     "output_type": "execute_result"
    }
   ],
   "source": [
    "s1.name = 'Purnima'\n",
    "s1.name"
   ]
  },
  {
   "cell_type": "code",
   "execution_count": 13,
   "metadata": {},
   "outputs": [
    {
     "data": {
      "text/plain": [
       "{'name': 'Purnima'}"
      ]
     },
     "execution_count": 13,
     "metadata": {},
     "output_type": "execute_result"
    }
   ],
   "source": [
    "attributes = vars(s1)\n",
    "attributes"
   ]
  },
  {
   "cell_type": "code",
   "execution_count": null,
   "metadata": {},
   "outputs": [],
   "source": []
  },
  {
   "cell_type": "code",
   "execution_count": 27,
   "metadata": {},
   "outputs": [
    {
     "name": "stdout",
     "output_type": "stream",
     "text": [
      "+91-78920XXXXX\n",
      "Bapan Bairagya\n",
      "Minor\n",
      "Bapan Bairagya\n"
     ]
    }
   ],
   "source": [
    "class Person:\n",
    "    NAME = 'Bapan Bairagya'\n",
    "    \n",
    "    def __init__(self, name, age, phone_no, address) -> None:\n",
    "        self.name = name\n",
    "        self.age = age\n",
    "        self.phone_no = phone_no\n",
    "        self.address = address\n",
    "    \n",
    "    def age_group(self):\n",
    "        if (self.age < 18):\n",
    "            print('Minor')\n",
    "        elif (self.age >= 18) and (self.age < 36):\n",
    "            print('Adult')\n",
    "        elif (self.age >= 36) and (self.age < 56):\n",
    "            print('Senior Citizen')\n",
    "        else:\n",
    "            print('older Citizen')    \n",
    "\n",
    "\n",
    "p1 = Person('Bapan', 17, '+91-78920XXXXX', '#421, Jackson Street')\n",
    "print(p1.phone_no)\n",
    "\n",
    "## accessing the class variable\n",
    "print(p1.NAME)\n",
    "\n",
    "p1.age_group()"
   ]
  },
  {
   "cell_type": "code",
   "execution_count": 40,
   "metadata": {},
   "outputs": [
    {
     "name": "stdout",
     "output_type": "stream",
     "text": [
      "KTM with model: 290cc\n",
      "I JUST GOT CALLED WOHOOOOO!!!\n"
     ]
    },
    {
     "data": {
      "text/plain": [
       "225"
      ]
     },
     "execution_count": 40,
     "metadata": {},
     "output_type": "execute_result"
    }
   ],
   "source": [
    "from typing import Any\n",
    "\n",
    "\n",
    "class Bike:\n",
    "    \n",
    "    def __init__(self, name, model, price) -> None:\n",
    "        self.name = name\n",
    "        self.model = model\n",
    "        self.price = price\n",
    "        \n",
    "    def __str__(self) -> str:\n",
    "        return f'{self.name} with model: {self.model}'\n",
    "    \n",
    "    def __add__(self, other):\n",
    "        return self.price + other.price\n",
    "    \n",
    "    def __call__(self, *args: Any, **kwds: Any) -> Any:\n",
    "        return 'I JUST GOT CALLED WOHOOOOO!!!'\n",
    "\n",
    "\n",
    "b1 = Bike('KTM', '290cc', 101)\n",
    "b2 = Bike('KTM', '390cc', 150)\n",
    "b3 = Bike('Yamaha', '250cc', 75)\n",
    "\n",
    "print(b1)\n",
    "\n",
    "print(b1())\n",
    "\n",
    "b1 + b2\n",
    "b1 + b3\n",
    "b2 + b3"
   ]
  },
  {
   "cell_type": "code",
   "execution_count": 41,
   "metadata": {},
   "outputs": [
    {
     "data": {
      "text/plain": [
       "{'name': 'KTM', 'model': '390cc', 'price': 150}"
      ]
     },
     "execution_count": 41,
     "metadata": {},
     "output_type": "execute_result"
    }
   ],
   "source": [
    "vars(b2)"
   ]
  },
  {
   "cell_type": "code",
   "execution_count": 47,
   "metadata": {},
   "outputs": [
    {
     "name": "stdout",
     "output_type": "stream",
     "text": [
      "+91-7892XXXXXX\n",
      "Ankhi\n",
      "July_Adv_2024\n"
     ]
    }
   ],
   "source": [
    "class Student:\n",
    "    batch = 'July_Adv_2024'\n",
    "    \n",
    "    def __init__(self, name, age, phone_no) -> None:\n",
    "        self.name = name\n",
    "        self.age = age\n",
    "        self.phone_no = phone_no\n",
    "\n",
    "s1 = Student('Bapan', 18, '+91-7892XXXXXX')\n",
    "s2 = Student('Ankhi', 22, '+91-1236547890')\n",
    "print(s1.phone_no)\n",
    "print(s2.name)\n",
    "\n",
    "print(s1.batch)"
   ]
  },
  {
   "cell_type": "code",
   "execution_count": 49,
   "metadata": {},
   "outputs": [
    {
     "name": "stdout",
     "output_type": "stream",
     "text": [
      "Vinod\n",
      "July_Adv_2020\n",
      "July_Adv_2024\n",
      "July_Adv_2024\n"
     ]
    }
   ],
   "source": [
    "s1.name = 'Vinod'\n",
    "print(s1.name)\n",
    "\n",
    "s1.batch = 'July_Adv_2020'\n",
    "print(s1.batch)\n",
    "\n",
    "print(s2.batch)\n",
    "\n",
    "print(Student.batch)"
   ]
  },
  {
   "cell_type": "code",
   "execution_count": 50,
   "metadata": {},
   "outputs": [
    {
     "data": {
      "text/plain": [
       "'July_Adv_2022'"
      ]
     },
     "execution_count": 50,
     "metadata": {},
     "output_type": "execute_result"
    }
   ],
   "source": [
    "Student.batch = 'July_Adv_2022'\n",
    "\n",
    "s3 = Student('Amit', 24, '+91-0303000002')\n",
    "s3.batch"
   ]
  },
  {
   "cell_type": "code",
   "execution_count": 1,
   "metadata": {},
   "outputs": [
    {
     "name": "stdout",
     "output_type": "stream",
     "text": [
      "1520.53084433746\n",
      "138.23007675795088\n"
     ]
    }
   ],
   "source": [
    "import math\n",
    "\n",
    "class Circle:\n",
    "    \n",
    "    def __init__(self, radius) -> None:\n",
    "        self.r = radius\n",
    "    \n",
    "    def area(self):\n",
    "        return math.pi * (self.r * self.r)\n",
    "    \n",
    "    def perimeter(self):\n",
    "        return 2 * math.pi * self.r\n",
    "\n",
    "\n",
    "circle = Circle(22)\n",
    "print(circle.area())\n",
    "print(circle.perimeter())"
   ]
  },
  {
   "cell_type": "code",
   "execution_count": 1,
   "metadata": {},
   "outputs": [
    {
     "name": "stdout",
     "output_type": "stream",
     "text": [
      "3\n",
      "5\n",
      "16\n",
      "7\n",
      "9\n"
     ]
    }
   ],
   "source": [
    "## Note: Standard practice is to register the instance variables is in the constructor\n",
    "\n",
    "class Example:\n",
    "    \n",
    "    def __init__(self, a, b) -> None:\n",
    "        self.a = a\n",
    "        self.b = b\n",
    "    \n",
    "    def calculate(self, c, d):\n",
    "        self.c = c\n",
    "        self.d = d\n",
    "        return self.a * self.c + self.b * self.d\n",
    "    \n",
    "    def sum(self):\n",
    "        return self.c + self.d\n",
    "    \n",
    "e1 = Example(3, 5)\n",
    "print(e1.a)\n",
    "print(e1.b)\n",
    "\n",
    "e1.calculate(7, 9)\n",
    "print(e1.sum())\n",
    "\n",
    "print(e1.c)\n",
    "print(e1.d)"
   ]
  },
  {
   "cell_type": "code",
   "execution_count": null,
   "metadata": {},
   "outputs": [],
   "source": []
  },
  {
   "cell_type": "code",
   "execution_count": 2,
   "metadata": {},
   "outputs": [],
   "source": [
    "## Inheritance\n",
    "\n",
    "class Parent:\n",
    "    pass\n",
    "\n",
    "class Child(Parent):\n",
    "    pass"
   ]
  },
  {
   "cell_type": "code",
   "execution_count": 3,
   "metadata": {},
   "outputs": [
    {
     "name": "stdout",
     "output_type": "stream",
     "text": [
      "Cat\n",
      "Tom\n",
      "I'm eating fish Umm Umm...\n",
      "Meowww Meowww Meowww...\n"
     ]
    }
   ],
   "source": [
    "class Animal:\n",
    "    \n",
    "    def __init__(self, species) -> None:\n",
    "        self.species = species\n",
    "    \n",
    "    def eat(self, food):\n",
    "        print(f\"I'm eating {food} Umm Umm...\")\n",
    "\n",
    "\n",
    "class Cat(Animal):\n",
    "    \n",
    "    def __init__(self, name) -> None:\n",
    "        Animal.__init__(self, 'Cat')\n",
    "        self.name = name\n",
    "    \n",
    "    def speak(self):\n",
    "        print('Meowww Meowww Meowww...')\n",
    "\n",
    "\n",
    "c1 = Cat('Tom')\n",
    "print(c1.species)\n",
    "print(c1.name)\n",
    "\n",
    "c1.eat('fish')\n",
    "c1.speak()"
   ]
  },
  {
   "cell_type": "code",
   "execution_count": 11,
   "metadata": {},
   "outputs": [
    {
     "name": "stdout",
     "output_type": "stream",
     "text": [
      "Brand: Toyota & model: SUV\n",
      "Price: $16,000 & type of the car: Manual\n"
     ]
    }
   ],
   "source": [
    "## Single inheritance\n",
    "## Vehicle --> Car\n",
    "\n",
    "class Vehicle:\n",
    "    \n",
    "    def __init__(self, brand, model) -> None:\n",
    "        self.brand = brand\n",
    "        self.model = model\n",
    "    \n",
    "    def displayInfo(self):\n",
    "        print(f\"Brand: {self.brand} & model: {self.model}\")\n",
    "\n",
    "class Car(Vehicle):\n",
    "    \n",
    "    def __init__(self, brand, model, price, car_type) -> None:\n",
    "        super().__init__(brand, model)\n",
    "        self.price = price\n",
    "        self.car_type = car_type\n",
    "    \n",
    "    def carInfo(self):\n",
    "        self.displayInfo()\n",
    "        print(f\"Price: {self.price} & type of the car: {self.car_type}\")\n",
    "\n",
    "\n",
    "c = Car('Toyota', 'SUV', '$16,000', 'Manual')\n",
    "c.carInfo()\n",
    "\n",
    "# c.displayInfo()"
   ]
  },
  {
   "cell_type": "code",
   "execution_count": 13,
   "metadata": {},
   "outputs": [
    {
     "name": "stdout",
     "output_type": "stream",
     "text": [
      "Brand: Toyota & model: SUV\n"
     ]
    }
   ],
   "source": [
    "c.displayInfo()"
   ]
  },
  {
   "cell_type": "code",
   "execution_count": 12,
   "metadata": {},
   "outputs": [
    {
     "name": "stdout",
     "output_type": "stream",
     "text": [
      "Brand: Toyota & model: SUV\n",
      "Price: $16,000 & type of the car: Automatic\n",
      "With battery: Hydrogen-ion\n"
     ]
    }
   ],
   "source": [
    "## multi-level inheritance\n",
    "## Vehicle -> Car -> ElectricCar\n",
    "\n",
    "class ElectricCar(Car):\n",
    "    \n",
    "    def __init__(self, brand, model, price, car_type, battery_type) -> None:\n",
    "        super().__init__(brand, model, price, car_type)\n",
    "        self.battery_type = battery_type\n",
    "    \n",
    "    def configs(self):\n",
    "        self.carInfo()\n",
    "        print(f'With battery: {self.battery_type}')\n",
    "    \n",
    "\n",
    "ec = ElectricCar('Toyota', 'SUV', '$16,000', 'Automatic', 'Hydrogen-ion')\n",
    "ec.configs()\n",
    "\n",
    "# ec.carInfo()"
   ]
  },
  {
   "cell_type": "code",
   "execution_count": 14,
   "metadata": {},
   "outputs": [
    {
     "name": "stdout",
     "output_type": "stream",
     "text": [
      "Brand: Toyota & model: SUV\n",
      "Price: $16,000 & type of the car: Automatic\n"
     ]
    }
   ],
   "source": [
    "ec.carInfo()"
   ]
  },
  {
   "cell_type": "code",
   "execution_count": 16,
   "metadata": {},
   "outputs": [
    {
     "name": "stdout",
     "output_type": "stream",
     "text": [
      "Brand: Tata & model: Prima HCVs\n",
      "Number of wheels: 10 & the capacity: 1000\n"
     ]
    }
   ],
   "source": [
    "## hierarchy inheritance\n",
    "\n",
    "class Truck(Vehicle):\n",
    "    \n",
    "    def __init__(self, brand, model, no_wheels, load_cap) -> None:\n",
    "        super().__init__(brand, model)\n",
    "        self.no_wheels = no_wheels\n",
    "        self.load_cap = load_cap\n",
    "    \n",
    "    def truckInfo(self):\n",
    "        self.displayInfo()\n",
    "        print(f'Number of wheels: {self.no_wheels} & the capacity: {self.load_cap}')\n",
    "\n",
    "truck = Truck('Tata', 'Prima HCVs', 10, 1000)\n",
    "truck.truckInfo()"
   ]
  },
  {
   "cell_type": "code",
   "execution_count": 18,
   "metadata": {},
   "outputs": [
    {
     "name": "stdout",
     "output_type": "stream",
     "text": [
      "name of the person is Alice and the age is 21\n",
      "with student id S123\n",
      "Membership ID: M456\n"
     ]
    },
    {
     "data": {
      "text/plain": [
       "True"
      ]
     },
     "execution_count": 18,
     "metadata": {},
     "output_type": "execute_result"
    }
   ],
   "source": [
    "## hybrid inheritance\n",
    "\n",
    "class Person:\n",
    "    \n",
    "    def __init__(self, name, age) -> None:\n",
    "        self.name = name\n",
    "        self.age = age\n",
    "    \n",
    "    def personInfo(self):\n",
    "        print(f'name of the person is {self.name} and the age is {self.age}')\n",
    "\n",
    "\n",
    "class ClubMember:\n",
    "    \n",
    "    def __init__(self, membership_id) -> None:\n",
    "        self.membership_id = membership_id\n",
    "    \n",
    "    def isMember(self, id):\n",
    "        return self.membership_id == id\n",
    "\n",
    "\n",
    "class Student(Person):\n",
    "    \n",
    "    def __init__(self, name, age, student_id) -> None:\n",
    "        super().__init__(name, age)\n",
    "        self.student_id = student_id\n",
    "    \n",
    "    def studentInfo(self):\n",
    "        self.personInfo()\n",
    "        print(f'with student id {self.student_id}')\n",
    "\n",
    "\n",
    "class Teacher(Person):\n",
    "    \n",
    "    def __init__(self, name, age, experience, dept) -> None:\n",
    "        super().__init__(name, age)\n",
    "        self.experience = experience\n",
    "        self.dept = dept\n",
    "    \n",
    "    def teacherInfo(self):\n",
    "        self.personInfo()\n",
    "        print(f'Department: {self.dept} with years of experience {self.experience}')\n",
    "\n",
    "## Note: super() use MRO\n",
    "\n",
    "class ClubPresident(Student, ClubMember):\n",
    "    \n",
    "    def __init__(self, name, age, student_id, membership_id) -> None:\n",
    "        Student.__init__(self, name, age, student_id)\n",
    "        ClubMember.__init__(self, membership_id)\n",
    "    \n",
    "    def clubPresidentInfo(self):\n",
    "        self.studentInfo()\n",
    "        print(f'Membership ID: {self.membership_id}')\n",
    "\n",
    "\n",
    "president = ClubPresident(\"Alice\", 21, \"S123\", \"M456\")\n",
    "president.clubPresidentInfo()\n",
    "\n",
    "president.isMember('M456')"
   ]
  },
  {
   "cell_type": "code",
   "execution_count": null,
   "metadata": {},
   "outputs": [],
   "source": [
    "## Encapsulation\n",
    "## url to ref. -> `https://chatgpt.com/c/a7fd6b6b-e353-4906-8f04-195c2b3e40e5`\n",
    "## Q. which one is more frequently use private attributes or protected attributes in programming world?"
   ]
  },
  {
   "cell_type": "code",
   "execution_count": 23,
   "metadata": {},
   "outputs": [
    {
     "name": "stdout",
     "output_type": "stream",
     "text": [
      "Bapan\n",
      "23\n",
      "Purnima\n",
      "42\n",
      "Purnima\n",
      "42\n"
     ]
    }
   ],
   "source": [
    "\n",
    "class Person:\n",
    "    \n",
    "    def __init__(self, name, age) -> None:\n",
    "        self._name = name\n",
    "        self._age = age\n",
    "    \n",
    "    def set_name(self, name):\n",
    "        self._name = name\n",
    "    \n",
    "    def set_age(self, age):\n",
    "        if age > 0:\n",
    "            self._age = age \n",
    "        else:\n",
    "            print('Invalid age!')\n",
    "    \n",
    "    def get_name(self):\n",
    "        return self._name\n",
    "    \n",
    "    def get_age(self):\n",
    "        return self._age\n",
    "    \n",
    "\n",
    "person = Person(\"Bapan\", 23)\n",
    "\n",
    "print(person.get_name())\n",
    "print(person.get_age())\n",
    "\n",
    "person.set_name('Purnima')\n",
    "person.set_age(42)\n",
    "\n",
    "print(person.get_name())\n",
    "print(person.get_age())\n",
    "\n",
    "## bad practice\n",
    "# person._name = 'Rabin'\n",
    "# person._age = 12\n",
    "\n",
    "print(person.get_name())\n",
    "print(person.get_age())"
   ]
  },
  {
   "cell_type": "code",
   "execution_count": 26,
   "metadata": {},
   "outputs": [
    {
     "name": "stdout",
     "output_type": "stream",
     "text": [
      "Bapan\n",
      "23\n",
      "101\n",
      "1000\n",
      "Purnima\n",
      "42\n",
      "2\n",
      "10000\n",
      "Bapan Bairgya\n",
      "27\n",
      "101\n",
      "1000\n"
     ]
    }
   ],
   "source": [
    "class Employee(Person):\n",
    "    \n",
    "    def __init__(self, name, age, emp_id, salary) -> None:\n",
    "        super().__init__(name, age)\n",
    "        self._emp_id = emp_id\n",
    "        self._salary = salary\n",
    "    \n",
    "    def set_id(self, id):\n",
    "        self._emp_id = id\n",
    "    \n",
    "    def set_salary(self, salary):\n",
    "        if salary > 0:\n",
    "            self._salary = salary\n",
    "        else:\n",
    "            print('Invalid salary!!')\n",
    "    \n",
    "    def get_id(self):\n",
    "        return self._emp_id\n",
    "    \n",
    "    def get_salary(self):\n",
    "        return self._salary\n",
    "    \n",
    "\n",
    "emp = Employee(\"Bapan\", 23, 101, 1000)\n",
    "emp1 = Employee(\"Purnima\", 42, 2, 10000)\n",
    "\n",
    "print(emp.get_name())\n",
    "print(emp.get_age())\n",
    "print(emp.get_id())\n",
    "print(emp.get_salary())\n",
    "\n",
    "print(emp1.get_name())\n",
    "print(emp1.get_age())\n",
    "print(emp1.get_id())\n",
    "print(emp1.get_salary())\n",
    "\n",
    "emp.set_name(\"Bapan Bairgya\")\n",
    "emp.set_age(27)\n",
    "\n",
    "print(emp.get_name())\n",
    "print(emp.get_age())\n",
    "print(emp.get_id())\n",
    "print(emp.get_salary())"
   ]
  },
  {
   "cell_type": "code",
   "execution_count": 1,
   "metadata": {},
   "outputs": [
    {
     "name": "stdout",
     "output_type": "stream",
     "text": [
      "78.53981633974483\n",
      "31.41592653589793\n",
      "The radius of the circle is 5\n"
     ]
    }
   ],
   "source": [
    "## Abstraction\n",
    "import math\n",
    "from abc import ABC, abstractmethod\n",
    "\n",
    "class Shape(ABC):\n",
    "    \n",
    "    @abstractmethod\n",
    "    def area(self):\n",
    "        return 10\n",
    "    \n",
    "    @abstractmethod\n",
    "    def perimeter(self):\n",
    "        pass\n",
    "    \n",
    "    def xyz(self):\n",
    "        pass\n",
    "\n",
    "\n",
    "class Circle(Shape):\n",
    "    \n",
    "    def __init__(self, radius) -> None:\n",
    "        super().__init__()\n",
    "        self.r = radius\n",
    "    \n",
    "    def area(self):\n",
    "        return math.pi * (self.r * self.r)\n",
    "    \n",
    "    def perimeter(self):\n",
    "        return 2 * math.pi * self.r\n",
    "    \n",
    "    def display(self):\n",
    "        print(f'The radius of the circle is {self.r}')\n",
    "    \n",
    "    \n",
    "\n",
    "circle = Circle(5)\n",
    "\n",
    "print(circle.area())\n",
    "print(circle.perimeter())\n",
    "\n",
    "circle.display()"
   ]
  },
  {
   "cell_type": "code",
   "execution_count": 42,
   "metadata": {},
   "outputs": [],
   "source": [
    "## Error\n",
    "\n",
    "# class Rectangle(ABC):\n",
    "    \n",
    "#     @abstractmethod\n",
    "#     def area(self, a, b):\n",
    "#         return a * b\n",
    "    \n",
    "#     @abstractmethod\n",
    "#     def perimeter(self, a, b):\n",
    "#         return 2 * (a + b)\n",
    "\n",
    "\n",
    "# rec = Rectangle()\n",
    "# rec.area(3, 5)  "
   ]
  },
  {
   "cell_type": "code",
   "execution_count": null,
   "metadata": {},
   "outputs": [],
   "source": []
  },
  {
   "cell_type": "code",
   "execution_count": null,
   "metadata": {},
   "outputs": [],
   "source": []
  }
 ],
 "metadata": {
  "kernelspec": {
   "display_name": "Python 3",
   "language": "python",
   "name": "python3"
  },
  "language_info": {
   "codemirror_mode": {
    "name": "ipython",
    "version": 3
   },
   "file_extension": ".py",
   "mimetype": "text/x-python",
   "name": "python",
   "nbconvert_exporter": "python",
   "pygments_lexer": "ipython3",
   "version": "3.11.5"
  }
 },
 "nbformat": 4,
 "nbformat_minor": 2
}
