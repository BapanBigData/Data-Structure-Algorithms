{
 "cells": [
  {
   "cell_type": "code",
   "execution_count": 4,
   "metadata": {},
   "outputs": [
    {
     "name": "stdout",
     "output_type": "stream",
     "text": [
      "<__main__.Student object at 0x0000018A38867890>\n",
      "<__main__.Student object at 0x0000018A38864C10>\n",
      "1693165451408\n",
      "1693165440016\n"
     ]
    }
   ],
   "source": [
    "class Student:\n",
    "    pass\n",
    "\n",
    "bapan = Student()\n",
    "akash = Student()\n",
    "print(bapan)\n",
    "print(akash)\n",
    "\n",
    "print(id(bapan))\n",
    "print(id(akash))"
   ]
  },
  {
   "cell_type": "code",
   "execution_count": 7,
   "metadata": {},
   "outputs": [
    {
     "name": "stdout",
     "output_type": "stream",
     "text": [
      "140709163823336\n",
      "140709163820232\n"
     ]
    }
   ],
   "source": [
    "## initializing two objects of the `int` class\n",
    "x = 111\n",
    "y = 14\n",
    "\n",
    "print(id(x))\n",
    "print(id(y))"
   ]
  },
  {
   "cell_type": "code",
   "execution_count": 8,
   "metadata": {},
   "outputs": [
    {
     "name": "stdout",
     "output_type": "stream",
     "text": [
      "1693165537392\n",
      "1693165325232\n"
     ]
    }
   ],
   "source": [
    "## initializing two objects of the `str` class\n",
    "a = 'Bapan'\n",
    "b = 'bapan'\n",
    "\n",
    "print(id(a))\n",
    "print(id(b))"
   ]
  },
  {
   "cell_type": "code",
   "execution_count": 14,
   "metadata": {},
   "outputs": [
    {
     "name": "stdout",
     "output_type": "stream",
     "text": [
      "Bapan\n",
      "101\n",
      "10\n"
     ]
    },
    {
     "data": {
      "text/plain": [
       "{}"
      ]
     },
     "execution_count": 14,
     "metadata": {},
     "output_type": "execute_result"
    }
   ],
   "source": [
    "class Student:\n",
    "    name = 'Bapan'\n",
    "    roll_no = 101\n",
    "    standard = 10\n",
    "\n",
    "\n",
    "s1 = Student()\n",
    "print(s1.name)\n",
    "print(s1.roll_no)\n",
    "print(s1.standard)\n",
    "\n",
    "attributes = vars(s1)\n",
    "attributes"
   ]
  },
  {
   "cell_type": "code",
   "execution_count": 12,
   "metadata": {},
   "outputs": [
    {
     "data": {
      "text/plain": [
       "'Purnima'"
      ]
     },
     "execution_count": 12,
     "metadata": {},
     "output_type": "execute_result"
    }
   ],
   "source": [
    "s1.name = 'Purnima'\n",
    "s1.name"
   ]
  },
  {
   "cell_type": "code",
   "execution_count": 13,
   "metadata": {},
   "outputs": [
    {
     "data": {
      "text/plain": [
       "{'name': 'Purnima'}"
      ]
     },
     "execution_count": 13,
     "metadata": {},
     "output_type": "execute_result"
    }
   ],
   "source": [
    "attributes = vars(s1)\n",
    "attributes"
   ]
  },
  {
   "cell_type": "code",
   "execution_count": null,
   "metadata": {},
   "outputs": [],
   "source": []
  },
  {
   "cell_type": "code",
   "execution_count": 27,
   "metadata": {},
   "outputs": [
    {
     "name": "stdout",
     "output_type": "stream",
     "text": [
      "+91-78920XXXXX\n",
      "Bapan Bairagya\n",
      "Minor\n",
      "Bapan Bairagya\n"
     ]
    }
   ],
   "source": [
    "class Person:\n",
    "    NAME = 'Bapan Bairagya'\n",
    "    \n",
    "    def __init__(self, name, age, phone_no, address) -> None:\n",
    "        self.name = name\n",
    "        self.age = age\n",
    "        self.phone_no = phone_no\n",
    "        self.address = address\n",
    "    \n",
    "    def age_group(self):\n",
    "        if (self.age < 18):\n",
    "            print('Minor')\n",
    "        elif (self.age >= 18) and (self.age < 36):\n",
    "            print('Adult')\n",
    "        elif (self.age >= 36) and (self.age < 56):\n",
    "            print('Senior Citizen')\n",
    "        else:\n",
    "            print('older Citizen')    \n",
    "\n",
    "\n",
    "p1 = Person('Bapan', 17, '+91-78920XXXXX', '#421, Jackson Street')\n",
    "print(p1.phone_no)\n",
    "\n",
    "## accessing the class variable\n",
    "print(p1.NAME)\n",
    "\n",
    "p1.age_group()"
   ]
  },
  {
   "cell_type": "code",
   "execution_count": 40,
   "metadata": {},
   "outputs": [
    {
     "name": "stdout",
     "output_type": "stream",
     "text": [
      "KTM with model: 290cc\n",
      "I JUST GOT CALLED WOHOOOOO!!!\n"
     ]
    },
    {
     "data": {
      "text/plain": [
       "225"
      ]
     },
     "execution_count": 40,
     "metadata": {},
     "output_type": "execute_result"
    }
   ],
   "source": [
    "from typing import Any\n",
    "\n",
    "\n",
    "class Bike:\n",
    "    \n",
    "    def __init__(self, name, model, price) -> None:\n",
    "        self.name = name\n",
    "        self.model = model\n",
    "        self.price = price\n",
    "        \n",
    "    def __str__(self) -> str:\n",
    "        return f'{self.name} with model: {self.model}'\n",
    "    \n",
    "    def __add__(self, other):\n",
    "        return self.price + other.price\n",
    "    \n",
    "    def __call__(self, *args: Any, **kwds: Any) -> Any:\n",
    "        return 'I JUST GOT CALLED WOHOOOOO!!!'\n",
    "\n",
    "\n",
    "b1 = Bike('KTM', '290cc', 101)\n",
    "b2 = Bike('KTM', '390cc', 150)\n",
    "b3 = Bike('Yamaha', '250cc', 75)\n",
    "\n",
    "print(b1)\n",
    "\n",
    "print(b1())\n",
    "\n",
    "b1 + b2\n",
    "b1 + b3\n",
    "b2 + b3"
   ]
  },
  {
   "cell_type": "code",
   "execution_count": 41,
   "metadata": {},
   "outputs": [
    {
     "data": {
      "text/plain": [
       "{'name': 'KTM', 'model': '390cc', 'price': 150}"
      ]
     },
     "execution_count": 41,
     "metadata": {},
     "output_type": "execute_result"
    }
   ],
   "source": [
    "vars(b2)"
   ]
  },
  {
   "cell_type": "code",
   "execution_count": 47,
   "metadata": {},
   "outputs": [
    {
     "name": "stdout",
     "output_type": "stream",
     "text": [
      "+91-7892XXXXXX\n",
      "Ankhi\n",
      "July_Adv_2024\n"
     ]
    }
   ],
   "source": [
    "class Student:\n",
    "    batch = 'July_Adv_2024'\n",
    "    \n",
    "    def __init__(self, name, age, phone_no) -> None:\n",
    "        self.name = name\n",
    "        self.age = age\n",
    "        self.phone_no = phone_no\n",
    "\n",
    "s1 = Student('Bapan', 18, '+91-7892XXXXXX')\n",
    "s2 = Student('Ankhi', 22, '+91-1236547890')\n",
    "print(s1.phone_no)\n",
    "print(s2.name)\n",
    "\n",
    "print(s1.batch)"
   ]
  },
  {
   "cell_type": "code",
   "execution_count": 49,
   "metadata": {},
   "outputs": [
    {
     "name": "stdout",
     "output_type": "stream",
     "text": [
      "Vinod\n",
      "July_Adv_2020\n",
      "July_Adv_2024\n",
      "July_Adv_2024\n"
     ]
    }
   ],
   "source": [
    "s1.name = 'Vinod'\n",
    "print(s1.name)\n",
    "\n",
    "s1.batch = 'July_Adv_2020'\n",
    "print(s1.batch)\n",
    "\n",
    "print(s2.batch)\n",
    "\n",
    "print(Student.batch)"
   ]
  },
  {
   "cell_type": "code",
   "execution_count": 50,
   "metadata": {},
   "outputs": [
    {
     "data": {
      "text/plain": [
       "'July_Adv_2022'"
      ]
     },
     "execution_count": 50,
     "metadata": {},
     "output_type": "execute_result"
    }
   ],
   "source": [
    "Student.batch = 'July_Adv_2022'\n",
    "\n",
    "s3 = Student('Amit', 24, '+91-0303000002')\n",
    "s3.batch"
   ]
  },
  {
   "cell_type": "code",
   "execution_count": 1,
   "metadata": {},
   "outputs": [
    {
     "name": "stdout",
     "output_type": "stream",
     "text": [
      "1520.53084433746\n",
      "138.23007675795088\n"
     ]
    }
   ],
   "source": [
    "import math\n",
    "\n",
    "class Circle:\n",
    "    \n",
    "    def __init__(self, radius) -> None:\n",
    "        self.r = radius\n",
    "    \n",
    "    def area(self):\n",
    "        return math.pi * (self.r * self.r)\n",
    "    \n",
    "    def perimeter(self):\n",
    "        return 2 * math.pi * self.r\n",
    "\n",
    "\n",
    "circle = Circle(22)\n",
    "print(circle.area())\n",
    "print(circle.perimeter())"
   ]
  },
  {
   "cell_type": "code",
   "execution_count": 4,
   "metadata": {},
   "outputs": [
    {
     "name": "stdout",
     "output_type": "stream",
     "text": [
      "3\n",
      "5\n",
      "16\n",
      "7\n",
      "9\n"
     ]
    }
   ],
   "source": [
    "## Note: Standard practice is to register the instance variables in the constructor\n",
    "\n",
    "class Example:\n",
    "    \n",
    "    def __init__(self, a, b) -> None:\n",
    "        self.a = a\n",
    "        self.b = b\n",
    "    \n",
    "    def calculate(self, c, d):\n",
    "        self.c = c\n",
    "        self.d = d\n",
    "        return self.a * self.c + self.b * self.d\n",
    "    \n",
    "    def sum(self):\n",
    "        return self.c + self.d\n",
    "    \n",
    "e1 = Example(3, 5)\n",
    "print(e1.a)\n",
    "print(e1.b)\n",
    "\n",
    "e1.calculate(7, 9)\n",
    "print(e1.sum())\n",
    "\n",
    "print(e1.c)\n",
    "print(e1.d)"
   ]
  },
  {
   "cell_type": "code",
   "execution_count": null,
   "metadata": {},
   "outputs": [],
   "source": []
  },
  {
   "cell_type": "code",
   "execution_count": 9,
   "metadata": {},
   "outputs": [],
   "source": [
    "## Inheritance\n",
    "\n",
    "class Parent:\n",
    "    pass\n",
    "\n",
    "class Child(Parent):\n",
    "    pass"
   ]
  },
  {
   "cell_type": "code",
   "execution_count": 12,
   "metadata": {},
   "outputs": [
    {
     "name": "stdout",
     "output_type": "stream",
     "text": [
      "Cat\n",
      "Tom\n",
      "I'm eating fish Umm Umm...\n",
      "Meowww Meowww Meowww...\n"
     ]
    }
   ],
   "source": [
    "class Animal:\n",
    "    \n",
    "    def __init__(self, species) -> None:\n",
    "        self.species = species\n",
    "    \n",
    "    def eat(self, food):\n",
    "        print(f\"I'm eating {food} Umm Umm...\")\n",
    "\n",
    "\n",
    "class Cat(Animal):\n",
    "    \n",
    "    def __init__(self, name) -> None:\n",
    "        Animal.__init__(self, 'Cat')\n",
    "        self.name = name\n",
    "    \n",
    "    def speak(self):\n",
    "        print('Meowww Meowww Meowww...')\n",
    "\n",
    "\n",
    "c1 = Cat('Tom')\n",
    "print(c1.species)\n",
    "print(c1.name)\n",
    "\n",
    "c1.eat('fish')\n",
    "c1.speak()"
   ]
  },
  {
   "cell_type": "code",
   "execution_count": 16,
   "metadata": {},
   "outputs": [
    {
     "name": "stdout",
     "output_type": "stream",
     "text": [
      "Brand: Toyota & model: SUV\n",
      "Price: $16,000 & type of the car: Manual\n"
     ]
    }
   ],
   "source": [
    "## Single inheritance\n",
    "## Vehicle --> Car\n",
    "\n",
    "class Vehicle:\n",
    "    \n",
    "    def __init__(self, brand, model) -> None:\n",
    "        self.brand = brand\n",
    "        self.model = model\n",
    "    \n",
    "    def displayInfo(self):\n",
    "        print(f\"Brand: {self.brand} & model: {self.model}\")\n",
    "\n",
    "class Car(Vehicle):\n",
    "    \n",
    "    def __init__(self, brand, model, price, car_type) -> None:\n",
    "        super().__init__(brand, model)\n",
    "        self.price = price\n",
    "        self.car_type = car_type\n",
    "    \n",
    "    def carInfo(self):\n",
    "        self.displayInfo()\n",
    "        print(f\"Price: {self.price} & type of the car: {self.car_type}\")\n",
    "\n",
    "\n",
    "c = Car('Toyota', 'SUV', '$16,000', 'Manual')\n",
    "c.carInfo()"
   ]
  }
 ],
 "metadata": {
  "kernelspec": {
   "display_name": "Python 3",
   "language": "python",
   "name": "python3"
  },
  "language_info": {
   "codemirror_mode": {
    "name": "ipython",
    "version": 3
   },
   "file_extension": ".py",
   "mimetype": "text/x-python",
   "name": "python",
   "nbconvert_exporter": "python",
   "pygments_lexer": "ipython3",
   "version": "3.11.5"
  }
 },
 "nbformat": 4,
 "nbformat_minor": 2
}
