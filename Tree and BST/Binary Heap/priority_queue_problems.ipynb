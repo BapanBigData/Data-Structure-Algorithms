{
 "cells": [
  {
   "cell_type": "code",
   "execution_count": 1,
   "metadata": {},
   "outputs": [],
   "source": [
    "import heapq"
   ]
  },
  {
   "cell_type": "code",
   "execution_count": 6,
   "metadata": {},
   "outputs": [
    {
     "data": {
      "text/plain": [
       "[787, 23]"
      ]
     },
     "execution_count": 6,
     "metadata": {},
     "output_type": "execute_result"
    }
   ],
   "source": [
    "# k largest elements\n",
    "# Given an array arr[] of positive integers and an integer k, Your task is to return k largest elements in decreasing order.\n",
    "\n",
    "arr = [12, 5, 787, 1, 23]\n",
    "\n",
    "heapq.nlargest(2, arr)"
   ]
  },
  {
   "cell_type": "code",
   "execution_count": 7,
   "metadata": {},
   "outputs": [
    {
     "data": {
      "text/plain": [
       "[1, 5]"
      ]
     },
     "execution_count": 7,
     "metadata": {},
     "output_type": "execute_result"
    }
   ],
   "source": [
    "heapq.nsmallest(2, arr)"
   ]
  },
  {
   "cell_type": "code",
   "execution_count": 38,
   "metadata": {},
   "outputs": [
    {
     "data": {
      "text/plain": [
       "[23, 787]"
      ]
     },
     "execution_count": 38,
     "metadata": {},
     "output_type": "execute_result"
    }
   ],
   "source": [
    "# return the output in any order\n",
    "\n",
    "def k_largest(arr: list[int], k: int) -> list[int]:\n",
    "    n = len(arr)\n",
    "    \n",
    "    pq = arr[:k]\n",
    "    \n",
    "    # build the heap\n",
    "    heapq.heapify(pq)\n",
    "    \n",
    "    for i in range(k, n):\n",
    "        if (arr[i] > pq[0]):\n",
    "            heapq.heappushpop(pq, arr[i])\n",
    "    \n",
    "    return pq\n",
    "\n",
    "arr = [12, 5, 787, 1, 23]\n",
    "k = 2\n",
    "\n",
    "k_largest(arr, k)"
   ]
  },
  {
   "cell_type": "code",
   "execution_count": 16,
   "metadata": {},
   "outputs": [
    {
     "data": {
      "text/plain": [
       "[4, 3]"
      ]
     },
     "execution_count": 16,
     "metadata": {},
     "output_type": "execute_result"
    }
   ],
   "source": [
    "\n",
    "def k_smallest(nums: list[int], k: int) -> list[int]:\n",
    "    n = len(nums)\n",
    "    \n",
    "    pq = [-nums[i] for i in range(k)]\n",
    "    \n",
    "    # build the heap\n",
    "    heapq.heapify(pq)\n",
    "    \n",
    "    for i in range(k, n):\n",
    "        if -nums[i] > pq[0]:\n",
    "            heapq.heappushpop(pq, -nums[i])\n",
    "    \n",
    "    return [-e for e in pq]\n",
    "\n",
    "nums = [10, 15, 7, 3, 4, 11]\n",
    "k = 2\n",
    "k_smallest(nums, k)"
   ]
  },
  {
   "cell_type": "code",
   "execution_count": 37,
   "metadata": {},
   "outputs": [
    {
     "data": {
      "text/plain": [
       "[4, 10, 7, 8, 9]"
      ]
     },
     "execution_count": 37,
     "metadata": {},
     "output_type": "execute_result"
    }
   ],
   "source": [
    "# k closest\n",
    "# max heap soln\n",
    "\n",
    "def k_closest(nums: list[int], x: int, k: int) -> list[int]:\n",
    "    pairs = [(-abs(val-x), indx) for indx, val in enumerate(nums)]\n",
    "    pq = pairs[:k]\n",
    "    \n",
    "    # build the heap\n",
    "    heapq.heapify(pq)\n",
    "    \n",
    "    for pair in pairs[k:]:\n",
    "        \n",
    "        val, indx = pair\n",
    "        if (val > pq[0][0]):\n",
    "            heapq.heappushpop(pq, (val, indx))\n",
    "    \n",
    "    return [nums[indx] for _, indx in pq]\n",
    "\n",
    "nums = [10, 15, 7, 3, 4, 9, 2, 1, 8, 12]\n",
    "x = 8\n",
    "k = 5\n",
    "k_closest(nums, x, k)"
   ]
  },
  {
   "cell_type": "code",
   "execution_count": 21,
   "metadata": {},
   "outputs": [],
   "source": []
  },
  {
   "cell_type": "code",
   "execution_count": null,
   "metadata": {},
   "outputs": [],
   "source": []
  }
 ],
 "metadata": {
  "kernelspec": {
   "display_name": "Python 3",
   "language": "python",
   "name": "python3"
  },
  "language_info": {
   "codemirror_mode": {
    "name": "ipython",
    "version": 3
   },
   "file_extension": ".py",
   "mimetype": "text/x-python",
   "name": "python",
   "nbconvert_exporter": "python",
   "pygments_lexer": "ipython3",
   "version": "3.11.5"
  }
 },
 "nbformat": 4,
 "nbformat_minor": 2
}
