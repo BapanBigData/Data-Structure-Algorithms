{
 "cells": [
  {
   "cell_type": "code",
   "execution_count": 1,
   "metadata": {},
   "outputs": [
    {
     "data": {
      "text/plain": [
       "[3, 4, 7, 6, 5, 12, 9, 15, 100, 11, 10, 16, 21, 29, 37, 17]"
      ]
     },
     "execution_count": 1,
     "metadata": {},
     "output_type": "execute_result"
    }
   ],
   "source": [
    "\n",
    "class MinHeap:\n",
    "    \n",
    "    def __init__(self, arr=[]):\n",
    "        self.arr = arr\n",
    "        \n",
    "        # let's build the heap\n",
    "        i = (len(self.arr) - 2) // 2\n",
    "        while (i >= 0):\n",
    "            self.min_heapify(i)\n",
    "            i -= 1\n",
    "    \n",
    "    def parent(self, i) -> int:\n",
    "        return (i-1) // 2\n",
    "    \n",
    "    def left_child(self, i) -> int:\n",
    "        return (2*i) + 1\n",
    "    \n",
    "    def right_child(self, i) -> int:\n",
    "        return (2*i) + 2\n",
    "    \n",
    "    def insert(self, x) -> None:\n",
    "        self.arr.append(x)\n",
    "        i = len(self.arr) - 1\n",
    "        \n",
    "        while (i > 0) and (self.arr[self.parent(i)] > self.arr[i]):\n",
    "            p = self.parent(i)\n",
    "            # swap\n",
    "            self.arr[i], self.arr[p] = self.arr[p], self.arr[i]\n",
    "            i = p\n",
    "            \n",
    "        return\n",
    "    \n",
    "    def min_heapify(self, i) -> None:\n",
    "        left = self.left_child(i)\n",
    "        right = self.right_child(i)\n",
    "        smallest = i\n",
    "        \n",
    "        if (left < len(self.arr)) and (self.arr[left] < self.arr[smallest]):\n",
    "            smallest = left\n",
    "        \n",
    "        if (right < len(self.arr)) and (self.arr[right] < self.arr[smallest]):\n",
    "            smallest = right\n",
    "        \n",
    "        if (smallest != i):\n",
    "            # swap\n",
    "            self.arr[i], self.arr[smallest] = self.arr[smallest], self.arr[i]\n",
    "            self.min_heapify(smallest)\n",
    "        \n",
    "        return\n",
    "    \n",
    "    def extract_min(self) -> int:\n",
    "        val = self.arr[0]\n",
    "        \n",
    "        # swap\n",
    "        sz = len(self.arr) - 1\n",
    "        self.arr[0], self.arr[sz] = self.arr[sz], self.arr[0]\n",
    "        \n",
    "        self.arr.pop()\n",
    "        self.min_heapify(0)\n",
    "        \n",
    "        return val\n",
    "    \n",
    "    def decrease_key(self, i, x) -> None:\n",
    "        self.arr[i] = x\n",
    "        \n",
    "        while (i > 0) and (self.arr[self.parent(i)] > self.arr[i]):\n",
    "            p = self.parent(i)\n",
    "            # swap\n",
    "            self.arr[i], self.arr[p] = self.arr[p], self.arr[i]\n",
    "            i = p\n",
    "            \n",
    "        return\n",
    "    \n",
    "    def delete(self, i) -> None:\n",
    "        # swap\n",
    "        sz = len(self.arr) - 1\n",
    "        self.arr[i], self.arr[sz] = self.arr[sz], self.arr[i]\n",
    "        \n",
    "        # pop it out\n",
    "        self.arr.pop()\n",
    "        \n",
    "        if (i == 0):\n",
    "            self.min_heapify(i)\n",
    "            return\n",
    "        \n",
    "        while (i > 0) and (self.arr[self.parent(i)] > self.arr[i]):\n",
    "            p = self.parent(i)\n",
    "            # swap\n",
    "            self.arr[i], self.arr[p] = self.arr[p], self.arr[i]\n",
    "            i = p\n",
    "        \n",
    "        return\n",
    "\n",
    "arr = [100, 10, 12, 15, 11, 7, 9, 4, 6, 3, 5, 16, 21, 29, 37, 17]\n",
    "heap = MinHeap(arr)\n",
    "\n",
    "heap.arr"
   ]
  },
  {
   "cell_type": "code",
   "execution_count": 2,
   "metadata": {},
   "outputs": [
    {
     "data": {
      "text/plain": [
       "[3, 4, 7, 6, 5, 12, 9, 8, 100, 11, 10, 16, 21, 29, 37, 17, 15]"
      ]
     },
     "execution_count": 2,
     "metadata": {},
     "output_type": "execute_result"
    }
   ],
   "source": [
    "heap.insert(8)\n",
    "heap.arr"
   ]
  },
  {
   "cell_type": "code",
   "execution_count": 3,
   "metadata": {},
   "outputs": [
    {
     "data": {
      "text/plain": [
       "3"
      ]
     },
     "execution_count": 3,
     "metadata": {},
     "output_type": "execute_result"
    }
   ],
   "source": [
    "heap.extract_min()"
   ]
  },
  {
   "cell_type": "code",
   "execution_count": 4,
   "metadata": {},
   "outputs": [
    {
     "data": {
      "text/plain": [
       "[4, 5, 7, 6, 10, 12, 9, 8, 100, 11, 15, 16, 21, 29, 37, 17]"
      ]
     },
     "execution_count": 4,
     "metadata": {},
     "output_type": "execute_result"
    }
   ],
   "source": [
    "heap.arr"
   ]
  },
  {
   "cell_type": "code",
   "execution_count": null,
   "metadata": {},
   "outputs": [],
   "source": []
  },
  {
   "cell_type": "code",
   "execution_count": 9,
   "metadata": {},
   "outputs": [],
   "source": [
    "# min heap \n",
    "# priority queue: highest priority item assigned lowest value\n",
    "import heapq"
   ]
  },
  {
   "cell_type": "code",
   "execution_count": 10,
   "metadata": {},
   "outputs": [],
   "source": [
    "# help(heapq)"
   ]
  },
  {
   "cell_type": "code",
   "execution_count": 11,
   "metadata": {},
   "outputs": [],
   "source": [
    "pq = [7, 100, 10, 12, 4, 9, 11, 5, 2, 13, 6]\n",
    "heapq.heapify(pq)"
   ]
  },
  {
   "cell_type": "code",
   "execution_count": 12,
   "metadata": {},
   "outputs": [
    {
     "data": {
      "text/plain": [
       "[2, 4, 9, 5, 6, 10, 11, 100, 12, 13, 7]"
      ]
     },
     "execution_count": 12,
     "metadata": {},
     "output_type": "execute_result"
    }
   ],
   "source": [
    "pq"
   ]
  },
  {
   "cell_type": "code",
   "execution_count": 13,
   "metadata": {},
   "outputs": [],
   "source": [
    "heapq.heappush(pq, 3)"
   ]
  },
  {
   "cell_type": "code",
   "execution_count": 14,
   "metadata": {},
   "outputs": [
    {
     "data": {
      "text/plain": [
       "[2, 4, 3, 5, 6, 9, 11, 100, 12, 13, 7, 10]"
      ]
     },
     "execution_count": 14,
     "metadata": {},
     "output_type": "execute_result"
    }
   ],
   "source": [
    "pq"
   ]
  },
  {
   "cell_type": "code",
   "execution_count": 15,
   "metadata": {},
   "outputs": [
    {
     "data": {
      "text/plain": [
       "2"
      ]
     },
     "execution_count": 15,
     "metadata": {},
     "output_type": "execute_result"
    }
   ],
   "source": [
    "heapq.heappop(pq)"
   ]
  },
  {
   "cell_type": "code",
   "execution_count": 16,
   "metadata": {},
   "outputs": [
    {
     "data": {
      "text/plain": [
       "[3, 4, 9, 5, 6, 10, 11, 100, 12, 13, 7]"
      ]
     },
     "execution_count": 16,
     "metadata": {},
     "output_type": "execute_result"
    }
   ],
   "source": [
    "pq"
   ]
  },
  {
   "cell_type": "code",
   "execution_count": 17,
   "metadata": {},
   "outputs": [
    {
     "data": {
      "text/plain": [
       "[100, 13]"
      ]
     },
     "execution_count": 17,
     "metadata": {},
     "output_type": "execute_result"
    }
   ],
   "source": [
    "heapq.nlargest(2, pq)"
   ]
  },
  {
   "cell_type": "code",
   "execution_count": 18,
   "metadata": {},
   "outputs": [
    {
     "data": {
      "text/plain": [
       "[3, 4]"
      ]
     },
     "execution_count": 18,
     "metadata": {},
     "output_type": "execute_result"
    }
   ],
   "source": [
    "heapq.nsmallest(2, pq)"
   ]
  },
  {
   "cell_type": "code",
   "execution_count": 20,
   "metadata": {},
   "outputs": [
    {
     "data": {
      "text/plain": [
       "3"
      ]
     },
     "execution_count": 20,
     "metadata": {},
     "output_type": "execute_result"
    }
   ],
   "source": [
    "heapq.heappushpop(pq, 8)"
   ]
  },
  {
   "cell_type": "code",
   "execution_count": 21,
   "metadata": {},
   "outputs": [
    {
     "data": {
      "text/plain": [
       "[4, 5, 9, 8, 6, 10, 11, 100, 12, 13, 7]"
      ]
     },
     "execution_count": 21,
     "metadata": {},
     "output_type": "execute_result"
    }
   ],
   "source": [
    "pq"
   ]
  },
  {
   "cell_type": "code",
   "execution_count": 22,
   "metadata": {},
   "outputs": [
    {
     "data": {
      "text/plain": [
       "1"
      ]
     },
     "execution_count": 22,
     "metadata": {},
     "output_type": "execute_result"
    }
   ],
   "source": [
    "heapq.heappushpop(pq, 1)"
   ]
  },
  {
   "cell_type": "code",
   "execution_count": 23,
   "metadata": {},
   "outputs": [
    {
     "data": {
      "text/plain": [
       "[4, 5, 9, 8, 6, 10, 11, 100, 12, 13, 7]"
      ]
     },
     "execution_count": 23,
     "metadata": {},
     "output_type": "execute_result"
    }
   ],
   "source": [
    "pq"
   ]
  },
  {
   "cell_type": "code",
   "execution_count": 24,
   "metadata": {},
   "outputs": [
    {
     "data": {
      "text/plain": [
       "4"
      ]
     },
     "execution_count": 24,
     "metadata": {},
     "output_type": "execute_result"
    }
   ],
   "source": [
    "heapq.heapreplace(pq, 15)"
   ]
  },
  {
   "cell_type": "code",
   "execution_count": 25,
   "metadata": {},
   "outputs": [
    {
     "data": {
      "text/plain": [
       "[5, 6, 9, 8, 7, 10, 11, 100, 12, 13, 15]"
      ]
     },
     "execution_count": 25,
     "metadata": {},
     "output_type": "execute_result"
    }
   ],
   "source": [
    "pq"
   ]
  },
  {
   "cell_type": "code",
   "execution_count": null,
   "metadata": {},
   "outputs": [],
   "source": []
  }
 ],
 "metadata": {
  "kernelspec": {
   "display_name": "Python 3",
   "language": "python",
   "name": "python3"
  },
  "language_info": {
   "codemirror_mode": {
    "name": "ipython",
    "version": 3
   },
   "file_extension": ".py",
   "mimetype": "text/x-python",
   "name": "python",
   "nbconvert_exporter": "python",
   "pygments_lexer": "ipython3",
   "version": "3.11.5"
  }
 },
 "nbformat": 4,
 "nbformat_minor": 2
}
