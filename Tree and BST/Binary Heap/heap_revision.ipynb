{
 "cells": [
  {
   "cell_type": "code",
   "execution_count": 1,
   "metadata": {},
   "outputs": [
    {
     "data": {
      "text/plain": [
       "[3, 4, 7, 6, 5, 12, 9, 15, 100, 11, 10, 16, 21, 29, 37, 17]"
      ]
     },
     "execution_count": 1,
     "metadata": {},
     "output_type": "execute_result"
    }
   ],
   "source": [
    "\n",
    "class MinHeap:\n",
    "    \n",
    "    def __init__(self, arr=[]):\n",
    "        self.arr = arr\n",
    "        \n",
    "        # let's build the heap\n",
    "        i = (len(self.arr) - 2) // 2\n",
    "        while (i >= 0):\n",
    "            self.min_heapify(i)\n",
    "            i -= 1\n",
    "    \n",
    "    def parent(self, i) -> int:\n",
    "        return (i-1) // 2\n",
    "    \n",
    "    def left_child(self, i) -> int:\n",
    "        return (2*i) + 1\n",
    "    \n",
    "    def right_child(self, i) -> int:\n",
    "        return (2*i) + 2\n",
    "    \n",
    "    def insert(self, x) -> None:\n",
    "        self.arr.append(x)\n",
    "        i = len(self.arr) - 1\n",
    "        \n",
    "        while (i > 0) and (self.arr[self.parent(i)] > self.arr[i]):\n",
    "            p = self.parent(i)\n",
    "            # swap\n",
    "            self.arr[i], self.arr[p] = self.arr[p], self.arr[i]\n",
    "            i = p\n",
    "            \n",
    "        return\n",
    "    \n",
    "    def min_heapify(self, i) -> None:\n",
    "        left = self.left_child(i)\n",
    "        right = self.right_child(i)\n",
    "        smallest = i\n",
    "        \n",
    "        if (left < len(self.arr)) and (self.arr[left] < self.arr[smallest]):\n",
    "            smallest = left\n",
    "        \n",
    "        if (right < len(self.arr)) and (self.arr[right] < self.arr[smallest]):\n",
    "            smallest = right\n",
    "        \n",
    "        if (smallest != i):\n",
    "            # swap\n",
    "            self.arr[i], self.arr[smallest] = self.arr[smallest], self.arr[i]\n",
    "            self.min_heapify(smallest)\n",
    "        \n",
    "        return\n",
    "    \n",
    "    def extract_min(self) -> int:\n",
    "        val = self.arr[0]\n",
    "        \n",
    "        # swap\n",
    "        sz = len(self.arr) - 1\n",
    "        self.arr[0], self.arr[sz] = self.arr[sz], self.arr[0]\n",
    "        \n",
    "        self.arr.pop()\n",
    "        self.min_heapify(0)\n",
    "        \n",
    "        return val\n",
    "    \n",
    "    def decrease_key(self, i, x) -> None:\n",
    "        self.arr[i] = x\n",
    "        \n",
    "        while (i > 0) and (self.arr[self.parent(i)] > self.arr[i]):\n",
    "            p = self.parent(i)\n",
    "            # swap\n",
    "            self.arr[i], self.arr[p] = self.arr[p], self.arr[i]\n",
    "            i = p\n",
    "            \n",
    "        return\n",
    "    \n",
    "    def delete(self, i) -> None:\n",
    "        # swap\n",
    "        sz = len(self.arr) - 1\n",
    "        self.arr[i], self.arr[sz] = self.arr[sz], self.arr[i]\n",
    "        \n",
    "        # pop it out\n",
    "        self.arr.pop()\n",
    "        \n",
    "        if (i == 0):\n",
    "            self.min_heapify(i)\n",
    "            return\n",
    "        \n",
    "        while (i > 0) and (self.arr[self.parent(i)] > self.arr[i]):\n",
    "            p = self.parent(i)\n",
    "            # swap\n",
    "            self.arr[i], self.arr[p] = self.arr[p], self.arr[i]\n",
    "            i = p\n",
    "        \n",
    "        return\n",
    "\n",
    "arr = [100, 10, 12, 15, 11, 7, 9, 4, 6, 3, 5, 16, 21, 29, 37, 17]\n",
    "heap = MinHeap(arr)\n",
    "\n",
    "heap.arr"
   ]
  },
  {
   "cell_type": "code",
   "execution_count": 2,
   "metadata": {},
   "outputs": [
    {
     "data": {
      "text/plain": [
       "[3, 4, 7, 6, 5, 12, 9, 8, 100, 11, 10, 16, 21, 29, 37, 17, 15]"
      ]
     },
     "execution_count": 2,
     "metadata": {},
     "output_type": "execute_result"
    }
   ],
   "source": [
    "heap.insert(8)\n",
    "heap.arr"
   ]
  },
  {
   "cell_type": "code",
   "execution_count": 3,
   "metadata": {},
   "outputs": [
    {
     "data": {
      "text/plain": [
       "3"
      ]
     },
     "execution_count": 3,
     "metadata": {},
     "output_type": "execute_result"
    }
   ],
   "source": [
    "heap.extract_min()"
   ]
  },
  {
   "cell_type": "code",
   "execution_count": 4,
   "metadata": {},
   "outputs": [
    {
     "data": {
      "text/plain": [
       "[4, 5, 7, 6, 10, 12, 9, 8, 100, 11, 15, 16, 21, 29, 37, 17]"
      ]
     },
     "execution_count": 4,
     "metadata": {},
     "output_type": "execute_result"
    }
   ],
   "source": [
    "heap.arr"
   ]
  },
  {
   "cell_type": "code",
   "execution_count": null,
   "metadata": {},
   "outputs": [],
   "source": []
  },
  {
   "cell_type": "code",
   "execution_count": 5,
   "metadata": {},
   "outputs": [],
   "source": [
    "import heapq"
   ]
  },
  {
   "cell_type": "code",
   "execution_count": 6,
   "metadata": {},
   "outputs": [
    {
     "name": "stdout",
     "output_type": "stream",
     "text": [
      "Help on module heapq:\n",
      "\n",
      "NAME\n",
      "    heapq - Heap queue algorithm (a.k.a. priority queue).\n",
      "\n",
      "MODULE REFERENCE\n",
      "    https://docs.python.org/3.11/library/heapq.html\n",
      "    \n",
      "    The following documentation is automatically generated from the Python\n",
      "    source files.  It may be incomplete, incorrect or include features that\n",
      "    are considered implementation detail and may vary between Python\n",
      "    implementations.  When in doubt, consult the module reference at the\n",
      "    location listed above.\n",
      "\n",
      "DESCRIPTION\n",
      "    Heaps are arrays for which a[k] <= a[2*k+1] and a[k] <= a[2*k+2] for\n",
      "    all k, counting elements from 0.  For the sake of comparison,\n",
      "    non-existing elements are considered to be infinite.  The interesting\n",
      "    property of a heap is that a[0] is always its smallest element.\n",
      "    \n",
      "    Usage:\n",
      "    \n",
      "    heap = []            # creates an empty heap\n",
      "    heappush(heap, item) # pushes a new item on the heap\n",
      "    item = heappop(heap) # pops the smallest item from the heap\n",
      "    item = heap[0]       # smallest item on the heap without popping it\n",
      "    heapify(x)           # transforms list into a heap, in-place, in linear time\n",
      "    item = heappushpop(heap, item) # pushes a new item and then returns\n",
      "                                   # the smallest item; the heap size is unchanged\n",
      "    item = heapreplace(heap, item) # pops and returns smallest item, and adds\n",
      "                                   # new item; the heap size is unchanged\n",
      "    \n",
      "    Our API differs from textbook heap algorithms as follows:\n",
      "    \n",
      "    - We use 0-based indexing.  This makes the relationship between the\n",
      "      index for a node and the indexes for its children slightly less\n",
      "      obvious, but is more suitable since Python uses 0-based indexing.\n",
      "    \n",
      "    - Our heappop() method returns the smallest item, not the largest.\n",
      "    \n",
      "    These two make it possible to view the heap as a regular Python list\n",
      "    without surprises: heap[0] is the smallest item, and heap.sort()\n",
      "    maintains the heap invariant!\n",
      "\n",
      "FUNCTIONS\n",
      "    heapify(heap, /)\n",
      "        Transform list into a heap, in-place, in O(len(heap)) time.\n",
      "    \n",
      "    heappop(heap, /)\n",
      "        Pop the smallest item off the heap, maintaining the heap invariant.\n",
      "    \n",
      "    heappush(heap, item, /)\n",
      "        Push item onto heap, maintaining the heap invariant.\n",
      "    \n",
      "    heappushpop(heap, item, /)\n",
      "        Push item on the heap, then pop and return the smallest item from the heap.\n",
      "        \n",
      "        The combined action runs more efficiently than heappush() followed by\n",
      "        a separate call to heappop().\n",
      "    \n",
      "    heapreplace(heap, item, /)\n",
      "        Pop and return the current smallest value, and add the new item.\n",
      "        \n",
      "        This is more efficient than heappop() followed by heappush(), and can be\n",
      "        more appropriate when using a fixed-size heap.  Note that the value\n",
      "        returned may be larger than item!  That constrains reasonable uses of\n",
      "        this routine unless written as part of a conditional replacement:\n",
      "        \n",
      "            if item > heap[0]:\n",
      "                item = heapreplace(heap, item)\n",
      "    \n",
      "    merge(*iterables, key=None, reverse=False)\n",
      "        Merge multiple sorted inputs into a single sorted output.\n",
      "        \n",
      "        Similar to sorted(itertools.chain(*iterables)) but returns a generator,\n",
      "        does not pull the data into memory all at once, and assumes that each of\n",
      "        the input streams is already sorted (smallest to largest).\n",
      "        \n",
      "        >>> list(merge([1,3,5,7], [0,2,4,8], [5,10,15,20], [], [25]))\n",
      "        [0, 1, 2, 3, 4, 5, 5, 7, 8, 10, 15, 20, 25]\n",
      "        \n",
      "        If *key* is not None, applies a key function to each element to determine\n",
      "        its sort order.\n",
      "        \n",
      "        >>> list(merge(['dog', 'horse'], ['cat', 'fish', 'kangaroo'], key=len))\n",
      "        ['dog', 'cat', 'fish', 'horse', 'kangaroo']\n",
      "    \n",
      "    nlargest(n, iterable, key=None)\n",
      "        Find the n largest elements in a dataset.\n",
      "        \n",
      "        Equivalent to:  sorted(iterable, key=key, reverse=True)[:n]\n",
      "    \n",
      "    nsmallest(n, iterable, key=None)\n",
      "        Find the n smallest elements in a dataset.\n",
      "        \n",
      "        Equivalent to:  sorted(iterable, key=key)[:n]\n",
      "\n",
      "DATA\n",
      "    __about__ = 'Heap queues\\n\\n[explanation by François Pinard]\\n\\nH... t...\n",
      "    __all__ = ['heappush', 'heappop', 'heapify', 'heapreplace', 'merge', '...\n",
      "\n",
      "FILE\n",
      "    c:\\program files\\python311\\lib\\heapq.py\n",
      "\n",
      "\n"
     ]
    }
   ],
   "source": [
    "help(heapq)"
   ]
  },
  {
   "cell_type": "code",
   "execution_count": null,
   "metadata": {},
   "outputs": [],
   "source": []
  }
 ],
 "metadata": {
  "kernelspec": {
   "display_name": "Python 3",
   "language": "python",
   "name": "python3"
  },
  "language_info": {
   "codemirror_mode": {
    "name": "ipython",
    "version": 3
   },
   "file_extension": ".py",
   "mimetype": "text/x-python",
   "name": "python",
   "nbconvert_exporter": "python",
   "pygments_lexer": "ipython3",
   "version": "3.11.5"
  }
 },
 "nbformat": 4,
 "nbformat_minor": 2
}
