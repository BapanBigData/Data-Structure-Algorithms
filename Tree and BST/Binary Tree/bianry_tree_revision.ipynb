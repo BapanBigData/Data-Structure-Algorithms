{
 "cells": [
  {
   "cell_type": "code",
   "execution_count": 2,
   "metadata": {},
   "outputs": [],
   "source": [
    "\n",
    "class TreeNode:\n",
    "    def __init__(self, val, left=None, right=None):\n",
    "        self.val = val\n",
    "        self.left = left\n",
    "        self.right = right"
   ]
  },
  {
   "cell_type": "code",
   "execution_count": null,
   "metadata": {},
   "outputs": [],
   "source": [
    "# tree traversal\n",
    "\n",
    "def inorder_traversal(root: TreeNode):\n",
    "    if not root:\n",
    "        return \n",
    "    \n",
    "    inorder_traversal(root.left)\n",
    "    print(root.val, end=' ')\n",
    "    inorder_traversal(root.right)\n",
    "    \n",
    "    return"
   ]
  },
  {
   "cell_type": "code",
   "execution_count": 5,
   "metadata": {},
   "outputs": [],
   "source": [
    "def preorder_traversal(root: TreeNode):\n",
    "    ## base case\n",
    "    if root is None:\n",
    "        return\n",
    "    \n",
    "    print(root.val, end=' ')\n",
    "    preorder_traversal(root.left)\n",
    "    preorder_traversal(root.right)\n",
    "    \n",
    "    return"
   ]
  },
  {
   "cell_type": "code",
   "execution_count": 4,
   "metadata": {},
   "outputs": [],
   "source": [
    "def postorder_traversal(root: TreeNode):\n",
    "    ## base case\n",
    "    if root is None:\n",
    "        return\n",
    "    \n",
    "    postorder_traversal(root.left)\n",
    "    postorder_traversal(root.right)\n",
    "    print(root.val, end=' ')\n",
    "    \n",
    "    return"
   ]
  },
  {
   "cell_type": "code",
   "execution_count": 10,
   "metadata": {},
   "outputs": [],
   "source": [
    "from collections import deque"
   ]
  },
  {
   "cell_type": "code",
   "execution_count": 11,
   "metadata": {},
   "outputs": [],
   "source": [
    "# level order traversal (bfs)\n",
    "\n",
    "def level_order_traversal(root: TreeNode):\n",
    "    if not root:\n",
    "        return \n",
    "    \n",
    "    # initialize a queue\n",
    "    queue = deque()\n",
    "    queue.append(root)\n",
    "    \n",
    "    while queue:\n",
    "        curr = queue.popleft()\n",
    "        print(curr.val, end=' ')\n",
    "        \n",
    "        if curr.left:\n",
    "            queue.append(curr.left)\n",
    "        \n",
    "        if curr.right:\n",
    "            queue.append(curr.right)\n",
    "            \n",
    "    return"
   ]
  },
  {
   "cell_type": "code",
   "execution_count": 14,
   "metadata": {},
   "outputs": [],
   "source": [
    "# height of a tree\n",
    "\n",
    "def height(root: TreeNode):\n",
    "    # base case\n",
    "    if not root:\n",
    "        return 0\n",
    "    \n",
    "    left_height = height(root.left)\n",
    "    right_height = height(root.right)\n",
    "    \n",
    "    return max(left_height, right_height) + 1"
   ]
  },
  {
   "cell_type": "code",
   "execution_count": null,
   "metadata": {},
   "outputs": [],
   "source": [
    "# print at distance k\n",
    "\n",
    "def print_at_dist_k(root: TreeNode, k: int):\n",
    "    # base cases\n",
    "    if not root:\n",
    "        return \n",
    "    \n",
    "    if (k == 0):\n",
    "        print(root.val, end=' ')\n",
    "        return\n",
    "    \n",
    "    print_at_dist_k(root.left, k-1)\n",
    "    print_at_dist_k(root.right, k-1)\n",
    "    \n",
    "    return"
   ]
  },
  {
   "cell_type": "code",
   "execution_count": 32,
   "metadata": {},
   "outputs": [],
   "source": [
    "# count nodes in a binary tree\n",
    "\n",
    "def cnt_nodes(root: TreeNode) -> int:\n",
    "    # base case\n",
    "    if not root:\n",
    "        return 0\n",
    "    \n",
    "    left_cnt = cnt_nodes(root.left)\n",
    "    right_cnt = cnt_nodes(root.right)\n",
    "    \n",
    "    return left_cnt + right_cnt + 1"
   ]
  },
  {
   "cell_type": "code",
   "execution_count": 34,
   "metadata": {},
   "outputs": [],
   "source": [
    "# maximum value in a binary tree\n",
    "import math\n",
    "\n",
    "def max_val(root: TreeNode) -> int:\n",
    "    # base case\n",
    "    if not root:\n",
    "        return -math.inf\n",
    "    \n",
    "    left_val = max_val(root.left)\n",
    "    right_val = max_val(root.right)\n",
    "    \n",
    "    return max(left_val, right_val, root.val)"
   ]
  },
  {
   "cell_type": "code",
   "execution_count": 38,
   "metadata": {},
   "outputs": [],
   "source": [
    "# line by line level order traversal\n",
    "\n",
    "def line_by_line_lot(root: TreeNode):\n",
    "    if not root:\n",
    "        return\n",
    "    \n",
    "    # initialize a queue\n",
    "    queue = deque()\n",
    "    queue.append(root)\n",
    "    \n",
    "    while queue:\n",
    "        # get the number of nodes in the current level\n",
    "        cnt = len(queue)\n",
    "        \n",
    "        for _ in range(cnt):\n",
    "            curr = queue.popleft()\n",
    "            print(curr.val, end= ' ')\n",
    "            \n",
    "            if curr.left:\n",
    "                queue.append(curr.left)\n",
    "            \n",
    "            if curr.right:\n",
    "                queue.append(curr.right)\n",
    "                \n",
    "        print()\n",
    "        \n",
    "    return"
   ]
  },
  {
   "cell_type": "code",
   "execution_count": 18,
   "metadata": {},
   "outputs": [],
   "source": [
    "# build a tree\n",
    "\n",
    "root = TreeNode(0)\n",
    "root.left = TreeNode(1)\n",
    "root.right = TreeNode(2)\n",
    "root.left.left = TreeNode(3)\n",
    "root.left.right = TreeNode(4)\n",
    "root.right.left = TreeNode(5)\n",
    "root.right.right = TreeNode(6)\n",
    "root.left.left.left = TreeNode(7)\n",
    "root.left.left.right = TreeNode(8)\n",
    "root.right.left.left = TreeNode(9)\n",
    "root.right.left.right = TreeNode(10)"
   ]
  },
  {
   "cell_type": "code",
   "execution_count": 19,
   "metadata": {},
   "outputs": [
    {
     "name": "stdout",
     "output_type": "stream",
     "text": [
      "7 3 8 1 4 0 9 5 10 2 6 "
     ]
    }
   ],
   "source": [
    "# inorder traversal\n",
    "inorder_traversal(root)"
   ]
  },
  {
   "cell_type": "code",
   "execution_count": 20,
   "metadata": {},
   "outputs": [
    {
     "name": "stdout",
     "output_type": "stream",
     "text": [
      "0 1 3 7 8 4 2 5 9 10 6 "
     ]
    }
   ],
   "source": [
    "# preorder traversal\n",
    "preorder_traversal(root)"
   ]
  },
  {
   "cell_type": "code",
   "execution_count": 21,
   "metadata": {},
   "outputs": [
    {
     "name": "stdout",
     "output_type": "stream",
     "text": [
      "7 8 3 4 1 9 10 5 6 2 0 "
     ]
    }
   ],
   "source": [
    "# postorder traversal\n",
    "postorder_traversal(root)"
   ]
  },
  {
   "cell_type": "code",
   "execution_count": 22,
   "metadata": {},
   "outputs": [
    {
     "name": "stdout",
     "output_type": "stream",
     "text": [
      "0 1 2 3 4 5 6 7 8 9 10 "
     ]
    }
   ],
   "source": [
    "# level order traversal\n",
    "level_order_traversal(root)"
   ]
  },
  {
   "cell_type": "code",
   "execution_count": 23,
   "metadata": {},
   "outputs": [
    {
     "data": {
      "text/plain": [
       "4"
      ]
     },
     "execution_count": 23,
     "metadata": {},
     "output_type": "execute_result"
    }
   ],
   "source": [
    "# height of the tree\n",
    "height(root)"
   ]
  },
  {
   "cell_type": "code",
   "execution_count": 30,
   "metadata": {},
   "outputs": [
    {
     "name": "stdout",
     "output_type": "stream",
     "text": [
      "7 8 9 10 "
     ]
    }
   ],
   "source": [
    "print_at_dist_k(root, k=3)"
   ]
  },
  {
   "cell_type": "code",
   "execution_count": 33,
   "metadata": {},
   "outputs": [
    {
     "data": {
      "text/plain": [
       "11"
      ]
     },
     "execution_count": 33,
     "metadata": {},
     "output_type": "execute_result"
    }
   ],
   "source": [
    "# count nodes\n",
    "cnt_nodes(root)"
   ]
  },
  {
   "cell_type": "code",
   "execution_count": 35,
   "metadata": {},
   "outputs": [
    {
     "data": {
      "text/plain": [
       "10"
      ]
     },
     "execution_count": 35,
     "metadata": {},
     "output_type": "execute_result"
    }
   ],
   "source": [
    "max_val(root)"
   ]
  },
  {
   "cell_type": "code",
   "execution_count": 39,
   "metadata": {},
   "outputs": [
    {
     "name": "stdout",
     "output_type": "stream",
     "text": [
      "0 \n",
      "1 2 \n",
      "3 4 5 6 \n",
      "7 8 9 10 \n"
     ]
    }
   ],
   "source": [
    "line_by_line_lot(root)"
   ]
  }
 ],
 "metadata": {
  "kernelspec": {
   "display_name": "Python 3",
   "language": "python",
   "name": "python3"
  },
  "language_info": {
   "codemirror_mode": {
    "name": "ipython",
    "version": 3
   },
   "file_extension": ".py",
   "mimetype": "text/x-python",
   "name": "python",
   "nbconvert_exporter": "python",
   "pygments_lexer": "ipython3",
   "version": "3.11.5"
  }
 },
 "nbformat": 4,
 "nbformat_minor": 2
}
