{
 "cells": [
  {
   "cell_type": "code",
   "execution_count": 10,
   "metadata": {},
   "outputs": [
    {
     "name": "stdout",
     "output_type": "stream",
     "text": [
      "True\n"
     ]
    }
   ],
   "source": [
    "## check if the given number is a binary number or Not\n",
    "def checkBinary(n: int) -> bool:\n",
    "    while (n > 0):\n",
    "        ld = n % 10\n",
    "        if ld not in (0, 1):\n",
    "            return False\n",
    "        \n",
    "        n = n // 10\n",
    "        \n",
    "    return True\n",
    "\n",
    "n = 1001101110001010101111010\n",
    "is_binary = checkBinary(n)\n",
    "print(is_binary)"
   ]
  },
  {
   "cell_type": "markdown",
   "metadata": {},
   "source": [
    "#### Basic Maths:"
   ]
  },
  {
   "cell_type": "code",
   "execution_count": 5,
   "metadata": {},
   "outputs": [
    {
     "name": "stdout",
     "output_type": "stream",
     "text": [
      "[2, 4, 5, 6, 3, 2, 9, 8, 7, 7]\n"
     ]
    }
   ],
   "source": [
    "## extract the all the digits of a given number in reverse order\n",
    "\n",
    "def extractDigits(n: int) -> list[int]:\n",
    "    res = []\n",
    "    while (n > 0):\n",
    "        last_digit = n % 10\n",
    "        res.append(last_digit)\n",
    "        \n",
    "        n = n // 10\n",
    "    \n",
    "    return res\n",
    "\n",
    "n = 7789236542\n",
    "digits = extractDigits(n)\n",
    "print(digits) "
   ]
  },
  {
   "cell_type": "code",
   "execution_count": 8,
   "metadata": {},
   "outputs": [
    {
     "name": "stdout",
     "output_type": "stream",
     "text": [
      "1\n"
     ]
    }
   ],
   "source": [
    "## count the number of digits\n",
    "\n",
    "def cntDigits(n: int) -> int:\n",
    "    cnt = 0\n",
    "    while (n > 0):\n",
    "        n = n // 10\n",
    "        cnt += 1\n",
    "    return cnt\n",
    "\n",
    "n = 5\n",
    "print(cntDigits(n))"
   ]
  },
  {
   "cell_type": "code",
   "execution_count": 10,
   "metadata": {},
   "outputs": [
    {
     "data": {
      "text/plain": [
       "4"
      ]
     },
     "execution_count": 10,
     "metadata": {},
     "output_type": "execute_result"
    }
   ],
   "source": [
    "import math\n",
    "\n",
    "## alternative way to count number of digits\n",
    "int(math.log10(7789) + 1)"
   ]
  },
  {
   "cell_type": "code",
   "execution_count": 12,
   "metadata": {},
   "outputs": [
    {
     "name": "stdout",
     "output_type": "stream",
     "text": [
      "100401\n"
     ]
    }
   ],
   "source": [
    "## reverse the given num\n",
    "def reverse(num: int) -> int:\n",
    "    rev_num = 0\n",
    "    while (num > 0):\n",
    "        last_digit = num % 10\n",
    "        rev_num = (rev_num * 10) + last_digit\n",
    "        num = num // 10\n",
    "    return rev_num\n",
    "\n",
    "num = 104001\n",
    "rev = reverse(num)\n",
    "print(rev)"
   ]
  },
  {
   "cell_type": "code",
   "execution_count": 20,
   "metadata": {},
   "outputs": [
    {
     "name": "stdout",
     "output_type": "stream",
     "text": [
      "True\n"
     ]
    }
   ],
   "source": [
    "## check palindrome\n",
    "def isPalindrome(n: int):\n",
    "    num = n\n",
    "    rev_num = 0\n",
    "    while (num > 0):\n",
    "        last_digit = num % 10\n",
    "        rev_num = (rev_num * 10) + last_digit\n",
    "        num = num // 10\n",
    "    return rev_num == n\n",
    "\n",
    "num = 121\n",
    "print(isPalindrome(num))"
   ]
  },
  {
   "cell_type": "code",
   "execution_count": 11,
   "metadata": {},
   "outputs": [
    {
     "name": "stdout",
     "output_type": "stream",
     "text": [
      "True\n"
     ]
    }
   ],
   "source": [
    "import math\n",
    "\n",
    "## Armstrong Number\n",
    "def checkArmstrong(n: int) -> bool:\n",
    "    num = n\n",
    "    \n",
    "    ## get the number of digits\n",
    "    digits = int(math.log10(num) + 1)\n",
    "    res = 0\n",
    "    \n",
    "    while (num > 0):\n",
    "        ld = num % 10\n",
    "        res = res + (ld ** digits)\n",
    "        num = num // 10\n",
    "        \n",
    "    return res == n\n",
    "\n",
    "n = 1634\n",
    "print(checkArmstrong(n))"
   ]
  },
  {
   "cell_type": "code",
   "execution_count": 13,
   "metadata": {},
   "outputs": [
    {
     "name": "stdout",
     "output_type": "stream",
     "text": [
      "1 2 3 4 6 8 9 12 18 24 36 72 "
     ]
    }
   ],
   "source": [
    "## print all divisors\n",
    "def printDivisor(n: int) -> None:\n",
    "    for i in range(1, n+1):\n",
    "        if (n % i) == 0:\n",
    "            print(i, end=' ')\n",
    "    return\n",
    "\n",
    "printDivisor(72)"
   ]
  },
  {
   "cell_type": "code",
   "execution_count": 15,
   "metadata": {},
   "outputs": [
    {
     "name": "stdout",
     "output_type": "stream",
     "text": [
      "1 36 2 18 3 12 4 9 6 "
     ]
    }
   ],
   "source": [
    "## print all divisors (factors)\n",
    "## T.C: O(sqrt(n))\n",
    "def printFactors(n: int):\n",
    "    i = 1\n",
    "    while (i*i) <= n:\n",
    "        if (n % i) == 0:\n",
    "            print(i, end=' ')\n",
    "            \n",
    "            if (n // i) != i:\n",
    "                print(n // i, end=' ')\n",
    "        \n",
    "        i += 1\n",
    "        \n",
    "    return\n",
    "\n",
    "printFactors(36)"
   ]
  },
  {
   "cell_type": "code",
   "execution_count": 21,
   "metadata": {},
   "outputs": [
    {
     "name": "stdout",
     "output_type": "stream",
     "text": [
      "False\n"
     ]
    }
   ],
   "source": [
    "\n",
    "## ** prime check **\n",
    "## ** Hint: just count the factors, prime numbers has exactly 2 factors 1 and itself **\n",
    "## ** T.C:- O(sqrt(n)) **\n",
    "\n",
    "def isPrime(n: int) -> bool:\n",
    "    cnt = 0\n",
    "    i = 1\n",
    "    while (i*i) <= n:\n",
    "        if (n % i) == 0:\n",
    "            cnt += 1\n",
    "            \n",
    "            if (n // i) != i:\n",
    "                cnt += 1\n",
    "        i += 1\n",
    "    \n",
    "    if cnt == 2:\n",
    "        return True\n",
    "    \n",
    "    return False\n",
    "\n",
    "n = 4\n",
    "print(isPrime(n))"
   ]
  },
  {
   "cell_type": "code",
   "execution_count": 36,
   "metadata": {},
   "outputs": [
    {
     "name": "stdout",
     "output_type": "stream",
     "text": [
      "41537\n"
     ]
    }
   ],
   "source": [
    "\n",
    "## **204. Count Primes (Leetcode)**\n",
    "\n",
    "def countPrimesNaive(n: int) -> int:\n",
    "    \n",
    "    def isPrime(n):\n",
    "        cnt = 0\n",
    "        i = 1\n",
    "        while (i*i) <= n:\n",
    "            if (n % i) == 0:\n",
    "                cnt += 1\n",
    "                \n",
    "                if (n // i) != i:\n",
    "                    cnt += 1\n",
    "            i += 1\n",
    "        \n",
    "        if cnt == 2:\n",
    "            return True\n",
    "        \n",
    "        return False\n",
    "    \n",
    "    c = 0\n",
    "    for i in range(n):\n",
    "        if isPrime(i):\n",
    "            c += 1\n",
    "    return c\n",
    "\n",
    "\n",
    "## ** The Sieve of Eratosthenes algorithm **\n",
    "\n",
    "def countPrimes(n: int) -> int:\n",
    "    if n <= 1:\n",
    "        return 0\n",
    "    \n",
    "    is_prime = [True]*n\n",
    "    \n",
    "    is_prime[0] = is_prime[1] = False\n",
    "    i = 2\n",
    "    \n",
    "    while (i*i) <= n:\n",
    "        if is_prime[i]:\n",
    "            ## if i is a prime number then all the multiples of i starting from i^2 to n is not prime\n",
    "            for j in range(i*i, n, i):\n",
    "                is_prime[j] = False\n",
    "        \n",
    "        i += 1\n",
    "    \n",
    "    return sum(is_prime)\n",
    "\n",
    "n = 499979\n",
    "print(countPrimes(n))"
   ]
  },
  {
   "cell_type": "code",
   "execution_count": 39,
   "metadata": {},
   "outputs": [
    {
     "name": "stdout",
     "output_type": "stream",
     "text": [
      "4\n"
     ]
    }
   ],
   "source": [
    "## GCD/HCF\n",
    "def gcd(n1: int, n2: int) -> int:\n",
    "    gcd = 1\n",
    "    i = min(n1, n2)\n",
    "    \n",
    "    while (i >= 1):\n",
    "        if (n1 % i) == 0 and (n2 % i) == 0:\n",
    "            gcd = i\n",
    "            break\n",
    "        \n",
    "        i -= 1\n",
    "    \n",
    "    return gcd\n",
    "\n",
    "n1 = 122364; n2 = 9272\n",
    "print(gcd(n1, n2))"
   ]
  },
  {
   "cell_type": "code",
   "execution_count": 41,
   "metadata": {},
   "outputs": [
    {
     "name": "stdout",
     "output_type": "stream",
     "text": [
      "3\n"
     ]
    }
   ],
   "source": [
    "def gcd(n1, n2):\n",
    "    while (n1 > 0) and (n2 > 0):\n",
    "        if (n1 > n2):\n",
    "            n1 = n1 % n2\n",
    "        else:\n",
    "            n2 = n2 % n1\n",
    "    \n",
    "    return n2 if n1 == 0 else n1\n",
    "\n",
    "print(gcd(9, 12))"
   ]
  },
  {
   "cell_type": "code",
   "execution_count": 44,
   "metadata": {},
   "outputs": [
    {
     "name": "stdout",
     "output_type": "stream",
     "text": [
      "1\n"
     ]
    }
   ],
   "source": [
    "\n",
    "## ** 1979. Find Greatest Common Divisor of Array **\n",
    "\n",
    "def findGCD(nums: list[int]) -> int:\n",
    "    \n",
    "    def getGCD(n1, n2):\n",
    "        \n",
    "        while (n1 > 0) and (n2 > 0):\n",
    "            if (n1 > n2):\n",
    "                n1 = n1 % n2\n",
    "            else:\n",
    "                n2 = n2 % n1\n",
    "    \n",
    "        return n2 if n1 == 0 else n1\n",
    "    \n",
    "    mn, mx = min(nums), max(nums)\n",
    "    \n",
    "    return getGCD(mn, mx)\n",
    "\n",
    "nums = [7,5,6,8,3]\n",
    "print(findGCD(nums))"
   ]
  },
  {
   "cell_type": "code",
   "execution_count": 16,
   "metadata": {},
   "outputs": [
    {
     "name": "stdout",
     "output_type": "stream",
     "text": [
      "1009976\n"
     ]
    }
   ],
   "source": [
    "## LCM of 2 numbers\n",
    "def lcm(a, b):\n",
    "    \n",
    "    def GCD(n1, n2):\n",
    "        \n",
    "        while (n1 > 0) and (n2 > 0):\n",
    "            if (n1 > n2):\n",
    "                n1 = n1 % n2\n",
    "            else:\n",
    "                n2 = n2 % n1\n",
    "    \n",
    "        return n2 if n1 == 0 else n1\n",
    "    \n",
    "    return (a * b) // GCD(a, b)\n",
    "\n",
    "a, b = 1996, 2024\n",
    "print(lcm(a, b))"
   ]
  },
  {
   "cell_type": "code",
   "execution_count": null,
   "metadata": {},
   "outputs": [],
   "source": []
  },
  {
   "cell_type": "code",
   "execution_count": 1,
   "metadata": {},
   "outputs": [
    {
     "data": {
      "text/plain": [
       "{1, 2, 3}"
      ]
     },
     "execution_count": 1,
     "metadata": {},
     "output_type": "execute_result"
    }
   ],
   "source": [
    "s = {3, 1, 2}\n",
    "s"
   ]
  },
  {
   "cell_type": "code",
   "execution_count": 2,
   "metadata": {},
   "outputs": [],
   "source": [
    "s.remove(3)"
   ]
  },
  {
   "cell_type": "code",
   "execution_count": 3,
   "metadata": {},
   "outputs": [
    {
     "data": {
      "text/plain": [
       "{1, 2}"
      ]
     },
     "execution_count": 3,
     "metadata": {},
     "output_type": "execute_result"
    }
   ],
   "source": [
    "s"
   ]
  },
  {
   "cell_type": "code",
   "execution_count": 5,
   "metadata": {},
   "outputs": [
    {
     "data": {
      "text/plain": [
       "{3: 0, 1: 1, 2: 1}"
      ]
     },
     "execution_count": 5,
     "metadata": {},
     "output_type": "execute_result"
    }
   ],
   "source": [
    "d = {3:0, 1:1, 2:1}\n",
    "d\n"
   ]
  },
  {
   "cell_type": "code",
   "execution_count": 7,
   "metadata": {},
   "outputs": [
    {
     "data": {
      "text/plain": [
       "{1: 1, 2: 1}"
      ]
     },
     "execution_count": 7,
     "metadata": {},
     "output_type": "execute_result"
    }
   ],
   "source": [
    "if d[3] == 0:\n",
    "    d.pop(3)\n",
    "\n",
    "d"
   ]
  },
  {
   "cell_type": "code",
   "execution_count": 2,
   "metadata": {},
   "outputs": [
    {
     "name": "stdout",
     "output_type": "stream",
     "text": [
      "1\n",
      "1\n",
      "0\n"
     ]
    }
   ],
   "source": [
    "graph = [[1,1,0],[1,1,0],[0,0,1]]\n",
    "\n",
    "for v in graph[0]:\n",
    "    print(v)"
   ]
  },
  {
   "cell_type": "code",
   "execution_count": 3,
   "metadata": {},
   "outputs": [
    {
     "name": "stdout",
     "output_type": "stream",
     "text": [
      "-1 -1\n",
      "-1 0\n",
      "-1 1\n",
      "0 -1\n",
      "0 0\n",
      "0 1\n",
      "1 -1\n",
      "1 0\n",
      "1 1\n"
     ]
    }
   ],
   "source": [
    "for i in range(-1, 2, 1):\n",
    "    for j in range(-1, 2, 1):\n",
    "        print(i, j)"
   ]
  }
 ],
 "metadata": {
  "kernelspec": {
   "display_name": "base",
   "language": "python",
   "name": "python3"
  },
  "language_info": {
   "codemirror_mode": {
    "name": "ipython",
    "version": 3
   },
   "file_extension": ".py",
   "mimetype": "text/x-python",
   "name": "python",
   "nbconvert_exporter": "python",
   "pygments_lexer": "ipython3",
   "version": "3.11.4"
  }
 },
 "nbformat": 4,
 "nbformat_minor": 2
}
