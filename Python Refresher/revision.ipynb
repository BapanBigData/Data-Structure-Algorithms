{
 "cells": [
  {
   "cell_type": "code",
   "execution_count": 1,
   "metadata": {},
   "outputs": [
    {
     "data": {
      "text/plain": [
       "6"
      ]
     },
     "execution_count": 1,
     "metadata": {},
     "output_type": "execute_result"
    }
   ],
   "source": [
    "# get the second largest element in a given array\n",
    "import math\n",
    "\n",
    "\n",
    "def get_second_largest(nums: list[int]) -> int:\n",
    "    \n",
    "    def solver():\n",
    "        n = len(nums)\n",
    "        largest = max(nums)\n",
    "        second = -math.inf\n",
    "        for i in range(n):\n",
    "            if nums[i] > second and nums[i] < largest:\n",
    "                second = nums[i]\n",
    "        return second\n",
    "    \n",
    "    return solver()\n",
    "\n",
    "nums = [0, 2, 1, 3, 5, 7, 4, 6]\n",
    "get_second_largest(nums)"
   ]
  },
  {
   "cell_type": "code",
   "execution_count": 2,
   "metadata": {},
   "outputs": [
    {
     "data": {
      "text/plain": [
       "(False, False)"
      ]
     },
     "execution_count": 2,
     "metadata": {},
     "output_type": "execute_result"
    }
   ],
   "source": [
    "# check a given array is sorted or Not\n",
    "# recursive soln\n",
    "\n",
    "def is_sorted(nums: list[int]) -> bool:\n",
    "    n = len(nums)\n",
    "    \n",
    "    def solver(i):\n",
    "        # base case\n",
    "        if i == (n-1) or i == n:\n",
    "            return True\n",
    "        \n",
    "        if nums[i+1] >= nums[i]:\n",
    "            return solver(i+1)\n",
    "        else:\n",
    "            return False\n",
    "        \n",
    "    def solver1():\n",
    "        for i in range(1, n):\n",
    "            if nums[i] < nums[i-1]:\n",
    "                return False\n",
    "        \n",
    "        return True\n",
    "    \n",
    "    return solver(0), solver1()\n",
    "\n",
    "nums = [0, 1, 3, 4, 5, 6, 2, 7, 8, 9]\n",
    "is_sorted(nums)"
   ]
  },
  {
   "cell_type": "code",
   "execution_count": 3,
   "metadata": {},
   "outputs": [
    {
     "name": "stdout",
     "output_type": "stream",
     "text": [
      "5\n"
     ]
    }
   ],
   "source": [
    "# remove duplicates from sorted array\n",
    "\n",
    "def remove_duplicates(nums: list[int]) -> int:\n",
    "    n = len(nums)\n",
    "    i = 0\n",
    "    for j in range(1, n):\n",
    "        if nums[i] != nums[j]:\n",
    "            nums[i+1] = nums[j]\n",
    "        \n",
    "            i += 1\n",
    "        \n",
    "    return i+1\n",
    "\n",
    "nums = [0, 1, 1, 1, 1, 2, 2, 3, 3, 4]\n",
    "print(remove_duplicates(nums))\n"
   ]
  },
  {
   "cell_type": "code",
   "execution_count": 7,
   "metadata": {},
   "outputs": [
    {
     "data": {
      "text/plain": [
       "[4, 5, 6, 7, 1, 2, 3]"
      ]
     },
     "execution_count": 7,
     "metadata": {},
     "output_type": "execute_result"
    }
   ],
   "source": [
    "# left rotate\n",
    "\n",
    "def reverse(s, e):\n",
    "    while (e >= s):\n",
    "        nums[s], nums[e] = nums[e], nums[s]\n",
    "        s += 1\n",
    "        e -= 1\n",
    "    return\n",
    "\n",
    "def left_rotate(nums: list[int], k: int) -> None:\n",
    "    n = len(nums)\n",
    "    \n",
    "    reverse(0, k-1)\n",
    "    reverse(k, n-1)\n",
    "    reverse(0, n-1)\n",
    "    \n",
    "    return\n",
    "\n",
    "nums = [1, 2, 3, 4, 5, 6, 7]\n",
    "k = 3\n",
    "left_rotate(nums, k)\n",
    "nums"
   ]
  },
  {
   "cell_type": "code",
   "execution_count": 8,
   "metadata": {},
   "outputs": [
    {
     "data": {
      "text/plain": [
       "[5, 6, 1, 2, 3, 4]"
      ]
     },
     "execution_count": 8,
     "metadata": {},
     "output_type": "execute_result"
    }
   ],
   "source": [
    "# right rotate\n",
    "\n",
    "def right_rotate(nums, k):\n",
    "    n = len(nums)\n",
    "    \n",
    "    reverse(0, n-k-1)\n",
    "    reverse(n-k, n-1)\n",
    "    reverse(0, n-1)\n",
    "    \n",
    "    return\n",
    "\n",
    "nums = [1, 2, 3, 4, 5, 6]\n",
    "k = 2\n",
    "right_rotate(nums, k)\n",
    "nums"
   ]
  },
  {
   "cell_type": "code",
   "execution_count": 9,
   "metadata": {},
   "outputs": [
    {
     "data": {
      "text/plain": [
       "[1, 2, 3, 4, 5, 6, 7, 8]"
      ]
     },
     "execution_count": 9,
     "metadata": {},
     "output_type": "execute_result"
    }
   ],
   "source": [
    "# sort the array \n",
    "# merge sort\n",
    "\n",
    "def merge(arr, arr1, arr2):\n",
    "    n = len(arr1)\n",
    "    m = len(arr2)\n",
    "    i, j, k = 0, 0, 0\n",
    "    \n",
    "    while (i < n) and (j < m):\n",
    "        if arr1[i] <= arr2[j]:\n",
    "            arr[k] = arr1[i]\n",
    "            i += 1\n",
    "        else:\n",
    "            arr[k] = arr2[j]\n",
    "            j += 1\n",
    "        \n",
    "        k += 1\n",
    "    \n",
    "    while (i < n):\n",
    "        arr[k] = arr1[i]\n",
    "        i += 1\n",
    "        k += 1\n",
    "    \n",
    "    while (j < m):\n",
    "        arr[k] = arr2[j]\n",
    "        j += 1\n",
    "        k += 1\n",
    "        \n",
    "    return\n",
    "\n",
    "def merge_sort(arr):\n",
    "    n = len(arr)\n",
    "    \n",
    "    # base case\n",
    "    if (n == 1) or (n == 0):\n",
    "        return arr\n",
    "    \n",
    "    arr1 = arr[:(n//2)]\n",
    "    arr2 = arr[(n//2):]\n",
    "    \n",
    "    merge_sort(arr1)\n",
    "    merge_sort(arr2)\n",
    "    \n",
    "    # merge two sorted array\n",
    "    merge(arr, arr1, arr2)\n",
    "    return\n",
    "\n",
    "arr = [8, 4, 7, 3, 2, 6, 5, 1]\n",
    "merge_sort(arr)\n",
    "arr"
   ]
  },
  {
   "cell_type": "code",
   "execution_count": 12,
   "metadata": {},
   "outputs": [
    {
     "data": {
      "text/plain": [
       "[0, 1, 2, 3, 4, 5, 6, 7, 8, 9]"
      ]
     },
     "execution_count": 12,
     "metadata": {},
     "output_type": "execute_result"
    }
   ],
   "source": [
    "arr = [9, 8, 7, 6, 5, 4, 3, 2, 1, 0]\n",
    "merge_sort(arr)\n",
    "arr"
   ]
  },
  {
   "cell_type": "code",
   "execution_count": 13,
   "metadata": {},
   "outputs": [
    {
     "data": {
      "text/plain": [
       "2"
      ]
     },
     "execution_count": 13,
     "metadata": {},
     "output_type": "execute_result"
    }
   ],
   "source": [
    "## missing number\n",
    "\n",
    "def missing_number(nums: list[int]) -> int:\n",
    "    n = len(nums)\n",
    "    hash_arr = [0] * (n+1)\n",
    "    \n",
    "    for num in nums:\n",
    "        hash_arr[num] = 1\n",
    "    \n",
    "    for i in range(n+1):\n",
    "        if hash_arr[i] == 0:\n",
    "            return i\n",
    "\n",
    "nums = [3, 0, 1]\n",
    "missing_number(nums)"
   ]
  },
  {
   "cell_type": "code",
   "execution_count": 14,
   "metadata": {},
   "outputs": [
    {
     "data": {
      "text/plain": [
       "3"
      ]
     },
     "execution_count": 14,
     "metadata": {},
     "output_type": "execute_result"
    }
   ],
   "source": [
    "# Max Consecutive Ones\n",
    "\n",
    "def max_consecutive(nums: list[int]) -> int:\n",
    "    res = 0\n",
    "    max_cons = 0\n",
    "    \n",
    "    for num in nums:\n",
    "        if num == 1:\n",
    "            max_cons += 1\n",
    "            res = max(res, max_cons)\n",
    "        else:\n",
    "            max_cons = 0\n",
    "            \n",
    "    return max_cons\n",
    "\n",
    "nums = [1, 1, 0, 1, 1, 1]\n",
    "max_consecutive(nums)"
   ]
  },
  {
   "cell_type": "code",
   "execution_count": 16,
   "metadata": {},
   "outputs": [
    {
     "data": {
      "text/plain": [
       "6"
      ]
     },
     "execution_count": 16,
     "metadata": {},
     "output_type": "execute_result"
    }
   ],
   "source": [
    "# maximum subarray sum\n",
    "import math\n",
    "\n",
    "def max_subarray_sum(nums: list[int]) -> int:\n",
    "    max_summ = -math.inf\n",
    "    curr_summ = 0\n",
    "    for num in nums:\n",
    "        if curr_summ < 0:\n",
    "            curr_summ = 0\n",
    "        \n",
    "        curr_summ += num\n",
    "        max_summ = max(max_summ, curr_summ)\n",
    "        \n",
    "    return max_summ\n",
    "\n",
    "nums = [-2, 1, -3, 4, -1, 2, 1, -5, 4]\n",
    "max_subarray_sum(nums)"
   ]
  },
  {
   "cell_type": "code",
   "execution_count": 21,
   "metadata": {},
   "outputs": [
    {
     "data": {
      "text/plain": [
       "3"
      ]
     },
     "execution_count": 21,
     "metadata": {},
     "output_type": "execute_result"
    }
   ],
   "source": [
    "# longest subarray with given sum k\n",
    "# 1 <= nums.length <= 2 * 104\n",
    "# -1000 <= nums[i] <= 1000\n",
    "# -107 <= k <= 107\n",
    "\n",
    "def longest_subarray_sum(nums: list[int], k: int) -> int:\n",
    "    n = len(nums)\n",
    "    curr_summ = 0\n",
    "    mp = {}\n",
    "    lenn = 0\n",
    "    \n",
    "    for i in range(n):\n",
    "        curr_summ += nums[i]\n",
    "        \n",
    "        if curr_summ == k:\n",
    "            lenn = max(lenn, i+1)\n",
    "        \n",
    "        if (curr_summ - k) in mp:\n",
    "            lenn = max(lenn, (i - mp[curr_summ-k]))\n",
    "        \n",
    "        if curr_summ not in mp:\n",
    "            mp[curr_summ] = i\n",
    "            \n",
    "    return lenn\n",
    "\n",
    "nums = [-2, 1, -3, 4, -1, 2, 1, -5, 4]\n",
    "longest_subarray_sum(nums, -4)"
   ]
  },
  {
   "cell_type": "code",
   "execution_count": 22,
   "metadata": {},
   "outputs": [
    {
     "data": {
      "text/plain": [
       "[1, 0]"
      ]
     },
     "execution_count": 22,
     "metadata": {},
     "output_type": "execute_result"
    }
   ],
   "source": [
    "# Two sum\n",
    "\n",
    "def two_sum(nums: list[int], target: int) -> list[int]:\n",
    "    n = len(nums)\n",
    "    mp = {}\n",
    "    for i in range(n):\n",
    "        if (target - nums[i]) in mp:\n",
    "            return [i, mp[target-nums[i]]]\n",
    "        else:\n",
    "            mp[nums[i]] = i\n",
    "            \n",
    "    return [-1, -1]\n",
    "\n",
    "arr = [2, 7, 11, 15]; target = 9\n",
    "two_sum(arr, target)"
   ]
  }
 ],
 "metadata": {
  "kernelspec": {
   "display_name": "Python 3",
   "language": "python",
   "name": "python3"
  },
  "language_info": {
   "codemirror_mode": {
    "name": "ipython",
    "version": 3
   },
   "file_extension": ".py",
   "mimetype": "text/x-python",
   "name": "python",
   "nbconvert_exporter": "python",
   "pygments_lexer": "ipython3",
   "version": "3.11.5"
  }
 },
 "nbformat": 4,
 "nbformat_minor": 2
}
