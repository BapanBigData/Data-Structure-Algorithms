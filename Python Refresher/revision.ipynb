{
 "cells": [
  {
   "cell_type": "code",
   "execution_count": 1,
   "metadata": {},
   "outputs": [
    {
     "data": {
      "text/plain": [
       "6"
      ]
     },
     "execution_count": 1,
     "metadata": {},
     "output_type": "execute_result"
    }
   ],
   "source": [
    "# get the second largest element in a given array\n",
    "import math\n",
    "\n",
    "\n",
    "def get_second_largest(nums: list[int]) -> int:\n",
    "    \n",
    "    def solver():\n",
    "        n = len(nums)\n",
    "        largest = max(nums)\n",
    "        second = -math.inf\n",
    "        for i in range(n):\n",
    "            if nums[i] > second and nums[i] < largest:\n",
    "                second = nums[i]\n",
    "        return second\n",
    "    \n",
    "    return solver()\n",
    "\n",
    "nums = [0, 2, 1, 3, 5, 7, 4, 6]\n",
    "get_second_largest(nums)"
   ]
  },
  {
   "cell_type": "code",
   "execution_count": 2,
   "metadata": {},
   "outputs": [
    {
     "data": {
      "text/plain": [
       "(False, False)"
      ]
     },
     "execution_count": 2,
     "metadata": {},
     "output_type": "execute_result"
    }
   ],
   "source": [
    "# check a given array is sorted or Not\n",
    "# recursive soln\n",
    "\n",
    "def is_sorted(nums: list[int]) -> bool:\n",
    "    n = len(nums)\n",
    "    \n",
    "    def solver(i):\n",
    "        # base case\n",
    "        if i == (n-1) or i == n:\n",
    "            return True\n",
    "        \n",
    "        if nums[i+1] >= nums[i]:\n",
    "            return solver(i+1)\n",
    "        else:\n",
    "            return False\n",
    "        \n",
    "    def solver1():\n",
    "        for i in range(1, n):\n",
    "            if nums[i] < nums[i-1]:\n",
    "                return False\n",
    "        \n",
    "        return True\n",
    "    \n",
    "    return solver(0), solver1()\n",
    "\n",
    "nums = [0, 1, 3, 4, 5, 6, 2, 7, 8, 9]\n",
    "is_sorted(nums)"
   ]
  },
  {
   "cell_type": "code",
   "execution_count": 3,
   "metadata": {},
   "outputs": [
    {
     "name": "stdout",
     "output_type": "stream",
     "text": [
      "5\n"
     ]
    }
   ],
   "source": [
    "# remove duplicates from sorted array\n",
    "\n",
    "def remove_duplicates(nums: list[int]) -> int:\n",
    "    n = len(nums)\n",
    "    i = 0\n",
    "    for j in range(1, n):\n",
    "        if nums[i] != nums[j]:\n",
    "            nums[i+1] = nums[j]\n",
    "        \n",
    "            i += 1\n",
    "        \n",
    "    return i+1\n",
    "\n",
    "nums = [0, 1, 1, 1, 1, 2, 2, 3, 3, 4]\n",
    "print(remove_duplicates(nums))\n"
   ]
  },
  {
   "cell_type": "code",
   "execution_count": 4,
   "metadata": {},
   "outputs": [
    {
     "data": {
      "text/plain": [
       "[4, 5, 6, 7, 1, 2, 3]"
      ]
     },
     "execution_count": 4,
     "metadata": {},
     "output_type": "execute_result"
    }
   ],
   "source": [
    "# left rotate\n",
    "\n",
    "def reverse(s, e):\n",
    "    while (e >= s):\n",
    "        nums[s], nums[e] = nums[e], nums[s]\n",
    "        s += 1\n",
    "        e -= 1\n",
    "    return\n",
    "\n",
    "def left_rotate(nums: list[int], k: int) -> None:\n",
    "    n = len(nums)\n",
    "    \n",
    "    reverse(0, k-1)\n",
    "    reverse(k, n-1)\n",
    "    reverse(0, n-1)\n",
    "    \n",
    "    return\n",
    "\n",
    "nums = [1, 2, 3, 4, 5, 6, 7]\n",
    "k = 3\n",
    "left_rotate(nums, k)\n",
    "nums"
   ]
  },
  {
   "cell_type": "code",
   "execution_count": 5,
   "metadata": {},
   "outputs": [
    {
     "data": {
      "text/plain": [
       "[5, 6, 1, 2, 3, 4]"
      ]
     },
     "execution_count": 5,
     "metadata": {},
     "output_type": "execute_result"
    }
   ],
   "source": [
    "# right rotate\n",
    "\n",
    "def right_rotate(nums, k):\n",
    "    n = len(nums)\n",
    "    \n",
    "    reverse(0, n-k-1)\n",
    "    reverse(n-k, n-1)\n",
    "    reverse(0, n-1)\n",
    "    \n",
    "    return\n",
    "\n",
    "nums = [1, 2, 3, 4, 5, 6]\n",
    "k = 2\n",
    "right_rotate(nums, k)\n",
    "nums"
   ]
  },
  {
   "cell_type": "code",
   "execution_count": 6,
   "metadata": {},
   "outputs": [
    {
     "data": {
      "text/plain": [
       "[1, 2, 3, 4, 5, 6, 7, 8]"
      ]
     },
     "execution_count": 6,
     "metadata": {},
     "output_type": "execute_result"
    }
   ],
   "source": [
    "# sort the array \n",
    "# merge sort\n",
    "\n",
    "def merge(arr, arr1, arr2):\n",
    "    n = len(arr1)\n",
    "    m = len(arr2)\n",
    "    i, j, k = 0, 0, 0\n",
    "    \n",
    "    while (i < n) and (j < m):\n",
    "        if arr1[i] <= arr2[j]:\n",
    "            arr[k] = arr1[i]\n",
    "            i += 1\n",
    "        else:\n",
    "            arr[k] = arr2[j]\n",
    "            j += 1\n",
    "        \n",
    "        k += 1\n",
    "    \n",
    "    while (i < n):\n",
    "        arr[k] = arr1[i]\n",
    "        i += 1\n",
    "        k += 1\n",
    "    \n",
    "    while (j < m):\n",
    "        arr[k] = arr2[j]\n",
    "        j += 1\n",
    "        k += 1\n",
    "        \n",
    "    return\n",
    "\n",
    "def merge_sort(arr):\n",
    "    n = len(arr)\n",
    "    \n",
    "    # base case\n",
    "    if (n == 1) or (n == 0):\n",
    "        return arr\n",
    "    \n",
    "    arr1 = arr[:(n//2)]\n",
    "    arr2 = arr[(n//2):]\n",
    "    \n",
    "    merge_sort(arr1)\n",
    "    merge_sort(arr2)\n",
    "    \n",
    "    # merge two sorted array\n",
    "    merge(arr, arr1, arr2)\n",
    "    return\n",
    "\n",
    "arr = [8, 4, 7, 3, 2, 6, 5, 1]\n",
    "merge_sort(arr)\n",
    "arr"
   ]
  },
  {
   "cell_type": "code",
   "execution_count": 7,
   "metadata": {},
   "outputs": [
    {
     "data": {
      "text/plain": [
       "[0, 1, 2, 3, 4, 5, 6, 7, 8, 9]"
      ]
     },
     "execution_count": 7,
     "metadata": {},
     "output_type": "execute_result"
    }
   ],
   "source": [
    "arr = [9, 8, 7, 6, 5, 4, 3, 2, 1, 0]\n",
    "merge_sort(arr)\n",
    "arr"
   ]
  },
  {
   "cell_type": "code",
   "execution_count": 8,
   "metadata": {},
   "outputs": [
    {
     "data": {
      "text/plain": [
       "2"
      ]
     },
     "execution_count": 8,
     "metadata": {},
     "output_type": "execute_result"
    }
   ],
   "source": [
    "## missing number\n",
    "\n",
    "def missing_number(nums: list[int]) -> int:\n",
    "    n = len(nums)\n",
    "    hash_arr = [0] * (n+1)\n",
    "    \n",
    "    for num in nums:\n",
    "        hash_arr[num] = 1\n",
    "    \n",
    "    for i in range(n+1):\n",
    "        if hash_arr[i] == 0:\n",
    "            return i\n",
    "\n",
    "nums = [3, 0, 1]\n",
    "missing_number(nums)"
   ]
  },
  {
   "cell_type": "code",
   "execution_count": 9,
   "metadata": {},
   "outputs": [
    {
     "data": {
      "text/plain": [
       "3"
      ]
     },
     "execution_count": 9,
     "metadata": {},
     "output_type": "execute_result"
    }
   ],
   "source": [
    "# Max Consecutive Ones\n",
    "\n",
    "def max_consecutive(nums: list[int]) -> int:\n",
    "    res = 0\n",
    "    max_cons = 0\n",
    "    \n",
    "    for num in nums:\n",
    "        if num == 1:\n",
    "            max_cons += 1\n",
    "            res = max(res, max_cons)\n",
    "        else:\n",
    "            max_cons = 0\n",
    "            \n",
    "    return max_cons\n",
    "\n",
    "nums = [1, 1, 0, 1, 1, 1]\n",
    "max_consecutive(nums)"
   ]
  },
  {
   "cell_type": "code",
   "execution_count": 10,
   "metadata": {},
   "outputs": [
    {
     "data": {
      "text/plain": [
       "6"
      ]
     },
     "execution_count": 10,
     "metadata": {},
     "output_type": "execute_result"
    }
   ],
   "source": [
    "# maximum subarray sum\n",
    "import math\n",
    "\n",
    "def max_subarray_sum(nums: list[int]) -> int:\n",
    "    max_summ = -math.inf\n",
    "    curr_summ = 0\n",
    "    for num in nums:\n",
    "        if curr_summ < 0:\n",
    "            curr_summ = 0\n",
    "        \n",
    "        curr_summ += num\n",
    "        max_summ = max(max_summ, curr_summ)\n",
    "        \n",
    "    return max_summ\n",
    "\n",
    "nums = [-2, 1, -3, 4, -1, 2, 1, -5, 4]\n",
    "max_subarray_sum(nums)"
   ]
  },
  {
   "cell_type": "code",
   "execution_count": 11,
   "metadata": {},
   "outputs": [
    {
     "data": {
      "text/plain": [
       "3"
      ]
     },
     "execution_count": 11,
     "metadata": {},
     "output_type": "execute_result"
    }
   ],
   "source": [
    "# longest subarray with given sum k\n",
    "# 1 <= nums.length <= 2 * 104\n",
    "# -1000 <= nums[i] <= 1000\n",
    "# -107 <= k <= 107\n",
    "\n",
    "def longest_subarray_sum(nums: list[int], k: int) -> int:\n",
    "    n = len(nums)\n",
    "    curr_summ = 0\n",
    "    mp = {}\n",
    "    lenn = 0\n",
    "    \n",
    "    for i in range(n):\n",
    "        curr_summ += nums[i]\n",
    "        \n",
    "        if curr_summ == k:\n",
    "            lenn = max(lenn, i+1)\n",
    "        \n",
    "        if (curr_summ - k) in mp:\n",
    "            lenn = max(lenn, (i - mp[curr_summ-k]))\n",
    "        \n",
    "        if curr_summ not in mp:\n",
    "            mp[curr_summ] = i\n",
    "            \n",
    "    return lenn\n",
    "\n",
    "nums = [-2, 1, -3, 4, -1, 2, 1, -5, 4]\n",
    "longest_subarray_sum(nums, -4)"
   ]
  },
  {
   "cell_type": "code",
   "execution_count": 12,
   "metadata": {},
   "outputs": [
    {
     "data": {
      "text/plain": [
       "[1, 0]"
      ]
     },
     "execution_count": 12,
     "metadata": {},
     "output_type": "execute_result"
    }
   ],
   "source": [
    "# Two sum\n",
    "\n",
    "def two_sum(nums: list[int], target: int) -> list[int]:\n",
    "    n = len(nums)\n",
    "    mp = {}\n",
    "    for i in range(n):\n",
    "        if (target - nums[i]) in mp:\n",
    "            return [i, mp[target-nums[i]]]\n",
    "        else:\n",
    "            mp[nums[i]] = i\n",
    "            \n",
    "    return [-1, -1]\n",
    "\n",
    "arr = [2, 7, 11, 15]; target = 9\n",
    "two_sum(arr, target)"
   ]
  },
  {
   "cell_type": "code",
   "execution_count": 17,
   "metadata": {},
   "outputs": [
    {
     "data": {
      "text/plain": [
       "True"
      ]
     },
     "execution_count": 17,
     "metadata": {},
     "output_type": "execute_result"
    }
   ],
   "source": [
    "# Balanced parenthesis\n",
    "\n",
    "def balanced(open: str, close: str) -> bool:\n",
    "    return (open == '(' and close == ')') or (open == '{' and close == '}') or (open == '[' and close == ']')\n",
    "\n",
    "def is_balanced(s: str) -> bool:\n",
    "    stack = []\n",
    "    \n",
    "    for e in s:\n",
    "        if e in ('(', '{', '['):\n",
    "            stack.append(e)\n",
    "        else:\n",
    "            if not stack:\n",
    "                return False\n",
    "            else:\n",
    "                if not balanced(open=stack[-1], close=e):\n",
    "                    return False\n",
    "                else:\n",
    "                    stack.pop()\n",
    "                    \n",
    "    if not stack:\n",
    "        return True\n",
    "    \n",
    "    return False\n",
    "\n",
    "s = '[{()}]{}()[((((((((({{{{}}}})))))))))]'\n",
    "is_balanced(s)"
   ]
  },
  {
   "cell_type": "code",
   "execution_count": 5,
   "metadata": {},
   "outputs": [
    {
     "data": {
      "text/plain": [
       "-6"
      ]
     },
     "execution_count": 5,
     "metadata": {},
     "output_type": "execute_result"
    }
   ],
   "source": [
    "# Given a string s which represents an expression, evaluate this expression and return its value.\n",
    "## Note: The integer division should truncate toward zero.\n",
    "\n",
    "def calculator(expression: str) -> int:\n",
    "    n = len(expression)\n",
    "    \n",
    "    # initializing a stack\n",
    "    stack = []\n",
    "    operator = '+'\n",
    "    \n",
    "    i = 0\n",
    "    while (i < n):\n",
    "        ch = expression[i]\n",
    "        \n",
    "        if ch.isdigit():\n",
    "            val = 0\n",
    "            while (i < n) and (expression[i].isdigit()):\n",
    "                val = (val * 10) + int(expression[i])\n",
    "                i += 1\n",
    "                \n",
    "            i -= 1   # adjust the index \n",
    "            \n",
    "            if operator == '+':\n",
    "                stack.append(val)\n",
    "            elif operator == '-':\n",
    "                stack.append(-val)\n",
    "            elif operator == '*':\n",
    "                x = stack.pop()\n",
    "                stack.append((x*val))\n",
    "            elif operator == '/':\n",
    "                x = stack.pop()\n",
    "                stack.append(int(x / val))\n",
    "            \n",
    "        elif ch != ' ':\n",
    "            operator = ch\n",
    "        \n",
    "        i += 1\n",
    "    \n",
    "    res = 0\n",
    "    while stack:\n",
    "        res += stack.pop()\n",
    "        \n",
    "    return res\n",
    "\n",
    "\n",
    "expression = \"-31 + 22 * 4 / 3 - 2 / 2 - 1 * 3\"\n",
    "calculator(expression)\n"
   ]
  },
  {
   "cell_type": "code",
   "execution_count": 6,
   "metadata": {},
   "outputs": [],
   "source": [
    "\n",
    "class Node:\n",
    "    \n",
    "    def __init__(self, val, next=None):\n",
    "        self.val = val\n",
    "        self.next = next"
   ]
  },
  {
   "cell_type": "code",
   "execution_count": 9,
   "metadata": {},
   "outputs": [],
   "source": [
    "node = Node(5)\n",
    "# help(node)"
   ]
  },
  {
   "cell_type": "code",
   "execution_count": 10,
   "metadata": {},
   "outputs": [
    {
     "name": "stdout",
     "output_type": "stream",
     "text": [
      "5\n",
      "None\n"
     ]
    }
   ],
   "source": [
    "print(node.val)\n",
    "print(node.next)"
   ]
  },
  {
   "cell_type": "code",
   "execution_count": 11,
   "metadata": {},
   "outputs": [],
   "source": [
    "\n",
    "def print_list(head: Node):\n",
    "    curr = head\n",
    "    while curr is not None:\n",
    "        print(curr.val, end=' ')\n",
    "        curr = curr.next\n",
    "    print()"
   ]
  },
  {
   "cell_type": "code",
   "execution_count": 12,
   "metadata": {},
   "outputs": [
    {
     "name": "stdout",
     "output_type": "stream",
     "text": [
      "10 9 12 5 3 \n"
     ]
    }
   ],
   "source": [
    "# let's build a linked list\n",
    "head = Node(10)\n",
    "head.next = Node(9)\n",
    "head.next.next = Node(12)\n",
    "head.next.next.next = Node(5)\n",
    "head.next.next.next.next = Node(3)\n",
    "\n",
    "print_list(head)"
   ]
  },
  {
   "cell_type": "code",
   "execution_count": 13,
   "metadata": {},
   "outputs": [],
   "source": [
    "\n",
    "def insert_at_begin(head: Node, key: int) -> Node:\n",
    "    temp = Node(key)\n",
    "    temp.next = head\n",
    "    return temp"
   ]
  },
  {
   "cell_type": "code",
   "execution_count": 14,
   "metadata": {},
   "outputs": [
    {
     "name": "stdout",
     "output_type": "stream",
     "text": [
      "0 10 9 12 5 3 \n"
     ]
    }
   ],
   "source": [
    "head = insert_at_begin(head, key=0)\n",
    "print_list(head)"
   ]
  },
  {
   "cell_type": "code",
   "execution_count": 15,
   "metadata": {},
   "outputs": [
    {
     "name": "stdout",
     "output_type": "stream",
     "text": [
      "3 5 12 9 10 0 \n"
     ]
    }
   ],
   "source": [
    "lst = [0, 10, 9, 12, 5, 3]\n",
    "\n",
    "head = None\n",
    "for num in lst:\n",
    "    head = insert_at_begin(head, num)\n",
    "\n",
    "print_list(head)"
   ]
  },
  {
   "cell_type": "code",
   "execution_count": 19,
   "metadata": {},
   "outputs": [],
   "source": [
    "\n",
    "def insert_at_end(head, key):\n",
    "    temp = Node(key)\n",
    "    if not head:\n",
    "        return temp \n",
    "    \n",
    "    curr = head\n",
    "    while curr.next:\n",
    "        curr = curr.next\n",
    "    \n",
    "    curr.next = temp\n",
    "    return head"
   ]
  },
  {
   "cell_type": "code",
   "execution_count": 17,
   "metadata": {},
   "outputs": [
    {
     "name": "stdout",
     "output_type": "stream",
     "text": [
      "3 5 12 9 10 0 16 \n"
     ]
    }
   ],
   "source": [
    "head = insert_at_end(head, 16)\n",
    "print_list(head)"
   ]
  },
  {
   "cell_type": "code",
   "execution_count": 21,
   "metadata": {},
   "outputs": [
    {
     "name": "stdout",
     "output_type": "stream",
     "text": [
      "1 3 2 5 0 10 \n"
     ]
    }
   ],
   "source": [
    "nums = [1, 3, 2, 5, 0, 10]\n",
    "\n",
    "head = None\n",
    "for num in nums:\n",
    "    head = insert_at_end(head, num)\n",
    "\n",
    "print_list(head)"
   ]
  },
  {
   "cell_type": "code",
   "execution_count": 22,
   "metadata": {},
   "outputs": [],
   "source": [
    "\n",
    "def delete_at_begin(head: Node):\n",
    "    if not head or not head.next:\n",
    "        return None\n",
    "    \n",
    "    temp = head.next\n",
    "    head.next = None\n",
    "    return temp"
   ]
  },
  {
   "cell_type": "code",
   "execution_count": 23,
   "metadata": {},
   "outputs": [
    {
     "name": "stdout",
     "output_type": "stream",
     "text": [
      "3 2 5 0 10 \n"
     ]
    }
   ],
   "source": [
    "head = delete_at_begin(head)\n",
    "print_list(head)"
   ]
  },
  {
   "cell_type": "code",
   "execution_count": 24,
   "metadata": {},
   "outputs": [],
   "source": [
    "\n",
    "def delete_at_end(head: Node):\n",
    "    if not head or not head.next:\n",
    "        return None\n",
    "    \n",
    "    curr = head\n",
    "    while curr.next.next:\n",
    "        curr = curr.next\n",
    "    \n",
    "    curr.next = None\n",
    "    return head"
   ]
  },
  {
   "cell_type": "code",
   "execution_count": 25,
   "metadata": {},
   "outputs": [
    {
     "name": "stdout",
     "output_type": "stream",
     "text": [
      "3 2 5 0 \n"
     ]
    }
   ],
   "source": [
    "head = delete_at_end(head)\n",
    "print_list(head)"
   ]
  }
 ],
 "metadata": {
  "kernelspec": {
   "display_name": "Python 3",
   "language": "python",
   "name": "python3"
  },
  "language_info": {
   "codemirror_mode": {
    "name": "ipython",
    "version": 3
   },
   "file_extension": ".py",
   "mimetype": "text/x-python",
   "name": "python",
   "nbconvert_exporter": "python",
   "pygments_lexer": "ipython3",
   "version": "3.11.5"
  }
 },
 "nbformat": 4,
 "nbformat_minor": 2
}
