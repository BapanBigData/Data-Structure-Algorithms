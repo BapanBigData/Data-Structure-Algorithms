{
 "cells": [
  {
   "cell_type": "code",
   "execution_count": 1,
   "metadata": {},
   "outputs": [
    {
     "data": {
      "text/plain": [
       "1"
      ]
     },
     "execution_count": 1,
     "metadata": {},
     "output_type": "execute_result"
    }
   ],
   "source": [
    "## lambda function -> syntax: lambda argument: expression\n",
    "\n",
    "# Write a lambda function to add two numbers.\n",
    "\n",
    "func = lambda x, y: x + y\n",
    "func(-1, 2)"
   ]
  },
  {
   "cell_type": "code",
   "execution_count": 2,
   "metadata": {},
   "outputs": [
    {
     "data": {
      "text/plain": [
       "True"
      ]
     },
     "execution_count": 2,
     "metadata": {},
     "output_type": "execute_result"
    }
   ],
   "source": [
    "# Check if a number is even\n",
    "even_check = lambda x: x % 2 == 0\n",
    "even_check(30)"
   ]
  },
  {
   "cell_type": "code",
   "execution_count": 3,
   "metadata": {},
   "outputs": [
    {
     "data": {
      "text/plain": [
       "[(4, 0), (3, 1), (5, 1), (2, 3)]"
      ]
     },
     "execution_count": 3,
     "metadata": {},
     "output_type": "execute_result"
    }
   ],
   "source": [
    "# Sort a list of tuples based on the second value\n",
    "\n",
    "x = [(3, 1), (2, 3), (4, 0), (5, 1)]\n",
    "x.sort(key=lambda x: x[1])\n",
    "x"
   ]
  },
  {
   "cell_type": "code",
   "execution_count": 4,
   "metadata": {},
   "outputs": [
    {
     "data": {
      "text/plain": [
       "[4, 2, 0, 6, 8, 12, 4]"
      ]
     },
     "execution_count": 4,
     "metadata": {},
     "output_type": "execute_result"
    }
   ],
   "source": [
    "# map function -> map(function, iterable)\n",
    "# double the elements in a list\n",
    "nums = [2, 1, 0, 3, 4, 6, 2]\n",
    "\n",
    "func = lambda x: 2*x\n",
    "\n",
    "doubled_nums = list(map(func, nums))\n",
    "doubled_nums"
   ]
  },
  {
   "cell_type": "code",
   "execution_count": 5,
   "metadata": {},
   "outputs": [
    {
     "data": {
      "text/plain": [
       "['1', '0', '3', '2', '5']"
      ]
     },
     "execution_count": 5,
     "metadata": {},
     "output_type": "execute_result"
    }
   ],
   "source": [
    "# Convert a list of integers to strings using map() and lambda.\n",
    "ip = [1, 0, 3, 2, 5]\n",
    "\n",
    "func = lambda x: str(x)\n",
    "\n",
    "output = list(map(func, ip))\n",
    "output"
   ]
  },
  {
   "cell_type": "code",
   "execution_count": 6,
   "metadata": {},
   "outputs": [
    {
     "data": {
      "text/plain": [
       "['Bapan', 'Nikita', 'Sayan', 'Puja']"
      ]
     },
     "execution_count": 6,
     "metadata": {},
     "output_type": "execute_result"
    }
   ],
   "source": [
    "# Apply a function to capitalize all names in a list of strings.\n",
    "names = ['bapan', 'nikita', 'sayan', 'puja']\n",
    "\n",
    "func = lambda name: name.capitalize()\n",
    "\n",
    "out = list(map(func, names))\n",
    "out"
   ]
  },
  {
   "cell_type": "code",
   "execution_count": 7,
   "metadata": {},
   "outputs": [
    {
     "data": {
      "text/plain": [
       "[1, 3, 7, 9]"
      ]
     },
     "execution_count": 7,
     "metadata": {},
     "output_type": "execute_result"
    }
   ],
   "source": [
    "# Filter Function -> syntax: filter(function, iterable)\n",
    "\n",
    "# Get only odd numbers\n",
    "\n",
    "nums = [0, 1, 3, 2, 4, 6, 7, 9, 10, 12]\n",
    "\n",
    "func = lambda x: (x % 2) != 0\n",
    "out = list(filter(func, nums))\n",
    "out"
   ]
  },
  {
   "cell_type": "code",
   "execution_count": 8,
   "metadata": {},
   "outputs": [
    {
     "data": {
      "text/plain": [
       "['Amit', 'ayan', 'Ankita']"
      ]
     },
     "execution_count": 8,
     "metadata": {},
     "output_type": "execute_result"
    }
   ],
   "source": [
    "# Extract names starting with 'A' from a list using filter().\n",
    "\n",
    "names = ['Amit', 'Bapan', 'ayan', 'Ankita', 'Sumit']\n",
    "func = lambda x: x[0] == 'a' or x[0] == 'A'\n",
    "\n",
    "out = list(filter(func, names))\n",
    "out "
   ]
  },
  {
   "cell_type": "code",
   "execution_count": 9,
   "metadata": {},
   "outputs": [
    {
     "data": {
      "text/plain": [
       "[37, 38, 49, 45, 22, 50, 22, 39, 25, 31, 36, 60, 44, 49, 55]"
      ]
     },
     "execution_count": 9,
     "metadata": {},
     "output_type": "execute_result"
    }
   ],
   "source": [
    "# Filter a list of ages to get people who are above 18.\n",
    "import random\n",
    "ages = []\n",
    "\n",
    "for _ in range(20):\n",
    "    ages.append(random.randint(1, 60))\n",
    "    \n",
    "func = lambda x : x > 18\n",
    "out = list(filter(func, ages))\n",
    "out"
   ]
  },
  {
   "cell_type": "code",
   "execution_count": 10,
   "metadata": {},
   "outputs": [],
   "source": [
    "from functools import reduce"
   ]
  },
  {
   "cell_type": "code",
   "execution_count": 11,
   "metadata": {},
   "outputs": [
    {
     "data": {
      "text/plain": [
       "45"
      ]
     },
     "execution_count": 11,
     "metadata": {},
     "output_type": "execute_result"
    }
   ],
   "source": [
    "# Use reduce() to find the sum of a list of numbers.\n",
    "nums = [0, 1, 2, 3, 4, 5, 6, 7, 8, 9]\n",
    "\n",
    "func = lambda x, y: x + y\n",
    "out = reduce(func, nums)\n",
    "out "
   ]
  },
  {
   "cell_type": "code",
   "execution_count": 12,
   "metadata": {},
   "outputs": [
    {
     "data": {
      "text/plain": [
       "'elephant'"
      ]
     },
     "execution_count": 12,
     "metadata": {},
     "output_type": "execute_result"
    }
   ],
   "source": [
    "# Longest string in a list\n",
    "strings = [\"cat\", \"elephant\", \"dog\"]\n",
    "\n",
    "func = lambda x, y: x if len(x) > len(y) else y\n",
    "out = reduce(func, strings)\n",
    "out"
   ]
  },
  {
   "cell_type": "code",
   "execution_count": 13,
   "metadata": {},
   "outputs": [
    {
     "data": {
      "text/plain": [
       "120"
      ]
     },
     "execution_count": 13,
     "metadata": {},
     "output_type": "execute_result"
    }
   ],
   "source": [
    "# Factorial of a number \n",
    "\n",
    "num = 5\n",
    "func = lambda x, y: x * y\n",
    "out = reduce(func, range(1, num+1))\n",
    "out"
   ]
  },
  {
   "cell_type": "code",
   "execution_count": 14,
   "metadata": {},
   "outputs": [
    {
     "data": {
      "text/plain": [
       "[4, 16, 36]"
      ]
     },
     "execution_count": 14,
     "metadata": {},
     "output_type": "execute_result"
    }
   ],
   "source": [
    "# Squares of even numbers\n",
    "numbers = [1, 2, 3, 4, 5, 6]\n",
    "\n",
    "# function to filter the even numbers\n",
    "func = lambda x: (x % 2) == 0 \n",
    "func1 = lambda x: x*x\n",
    "\n",
    "out = list(map(func1, list(filter(func, numbers))))\n",
    "out\n"
   ]
  },
  {
   "cell_type": "code",
   "execution_count": 15,
   "metadata": {},
   "outputs": [
    {
     "data": {
      "text/plain": [
       "285"
      ]
     },
     "execution_count": 15,
     "metadata": {},
     "output_type": "execute_result"
    }
   ],
   "source": [
    "# Sum of squares\n",
    "nums = [0, 1, 2, 3, 4, 5, 6, 7, 8, 9]\n",
    "\n",
    "func = lambda x: x * x\n",
    "func1 = lambda x, y: x + y\n",
    "\n",
    "out = reduce(func1, list(map(func, nums)))\n",
    "out"
   ]
  },
  {
   "cell_type": "code",
   "execution_count": 22,
   "metadata": {},
   "outputs": [
    {
     "data": {
      "text/plain": [
       "False"
      ]
     },
     "execution_count": 22,
     "metadata": {},
     "output_type": "execute_result"
    }
   ],
   "source": [
    "# check if the given number is binary or Not\n",
    "\n",
    "def check_binary(n: int) -> bool:\n",
    "    while (n > 0):\n",
    "        ld = n % 10\n",
    "        if ld not in (0, 1):\n",
    "            return False\n",
    "        \n",
    "        n = n // 10\n",
    "    \n",
    "    return True\n",
    "\n",
    "num = 102\n",
    "check_binary(num)"
   ]
  },
  {
   "cell_type": "code",
   "execution_count": 24,
   "metadata": {},
   "outputs": [
    {
     "data": {
      "text/plain": [
       "5"
      ]
     },
     "execution_count": 24,
     "metadata": {},
     "output_type": "execute_result"
    }
   ],
   "source": [
    "# count digits\n",
    "\n",
    "def cnt_digits(num: int) -> int:\n",
    "    cnt = 0\n",
    "    while (num > 0):\n",
    "        cnt += 1\n",
    "        num = num // 10\n",
    "    \n",
    "    return cnt\n",
    "\n",
    "num = 12364\n",
    "cnt_digits(num)"
   ]
  },
  {
   "cell_type": "code",
   "execution_count": 26,
   "metadata": {},
   "outputs": [
    {
     "data": {
      "text/plain": [
       "2321"
      ]
     },
     "execution_count": 26,
     "metadata": {},
     "output_type": "execute_result"
    }
   ],
   "source": [
    "# reverse a number\n",
    "\n",
    "def reverse(num: int) -> int:\n",
    "    rev_num = 0\n",
    "    while (num > 0):\n",
    "        ld = num % 10\n",
    "        rev_num = (rev_num * 10) + ld\n",
    "        num = num // 10\n",
    "    \n",
    "    return rev_num\n",
    "\n",
    "reverse(1232)"
   ]
  },
  {
   "cell_type": "code",
   "execution_count": 33,
   "metadata": {},
   "outputs": [
    {
     "data": {
      "text/plain": [
       "True"
      ]
     },
     "execution_count": 33,
     "metadata": {},
     "output_type": "execute_result"
    }
   ],
   "source": [
    "# check the given number is armstrong number or Not\n",
    "\n",
    "def check(num: int) -> int:\n",
    "    res = 0\n",
    "    n = num\n",
    "    \n",
    "    # get the number of digits\n",
    "    digits = cnt_digits(num)\n",
    "    \n",
    "    while (n > 0):\n",
    "        ld = n % 10\n",
    "        res = res + (ld ** digits)\n",
    "        n = n // 10\n",
    "    \n",
    "    return res == num\n",
    "\n",
    "num = 1634\n",
    "check(num)"
   ]
  },
  {
   "cell_type": "code",
   "execution_count": 37,
   "metadata": {},
   "outputs": [
    {
     "name": "stdout",
     "output_type": "stream",
     "text": [
      "1 3 9 "
     ]
    }
   ],
   "source": [
    "# print all divisors (factors) of a given number\n",
    "\n",
    "def print_divisor(n: int):\n",
    "    for i in range(1, n+1):\n",
    "        if (n % i) == 0:\n",
    "            print(i, end=' ')\n",
    "\n",
    "print_divisor(9)"
   ]
  },
  {
   "cell_type": "code",
   "execution_count": 48,
   "metadata": {},
   "outputs": [
    {
     "data": {
      "text/plain": [
       "[1, 18, 2, 9, 3, 6]"
      ]
     },
     "execution_count": 48,
     "metadata": {},
     "output_type": "execute_result"
    }
   ],
   "source": [
    "# let's get the factors (divisors) in O(sqrt(n))\n",
    "\n",
    "def get_factors(num: int) -> list:\n",
    "    res = []\n",
    "    i = 1\n",
    "    while (i*i) <= num:\n",
    "        if (num % i) == 0:\n",
    "            res.append(i)\n",
    "        \n",
    "            if (num // i) != i:\n",
    "                res.append(num//i)\n",
    "        \n",
    "        i += 1\n",
    "    \n",
    "    return res\n",
    "\n",
    "get_factors(18)"
   ]
  },
  {
   "cell_type": "code",
   "execution_count": 56,
   "metadata": {},
   "outputs": [
    {
     "data": {
      "text/plain": [
       "False"
      ]
     },
     "execution_count": 56,
     "metadata": {},
     "output_type": "execute_result"
    }
   ],
   "source": [
    "# prime numbers\n",
    "# prime number are those whose number of factors is 2\n",
    "\n",
    "def check_prime(num: int) -> bool:\n",
    "    cnt = 0\n",
    "    i = 1\n",
    "    while (i*i) <= num:\n",
    "        if (num % i) == 0:\n",
    "            cnt += 1\n",
    "            \n",
    "            if (num // i) != i:\n",
    "                cnt += 1\n",
    "        \n",
    "        i += 1\n",
    "    \n",
    "    if cnt == 2:\n",
    "        return True\n",
    "    \n",
    "    return False\n",
    "\n",
    "check_prime(87)"
   ]
  },
  {
   "cell_type": "code",
   "execution_count": 60,
   "metadata": {},
   "outputs": [
    {
     "data": {
      "text/plain": [
       "1"
      ]
     },
     "execution_count": 60,
     "metadata": {},
     "output_type": "execute_result"
    }
   ],
   "source": [
    "# gcd/hcf of two numbers\n",
    "\n",
    "def gcd(n1: int, n2: int) -> int:\n",
    "    gcd = 1\n",
    "    i = 1\n",
    "    while i <= min(n1, n2):\n",
    "        if (n1 % i) == 0 and (n2 % i) == 0:\n",
    "            gcd = i\n",
    "        \n",
    "        i += 1\n",
    "        \n",
    "    return gcd\n",
    "\n",
    "gcd(11, 13)"
   ]
  },
  {
   "cell_type": "code",
   "execution_count": 61,
   "metadata": {},
   "outputs": [
    {
     "data": {
      "text/plain": [
       "63.0"
      ]
     },
     "execution_count": 61,
     "metadata": {},
     "output_type": "execute_result"
    }
   ],
   "source": [
    "# lcm -> least common multiple\n",
    "\n",
    "def lcm(n1: int, n2: int):\n",
    "    return (n1 * n2) / gcd(n1, n2)\n",
    "\n",
    "lcm(7, 9)"
   ]
  },
  {
   "cell_type": "code",
   "execution_count": 62,
   "metadata": {},
   "outputs": [
    {
     "data": {
      "text/plain": [
       "[2, 3, 4, 1]"
      ]
     },
     "execution_count": 62,
     "metadata": {},
     "output_type": "execute_result"
    }
   ],
   "source": [
    "# left rotate an array by one place\n",
    "\n",
    "def left_rotate(nums: list[int]):\n",
    "    n = len(nums)\n",
    "    temp = nums[0]\n",
    "    \n",
    "    for i in range(1, n):\n",
    "        nums[i-1] = nums[i]\n",
    "    \n",
    "    nums[n-1] = temp\n",
    "    return\n",
    "\n",
    "nums = [1, 2, 3, 4]\n",
    "left_rotate(nums)\n",
    "nums"
   ]
  },
  {
   "cell_type": "code",
   "execution_count": 64,
   "metadata": {},
   "outputs": [
    {
     "data": {
      "text/plain": [
       "[1, 2, 3, 4, 5]"
      ]
     },
     "execution_count": 64,
     "metadata": {},
     "output_type": "execute_result"
    }
   ],
   "source": [
    "# left rotate by k\n",
    "\n",
    "def left_rotate_k(arr, k):\n",
    "    n = len(arr)\n",
    "    k = k % n\n",
    "    return arr[k:] + arr[:k]\n",
    "\n",
    "arr, k = [1, 2, 3, 4, 5], 2\n",
    "left_rotate_k(arr, k)\n",
    "arr"
   ]
  },
  {
   "cell_type": "code",
   "execution_count": 65,
   "metadata": {},
   "outputs": [
    {
     "data": {
      "text/plain": [
       "[5, 4, 3, 2, 1]"
      ]
     },
     "execution_count": 65,
     "metadata": {},
     "output_type": "execute_result"
    }
   ],
   "source": [
    "# reverse an array\n",
    "\n",
    "def reverse(nums: list[int]):\n",
    "    n = len(nums)\n",
    "    s, e = 0, n-1\n",
    "    while (e >= s):\n",
    "        nums[s], nums[e] = nums[e], nums[s]\n",
    "        s += 1\n",
    "        e -= 1\n",
    "    \n",
    "    return\n",
    "\n",
    "nums = [1, 2, 3, 4, 5]\n",
    "reverse(nums)\n",
    "nums"
   ]
  },
  {
   "cell_type": "code",
   "execution_count": 67,
   "metadata": {},
   "outputs": [
    {
     "data": {
      "text/plain": [
       "[4, 5, 1, 2, 3]"
      ]
     },
     "execution_count": 67,
     "metadata": {},
     "output_type": "execute_result"
    }
   ],
   "source": [
    "# left rotate by k places optimal soln\n",
    "\n",
    "def left_rotate_k(nums: list[int], k):\n",
    "    n = len(nums)\n",
    "    k = k % n\n",
    "    \n",
    "    def reverse(s, e):\n",
    "        while (e >= s):\n",
    "            nums[s], nums[e] = nums[e], nums[s]\n",
    "            s += 1\n",
    "            e -= 1\n",
    "        \n",
    "        return\n",
    "    \n",
    "    reverse(0, k-1)\n",
    "    reverse(k, n-1)\n",
    "    reverse(0, n-1)\n",
    "    \n",
    "    return\n",
    "\n",
    "nums = [1, 2, 3, 4, 5]; k=3\n",
    "left_rotate_k(nums, k)\n",
    "nums"
   ]
  },
  {
   "cell_type": "code",
   "execution_count": 68,
   "metadata": {},
   "outputs": [
    {
     "name": "stdout",
     "output_type": "stream",
     "text": [
      "Year1: $1050.0\n",
      "Year2: $1102.5\n",
      "Year3: $1157.625\n"
     ]
    }
   ],
   "source": [
    "# compunding\n",
    "\n",
    "def compounding(p, r, y):\n",
    "    for i in range(1, y+1):\n",
    "        p += (p * r)\n",
    "        print(f\"Year{i}: ${p}\")\n",
    "    return\n",
    "\n",
    "compounding(p=1000, r=0.05, y=3)"
   ]
  },
  {
   "cell_type": "code",
   "execution_count": 90,
   "metadata": {},
   "outputs": [
    {
     "data": {
      "text/plain": [
       "(500, 500)"
      ]
     },
     "execution_count": 90,
     "metadata": {},
     "output_type": "execute_result"
    }
   ],
   "source": [
    "import random\n",
    "\n",
    "# fair coin simulation\n",
    "\n",
    "def coin_toss(n_trials):\n",
    "    num_heads, num_tails = 0, 0\n",
    "    for _ in range(n_trials):\n",
    "        output = random.choice(['H', 'T'])\n",
    "        \n",
    "        if output == 'H':\n",
    "            num_heads += 1\n",
    "        elif output == 'T':\n",
    "            num_tails += 1\n",
    "    \n",
    "    return num_heads, num_tails\n",
    "\n",
    "coin_toss(1000)"
   ]
  },
  {
   "cell_type": "code",
   "execution_count": 105,
   "metadata": {},
   "outputs": [
    {
     "data": {
      "text/plain": [
       "0.716"
      ]
     },
     "execution_count": 105,
     "metadata": {},
     "output_type": "execute_result"
    }
   ],
   "source": [
    "# what if the coin is not fair? i.e biased coin\n",
    "# simulate a coin whose head probability is 0.7\n",
    "\n",
    "def coin_simulation(n_trials: int=1000, head_proba: float=0.5):\n",
    "    head_cnts = 0\n",
    "    \n",
    "    for _ in range(n_trials):\n",
    "        if random.random() <= head_proba:\n",
    "            head_cnts += 1\n",
    "    \n",
    "    return head_cnts / n_trials\n",
    "\n",
    "coin_simulation(\n",
    "    n_trials=1000,\n",
    "    head_proba=0.7\n",
    ")"
   ]
  },
  {
   "cell_type": "code",
   "execution_count": 94,
   "metadata": {},
   "outputs": [
    {
     "name": "stdout",
     "output_type": "stream",
     "text": [
      "Help on built-in function random:\n",
      "\n",
      "random() method of random.Random instance\n",
      "    random() -> x in the interval [0, 1).\n",
      "\n"
     ]
    }
   ],
   "source": [
    "help(random.random)"
   ]
  },
  {
   "cell_type": "code",
   "execution_count": 113,
   "metadata": {},
   "outputs": [
    {
     "data": {
      "text/plain": [
       "3.504"
      ]
     },
     "execution_count": 113,
     "metadata": {},
     "output_type": "execute_result"
    }
   ],
   "source": [
    "# Simulate dice rolls and calculate the average. Simulate 10,000 rolls of a die and display the average number rolled.\n",
    "\n",
    "def dice_simulation(n_trials):\n",
    "    distn = {}\n",
    "    \n",
    "    for _ in range(n_trials):\n",
    "        roll = random.randint(1, 6)\n",
    "        \n",
    "        if roll in distn:\n",
    "            distn[roll] += 1\n",
    "        else:\n",
    "            distn[roll] = 1\n",
    "    \n",
    "    expected = 0\n",
    "    for k, v in distn.items():\n",
    "        expected += k * (v / n_trials)\n",
    "    \n",
    "    return expected\n",
    "\n",
    "dice_simulation(\n",
    "    n_trials=10000\n",
    ")"
   ]
  },
  {
   "cell_type": "code",
   "execution_count": 107,
   "metadata": {},
   "outputs": [
    {
     "name": "stdout",
     "output_type": "stream",
     "text": [
      "Help on method randint in module random:\n",
      "\n",
      "randint(a, b) method of random.Random instance\n",
      "    Return random integer in range [a, b], including both end points.\n",
      "\n"
     ]
    }
   ],
   "source": [
    "help(random.randint)"
   ]
  }
 ],
 "metadata": {
  "kernelspec": {
   "display_name": "base",
   "language": "python",
   "name": "python3"
  },
  "language_info": {
   "codemirror_mode": {
    "name": "ipython",
    "version": 3
   },
   "file_extension": ".py",
   "mimetype": "text/x-python",
   "name": "python",
   "nbconvert_exporter": "python",
   "pygments_lexer": "ipython3",
   "version": "3.11.4"
  }
 },
 "nbformat": 4,
 "nbformat_minor": 2
}
