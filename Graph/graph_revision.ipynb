{
 "cells": [
  {
   "cell_type": "code",
   "execution_count": 1,
   "metadata": {},
   "outputs": [],
   "source": [
    "\n",
    "class Graph:\n",
    "    \n",
    "    def __init__(self, V):\n",
    "        self.adj = [[] for _ in range(V)]\n",
    "    \n",
    "    def add_edge(self, u, v, undirected=True):\n",
    "        self.adj[u].append(v)\n",
    "        \n",
    "        if undirected:\n",
    "            self.adj[v].append(u)\n",
    "        \n",
    "        return\n",
    "    \n",
    "    def display(self):\n",
    "        for e in self.adj:\n",
    "            print(e)\n",
    "            \n",
    "        return"
   ]
  },
  {
   "cell_type": "code",
   "execution_count": 2,
   "metadata": {},
   "outputs": [],
   "source": [
    "from collections import deque"
   ]
  },
  {
   "cell_type": "code",
   "execution_count": 3,
   "metadata": {},
   "outputs": [],
   "source": [
    "# bfs of a undirected graph (version 1)\n",
    "\n",
    "def bfs(adj_lst: list[list], src: int) -> None:\n",
    "    v = len(adj_lst)\n",
    "    visited = [False] * v\n",
    "    \n",
    "    # initialize a queue\n",
    "    queue = deque()\n",
    "    queue.append(src)\n",
    "    \n",
    "    visited[src] = True\n",
    "    \n",
    "    while queue:\n",
    "        curr = queue.popleft()\n",
    "        print(curr, end=' ')\n",
    "        \n",
    "        for u in adj_lst[curr]:\n",
    "            if not visited[u]:\n",
    "                queue.append(u)\n",
    "                visited[u] = True\n",
    "    \n",
    "    return"
   ]
  },
  {
   "cell_type": "code",
   "execution_count": 4,
   "metadata": {},
   "outputs": [
    {
     "name": "stdout",
     "output_type": "stream",
     "text": [
      "[1, 2]\n",
      "[0, 3, 4]\n",
      "[0, 3]\n",
      "[1, 2, 4]\n",
      "[1, 3]\n",
      "0 1 2 3 4 "
     ]
    }
   ],
   "source": [
    "V = 5\n",
    "graph = Graph(V)\n",
    "\n",
    "graph.add_edge(0, 1)\n",
    "graph.add_edge(0, 2)\n",
    "graph.add_edge(1, 3)\n",
    "graph.add_edge(1, 4)\n",
    "graph.add_edge(2, 3)\n",
    "graph.add_edge(3, 4)\n",
    "\n",
    "graph.display()\n",
    "bfs(adj_lst=graph.adj, src=0)"
   ]
  },
  {
   "cell_type": "code",
   "execution_count": 5,
   "metadata": {},
   "outputs": [],
   "source": [
    "# BFS of a disconnected graph\n",
    "# Generalized bfs traversal of a graph\n",
    "\n",
    "def bfs_utils(vertex: int, adj_lst: list[list], visited: list[bool]) -> None:\n",
    "    # initialize a queue\n",
    "    queue = deque()\n",
    "    queue.append(vertex)\n",
    "    \n",
    "    visited[vertex] = True\n",
    "    \n",
    "    while queue:\n",
    "        curr = queue.popleft()\n",
    "        print(curr, end=' ')\n",
    "        \n",
    "        for u in adj_lst[curr]:\n",
    "            if not visited[u]:\n",
    "                queue.append(u)\n",
    "                visited[u] = True\n",
    "                \n",
    "    return\n",
    "\n",
    "def bfs_traversal(adj_lst: list[list]) -> None:\n",
    "    v = len(adj_lst)\n",
    "    visited = [False] * v\n",
    "    \n",
    "    for vertex in range(v):\n",
    "        if not visited[vertex]:\n",
    "            bfs_utils(vertex, adj_lst, visited)\n",
    "    \n",
    "    return"
   ]
  },
  {
   "cell_type": "code",
   "execution_count": 6,
   "metadata": {},
   "outputs": [],
   "source": [
    "# number of connected components in a graph (undirected graph)\n",
    "\n",
    "def cnt_components_utils(vertex: int, adj_lst: list[list], visited: list[bool]) -> None:\n",
    "    # initialize a queue\n",
    "    queue = deque()\n",
    "    queue.append(vertex)\n",
    "    \n",
    "    visited[vertex] = True\n",
    "    \n",
    "    while queue:\n",
    "        curr = queue.popleft()\n",
    "        \n",
    "        for u in adj_lst[curr]:\n",
    "            if not visited[u]:\n",
    "                queue.append(u)\n",
    "                visited[u] = True\n",
    "                \n",
    "    return\n",
    "\n",
    "def cnt_components(adj_lst: list[list]) -> int:\n",
    "    v = len(adj_lst)\n",
    "    visited = [False] * v\n",
    "    \n",
    "    cnt = 0\n",
    "    for vertex in range(v):\n",
    "        if not visited[vertex]:\n",
    "            cnt += 1\n",
    "            cnt_components_utils(vertex, adj_lst, visited)\n",
    "            \n",
    "    return cnt"
   ]
  },
  {
   "cell_type": "code",
   "execution_count": 7,
   "metadata": {},
   "outputs": [
    {
     "name": "stdout",
     "output_type": "stream",
     "text": [
      "[1, 2]\n",
      "[0, 3]\n",
      "[0, 3]\n",
      "[1, 2]\n",
      "[5, 6]\n",
      "[4, 6]\n",
      "[4, 5]\n",
      "0 1 2 3 4 5 6 "
     ]
    }
   ],
   "source": [
    "# befine a graph with disconnected components\n",
    "V = 7\n",
    "graph = Graph(V)\n",
    "\n",
    "graph.add_edge(0, 1)\n",
    "graph.add_edge(0, 2)\n",
    "graph.add_edge(1, 3)\n",
    "graph.add_edge(2, 3)\n",
    "graph.add_edge(4, 5)\n",
    "graph.add_edge(4, 6)\n",
    "graph.add_edge(5, 6)\n",
    "\n",
    "graph.display()\n",
    "bfs_traversal(adj_lst=graph.adj)"
   ]
  },
  {
   "cell_type": "code",
   "execution_count": 8,
   "metadata": {},
   "outputs": [
    {
     "data": {
      "text/plain": [
       "2"
      ]
     },
     "execution_count": 8,
     "metadata": {},
     "output_type": "execute_result"
    }
   ],
   "source": [
    "cnt_components(\n",
    "    adj_lst=graph.adj\n",
    ")"
   ]
  },
  {
   "cell_type": "code",
   "execution_count": 9,
   "metadata": {},
   "outputs": [],
   "source": [
    "# depth first search\n",
    "\n",
    "def dfs(adj_lst: list[list], src: int):\n",
    "    v = len(adj_lst)\n",
    "    vis = [False] * v\n",
    "    \n",
    "    def solver(vertex):\n",
    "        print(vertex, end=' ')\n",
    "        vis[vertex] = True\n",
    "        \n",
    "        for u in adj_lst[vertex]:\n",
    "            if not vis[u]:\n",
    "                solver(u)\n",
    "                \n",
    "        return\n",
    "    \n",
    "    solver(src)\n",
    "    \n",
    "    return"
   ]
  },
  {
   "cell_type": "code",
   "execution_count": 10,
   "metadata": {},
   "outputs": [
    {
     "name": "stdout",
     "output_type": "stream",
     "text": [
      "0 1 3 5 4 2 "
     ]
    }
   ],
   "source": [
    "V = 6\n",
    "graph = Graph(V)\n",
    "graph.add_edge(0, 1)\n",
    "graph.add_edge(0, 2)\n",
    "graph.add_edge(0, 5)\n",
    "graph.add_edge(1, 3)\n",
    "graph.add_edge(3, 5)\n",
    "graph.add_edge(2, 4)\n",
    "graph.add_edge(4, 5)\n",
    "\n",
    "dfs(graph.adj, 0)"
   ]
  },
  {
   "cell_type": "code",
   "execution_count": 11,
   "metadata": {},
   "outputs": [
    {
     "name": "stdout",
     "output_type": "stream",
     "text": [
      "0 1 3 5 4 2 6 8 9 7 10 "
     ]
    }
   ],
   "source": [
    "# dfs of disconnected graph\n",
    "# Generalized dfs of a graph\n",
    "\n",
    "def dfs_traversal(adj_lst: list[list]) -> None:\n",
    "    v = len(adj_lst)\n",
    "    vis = [False] * v\n",
    "    \n",
    "    def solver(vertex):\n",
    "        print(vertex, end=' ')\n",
    "        vis[vertex] = True\n",
    "        \n",
    "        for u in adj_lst[vertex]:\n",
    "            if not vis[u]:\n",
    "                solver(u)\n",
    "                \n",
    "        return\n",
    "    \n",
    "    for vertex in range(v):\n",
    "        if not vis[vertex]:\n",
    "            solver(vertex)\n",
    "    \n",
    "    return\n",
    "\n",
    "\n",
    "V = 11\n",
    "graph = Graph(V)\n",
    "graph.add_edge(0, 1)\n",
    "graph.add_edge(0, 2)\n",
    "graph.add_edge(0, 5)\n",
    "graph.add_edge(1, 3)\n",
    "graph.add_edge(3, 5)\n",
    "graph.add_edge(2, 4)\n",
    "graph.add_edge(4, 5)\n",
    "\n",
    "graph.add_edge(6, 8)\n",
    "graph.add_edge(6, 7)\n",
    "graph.add_edge(8, 9)\n",
    "graph.add_edge(7, 9)\n",
    "graph.add_edge(9, 10)\n",
    "\n",
    "dfs_traversal(graph.adj)"
   ]
  },
  {
   "cell_type": "code",
   "execution_count": 12,
   "metadata": {},
   "outputs": [
    {
     "data": {
      "text/plain": [
       "[[1, 2, 5],\n",
       " [0, 3],\n",
       " [0, 4],\n",
       " [1, 5],\n",
       " [2, 5],\n",
       " [0, 3, 4],\n",
       " [8, 7],\n",
       " [6, 9],\n",
       " [6, 9],\n",
       " [8, 7, 10],\n",
       " [9]]"
      ]
     },
     "execution_count": 12,
     "metadata": {},
     "output_type": "execute_result"
    }
   ],
   "source": [
    "graph.adj"
   ]
  },
  {
   "cell_type": "code",
   "execution_count": 16,
   "metadata": {},
   "outputs": [
    {
     "data": {
      "text/plain": [
       "2"
      ]
     },
     "execution_count": 16,
     "metadata": {},
     "output_type": "execute_result"
    }
   ],
   "source": [
    "# 994. Rotting Oranges\n",
    "# Medium\n",
    "# BFS (Breadth-First Search)\n",
    "\n",
    "from collections import deque\n",
    "\n",
    "def orangesRotting(grid: list[list[int]]) -> int:\n",
    "    n, m = len(grid), len(grid[0])\n",
    "    visited = [[False] * m for _ in range(n)]\n",
    "    \n",
    "    def valid(i, j):\n",
    "        return (0 <= i < n ) and (0 <= j < m) and (grid[i][j] == 1)\n",
    "    \n",
    "    # directions to move \n",
    "    directions = [(0, 1), (0, -1), (1, 0), (-1, 0)]\n",
    "    \n",
    "    # let's initialize a queue\n",
    "    queue = deque()\n",
    "    fresh_cnt = 0\n",
    "    \n",
    "    for i in range(n):\n",
    "        for j in range(m):\n",
    "            if (grid[i][j] == 2):\n",
    "                queue.append((i, j, 0))\n",
    "                visited[i][j] = True\n",
    "            \n",
    "            if (grid[i][j] == 1):\n",
    "                fresh_cnt += 1\n",
    "    \n",
    "    minutes = 0\n",
    "    cnt = 0\n",
    "    \n",
    "    while queue:\n",
    "        row, col, t = queue.popleft()\n",
    "        minutes = max(minutes, t)\n",
    "        \n",
    "        for direction in directions:\n",
    "            delta_row = row + direction[0]\n",
    "            delta_col = col + direction[1]\n",
    "            \n",
    "            if valid(delta_row, delta_col) and not visited[delta_row][delta_col]:\n",
    "                cnt += 1\n",
    "                queue.append((delta_row, delta_col, t+1))\n",
    "                visited[delta_row][delta_col] = True\n",
    "    \n",
    "    return -1 if fresh_cnt != cnt else minutes\n",
    "\n",
    "grid = [\n",
    "    [2, 1, 1],\n",
    "    [1, 1, 0],\n",
    "    [0, 2, 1]\n",
    "]\n",
    "\n",
    "orangesRotting(grid)"
   ]
  },
  {
   "cell_type": "code",
   "execution_count": null,
   "metadata": {},
   "outputs": [],
   "source": []
  },
  {
   "cell_type": "code",
   "execution_count": null,
   "metadata": {},
   "outputs": [],
   "source": []
  }
 ],
 "metadata": {
  "kernelspec": {
   "display_name": "Python 3",
   "language": "python",
   "name": "python3"
  },
  "language_info": {
   "codemirror_mode": {
    "name": "ipython",
    "version": 3
   },
   "file_extension": ".py",
   "mimetype": "text/x-python",
   "name": "python",
   "nbconvert_exporter": "python",
   "pygments_lexer": "ipython3",
   "version": "3.11.5"
  }
 },
 "nbformat": 4,
 "nbformat_minor": 2
}
